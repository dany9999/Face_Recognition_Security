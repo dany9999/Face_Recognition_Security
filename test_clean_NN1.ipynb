{
 "cells": [
  {
   "cell_type": "code",
   "execution_count": null,
   "metadata": {},
   "outputs": [],
   "source": [
    "!pip install facenet-pytorch\n",
    "!pip install Pillow"
   ]
  },
  {
   "cell_type": "code",
   "execution_count": null,
   "metadata": {},
   "outputs": [],
   "source": [
    "from facenet_pytorch import InceptionResnetV1\n",
    "\n",
    "resnet = InceptionResnetV1(pretrained='vggface2').eval()\n",
    "resnet.classify = True\n"
   ]
  },
  {
   "cell_type": "markdown",
   "metadata": {},
   "source": [
    "# test singole immagini"
   ]
  },
  {
   "cell_type": "code",
   "execution_count": null,
   "metadata": {},
   "outputs": [],
   "source": [
    "import os\n",
    "from io import BytesIO\n",
    "from PIL import Image\n",
    "import requests\n",
    "from torchvision import transforms\n",
    "import numpy as np\n",
    "import tensorflow as tf\n",
    "from matplotlib import pyplot as plt\n",
    "\n",
    "def load_image(filename):\n",
    "    file_path = os.path.join( \"test_set_cropped\", filename)\n",
    "    img = Image.open(file_path)\n",
    "    rsz = img.resize((160, 160))\n",
    "    tns = transforms.ToTensor()(rsz)\n",
    "    return tns, rsz\n",
    "\n",
    "fpath = tf.keras.utils.get_file('rcmalli_vggface_labels_v2.npy',\n",
    "                             \"https://github.com/rcmalli/keras-vggface/releases/download/v2.0/rcmalli_vggface_labels_v2.npy\",\n",
    "                             cache_subdir=\"./\")\n",
    "LABELS = np.load(fpath)\n",
    "\n",
    "# Brad Pitt\n",
    "brad_img, brad_image = load_image(\"Brad_Pitt_2_face_0.jpg\")\n",
    "\n",
    "# Vasco\n",
    "cr7_img, cr7_image = load_image(\"Vasco_Rossi_10_face_0.jpg\")\n",
    "\n",
    "brad_probs = resnet(brad_img.unsqueeze(0))\n",
    "brad_pred = LABELS[np.array(brad_probs[0].detach().numpy()).argmax()]\n",
    "print(brad_pred)\n",
    "\n",
    "cr7_probs = resnet(cr7_img.unsqueeze(0))\n",
    "cr7_pred = LABELS[np.array(cr7_probs[0].detach().numpy()).argmax()]\n",
    "print(cr7_pred)"
   ]
  },
  {
   "cell_type": "code",
   "execution_count": null,
   "metadata": {},
   "outputs": [],
   "source": [
    "plt.figure()\n",
    "plt.matshow(brad_image)\n",
    "plt.title(\"Model Prediction: {}\".format(brad_pred))\n",
    "plt.show()\n",
    "\n",
    "plt.figure()\n",
    "plt.matshow(cr7_image)\n",
    "plt.title(\"Model Prediction: {}\".format(cr7_pred))\n",
    "plt.show()"
   ]
  },
  {
   "cell_type": "markdown",
   "metadata": {},
   "source": [
    "# TESTING NN1 on test set clean"
   ]
  },
  {
   "cell_type": "code",
   "execution_count": null,
   "metadata": {},
   "outputs": [],
   "source": [
    "import os\n",
    "from PIL import Image\n",
    "import numpy as np\n",
    "import tensorflow as tf\n",
    "import re\n",
    "from torchvision import transforms\n",
    "\n",
    "\n",
    "def load_image(filename):\n",
    "    img = Image.open(filename)\n",
    "    rsz = img.resize((160, 160))\n",
    "    tns = transforms.ToTensor()(rsz)\n",
    "    return tns\n",
    "\n",
    "\n",
    "fpath = tf.keras.utils.get_file('rcmalli_vggface_labels_v2.npy',\n",
    "                             \"https://github.com/rcmalli/keras-vggface/releases/download/v2.0/rcmalli_vggface_labels_v2.npy\",\n",
    "                             cache_subdir=\"./\")\n",
    "LABELS = np.load(fpath)\n",
    "\n",
    "dataset_dir = \"test_set_cropped\"\n",
    "\n",
    "correct_predictions = 0\n",
    "total_images = 0\n",
    "\n",
    "for filename in os.listdir(dataset_dir):\n",
    "    if filename.endswith(\".jpg\") or filename.endswith(\".jpeg\"):\n",
    "        person_path = os.path.join(dataset_dir, filename)\n",
    "        img = load_image(person_path)\n",
    "        probs = resnet(img.unsqueeze(0))\n",
    "        pred_label = LABELS[np.array(probs.detach().numpy()).argmax()]\n",
    "        print(\"Immagine:\", filename)\n",
    "        print(\"Predizione del modello:\", pred_label)\n",
    "        correct_label = re.sub(r'_\\d+_face_0\\.jpg$', '', filename)\n",
    "        print(\"Etichetta corretta:\", correct_label)\n",
    "\n",
    "\n",
    "        if correct_label in pred_label:\n",
    "                correct_predictions += 1\n",
    "                print(\"OK\")\n",
    "        else:\n",
    "             with open('predizioni_errate.txt', 'a') as file:\n",
    "              file.write(filename)\n",
    "              file.write('\\n')\n",
    "\n",
    "        total_images += 1\n",
    "        print(\"-------------------------->\")\n",
    "\n",
    "\n",
    "if total_images == 0:\n",
    "    print(\"Nessuna immagine trovata nel dataset.\")\n",
    "else:\n",
    "    test_accuracy = correct_predictions / total_images\n",
    "    print('\\n')\n",
    "    print('\\n')\n",
    "    print(\"Test Accuracy:\", test_accuracy)\n",
    "    print(\"Numero di predizioni corrette:\", correct_predictions)\n",
    "    print(\"Numero di immagini processate:\", total_images)"
   ]
  }
 ],
 "metadata": {
  "language_info": {
   "name": "python"
  }
 },
 "nbformat": 4,
 "nbformat_minor": 2
}
