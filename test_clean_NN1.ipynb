{
 "cells": [
  {
   "cell_type": "code",
   "execution_count": null,
   "metadata": {},
   "outputs": [],
   "source": [
    "!pip install facenet-pytorch\n",
    "!pip install Pillow"
   ]
  },
  {
   "cell_type": "code",
   "execution_count": null,
   "metadata": {},
   "outputs": [],
   "source": [
    "from inception import InceptionResnetV1\n",
    "import torch \n",
    "resnet = InceptionResnetV1(pretrained='vggface2').eval()\n",
    "resnet.classify = True\n",
    "device = torch.device('cuda' if torch.cuda.is_available() else 'cpu')\n",
    "resnet.to(device)\n",
    "\n"
   ]
  },
  {
   "cell_type": "markdown",
   "metadata": {},
   "source": [
    "# TESTING NN1 (InceptionResnetV1) on clean test set"
   ]
  },
  {
   "cell_type": "code",
   "execution_count": null,
   "metadata": {},
   "outputs": [],
   "source": [
    "import os\n",
    "from PIL import Image\n",
    "import numpy as np\n",
    "import tensorflow as tf\n",
    "import re\n",
    "from torchvision import transforms\n",
    "from utils import load_image_NN1\n",
    "from utils import get_labels\n",
    "\n",
    "\n",
    "LABELS = get_labels()\n",
    "\n",
    "dataset_dir = \"test_set_cropped\"\n",
    "\n",
    "correct_predictions = 0\n",
    "total_images = 0\n",
    "\n",
    "for filename in os.listdir(dataset_dir):\n",
    "    if filename.endswith(\".jpg\") or filename.endswith(\".jpeg\"):\n",
    "        person_path = os.path.join(dataset_dir, filename)\n",
    "        img = load_image_NN1(person_path).to(device)\n",
    "        probs = resnet(img)\n",
    "        pred_label = LABELS[np.array(probs.cpu().detach().numpy()).argmax()]\n",
    "        print(\"Immagine:\", filename)\n",
    "        print(\"Predizione del modello:\", pred_label)\n",
    "        correct_label = re.sub(r'_\\d+_face_0\\.jpg$', '', filename)\n",
    "        print(\"Etichetta corretta:\", correct_label)\n",
    "\n",
    "\n",
    "        if correct_label in pred_label:\n",
    "                correct_predictions += 1\n",
    "                print(\"OK\")\n",
    "        else:\n",
    "             with open('predizioni_errate.txt', 'a') as file:\n",
    "              file.write(filename)\n",
    "              file.write('\\n')\n",
    "\n",
    "        total_images += 1\n",
    "        print(\"-------------------------->\")\n",
    "\n",
    "\n",
    "if total_images == 0:\n",
    "    print(\"Nessuna immagine trovata nel dataset.\")\n",
    "else:\n",
    "    test_accuracy = correct_predictions / total_images\n",
    "    print('\\n')\n",
    "    print('\\n')\n",
    "    print(\"Test Accuracy:\", test_accuracy)\n",
    "    print(\"Numero di predizioni corrette:\", correct_predictions)\n",
    "    print(\"Numero di immagini processate:\", total_images)"
   ]
  },
  {
   "cell_type": "markdown",
   "metadata": {},
   "source": [
    "# Single immage test"
   ]
  },
  {
   "cell_type": "code",
   "execution_count": null,
   "metadata": {},
   "outputs": [],
   "source": [
    "from utils import load_image_NN1\n",
    "import os\n",
    "\n",
    "dataset_dir = \"test_set_cropped\"\n",
    "filename = \"Andrea_Pirlo_1_face_0.jpg\"\n",
    "person_path = os.path.join(dataset_dir, filename)\n",
    "img = load_image_NN1(person_path)\n",
    "probs = resnet(img)\n",
    "pred_label = LABELS[np.array(probs.detach().numpy()).argmax()]\n",
    "\n",
    "print('Predicted: ', pred_label)"
   ]
  }
 ],
 "metadata": {
  "kernelspec": {
   "display_name": "ai4cyber",
   "language": "python",
   "name": "python3"
  },
  "language_info": {
   "codemirror_mode": {
    "name": "ipython",
    "version": 3
   },
   "file_extension": ".py",
   "mimetype": "text/x-python",
   "name": "python",
   "nbconvert_exporter": "python",
   "pygments_lexer": "ipython3",
   "version": "3.8.19"
  }
 },
 "nbformat": 4,
 "nbformat_minor": 2
}
