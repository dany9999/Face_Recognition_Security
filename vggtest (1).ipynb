{
  "cells": [
    {
      "cell_type": "code",
      "execution_count": null,
      "metadata": {
        "colab": {
          "base_uri": "https://localhost:8080/"
        },
        "id": "99TPPK-yRues",
        "outputId": "dd1ab4e8-7aa4-41b0-950b-1132ce531ab1"
      },
      "outputs": [],
      "source": [
        "!pip install facenet-pytorch\n",
        "!pip install Pillow\n",
        "!pip install -q tensorflow==2.0.0\n",
        "!pip install adversarial-robustness-toolbox[all]\n",
        "!pip install matplotlib"
      ]
    },
    {
      "cell_type": "code",
      "execution_count": null,
      "metadata": {
        "colab": {
          "base_uri": "https://localhost:8080/"
        },
        "id": "i4BN4c2mSO_C",
        "outputId": "490779df-993c-4981-8f06-bf1d89f60dcd"
      },
      "outputs": [],
      "source": [
        "# LIBRERIE UTILI\n",
        "import warnings\n",
        "warnings.filterwarnings('ignore')\n",
        "\n",
        "import tensorflow as tf\n",
        "tf.compat.v1.disable_eager_execution()\n",
        "\n",
        "import numpy as np\n",
        "from matplotlib import pyplot as plt\n",
        "import art\n",
        "\n",
        "if tf.__version__[0] != '2':\n",
        "    raise ImportError('This notebook requires TensorFlow v2.')\n",
        "\n",
        "print(\"GPU Available: \", tf.test.is_gpu_available())"
      ]
    },
    {
      "cell_type": "code",
      "execution_count": null,
      "metadata": {},
      "outputs": [],
      "source": [
        "from facenet_pytorch import InceptionResnetV1\n",
        "from PIL import Image\n",
        "from torchvision import transforms\n",
        "from torch.nn import CrossEntropyLoss\n",
        "from art.estimators.classification import PyTorchClassifier\n",
        "resnet = InceptionResnetV1(pretrained='vggface2').eval()\n",
        "resnet.classify = True\n",
        "\n",
        "\n",
        "\n",
        "fpath = tf.keras.utils.get_file('rcmalli_vggface_labels_v2.npy',\n",
        "                             \"https://github.com/rcmalli/keras-vggface/releases/download/v2.0/rcmalli_vggface_labels_v2.npy\",\n",
        "                             cache_subdir=\"./\")\n",
        "LABELS = np.load(fpath)\n",
        "\n",
        "def load_image(filename):\n",
        "    img = Image.open(filename)\n",
        "    rsz = img.resize((160, 160))\n",
        "    tns = transforms.ToTensor()(rsz)\n",
        "    return tns\n",
        "\n",
        "model = PyTorchClassifier(resnet,input_shape=[224,224], loss=CrossEntropyLoss(),nb_classes=8631) #This class implements a classifier with the PyTorch framework."
      ]
    },
    {
      "cell_type": "markdown",
      "metadata": {
        "id": "fJYzBVyoIHpG"
      },
      "source": [
        "# **FSGM ATTACK**"
      ]
    },
    {
      "cell_type": "code",
      "execution_count": null,
      "metadata": {
        "id": "B1eYAPDsVp81"
      },
      "outputs": [],
      "source": [
        "# Import the attack\n",
        "from art.attacks.evasion import FastGradientMethod\n",
        "from torch.nn import CrossEntropyLoss\n",
        "from art.estimators.classification import PyTorchClassifier\n",
        "from torchvision import transforms\n",
        "from PIL import Image\n",
        "\n",
        "def load_image(filename):\n",
        "    img = Image.open(filename)\n",
        "    rsz = img.resize((160, 160))\n",
        "    tns = transforms.ToTensor()(rsz)\n",
        "    return tns\n",
        "\n",
        "model = PyTorchClassifier(resnet,input_shape=[224,224], loss=CrossEntropyLoss(),nb_classes=8631) #This class implements a classifier with the PyTorch framework.\n",
        "\n",
        "test_img = load_image(\"test_set_cropped/Antonio_Cassano_8_face_0.jpg\")\n",
        "\n",
        "print(test_img.shape)\n",
        "print(test_img.size)\n",
        "test_img = test_img.unsqueeze(0)\n",
        "print(test_img.shape)\n",
        "print(test_img.size)\n",
        "test_img = test_img.numpy()\n",
        "print(test_img.shape)\n",
        "print(type(test_img))"
      ]
    },
    {
      "cell_type": "markdown",
      "metadata": {
        "id": "cCHPt-zrIaS0"
      },
      "source": [
        "**NON TARGETED**"
      ]
    },
    {
      "cell_type": "code",
      "execution_count": null,
      "metadata": {
        "colab": {
          "base_uri": "https://localhost:8080/",
          "height": 356
        },
        "id": "su6gs65jIB1T",
        "outputId": "df9e2cd2-9d42-4bcd-deef-af265b37c0c1"
      },
      "outputs": [],
      "source": [
        "#FSGM generic Attack for single sample\n",
        "\n",
        "epsilon = 0.0005\n",
        "attack = FastGradientMethod(estimator=model, eps=epsilon, targeted=False)\n",
        "batch_size = test_img.shape[0]\n",
        "targeted_labels = np.array([2] * batch_size)   #Al posto di 2 ci va l'indice della label della persona\n",
        "one_hot_targeted_labels = tf.keras.utils.to_categorical(targeted_labels, num_classes=8631)   #Creazione attacco\n",
        "test_images_adv = attack.generate(test_img)                                 # Generazione campione avversario\n",
        "model_predictions = model.predict(test_images_adv)\n",
        "loss = model.compute_loss(test_images_adv,one_hot_targeted_labels)                          # Predizione\n",
        "perturbation = np.mean(np.abs((test_images_adv - test_img)))\n",
        "predicted_label = LABELS[np.array(model_predictions[0].argmax())]\n",
        "print(\"{} con probabilità {}\".format(predicted_label,model_predictions[0][model_predictions.argmax()]))\n"
      ]
    },
    {
      "cell_type": "code",
      "execution_count": null,
      "metadata": {},
      "outputs": [],
      "source": [
        "import os\n",
        "import re\n",
        "\n",
        "dataset_dir = \"test_set_cropped\"\n",
        "\n",
        "#FSGM generic Attack for all samples\n",
        "\n",
        "correct_predictions = 0\n",
        "total_images = 0\n",
        "eps_range = [0.001, 0.005, 0.007, 0.01, 0.05, 0.07, 0.1, 0.5, 0.7]\n",
        "accuracy_plot = []\n",
        "for epsilon in eps_range:\n",
        "    correct_predictions = 0\n",
        "    total_images = 0\n",
        "    attack = FastGradientMethod(estimator=model, eps=epsilon, targeted=False)\n",
        "\n",
        "    for filename in os.listdir(dataset_dir):\n",
        "        if filename.endswith(\".jpg\") or filename.endswith(\".jpeg\"):\n",
        "            person_path = os.path.join(dataset_dir, filename)\n",
        "            test_img = load_image(person_path)\n",
        "            test_img = test_img.unsqueeze(0)\n",
        "            test_img = test_img.numpy()\n",
        "            test_images_adv = attack.generate(test_img)\n",
        "            model_predictions = model.predict(test_images_adv)\n",
        "            correct_label = re.sub(r'_\\d+_face_0\\.jpg$', '', filename)\n",
        "            print(\"Etichetta corretta:\", correct_label)   \n",
        "            perturbation = np.mean(np.abs((test_images_adv - test_img)))\n",
        "            predicted_label = LABELS[np.array(model_predictions[0].argmax())]\n",
        "            print(\"Predetto {} con probabilità {}\".format(predicted_label,model_predictions[0][model_predictions.argmax()]))\n",
        "            total_images+=1\n",
        "            \n",
        "            predicted_label = str(predicted_label)\n",
        "\n",
        "            if correct_label in predicted_label:\n",
        "                correct_predictions+=1\n",
        "\n",
        "            accuracy = correct_predictions/total_images\n",
        "            print(\"Accuracy sugli adversarial Sample: {}%\".format((100-(accuracy*100))))\n",
        "        \n",
        "\n",
        "    if total_images != 0:\n",
        "        final_accuracy = correct_predictions/total_images\n",
        "        accuracy_plot.append(final_accuracy)\n",
        "        print(\"----------- Accuracy FINALE sugli adversarial Sample: {}\\% ----------------\".format(final_accuracy))"
      ]
    },
    {
      "cell_type": "code",
      "execution_count": null,
      "metadata": {},
      "outputs": [],
      "source": [
        "from matplotlib import pyplot as plt\n",
        "\n",
        "fig, ax = plt.subplots()\n",
        "ax.plot(np.array(eps_range), np.array(accuracy_plot), 'b--', label='NN1')\n",
        "\n",
        "legend = ax.legend(loc='upper center', shadow=True, fontsize='large')\n",
        "legend.get_frame().set_facecolor('#00FFCC')\n",
        "\n",
        "plt.xlabel('Attack strength (eps)')\n",
        "plt.ylabel('Accuracy')\n",
        "plt.show()"
      ]
    },
    {
      "cell_type": "markdown",
      "metadata": {},
      "source": [
        "NOTA: da inserire --> FSGM specific Attack for all samples"
      ]
    },
    {
      "cell_type": "markdown",
      "metadata": {
        "id": "Ma5f4kouI2DL"
      },
      "source": [
        "**TARGETED ATTACK**"
      ]
    },
    {
      "cell_type": "code",
      "execution_count": null,
      "metadata": {
        "id": "wNm-9QLyI7-V"
      },
      "outputs": [],
      "source": [
        "#FSGM specif Attack for single sample\n",
        "\n",
        "target_class = 555\n",
        "epsilon = 10000\n",
        "attack = FastGradientMethod(estimator=model, eps=epsilon, targeted=True)\n",
        "\n",
        "# Trasformazione etichetta categorica\n",
        "targeted_labels = target_class*np.ones(LABELS.size)\n",
        "one_hot_targeted_labels = tf.keras.utils.to_categorical(targeted_labels, num_classes = 8631)\n",
        "test_images_adv = attack.generate(test_img, one_hot_targeted_labels)\n",
        "\n",
        "#loss_test, accuracy_test = model.evaluate(test_images_adv, test_labels)\n",
        "#print('Accuracy on adversarial test data: {:4.2f}%'.format(accuracy_test * 100))\n",
        "model_predictions = model.predict(test_images_adv)\n",
        "perturbation = np.mean(np.abs((test_images_adv - test_img)))\n",
        "print('Average perturbation: {:4.2f}'.format(perturbation))\n",
        "#targeted_attack_loss, targeted_attack_accuracy = model.evaluate(test_images_adv, targeted_labels)\n",
        "#print('Targeted attack accuracy: {:4.2f}'.format(targeted_attack_accuracy))\n",
        "print(\"Etichetta target:{}\".format(LABELS[target_class]))\n",
        "print(model_predictions)\n",
        "predicted_label = LABELS[np.array(model_predictions.argmax())]\n",
        "print(\"{} con probabilità {}\".format(predicted_label,model_predictions[0][model_predictions.argmax()]))\n"
      ]
    },
    {
      "cell_type": "markdown",
      "metadata": {
        "id": "KwQhy67oJgRg"
      },
      "source": [
        "# **PGD ATTACK**"
      ]
    },
    {
      "cell_type": "markdown",
      "metadata": {
        "id": "36aFPpGHOI54"
      },
      "source": [
        "https://adversarial-robustness-toolbox.readthedocs.io/en/latest/modules/attacks/evasion.html#fast-gradient-method-fgm"
      ]
    },
    {
      "cell_type": "code",
      "execution_count": null,
      "metadata": {
        "id": "2NgNjeB2JlnC"
      },
      "outputs": [],
      "source": [
        "# Import attack\n",
        "from torch.nn import CrossEntropyLoss\n",
        "from art.attacks.evasion import ProjectedGradientDescentPyTorch\n",
        "from art.estimators.classification import PyTorchClassifier\n",
        "\n",
        "#Impostare l'input shape\n",
        "classifier = PyTorchClassifier(resnet,input_shape=[224,224], loss=CrossEntropyLoss(),nb_classes=8631) #This class implements a classifier with the PyTorch framework.\n"
      ]
    },
    {
      "cell_type": "markdown",
      "metadata": {
        "id": "K3_1-Q9JJt_q"
      },
      "source": [
        "**NON-TARGETED ATTACK**"
      ]
    },
    {
      "cell_type": "code",
      "execution_count": null,
      "metadata": {},
      "outputs": [],
      "source": [
        "epsilon = 0.1\n",
        "eps_step = 0.1\n",
        "max_iter = 1 \n",
        "\n",
        "attack = ProjectedGradientDescentPyTorch(estimator=classifier, eps = epsilon, eps_step=eps_step, targeted=False, max_iter = max_iter)"
      ]
    },
    {
      "cell_type": "code",
      "execution_count": null,
      "metadata": {
        "id": "AEgG-h3vOBqM"
      },
      "outputs": [],
      "source": [
        "# PGD generic Attack for single sample\n",
        "\n",
        "test_images_adv = attack.generate(test_img)  # Utilizzare generate per generare i campion\n",
        "model_predictions = classifier.predict(test_images_adv) # Classifier\n",
        "predicted_label = LABELS[np.array(model_predictions.argmax())] \n",
        "print(\"{} con probabilità {}\".format(predicted_label,model_predictions[0][model_predictions.argmax()]))"
      ]
    },
    {
      "cell_type": "markdown",
      "metadata": {},
      "source": [
        "IDEA: Bloccare solo la massima epsilon e far variare solo le max_iter e gli eps_step."
      ]
    },
    {
      "cell_type": "code",
      "execution_count": null,
      "metadata": {},
      "outputs": [],
      "source": [
        "# PGD generic Attack for all samples\n",
        "import os\n",
        "import re\n",
        "\n",
        "dataset_dir = \"test_set_cropped_piccolo/\" \n",
        "#eps_step = [0.0002, 0.0002, 0.0002, 0.001, 0.002, 0.002, 0.01, 0.02, 0.05] #La dimensione del passo della variazione dell'input a ogni iterazione. Questo parametro definisce quanto grande sarà ogni passo nella direzione del gradiente. #La dimensione del passo della variazione dell'input per il calcolo della perturbazione minima. Questo parametro è utilizzato quando minimal è impostato su True.\n",
        "eps_step = [0.0002,0.002]\n",
        "max_iter = [1,2,5,7]  # Il numero massimo di iterazioni. Questo parametro determina quante volte l'attacco iterativo sarà eseguito.\n",
        "#eps_range = [0.001, 0.005, 0.007, 0.01, 0.05, 0.07, 0.1, 0.5, 0.7] #Questo valore determina l'ampiezza massima della perturbazione aggiunta agli input originali. Può essere un valore singolo (int o float) o un array numpy (ndarray).\n",
        "eps_range = 0.7\n",
        "\n",
        "accuracy_for_eps = []\n",
        "accuracy_for_max_iter = []\n",
        "perturbation_for_eps = []\n",
        "perturbation_for_max_iter = []\n",
        "correct_predictions = 0\n",
        "total_images = 0\n",
        "print(\"Inizio Attacco PGD NON-TARGETED\")\n",
        "for i in range(len(max_iter)):\n",
        "        print(\"**** Attacco con max_iter {} **** \".format(max_iter[i]))\n",
        "        for step in eps_step:   #Se qualcosa funziona strano controllare questo zip\n",
        "            correct_predictions = 0\n",
        "            total_images = 0\n",
        "            perturbation = []\n",
        "            \n",
        "            attack = ProjectedGradientDescentPyTorch(estimator=classifier, eps = eps_range, eps_step=step, targeted=False, max_iter = max_iter[i])\n",
        "            \n",
        "            print(\"**** Attacco con eps:{} con step a {} ****\".format(eps_range,step))\n",
        "            for filename in os.listdir(dataset_dir):\n",
        "                if filename.endswith(\".jpg\") or filename.endswith(\".jpeg\"):\n",
        "                    person_path = os.path.join(dataset_dir, filename)\n",
        "                    test_img = load_image(person_path)\n",
        "                    test_img = test_img.unsqueeze(0)\n",
        "                    test_img = test_img.numpy()\n",
        "                    test_images_adv = attack.generate(test_img)\n",
        "                    model_predictions = model.predict(test_images_adv)\n",
        "                    correct_label = re.sub(r'_\\d+_face_0\\.jpg$', '', filename)\n",
        "                    print(\"Etichetta corretta:\", correct_label)   \n",
        "                    perturbation.append(np.mean(np.abs((test_images_adv - test_img))))  #Salvo le perturbazioni applicate su ogni immagine\n",
        "                    predicted_label = LABELS[np.array(model_predictions[0].argmax())]\n",
        "                    print(\"Predetto {} con probabilità {} e con perturbazione {}\".format(predicted_label,model_predictions[0][model_predictions.argmax()],perturbation[-1]))\n",
        "                    total_images+=1\n",
        "                    \n",
        "                    predicted_label = str(predicted_label)\n",
        "\n",
        "                    if correct_label in predicted_label:\n",
        "                        correct_predictions+=1\n",
        "\n",
        "                    accuracy = correct_predictions/total_images\n",
        "                    print(\"Adversarial Sample misclassificati correttamente attuale: {}%\".format((100-(accuracy*100))))\n",
        "            \n",
        "\n",
        "            if total_images != 0:    #Per ogni epsilon impostata salvo in accuracy plot\n",
        "                if len(perturbation) == total_images:\n",
        "                    perturbazione_media = sum(perturbation)/total_images    #Calcolo la media delle perturbazioni applicate su tutte le immagini per una determinata epsilon\n",
        "                    perturbation_for_eps.append(perturbazione_media)\n",
        "                    print(\"----------- Perturbazione media aggiunta a tutte le immagini per eps_Step: {} equivale a {}% ----------------\".format(step,perturbazione_media))\n",
        "\n",
        "                final_accuracy = correct_predictions/total_images\n",
        "                accuracy_for_eps.append(final_accuracy)\n",
        "                print(\"----------- Accuracy sugli adversarial Sample per eps_step: {} equivale a {}% ----------------\".format(step,final_accuracy))\n",
        "\n",
        "            #Per ogni epsilon impostata salvo in accuracy plot\n",
        "        if True:#len(perturbation_for_eps) == len(eps_range):\n",
        "            perturbazione_media_per_max_iter = sum(perturbation_for_eps)/len(eps_step) # Calcolo la perturbazione media dopo aver provato tutte le epsilon,quindi la media delle perturbazioni per eps_range\n",
        "            perturbation_for_max_iter.append(perturbazione_media_per_max_iter)\n",
        "            print(\"----------- Perturbazione media con iterazione {} sugli adversarial Sample: {}\\% ----------------\".format(max_iter[i],perturbation_for_max_iter[i]))\n",
        "            perturbation_for_eps = []\n",
        "        if True:#len(accuracy_for_eps) == len(eps_range):\n",
        "            accuracy_media_per_max_iter = sum(accuracy_for_eps)/len(eps_step) # Calcolo l'accuracy media dopo aver provato tutte le epsilon,quindi la media dell'accuracy per ogni eps_range\n",
        "            accuracy_for_max_iter.append(accuracy_media_per_max_iter)\n",
        "            print(\"----------- Accuracy media con iterazione {} sugli adversarial Sample: {}\\% ----------------\".format(max_iter[i],accuracy_for_max_iter[i]))\n",
        "            accuracy_for_eps = []\n",
        "        print(\"--------------------------------------------------------------------------------------------------------------------------------------------------------------------\")\n",
        "\n",
        "# correct_predictions = 0\n",
        "# total_images = 0\n",
        "# for filename in os.listdir(dataset_dir):\n",
        "#     if filename.endswith(\".jpg\") or filename.endswith(\".jpeg\"):\n",
        "#         person_path = os.path.join(dataset_dir, filename)\n",
        "#         print(\"Immagine:\", filename)\n",
        "#         test_img = load_image(person_path)\n",
        "#         test_img = test_img.unsqueeze(0)\n",
        "#         test_img = test_img.numpy()\n",
        "#         test_images_adv = attack.generate(test_img)\n",
        "#         model_predictions = model.predict(test_images_adv)\n",
        "#         correct_label = re.sub(r'_\\d+_face_0\\.jpg$', '', filename)\n",
        "#         print(\"Etichetta corretta:\", correct_label)   \n",
        "#         perturbation = np.mean(np.abs((test_images_adv - test_img)))\n",
        "#         predicted_label = LABELS[np.array(model_predictions[0].argmax())]\n",
        "#         print(\"Predetto {} con probabilità {}\".format(predicted_label,model_predictions[0][model_predictions.argmax()]))\n",
        "#         total_images+=1\n",
        "\n",
        "#         if predicted_label == correct_label:\n",
        "#             correct_predictions+=1\n",
        "\n",
        "#         accuracy = correct_predictions/total_images\n",
        "#         print(\"Accuracy sugli adversarial Sample: {}%\".format((100-(accuracy*100))))\n",
        "        \n",
        "\n",
        "# if total_images != 0:\n",
        "#     final_accuracy = correct_predictions/total_images\n",
        "#     print(\"----------- Accuracy FINALE sugli adversarial Sample: {}\\% ----------------\".format(final_accuracy))"
      ]
    },
    {
      "cell_type": "markdown",
      "metadata": {
        "id": "SyfbCXWTJ8_E"
      },
      "source": [
        "**TARGETED ATTACK**"
      ]
    },
    {
      "cell_type": "code",
      "execution_count": 35,
      "metadata": {},
      "outputs": [],
      "source": [
        "epsilon = 1\n",
        "eps_step = 0.1\n",
        "max_iter = 1 \n",
        "\n",
        "attack = ProjectedGradientDescentPyTorch(estimator=classifier, eps = epsilon, eps_step= eps_step, targeted=True, max_iter = max_iter)"
      ]
    },
    {
      "cell_type": "code",
      "execution_count": null,
      "metadata": {
        "id": "jcsAMKtxJs11"
      },
      "outputs": [],
      "source": [
        "#PGD specific Attack for single sample\n",
        "\n",
        "target_class = 10 \n",
        "\n",
        "batch_size = test_img.shape[0]\n",
        "targeted_labels = np.array([target_class] * batch_size)\n",
        "one_hot_targeted_labels = tf.keras.utils.to_categorical(targeted_labels, num_classes=8631)\n",
        "\n",
        "print(one_hot_targeted_labels.shape)\n",
        "test_images_adv = attack.generate(test_img, one_hot_targeted_labels)\n",
        "\n",
        "\n",
        "model_predictions = model.predict(test_images_adv)\n",
        "perturbation = np.mean(np.abs((test_images_adv - test_img)))\n",
        "print('Average perturbation: {:4.2f}'.format(perturbation))\n",
        "#targeted_attack_loss, targeted_attack_accuracy = model.evaluate(test_images_adv, targeted_labels)\n",
        "#print('Targeted attack accuracy: {:4.2f}'.format(targeted_attack_accuracy))\n",
        "print(\"Etichetta target:{}\".format(LABELS[target_class]))\n",
        "print(model_predictions)\n",
        "predicted_label = LABELS[np.array(model_predictions.argmax())]\n",
        "print(\"{} con probabilità {}\".format(predicted_label,model_predictions[0][model_predictions.argmax()]))"
      ]
    },
    {
      "cell_type": "code",
      "execution_count": 36,
      "metadata": {
        "id": "X5BFqC2sKAAR"
      },
      "outputs": [
        {
          "name": "stdout",
          "output_type": "stream",
          "text": [
            "ETICHETTA TARGET:   Aaron_Hernandez\n",
            "Inizio Attacco PGD NON-TARGETED\n",
            "**** Attacco con max_iter 1 **** \n",
            "**** Attacco con eps:0.7 con step a 0.0002 ****\n"
          ]
        },
        {
          "name": "stderr",
          "output_type": "stream",
          "text": [
            "                                                            \r"
          ]
        },
        {
          "name": "stdout",
          "output_type": "stream",
          "text": [
            "Etichetta corretta: Andrea_Pirlo\n",
            "Predetto  Andrea_Pirlo con probabilità 12.624496459960938 e con perturbazione 0.00019256384985055774\n",
            "Adversarial Sample misclassificati correttamente attualmente: 0.0%\n",
            "Accuracy attuale: 100.0%\n"
          ]
        },
        {
          "name": "stderr",
          "output_type": "stream",
          "text": [
            "                                                            \r"
          ]
        },
        {
          "name": "stdout",
          "output_type": "stream",
          "text": [
            "Etichetta corretta: Antonio_Cassano\n",
            "Predetto  Branch_Warren con probabilità 10.477907180786133 e con perturbazione 0.00019255444931332022\n",
            "Adversarial Sample misclassificati correttamente attualmente: 0.0%\n",
            "Accuracy attuale: 50.0%\n"
          ]
        },
        {
          "name": "stderr",
          "output_type": "stream",
          "text": [
            "                                                            \r"
          ]
        },
        {
          "name": "stdout",
          "output_type": "stream",
          "text": [
            "Etichetta corretta: Ariana_Grande\n",
            "Predetto  Ariana_Grande con probabilità 11.011987686157227 e con perturbazione 0.0001925574179040268\n",
            "Adversarial Sample misclassificati correttamente attualmente: 0.0%\n",
            "Accuracy attuale: 66.66666666666666%\n"
          ]
        },
        {
          "name": "stderr",
          "output_type": "stream",
          "text": [
            "                                                            \r"
          ]
        },
        {
          "name": "stdout",
          "output_type": "stream",
          "text": [
            "Etichetta corretta: Ashley_Scott\n",
            "Predetto  Ashley_Scott con probabilità 13.64526081085205 e con perturbazione 0.00019255466759204865\n",
            "Adversarial Sample misclassificati correttamente attualmente: 0.0%\n",
            "Accuracy attuale: 75.0%\n"
          ]
        },
        {
          "name": "stderr",
          "output_type": "stream",
          "text": [
            "                                                            \r"
          ]
        },
        {
          "name": "stdout",
          "output_type": "stream",
          "text": [
            "Etichetta corretta: Boris_Johnson\n",
            "Predetto  Boris_Johnson con probabilità 13.201183319091797 e con perturbazione 0.00019255338702350855\n",
            "Adversarial Sample misclassificati correttamente attualmente: 0.0%\n",
            "Accuracy attuale: 80.0%\n"
          ]
        },
        {
          "name": "stderr",
          "output_type": "stream",
          "text": [
            "                                                            \r"
          ]
        },
        {
          "name": "stdout",
          "output_type": "stream",
          "text": [
            "Etichetta corretta: Brad_Pitt\n",
            "Predetto  Brad_Pitt con probabilità 13.073992729187012 e con perturbazione 0.00019256114319432527\n",
            "Adversarial Sample misclassificati correttamente attualmente: 0.0%\n",
            "Accuracy attuale: 83.33333333333334%\n"
          ]
        },
        {
          "name": "stderr",
          "output_type": "stream",
          "text": [
            "                                                            \r"
          ]
        },
        {
          "name": "stdout",
          "output_type": "stream",
          "text": [
            "Etichetta corretta: Christian_De_Sica\n",
            "Predetto  Christian_De_Sica con probabilità 13.62385082244873 e con perturbazione 0.00019256342784501612\n",
            "Adversarial Sample misclassificati correttamente attualmente: 0.0%\n",
            "Accuracy attuale: 85.71428571428571%\n"
          ]
        },
        {
          "name": "stderr",
          "output_type": "stream",
          "text": [
            "                                                            \r"
          ]
        },
        {
          "name": "stdout",
          "output_type": "stream",
          "text": [
            "Etichetta corretta: Christopher_Nolan\n",
            "Predetto  Christopher_Nolan con probabilità 11.956990242004395 e con perturbazione 0.00019256648374721408\n",
            "Adversarial Sample misclassificati correttamente attualmente: 0.0%\n",
            "Accuracy attuale: 87.5%\n"
          ]
        },
        {
          "name": "stderr",
          "output_type": "stream",
          "text": [
            "                                                            \r"
          ]
        },
        {
          "name": "stdout",
          "output_type": "stream",
          "text": [
            "Etichetta corretta: Cristiano_Ronaldo\n",
            "Predetto  Cristiano_Ronaldo con probabilità 12.877860069274902 e con perturbazione 0.0001925573596963659\n",
            "Adversarial Sample misclassificati correttamente attualmente: 0.0%\n",
            "Accuracy attuale: 88.88888888888889%\n",
            "----------- Perturbazione media aggiunta a tutte le immagini per eps_Step: 0.0002 equivale a 0.00019255913179626482% ----------------\n",
            "----------- Accuracy sugli adversarial Sample per eps_step: 0.0002 equivale a 0.8888888888888888% ----------------\n",
            "----------- Adversarial Sample misclassificati correttamente: 0.0% -----------\n",
            "**** Attacco con eps:0.7 con step a 0.002 ****\n"
          ]
        },
        {
          "name": "stderr",
          "output_type": "stream",
          "text": [
            "                                                            \r"
          ]
        },
        {
          "name": "stdout",
          "output_type": "stream",
          "text": [
            "Etichetta corretta: Andrea_Pirlo\n",
            "Predetto  Andrea_Pirlo con probabilità 11.713798522949219 e con perturbazione 0.001925696968100965\n",
            "Adversarial Sample misclassificati correttamente attualmente: 0.0%\n",
            "Accuracy attuale: 100.0%\n"
          ]
        },
        {
          "name": "stderr",
          "output_type": "stream",
          "text": [
            "                                                            \r"
          ]
        },
        {
          "name": "stdout",
          "output_type": "stream",
          "text": [
            "Etichetta corretta: Antonio_Cassano\n",
            "Predetto  Branch_Warren con probabilità 10.133880615234375 e con perturbazione 0.0019256871892139316\n",
            "Adversarial Sample misclassificati correttamente attualmente: 0.0%\n",
            "Accuracy attuale: 50.0%\n"
          ]
        },
        {
          "name": "stderr",
          "output_type": "stream",
          "text": [
            "                                                            \r"
          ]
        },
        {
          "name": "stdout",
          "output_type": "stream",
          "text": [
            "Etichetta corretta: Ariana_Grande\n",
            "Predetto  Qin_Lan con probabilità 9.557074546813965 e con perturbazione 0.0019256907980889082\n",
            "Adversarial Sample misclassificati correttamente attualmente: 0.0%\n",
            "Accuracy attuale: 33.33333333333333%\n"
          ]
        },
        {
          "name": "stderr",
          "output_type": "stream",
          "text": [
            "                                                            \r"
          ]
        },
        {
          "name": "stdout",
          "output_type": "stream",
          "text": [
            "Etichetta corretta: Ashley_Scott\n",
            "Predetto  Ashley_Scott con probabilità 11.546121597290039 e con perturbazione 0.001925688236951828\n",
            "Adversarial Sample misclassificati correttamente attualmente: 0.0%\n",
            "Accuracy attuale: 50.0%\n"
          ]
        },
        {
          "name": "stderr",
          "output_type": "stream",
          "text": [
            "                                                            \r"
          ]
        },
        {
          "name": "stdout",
          "output_type": "stream",
          "text": [
            "Etichetta corretta: Boris_Johnson\n",
            "Predetto  Boris_Johnson con probabilità 12.12099838256836 e con perturbazione 0.001925686956383288\n",
            "Adversarial Sample misclassificati correttamente attualmente: 0.0%\n",
            "Accuracy attuale: 60.0%\n"
          ]
        },
        {
          "name": "stderr",
          "output_type": "stream",
          "text": [
            "                                                            \r"
          ]
        },
        {
          "name": "stdout",
          "output_type": "stream",
          "text": [
            "Etichetta corretta: Brad_Pitt\n",
            "Predetto  Brad_Pitt con probabilità 11.947136878967285 e con perturbazione 0.0019256945233792067\n",
            "Adversarial Sample misclassificati correttamente attualmente: 0.0%\n",
            "Accuracy attuale: 66.66666666666666%\n"
          ]
        },
        {
          "name": "stderr",
          "output_type": "stream",
          "text": [
            "                                                            \r"
          ]
        },
        {
          "name": "stdout",
          "output_type": "stream",
          "text": [
            "Etichetta corretta: Christian_De_Sica\n",
            "Predetto  Christian_De_Sica con probabilità 12.394708633422852 e con perturbazione 0.0019256965024396777\n",
            "Adversarial Sample misclassificati correttamente attualmente: 0.0%\n",
            "Accuracy attuale: 71.42857142857143%\n"
          ]
        },
        {
          "name": "stderr",
          "output_type": "stream",
          "text": [
            "                                                            \r"
          ]
        },
        {
          "name": "stdout",
          "output_type": "stream",
          "text": [
            "Etichetta corretta: Christopher_Nolan\n",
            "Predetto  Christopher_Nolan con probabilità 10.674184799194336 e con perturbazione 0.0019256992964074016\n",
            "Adversarial Sample misclassificati correttamente attualmente: 0.0%\n",
            "Accuracy attuale: 75.0%\n"
          ]
        },
        {
          "name": "stderr",
          "output_type": "stream",
          "text": [
            "                                                            \r"
          ]
        },
        {
          "name": "stdout",
          "output_type": "stream",
          "text": [
            "Etichetta corretta: Cristiano_Ronaldo\n",
            "Predetto  Cristiano_Ronaldo con probabilità 12.105785369873047 e con perturbazione 0.0019256905652582645\n",
            "Adversarial Sample misclassificati correttamente attualmente: 0.0%\n",
            "Accuracy attuale: 77.77777777777779%\n",
            "----------- Perturbazione media aggiunta a tutte le immagini per eps_Step: 0.002 equivale a 0.0019256923373581634% ----------------\n",
            "----------- Accuracy sugli adversarial Sample per eps_step: 0.002 equivale a 0.7777777777777778% ----------------\n",
            "----------- Adversarial Sample misclassificati correttamente: 0.0% -----------\n",
            "----------- Perturbazione media con iterazione 1 sugli adversarial Sample: 0.0010591257345772141\\% ----------------\n",
            "----------- Accuracy media con iterazione 1 sugli adversarial Sample: 0.8333333333333333\\% ----------------\n",
            "----------- Accuracy MISCLASSIFIED media con iterazione 1 sugli adversarial Sample: 0.0\\% ----------------\n",
            "--------------------------------------------------------------------------------------------------------------------------------------------------------------------\n",
            "**** Attacco con max_iter 2 **** \n",
            "**** Attacco con eps:0.7 con step a 0.0002 ****\n"
          ]
        },
        {
          "name": "stderr",
          "output_type": "stream",
          "text": [
            "                                                            \r"
          ]
        },
        {
          "name": "stdout",
          "output_type": "stream",
          "text": [
            "Etichetta corretta: Andrea_Pirlo\n",
            "Predetto  Andrea_Pirlo con probabilità 12.525548934936523 e con perturbazione 0.00036978963180445135\n",
            "Adversarial Sample misclassificati correttamente attualmente: 0.0%\n",
            "Accuracy attuale: 100.0%\n"
          ]
        },
        {
          "name": "stderr",
          "output_type": "stream",
          "text": [
            "                                                            \r"
          ]
        },
        {
          "name": "stdout",
          "output_type": "stream",
          "text": [
            "Etichetta corretta: Antonio_Cassano\n",
            "Predetto  Branch_Warren con probabilità 10.447824478149414 e con perturbazione 0.0003685738774947822\n",
            "Adversarial Sample misclassificati correttamente attualmente: 0.0%\n",
            "Accuracy attuale: 50.0%\n"
          ]
        },
        {
          "name": "stderr",
          "output_type": "stream",
          "text": [
            "                                                            \r"
          ]
        },
        {
          "name": "stdout",
          "output_type": "stream",
          "text": [
            "Etichetta corretta: Ariana_Grande\n",
            "Predetto  Ariana_Grande con probabilità 10.844030380249023 e con perturbazione 0.00036221527261659503\n",
            "Adversarial Sample misclassificati correttamente attualmente: 0.0%\n",
            "Accuracy attuale: 66.66666666666666%\n"
          ]
        },
        {
          "name": "stderr",
          "output_type": "stream",
          "text": [
            "                                                            \r"
          ]
        },
        {
          "name": "stdout",
          "output_type": "stream",
          "text": [
            "Etichetta corretta: Ashley_Scott\n",
            "Predetto  Ashley_Scott con probabilità 13.392444610595703 e con perturbazione 0.00036759517388418317\n",
            "Adversarial Sample misclassificati correttamente attualmente: 0.0%\n",
            "Accuracy attuale: 75.0%\n"
          ]
        },
        {
          "name": "stderr",
          "output_type": "stream",
          "text": [
            "                                                            \r"
          ]
        },
        {
          "name": "stdout",
          "output_type": "stream",
          "text": [
            "Etichetta corretta: Boris_Johnson\n",
            "Predetto  Boris_Johnson con probabilità 13.074150085449219 e con perturbazione 0.0003673844039440155\n",
            "Adversarial Sample misclassificati correttamente attualmente: 0.0%\n",
            "Accuracy attuale: 80.0%\n"
          ]
        },
        {
          "name": "stderr",
          "output_type": "stream",
          "text": [
            "                                                            \r"
          ]
        },
        {
          "name": "stdout",
          "output_type": "stream",
          "text": [
            "Etichetta corretta: Brad_Pitt\n",
            "Predetto  Brad_Pitt con probabilità 12.94344711303711 e con perturbazione 0.0003668366698548198\n",
            "Adversarial Sample misclassificati correttamente attualmente: 0.0%\n",
            "Accuracy attuale: 83.33333333333334%\n"
          ]
        },
        {
          "name": "stderr",
          "output_type": "stream",
          "text": [
            "                                                            \r"
          ]
        },
        {
          "name": "stdout",
          "output_type": "stream",
          "text": [
            "Etichetta corretta: Christian_De_Sica\n",
            "Predetto  Christian_De_Sica con probabilità 13.494535446166992 e con perturbazione 0.00036704412195831537\n",
            "Adversarial Sample misclassificati correttamente attualmente: 0.0%\n",
            "Accuracy attuale: 85.71428571428571%\n"
          ]
        },
        {
          "name": "stderr",
          "output_type": "stream",
          "text": [
            "                                                            \r"
          ]
        },
        {
          "name": "stdout",
          "output_type": "stream",
          "text": [
            "Etichetta corretta: Christopher_Nolan\n",
            "Predetto  Christopher_Nolan con probabilità 11.828234672546387 e con perturbazione 0.0003649822610896081\n",
            "Adversarial Sample misclassificati correttamente attualmente: 0.0%\n",
            "Accuracy attuale: 87.5%\n"
          ]
        },
        {
          "name": "stderr",
          "output_type": "stream",
          "text": [
            "                                                            \r"
          ]
        },
        {
          "name": "stdout",
          "output_type": "stream",
          "text": [
            "Etichetta corretta: Cristiano_Ronaldo\n",
            "Predetto  Cristiano_Ronaldo con probabilità 12.80964469909668 e con perturbazione 0.0003681209054775536\n",
            "Adversarial Sample misclassificati correttamente attualmente: 0.0%\n",
            "Accuracy attuale: 88.88888888888889%\n",
            "----------- Perturbazione media aggiunta a tutte le immagini per eps_Step: 0.0002 equivale a 0.0003669491464582582% ----------------\n",
            "----------- Accuracy sugli adversarial Sample per eps_step: 0.0002 equivale a 0.8888888888888888% ----------------\n",
            "----------- Adversarial Sample misclassificati correttamente: 0.0% -----------\n",
            "**** Attacco con eps:0.7 con step a 0.002 ****\n"
          ]
        },
        {
          "name": "stderr",
          "output_type": "stream",
          "text": [
            "                                                            \r"
          ]
        },
        {
          "name": "stdout",
          "output_type": "stream",
          "text": [
            "Etichetta corretta: Andrea_Pirlo\n",
            "Predetto  Andrea_Pirlo con probabilità 10.86684513092041 e con perturbazione 0.0033454580698162317\n",
            "Adversarial Sample misclassificati correttamente attualmente: 0.0%\n",
            "Accuracy attuale: 100.0%\n"
          ]
        },
        {
          "name": "stderr",
          "output_type": "stream",
          "text": [
            "                                                            \r"
          ]
        },
        {
          "name": "stdout",
          "output_type": "stream",
          "text": [
            "Etichetta corretta: Antonio_Cassano\n",
            "Predetto  Branch_Warren con probabilità 9.641264915466309 e con perturbazione 0.0032446086406707764\n",
            "Adversarial Sample misclassificati correttamente attualmente: 0.0%\n",
            "Accuracy attuale: 50.0%\n"
          ]
        },
        {
          "name": "stderr",
          "output_type": "stream",
          "text": [
            "                                                            \r"
          ]
        },
        {
          "name": "stdout",
          "output_type": "stream",
          "text": [
            "Etichetta corretta: Ariana_Grande\n",
            "Predetto  Mai_Phương_Thúy con probabilità 8.751479148864746 e con perturbazione 0.002959980396553874\n",
            "Adversarial Sample misclassificati correttamente attualmente: 0.0%\n",
            "Accuracy attuale: 33.33333333333333%\n"
          ]
        },
        {
          "name": "stderr",
          "output_type": "stream",
          "text": [
            "                                                            \r"
          ]
        },
        {
          "name": "stdout",
          "output_type": "stream",
          "text": [
            "Etichetta corretta: Ashley_Scott\n",
            "Predetto  Ashley_Scott con probabilità 9.610486030578613 e con perturbazione 0.00310289254412055\n",
            "Adversarial Sample misclassificati correttamente attualmente: 0.0%\n",
            "Accuracy attuale: 50.0%\n"
          ]
        },
        {
          "name": "stderr",
          "output_type": "stream",
          "text": [
            "                                                            \r"
          ]
        },
        {
          "name": "stdout",
          "output_type": "stream",
          "text": [
            "Etichetta corretta: Boris_Johnson\n",
            "Predetto  Boris_Johnson con probabilità 10.887496948242188 e con perturbazione 0.003230649745091796\n",
            "Adversarial Sample misclassificati correttamente attualmente: 0.0%\n",
            "Accuracy attuale: 60.0%\n"
          ]
        },
        {
          "name": "stderr",
          "output_type": "stream",
          "text": [
            "                                                            \r"
          ]
        },
        {
          "name": "stdout",
          "output_type": "stream",
          "text": [
            "Etichetta corretta: Brad_Pitt\n",
            "Predetto  Brad_Pitt con probabilità 10.772238731384277 e con perturbazione 0.0032018085476011038\n",
            "Adversarial Sample misclassificati correttamente attualmente: 0.0%\n",
            "Accuracy attuale: 66.66666666666666%\n"
          ]
        },
        {
          "name": "stderr",
          "output_type": "stream",
          "text": [
            "                                                            \r"
          ]
        },
        {
          "name": "stdout",
          "output_type": "stream",
          "text": [
            "Etichetta corretta: Christian_De_Sica\n",
            "Predetto  Christian_De_Sica con probabilità 10.907533645629883 e con perturbazione 0.0032041037920862436\n",
            "Adversarial Sample misclassificati correttamente attualmente: 0.0%\n",
            "Accuracy attuale: 71.42857142857143%\n"
          ]
        },
        {
          "name": "stderr",
          "output_type": "stream",
          "text": [
            "                                                            \r"
          ]
        },
        {
          "name": "stdout",
          "output_type": "stream",
          "text": [
            "Etichetta corretta: Christopher_Nolan\n",
            "Predetto  Don_Mattingly con probabilità 9.52874755859375 e con perturbazione 0.003085931297391653\n",
            "Adversarial Sample misclassificati correttamente attualmente: 0.0%\n",
            "Accuracy attuale: 62.5%\n"
          ]
        },
        {
          "name": "stderr",
          "output_type": "stream",
          "text": [
            "                                                            \r"
          ]
        },
        {
          "name": "stdout",
          "output_type": "stream",
          "text": [
            "Etichetta corretta: Cristiano_Ronaldo\n",
            "Predetto  Cristiano_Ronaldo con probabilità 11.130279541015625 e con perturbazione 0.0032271139789372683\n",
            "Adversarial Sample misclassificati correttamente attualmente: 0.0%\n",
            "Accuracy attuale: 66.66666666666666%\n",
            "----------- Perturbazione media aggiunta a tutte le immagini per eps_Step: 0.002 equivale a 0.0031780607791410554% ----------------\n",
            "----------- Accuracy sugli adversarial Sample per eps_step: 0.002 equivale a 0.6666666666666666% ----------------\n",
            "----------- Adversarial Sample misclassificati correttamente: 0.0% -----------\n",
            "----------- Perturbazione media con iterazione 2 sugli adversarial Sample: 0.0017725049627996569\\% ----------------\n",
            "----------- Accuracy media con iterazione 2 sugli adversarial Sample: 0.7777777777777777\\% ----------------\n",
            "----------- Accuracy MISCLASSIFIED media con iterazione 2 sugli adversarial Sample: 0.0\\% ----------------\n",
            "--------------------------------------------------------------------------------------------------------------------------------------------------------------------\n",
            "**** Attacco con max_iter 5 **** \n",
            "**** Attacco con eps:0.7 con step a 0.0002 ****\n"
          ]
        },
        {
          "name": "stderr",
          "output_type": "stream",
          "text": [
            "                                                            \r"
          ]
        },
        {
          "name": "stdout",
          "output_type": "stream",
          "text": [
            "Etichetta corretta: Andrea_Pirlo\n",
            "Predetto  Andrea_Pirlo con probabilità 12.233460426330566 e con perturbazione 0.0009002640726976097\n",
            "Adversarial Sample misclassificati correttamente attualmente: 0.0%\n",
            "Accuracy attuale: 100.0%\n"
          ]
        },
        {
          "name": "stderr",
          "output_type": "stream",
          "text": [
            "                                                            \r"
          ]
        },
        {
          "name": "stdout",
          "output_type": "stream",
          "text": [
            "Etichetta corretta: Antonio_Cassano\n",
            "Predetto  Branch_Warren con probabilità 10.365880966186523 e con perturbazione 0.0008897681254893541\n",
            "Adversarial Sample misclassificati correttamente attualmente: 0.0%\n",
            "Accuracy attuale: 50.0%\n"
          ]
        },
        {
          "name": "stderr",
          "output_type": "stream",
          "text": [
            "                                                            \r"
          ]
        },
        {
          "name": "stdout",
          "output_type": "stream",
          "text": [
            "Etichetta corretta: Ariana_Grande\n",
            "Predetto  Ariana_Grande con probabilità 10.22774887084961 e con perturbazione 0.0008581688744015992\n",
            "Adversarial Sample misclassificati correttamente attualmente: 0.0%\n",
            "Accuracy attuale: 66.66666666666666%\n"
          ]
        },
        {
          "name": "stderr",
          "output_type": "stream",
          "text": [
            "                                                            \r"
          ]
        },
        {
          "name": "stdout",
          "output_type": "stream",
          "text": [
            "Etichetta corretta: Ashley_Scott\n",
            "Predetto  Ashley_Scott con probabilità 12.663758277893066 e con perturbazione 0.0008847329881973565\n",
            "Adversarial Sample misclassificati correttamente attualmente: 0.0%\n",
            "Accuracy attuale: 75.0%\n"
          ]
        },
        {
          "name": "stderr",
          "output_type": "stream",
          "text": [
            "                                                            \r"
          ]
        },
        {
          "name": "stdout",
          "output_type": "stream",
          "text": [
            "Etichetta corretta: Boris_Johnson\n",
            "Predetto  Boris_Johnson con probabilità 12.699227333068848 e con perturbazione 0.0008925177389755845\n",
            "Adversarial Sample misclassificati correttamente attualmente: 0.0%\n",
            "Accuracy attuale: 80.0%\n"
          ]
        },
        {
          "name": "stderr",
          "output_type": "stream",
          "text": [
            "                                                            \r"
          ]
        },
        {
          "name": "stdout",
          "output_type": "stream",
          "text": [
            "Etichetta corretta: Brad_Pitt\n",
            "Predetto  Brad_Pitt con probabilità 12.558758735656738 e con perturbazione 0.0008884602575562894\n",
            "Adversarial Sample misclassificati correttamente attualmente: 0.0%\n",
            "Accuracy attuale: 83.33333333333334%\n"
          ]
        },
        {
          "name": "stderr",
          "output_type": "stream",
          "text": [
            "                                                            \r"
          ]
        },
        {
          "name": "stdout",
          "output_type": "stream",
          "text": [
            "Etichetta corretta: Christian_De_Sica\n",
            "Predetto  Christian_De_Sica con probabilità 13.075329780578613 e con perturbazione 0.0008859499357640743\n",
            "Adversarial Sample misclassificati correttamente attualmente: 0.0%\n",
            "Accuracy attuale: 85.71428571428571%\n"
          ]
        },
        {
          "name": "stderr",
          "output_type": "stream",
          "text": [
            "                                                            \r"
          ]
        },
        {
          "name": "stdout",
          "output_type": "stream",
          "text": [
            "Etichetta corretta: Christopher_Nolan\n",
            "Predetto  Christopher_Nolan con probabilità 11.419236183166504 e con perturbazione 0.0008808440761640668\n",
            "Adversarial Sample misclassificati correttamente attualmente: 0.0%\n",
            "Accuracy attuale: 87.5%\n"
          ]
        },
        {
          "name": "stderr",
          "output_type": "stream",
          "text": [
            "                                                            \r"
          ]
        },
        {
          "name": "stdout",
          "output_type": "stream",
          "text": [
            "Etichetta corretta: Cristiano_Ronaldo\n",
            "Predetto  Cristiano_Ronaldo con probabilità 12.576398849487305 e con perturbazione 0.0008884893613867462\n",
            "Adversarial Sample misclassificati correttamente attualmente: 0.0%\n",
            "Accuracy attuale: 88.88888888888889%\n",
            "----------- Perturbazione media aggiunta a tutte le immagini per eps_Step: 0.0002 equivale a 0.0008854661589591868% ----------------\n",
            "----------- Accuracy sugli adversarial Sample per eps_step: 0.0002 equivale a 0.8888888888888888% ----------------\n",
            "----------- Adversarial Sample misclassificati correttamente: 0.0% -----------\n",
            "**** Attacco con eps:0.7 con step a 0.002 ****\n"
          ]
        },
        {
          "name": "stderr",
          "output_type": "stream",
          "text": [
            "                                                            \r"
          ]
        },
        {
          "name": "stdout",
          "output_type": "stream",
          "text": [
            "Etichetta corretta: Andrea_Pirlo\n",
            "Predetto  Andrea_Pirlo con probabilità 9.385053634643555 e con perturbazione 0.0072548468597233295\n",
            "Adversarial Sample misclassificati correttamente attualmente: 0.0%\n",
            "Accuracy attuale: 100.0%\n"
          ]
        },
        {
          "name": "stderr",
          "output_type": "stream",
          "text": [
            "                                                            \r"
          ]
        },
        {
          "name": "stdout",
          "output_type": "stream",
          "text": [
            "Etichetta corretta: Antonio_Cassano\n",
            "Predetto  J._J._Watt con probabilità 9.374737739562988 e con perturbazione 0.006906532216817141\n",
            "Adversarial Sample misclassificati correttamente attualmente: 0.0%\n",
            "Accuracy attuale: 50.0%\n"
          ]
        },
        {
          "name": "stderr",
          "output_type": "stream",
          "text": [
            "                                                            \r"
          ]
        },
        {
          "name": "stdout",
          "output_type": "stream",
          "text": [
            "Etichetta corretta: Ariana_Grande\n",
            "Predetto  Park_Ji-yeon con probabilità 8.610766410827637 e con perturbazione 0.0063079530373215675\n",
            "Adversarial Sample misclassificati correttamente attualmente: 0.0%\n",
            "Accuracy attuale: 33.33333333333333%\n"
          ]
        },
        {
          "name": "stderr",
          "output_type": "stream",
          "text": [
            "                                                            \r"
          ]
        },
        {
          "name": "stdout",
          "output_type": "stream",
          "text": [
            "Etichetta corretta: Ashley_Scott\n",
            "Predetto  Gloria_Hunniford con probabilità 9.213035583496094 e con perturbazione 0.006548205390572548\n",
            "Adversarial Sample misclassificati correttamente attualmente: 0.0%\n",
            "Accuracy attuale: 25.0%\n"
          ]
        },
        {
          "name": "stderr",
          "output_type": "stream",
          "text": [
            "                                                            \r"
          ]
        },
        {
          "name": "stdout",
          "output_type": "stream",
          "text": [
            "Etichetta corretta: Boris_Johnson\n",
            "Predetto  Vladimir_Petković con probabilità 9.043011665344238 e con perturbazione 0.00677533308044076\n",
            "Adversarial Sample misclassificati correttamente attualmente: 0.0%\n",
            "Accuracy attuale: 20.0%\n"
          ]
        },
        {
          "name": "stderr",
          "output_type": "stream",
          "text": [
            "                                                            \r"
          ]
        },
        {
          "name": "stdout",
          "output_type": "stream",
          "text": [
            "Etichetta corretta: Brad_Pitt\n",
            "Predetto  Brad_Pitt con probabilità 8.547547340393066 e con perturbazione 0.006757651921361685\n",
            "Adversarial Sample misclassificati correttamente attualmente: 0.0%\n",
            "Accuracy attuale: 33.33333333333333%\n"
          ]
        },
        {
          "name": "stderr",
          "output_type": "stream",
          "text": [
            "                                                            \r"
          ]
        },
        {
          "name": "stdout",
          "output_type": "stream",
          "text": [
            "Etichetta corretta: Christian_De_Sica\n",
            "Predetto  Christian_De_Sica con probabilità 8.696069717407227 e con perturbazione 0.0065552121959626675\n",
            "Adversarial Sample misclassificati correttamente attualmente: 0.0%\n",
            "Accuracy attuale: 42.857142857142854%\n"
          ]
        },
        {
          "name": "stderr",
          "output_type": "stream",
          "text": [
            "                                                            \r"
          ]
        },
        {
          "name": "stdout",
          "output_type": "stream",
          "text": [
            "Etichetta corretta: Christopher_Nolan\n",
            "Predetto  Don_Mattingly con probabilità 8.938997268676758 e con perturbazione 0.006556002888828516\n",
            "Adversarial Sample misclassificati correttamente attualmente: 0.0%\n",
            "Accuracy attuale: 37.5%\n"
          ]
        },
        {
          "name": "stderr",
          "output_type": "stream",
          "text": [
            "                                                            \r"
          ]
        },
        {
          "name": "stdout",
          "output_type": "stream",
          "text": [
            "Etichetta corretta: Cristiano_Ronaldo\n",
            "Predetto  Aaron_Hernandez con probabilità 12.940411567687988 e con perturbazione 0.006814409047365189\n",
            "Adversarial Sample misclassificati correttamente attualmente: 0.0%\n",
            "Accuracy attuale: 33.33333333333333%\n",
            "----------- Perturbazione media aggiunta a tutte le immagini per eps_Step: 0.002 equivale a 0.006719571848710378% ----------------\n",
            "----------- Accuracy sugli adversarial Sample per eps_step: 0.002 equivale a 0.3333333333333333% ----------------\n",
            "----------- Adversarial Sample misclassificati correttamente: 0.0% -----------\n",
            "----------- Perturbazione media con iterazione 5 sugli adversarial Sample: 0.003802519003834782\\% ----------------\n",
            "----------- Accuracy media con iterazione 5 sugli adversarial Sample: 0.611111111111111\\% ----------------\n",
            "----------- Accuracy MISCLASSIFIED media con iterazione 5 sugli adversarial Sample: 0.0\\% ----------------\n",
            "--------------------------------------------------------------------------------------------------------------------------------------------------------------------\n",
            "**** Attacco con max_iter 7 **** \n",
            "**** Attacco con eps:0.7 con step a 0.0002 ****\n"
          ]
        },
        {
          "name": "stderr",
          "output_type": "stream",
          "text": [
            "                                                            \r"
          ]
        },
        {
          "name": "stdout",
          "output_type": "stream",
          "text": [
            "Etichetta corretta: Andrea_Pirlo\n",
            "Predetto  Andrea_Pirlo con probabilità 12.041487693786621 e con perturbazione 0.0012414194643497467\n",
            "Adversarial Sample misclassificati correttamente attualmente: 0.0%\n",
            "Accuracy attuale: 100.0%\n"
          ]
        },
        {
          "name": "stderr",
          "output_type": "stream",
          "text": [
            "                                                            \r"
          ]
        },
        {
          "name": "stdout",
          "output_type": "stream",
          "text": [
            "Etichetta corretta: Antonio_Cassano\n",
            "Predetto  Branch_Warren con probabilità 10.299530029296875 e con perturbazione 0.0012227041879668832\n",
            "Adversarial Sample misclassificati correttamente attualmente: 0.0%\n",
            "Accuracy attuale: 50.0%\n"
          ]
        },
        {
          "name": "stderr",
          "output_type": "stream",
          "text": [
            "                                                            \r"
          ]
        },
        {
          "name": "stdout",
          "output_type": "stream",
          "text": [
            "Etichetta corretta: Ariana_Grande\n",
            "Predetto  Ariana_Grande con probabilità 9.798932075500488 e con perturbazione 0.0011665180791169405\n",
            "Adversarial Sample misclassificati correttamente attualmente: 0.0%\n",
            "Accuracy attuale: 66.66666666666666%\n"
          ]
        },
        {
          "name": "stderr",
          "output_type": "stream",
          "text": [
            "                                                            \r"
          ]
        },
        {
          "name": "stdout",
          "output_type": "stream",
          "text": [
            "Etichetta corretta: Ashley_Scott\n",
            "Predetto  Ashley_Scott con probabilità 12.219887733459473 e con perturbazione 0.001209998270496726\n",
            "Adversarial Sample misclassificati correttamente attualmente: 0.0%\n",
            "Accuracy attuale: 75.0%\n"
          ]
        },
        {
          "name": "stderr",
          "output_type": "stream",
          "text": [
            "                                                            \r"
          ]
        },
        {
          "name": "stdout",
          "output_type": "stream",
          "text": [
            "Etichetta corretta: Boris_Johnson\n",
            "Predetto  Boris_Johnson con probabilità 12.43992805480957 e con perturbazione 0.0012263270327821374\n",
            "Adversarial Sample misclassificati correttamente attualmente: 0.0%\n",
            "Accuracy attuale: 80.0%\n"
          ]
        },
        {
          "name": "stderr",
          "output_type": "stream",
          "text": [
            "                                                            \r"
          ]
        },
        {
          "name": "stdout",
          "output_type": "stream",
          "text": [
            "Etichetta corretta: Brad_Pitt\n",
            "Predetto  Brad_Pitt con probabilità 12.325526237487793 e con perturbazione 0.0012184862280264497\n",
            "Adversarial Sample misclassificati correttamente attualmente: 0.0%\n",
            "Accuracy attuale: 83.33333333333334%\n"
          ]
        },
        {
          "name": "stderr",
          "output_type": "stream",
          "text": [
            "                                                            \r"
          ]
        },
        {
          "name": "stdout",
          "output_type": "stream",
          "text": [
            "Etichetta corretta: Christian_De_Sica\n",
            "Predetto  Christian_De_Sica con probabilità 12.776395797729492 e con perturbazione 0.0012154795695096254\n",
            "Adversarial Sample misclassificati correttamente attualmente: 0.0%\n",
            "Accuracy attuale: 85.71428571428571%\n"
          ]
        },
        {
          "name": "stderr",
          "output_type": "stream",
          "text": [
            "                                                            \r"
          ]
        },
        {
          "name": "stdout",
          "output_type": "stream",
          "text": [
            "Etichetta corretta: Christopher_Nolan\n",
            "Predetto  Christopher_Nolan con probabilità 11.142376899719238 e con perturbazione 0.001206394867040217\n",
            "Adversarial Sample misclassificati correttamente attualmente: 0.0%\n",
            "Accuracy attuale: 87.5%\n"
          ]
        },
        {
          "name": "stderr",
          "output_type": "stream",
          "text": [
            "                                                            \r"
          ]
        },
        {
          "name": "stdout",
          "output_type": "stream",
          "text": [
            "Etichetta corretta: Cristiano_Ronaldo\n",
            "Predetto  Cristiano_Ronaldo con probabilità 12.406646728515625 e con perturbazione 0.0012219460913911462\n",
            "Adversarial Sample misclassificati correttamente attualmente: 0.0%\n",
            "Accuracy attuale: 88.88888888888889%\n",
            "----------- Perturbazione media aggiunta a tutte le immagini per eps_Step: 0.0002 equivale a 0.0012143637545199858% ----------------\n",
            "----------- Accuracy sugli adversarial Sample per eps_step: 0.0002 equivale a 0.8888888888888888% ----------------\n",
            "----------- Adversarial Sample misclassificati correttamente: 0.0% -----------\n",
            "**** Attacco con eps:0.7 con step a 0.002 ****\n"
          ]
        },
        {
          "name": "stderr",
          "output_type": "stream",
          "text": [
            "                                                            \r"
          ]
        },
        {
          "name": "stdout",
          "output_type": "stream",
          "text": [
            "Etichetta corretta: Andrea_Pirlo\n",
            "Predetto  Andrea_Pirlo con probabilità 8.55380630493164 e con perturbazione 0.009248747490346432\n",
            "Adversarial Sample misclassificati correttamente attualmente: 0.0%\n",
            "Accuracy attuale: 100.0%\n"
          ]
        },
        {
          "name": "stderr",
          "output_type": "stream",
          "text": [
            "                                                            \r"
          ]
        },
        {
          "name": "stdout",
          "output_type": "stream",
          "text": [
            "Etichetta corretta: Antonio_Cassano\n",
            "Predetto  Aaron_Hernandez con probabilità 9.24515151977539 e con perturbazione 0.00870292354375124\n",
            "Adversarial Sample misclassificati correttamente attualmente: 0.0%\n",
            "Accuracy attuale: 50.0%\n"
          ]
        },
        {
          "name": "stderr",
          "output_type": "stream",
          "text": [
            "                                                            \r"
          ]
        },
        {
          "name": "stdout",
          "output_type": "stream",
          "text": [
            "Etichetta corretta: Ariana_Grande\n",
            "Predetto  Aaron_Hernandez con probabilità 8.852758407592773 e con perturbazione 0.008067630231380463\n",
            "Adversarial Sample misclassificati correttamente attualmente: 0.0%\n",
            "Accuracy attuale: 33.33333333333333%\n"
          ]
        },
        {
          "name": "stderr",
          "output_type": "stream",
          "text": [
            "                                                            \r"
          ]
        },
        {
          "name": "stdout",
          "output_type": "stream",
          "text": [
            "Etichetta corretta: Ashley_Scott\n",
            "Predetto  Aaron_Hernandez con probabilità 9.67587947845459 e con perturbazione 0.008425431326031685\n",
            "Adversarial Sample misclassificati correttamente attualmente: 0.0%\n",
            "Accuracy attuale: 25.0%\n"
          ]
        },
        {
          "name": "stderr",
          "output_type": "stream",
          "text": [
            "                                                            \r"
          ]
        },
        {
          "name": "stdout",
          "output_type": "stream",
          "text": [
            "Etichetta corretta: Boris_Johnson\n",
            "Predetto  Vladimir_Petković con probabilità 8.49439525604248 e con perturbazione 0.008581671863794327\n",
            "Adversarial Sample misclassificati correttamente attualmente: 0.0%\n",
            "Accuracy attuale: 20.0%\n"
          ]
        },
        {
          "name": "stderr",
          "output_type": "stream",
          "text": [
            "                                                            \r"
          ]
        },
        {
          "name": "stdout",
          "output_type": "stream",
          "text": [
            "Etichetta corretta: Brad_Pitt\n",
            "Predetto  Sergio_Goyri con probabilità 8.982304573059082 e con perturbazione 0.008608371019363403\n",
            "Adversarial Sample misclassificati correttamente attualmente: 0.0%\n",
            "Accuracy attuale: 16.666666666666664%\n"
          ]
        },
        {
          "name": "stderr",
          "output_type": "stream",
          "text": [
            "                                                            \r"
          ]
        },
        {
          "name": "stdout",
          "output_type": "stream",
          "text": [
            "Etichetta corretta: Christian_De_Sica\n",
            "Predetto  Aaron_Hernandez con probabilità 10.330480575561523 e con perturbazione 0.008369944989681244\n",
            "Adversarial Sample misclassificati correttamente attualmente: 0.0%\n",
            "Accuracy attuale: 14.285714285714285%\n"
          ]
        },
        {
          "name": "stderr",
          "output_type": "stream",
          "text": [
            "                                                            \r"
          ]
        },
        {
          "name": "stdout",
          "output_type": "stream",
          "text": [
            "Etichetta corretta: Christopher_Nolan\n",
            "Predetto  Aaron_Hernandez con probabilità 12.09616470336914 e con perturbazione 0.008310322649776936\n",
            "Adversarial Sample misclassificati correttamente attualmente: 0.0%\n",
            "Accuracy attuale: 12.5%\n"
          ]
        },
        {
          "name": "stderr",
          "output_type": "stream",
          "text": [
            "                                                            "
          ]
        },
        {
          "name": "stdout",
          "output_type": "stream",
          "text": [
            "Etichetta corretta: Cristiano_Ronaldo\n",
            "Predetto  Aaron_Hernandez con probabilità 15.280435562133789 e con perturbazione 0.008631637319922447\n",
            "Adversarial Sample misclassificati correttamente attualmente: 0.0%\n",
            "Accuracy attuale: 11.11111111111111%\n",
            "----------- Perturbazione media aggiunta a tutte le immagini per eps_Step: 0.002 equivale a 0.008549631159338687% ----------------\n",
            "----------- Accuracy sugli adversarial Sample per eps_step: 0.002 equivale a 0.1111111111111111% ----------------\n",
            "----------- Adversarial Sample misclassificati correttamente: 0.0% -----------\n",
            "----------- Perturbazione media con iterazione 7 sugli adversarial Sample: 0.004881997456929336\\% ----------------\n",
            "----------- Accuracy media con iterazione 7 sugli adversarial Sample: 0.5\\% ----------------\n",
            "----------- Accuracy MISCLASSIFIED media con iterazione 7 sugli adversarial Sample: 0.0\\% ----------------\n",
            "--------------------------------------------------------------------------------------------------------------------------------------------------------------------\n"
          ]
        },
        {
          "name": "stderr",
          "output_type": "stream",
          "text": [
            "\r"
          ]
        }
      ],
      "source": [
        "#PGD specific Attack for all samples\n",
        "import os\n",
        "import re\n",
        "\n",
        "dataset_dir = \"test_set_cropped_piccolo/\" \n",
        "#eps_step = [0.0002, 0.0002, 0.0002, 0.001, 0.002, 0.002, 0.01, 0.02, 0.05] #La dimensione del passo della variazione dell'input a ogni iterazione. Questo parametro definisce quanto grande sarà ogni passo nella direzione del gradiente. #La dimensione del passo della variazione dell'input per il calcolo della perturbazione minima. Questo parametro è utilizzato quando minimal è impostato su True.\n",
        "eps_step = [0.0002,0.002]\n",
        "max_iter = [1,2,5,7]  # Il numero massimo di iterazioni. Questo parametro determina quante volte l'attacco iterativo sarà eseguito.\n",
        "#eps_range = [0.001, 0.005, 0.007, 0.01, 0.05, 0.07, 0.1, 0.5, 0.7] #Questo valore determina l'ampiezza massima della perturbazione aggiunta agli input originali. Può essere un valore singolo (int o float) o un array numpy (ndarray).\n",
        "eps_range = 0.7\n",
        "\n",
        "accuracy_misclassified_for_eps = []\n",
        "accuracy_misclassified_for_max_iter = []\n",
        "accuracy_for_eps = []\n",
        "accuracy_for_max_iter = []\n",
        "perturbation_for_eps = []\n",
        "perturbation_for_max_iter = []\n",
        "correct_misclassified = 0\n",
        "total_images = 0\n",
        "\n",
        "target_class = 10\n",
        "etichetta_target = LABELS[0]\n",
        "print(\"ETICHETTA TARGET: \", LABELS[10])\n",
        "batch_size = test_img.shape[0]\n",
        "targeted_labels = np.array([target_class] * batch_size)\n",
        "one_hot_targeted_labels = tf.keras.utils.to_categorical(targeted_labels, num_classes=8631)\n",
        "\n",
        "print(\"Inizio Attacco PGD NON-TARGETED\")\n",
        "for i in range(len(max_iter)):\n",
        "        print(\"**** Attacco con max_iter {} **** \".format(max_iter[i]))\n",
        "        for step in eps_step:   #Se qualcosa funziona strano controllare questo zip\n",
        "            correct_predictions = 0\n",
        "            total_images = 0\n",
        "            perturbation = []\n",
        "            \n",
        "            attack = ProjectedGradientDescentPyTorch(estimator=classifier, eps = eps_range, eps_step=step, targeted=True, max_iter = max_iter[i])\n",
        "            \n",
        "            print(\"**** Attacco con eps:{} con step a {} ****\".format(eps_range,step))\n",
        "            for filename in os.listdir(dataset_dir):\n",
        "                if filename.endswith(\".jpg\") or filename.endswith(\".jpeg\"):\n",
        "                    person_path = os.path.join(dataset_dir, filename)\n",
        "                    test_img = load_image(person_path)\n",
        "                    test_img = test_img.unsqueeze(0)\n",
        "                    test_img = test_img.numpy()\n",
        "                    test_images_adv = attack.generate(test_img, one_hot_targeted_labels)\n",
        "                    model_predictions = model.predict(test_images_adv)\n",
        "                    correct_label = re.sub(r'_\\d+_face_0\\.jpg$', '', filename)\n",
        "                    print(\"Etichetta corretta:\", correct_label)   \n",
        "                    perturbation.append(np.mean(np.abs((test_images_adv - test_img))))  #Salvo le perturbazioni applicate su ogni immagine\n",
        "                    predicted_label = LABELS[np.array(model_predictions[0].argmax())]\n",
        "                    print(\"Predetto {} con probabilità {} e con perturbazione {}\".format(predicted_label,model_predictions[0][model_predictions.argmax()],perturbation[-1]))\n",
        "                    total_images+=1\n",
        "                    \n",
        "                    predicted_label = str(predicted_label)\n",
        "\n",
        "                    if correct_label in predicted_label:\n",
        "                        correct_predictions+=1\n",
        "                        \n",
        "                    if etichetta_target in predicted_label:  \n",
        "                        correct_misclassified = correct_misclassified+1   #Se il modello predice l'etichetta target allora è correttamente misclassificato\n",
        "\n",
        "                    accuracy_misclassified = correct_misclassified/total_images\n",
        "                    print(\"Adversarial Sample misclassificati correttamente attualmente: {}%\".format((accuracy_misclassified)))\n",
        "                    print(\"Accuracy attuale: {}%\".format((correct_predictions/total_images)*100))\n",
        "            \n",
        "\n",
        "            if total_images != 0:    #Per ogni epsilon impostata salvo in accuracy plot\n",
        "                if len(perturbation) == total_images:\n",
        "                    perturbazione_media = sum(perturbation)/total_images    #Calcolo la media delle perturbazioni applicate su tutte le immagini per una determinata epsilon\n",
        "                    perturbation_for_eps.append(perturbazione_media)\n",
        "                    print(\"----------- Perturbazione media aggiunta a tutte le immagini per eps_Step: {} equivale a {}% ----------------\".format(step,perturbazione_media))\n",
        "\n",
        "                final_accuracy = correct_predictions/total_images\n",
        "                accuracy_for_eps.append(final_accuracy)\n",
        "                print(\"----------- Accuracy sugli adversarial Sample per eps_step: {} equivale a {}% ----------------\".format(step,final_accuracy))\n",
        "                \n",
        "                accuracy_misclassified = correct_misclassified/total_images\n",
        "                accuracy_misclassified_for_eps.append(accuracy_misclassified)\n",
        "                print(\"----------- Adversarial Sample misclassificati correttamente: {}% -----------\".format((accuracy_misclassified)))\n",
        "\n",
        "            #Per ogni epsilon impostata salvo in accuracy plot\n",
        "        if True:#len(perturbation_for_eps) == len(eps_range):\n",
        "            perturbazione_media_per_max_iter = sum(perturbation_for_eps)/len(eps_step) # Calcolo la perturbazione media dopo aver provato tutte le epsilon,quindi la media delle perturbazioni per eps_range\n",
        "            perturbation_for_max_iter.append(perturbazione_media_per_max_iter)\n",
        "            print(\"----------- Perturbazione media con iterazione {} sugli adversarial Sample: {}\\% ----------------\".format(max_iter[i],perturbation_for_max_iter[i]))\n",
        "            perturbation_for_eps = []\n",
        "        if True:#len(accuracy_for_eps) == len(eps_range):\n",
        "            accuracy_media_per_max_iter = sum(accuracy_for_eps)/len(eps_step) # Calcolo l'accuracy media dopo aver provato tutte le epsilon,quindi la media dell'accuracy per ogni eps_range\n",
        "            accuracy_for_max_iter.append(accuracy_media_per_max_iter)\n",
        "            print(\"----------- Accuracy media con iterazione {} sugli adversarial Sample: {}\\% ----------------\".format(max_iter[i],accuracy_for_max_iter[i]))\n",
        "            accuracy_for_eps = []\n",
        "\n",
        "        if True:\n",
        "            accuracy__misclassified_media_per_max_iter = sum(accuracy_misclassified_for_eps)/len(eps_step) # Calcolo l'accuracy media dopo aver provato tutte le epsilon,quindi la media dell'accuracy per ogni eps_range\n",
        "            accuracy_misclassified_for_max_iter.append(accuracy__misclassified_media_per_max_iter)\n",
        "            print(\"----------- Accuracy MISCLASSIFIED media con iterazione {} sugli adversarial Sample: {}\\% ----------------\".format(max_iter[i],accuracy_misclassified_for_max_iter[i]))\n",
        "            accuracy_misclassified_for_eps = []\n",
        "\n",
        "\n",
        "        print(\"--------------------------------------------------------------------------------------------------------------------------------------------------------------------\")\n",
        "\n",
        "\n",
        "# correct_predictions = 0\n",
        "# total_images = 0\n",
        "# target_class = 10\n",
        "# print(\"ETICHETTA TARGET: \", LABELS[10])\n",
        "# batch_size = test_img.shape[0]\n",
        "# targeted_labels = np.array([target_class] * batch_size)\n",
        "# one_hot_targeted_labels = tf.keras.utils.to_categorical(targeted_labels, num_classes=8631)\n",
        "\n",
        "# for filename in os.listdir(dataset_dir):\n",
        "#     if filename.endswith(\".jpg\") or filename.endswith(\".jpeg\"):\n",
        "#         person_path = os.path.join(dataset_dir, filename)\n",
        "#         print(\"Immagine:\", filename)\n",
        "#         test_img = load_image(person_path)\n",
        "#         test_img = test_img.unsqueeze(0)\n",
        "#         test_img = test_img.numpy()\n",
        "#         test_images_adv = attack.generate(test_img, one_hot_targeted_labels)\n",
        "#         model_predictions = model.predict(test_images_adv)\n",
        "#         correct_label = re.sub(r'_\\d+_face_0\\.jpg$', '', filename)\n",
        "#         print(\"Etichetta corretta:\", correct_label)   \n",
        "#         perturbation = np.mean(np.abs((test_images_adv - test_img)))\n",
        "#         predicted_label = LABELS[np.array(model_predictions[0].argmax())]\n",
        "#         print(\"Predetto {} con probabilità {}\".format(predicted_label,model_predictions[0][model_predictions.argmax()]))\n",
        "#         total_images+=1\n",
        "\n",
        "#         if predicted_label == correct_label:\n",
        "#             correct_predictions+=1\n",
        "\n",
        "#         accuracy = correct_predictions/total_images\n",
        "#         print(\"Accuracy sugli adversarial Sample: {}%\".format((100-(accuracy*100))))\n",
        "        \n",
        "\n",
        "# if total_images != 0:\n",
        "#     final_accuracy = correct_predictions/total_images\n",
        "#     print(\"----------- Accuracy FINALE sugli adversarial Sample: {}\\% ----------------\".format(final_accuracy))"
      ]
    },
    {
      "cell_type": "markdown",
      "metadata": {
        "id": "FX5rYHS-KHF7"
      },
      "source": [
        "#  **CARLINI WAGNER **ATTACK****"
      ]
    },
    {
      "cell_type": "code",
      "execution_count": null,
      "metadata": {
        "id": "wBtMFh-xKPQd"
      },
      "outputs": [],
      "source": [
        "# Import all L-distance based attacks\n",
        "from art.attacks.evasion import CarliniL2Method, CarliniL0Method, CarliniLInfMethod"
      ]
    },
    {
      "cell_type": "markdown",
      "metadata": {},
      "source": [
        "Il metodo Carlini and Wagner L_0 Attack è un attacco iterativo che mira a trovare un esempio avversario minimizzando il numero di caratteristiche modificate (norma L_0). Ecco una spiegazione dettagliata del metodo e dei suoi parametri:\n",
        "\n",
        "Metodo Carlini and Wagner L_0 Attack\n",
        "Parametri del Metodo __init__\n",
        "classifier (CLASSIFIER_CLASS_LOSS_GRADIENTS_TYPE):\n",
        "\n",
        "Un classificatore addestrato che implementa i metodi per calcolare le perdite e i gradienti delle perdite rispetto agli input.\n",
        "confidence (float = 0.0):\n",
        "\n",
        "La fiducia degli esempi avversari: un valore più alto produce esempi che sono più lontani dall'input originale ma classificati con maggiore fiducia come la classe target. Questo parametro bilancia la necessità di modificare l'input originale con la certezza che l'output sia nella classe avversaria desiderata.\n",
        "targeted (bool = False):\n",
        "\n",
        "Indica se l'attacco è mirato a una specifica classe (True) o meno (False). In un attacco mirato, l'obiettivo è far classificare l'input avversario come una classe specifica scelta dall'attaccante. In un attacco non mirato, l'obiettivo è semplicemente far classificare l'input in una classe diversa da quella corretta.\n",
        "learning_rate (float = 0.01):\n",
        "\n",
        "Il tasso di apprendimento iniziale per l'algoritmo di attacco. Valori più piccoli producono risultati migliori ma convergono più lentamente.\n",
        "binary_search_steps (int = 10):\n",
        "\n",
        "Numero di volte in cui regolare la costante con la ricerca binaria (valore positivo). Se binary_search_steps è grande, l'algoritmo non è molto sensibile al valore di initial_const. Questo parametro controlla quante volte la costante di trade-off viene aggiustata per trovare il miglior equilibrio tra la distanza e la fiducia.\n",
        "max_iter (int = 10):\n",
        "\n",
        "Il numero massimo di iterazioni per l'attacco.\n",
        "initial_const (float = 0.01):\n",
        "\n",
        "La costante di trade-off iniziale c per regolare l'importanza relativa tra la distanza e la fiducia. Se binary_search_steps è grande, il valore iniziale di questa costante non è critico.\n",
        "mask (ndarray | None = None):\n",
        "\n",
        "Le caratteristiche iniziali che possono essere modificate dall'algoritmo. Se non specificato, l'algoritmo utilizza l'intero set di caratteristiche. Questo parametro può essere utilizzato per limitare l'attacco a modificare solo determinate parti dell'input.\n",
        "warm_start (bool = True):\n",
        "\n",
        "Invece di iniziare la discesa del gradiente in ogni iterazione dall'immagine iniziale, si inizia la discesa del gradiente dalla soluzione trovata nell'iterazione precedente. Questo parametro può accelerare la convergenza.\n",
        "max_halving (int = 5):\n",
        "\n",
        "Numero massimo di passi di dimezzamento nella ricerca lineare di ottimizzazione. Questo parametro controlla quante volte la dimensione del passo viene dimezzata durante la ricerca di un passo ottimale.\n",
        "max_doubling (int = 5):\n",
        "\n",
        "Numero massimo di passi di raddoppiamento nella ricerca lineare di ottimizzazione. Questo parametro controlla quante volte la dimensione del passo viene raddoppiata durante la ricerca di un passo ottimale.\n",
        "batch_size (int = 1):\n",
        "\n",
        "La dimensione del batch su cui vengono generati i campioni avversari. Questo parametro determina quanti campioni vengono processati contemporaneamente durante l'attacco.\n",
        "\n",
        "verbose (bool = True):\n",
        "Mostra barre di avanzamento. Se impostato su True, verranno visualizzati i progressi dell'attacco durante l'esecuzione."
      ]
    },
    {
      "cell_type": "markdown",
      "metadata": {
        "id": "g59hEEgPKJZX"
      },
      "source": [
        "**NON-TARGETED ATTACK**"
      ]
    },
    {
      "cell_type": "code",
      "execution_count": null,
      "metadata": {},
      "outputs": [],
      "source": [
        "#Numero di volte in cui regolare la costante con la ricerca binaria (valore positivo). Se binary_search_steps è grande, l'algoritmo non è molto sensibile al valore di initial_const. Questo parametro controlla quante volte la costante di trade-off viene aggiustata per trovare il miglior equilibrio tra la distanza e la fiducia.\n",
        "binary_search_steps = 1\n",
        "#La fiducia degli esempi avversari: un valore più alto produce esempi che sono più lontani dall'input originale ma classificati con maggiore fiducia come la classe target. Questo parametro bilancia la necessità di modificare l'input originale con la certezza che l'output sia nella classe avversaria desiderata.\n",
        "confidence = 0.5\n",
        "warm_start = False #Invece di iniziare la discesa del gradiente in ogni iterazione dall'immagine iniziale, si inizia la discesa del gradiente dalla soluzione trovata nell'iterazione precedente. Questo parametro può accelerare la convergenza.\n",
        "max_iter = 10\n",
        "learning_rate = 0.01 #Il tasso di apprendimento iniziale per l'algoritmo di attacco. Valori più piccoli producono risultati migliori ma convergono più lentamente.\n",
        "initial_const = 1000 #La costante di trade-off iniziale c per regolare l'importanza relativa tra la distanza e la fiducia. Se binary_search_steps è grande, il valore iniziale di questa costante non è critico.\n",
        "\n",
        "attack = CarliniL2Method(classifier=classifier, binary_search_steps=binary_search_steps, confidence=confidence, max_iter=max_iter, learning_rate=learning_rate, initial_const=initial_const, targeted=False)\n"
      ]
    },
    {
      "cell_type": "code",
      "execution_count": null,
      "metadata": {
        "id": "x2SLv9tcKNKc"
      },
      "outputs": [],
      "source": [
        "# Carlini Wagner generic attack on single sample\n",
        "\n",
        "test_images_adv = attack.generate(test_img)\n",
        "\n",
        "#loss_test, accuracy_test = model.evaluate(test_images_adv, test_labels)\n",
        "model_predictions = model.predict(test_images_adv)\n",
        "perturbation = np.mean(np.abs((test_images_adv - test_img)))\n",
        "#print('Accuracy on adversarial test data: {:4.2f}%'.format(accuracy_test * 100))\n",
        "print('Average perturbation: {:4.2f}'.format(perturbation))\n",
        "print(LABELS[target_class])\n",
        "print(model_predictions)\n",
        "predicted_label = LABELS[np.array(model_predictions.argmax())]\n",
        "print(\"{} con probabilità {}\".format(predicted_label,model_predictions[0][model_predictions.argmax()]))"
      ]
    },
    {
      "cell_type": "markdown",
      "metadata": {},
      "source": [
        "DA ADATTARE ANCORA"
      ]
    },
    {
      "cell_type": "code",
      "execution_count": null,
      "metadata": {},
      "outputs": [],
      "source": [
        "# Carlini Wagner generic attack on all samples\n",
        "import os\n",
        "import re\n",
        "\n",
        "dataset_dir = \"test_set_cropped_piccolo/\" \n",
        "binary_search_steps = 1\n",
        "confidence = 0.5\n",
        "max_iter = 10\n",
        "learning_rate = 0.01\n",
        "initial_const = 1000\n",
        "\n",
        "accuracy_for_eps = []\n",
        "accuracy_for_max_iter = []\n",
        "perturbation_for_eps = []\n",
        "perturbation_for_max_iter = []\n",
        "correct_predictions = 0\n",
        "total_images = 0\n",
        "print(\"Inizio Attacco PGD NON-TARGETED\")\n",
        "for i in range(len(max_iter)):\n",
        "        print(\"**** Attacco con max_iter {} **** \".format(max_iter[i]))\n",
        "        for step in eps_step:   #Se qualcosa funziona strano controllare questo zip\n",
        "            correct_predictions = 0\n",
        "            total_images = 0\n",
        "            perturbation = []\n",
        "            \n",
        "            attack = CarliniL2Method(classifier=classifier, binary_search_steps=binary_search_steps, confidence=confidence, max_iter=max_iter, learning_rate=learning_rate, initial_const=initial_const, targeted=False)\n",
        "            \n",
        "            print(\"**** Attacco con eps:{} con step a {} ****\".format(eps_range,step))\n",
        "            for filename in os.listdir(dataset_dir):\n",
        "                if filename.endswith(\".jpg\") or filename.endswith(\".jpeg\"):\n",
        "                    person_path = os.path.join(dataset_dir, filename)\n",
        "                    test_img = load_image(person_path)\n",
        "                    test_img = test_img.unsqueeze(0)\n",
        "                    test_img = test_img.numpy()\n",
        "                    test_images_adv = attack.generate(test_img)\n",
        "                    model_predictions = model.predict(test_images_adv)\n",
        "                    correct_label = re.sub(r'_\\d+_face_0\\.jpg$', '', filename)\n",
        "                    print(\"Etichetta corretta:\", correct_label)   \n",
        "                    perturbation.append(np.mean(np.abs((test_images_adv - test_img))))  #Salvo le perturbazioni applicate su ogni immagine\n",
        "                    predicted_label = LABELS[np.array(model_predictions[0].argmax())]\n",
        "                    print(\"Predetto {} con probabilità {} e con perturbazione {}\".format(predicted_label,model_predictions[0][model_predictions.argmax()],perturbation[-1]))\n",
        "                    total_images+=1\n",
        "                    \n",
        "                    predicted_label = str(predicted_label)\n",
        "\n",
        "                    if correct_label in predicted_label:\n",
        "                        correct_predictions+=1\n",
        "\n",
        "                    accuracy = correct_predictions/total_images\n",
        "                    print(\"Adversarial Sample misclassificati correttamente attuale: {}%\".format((100-(accuracy*100))))\n",
        "            \n",
        "\n",
        "            if total_images != 0:    #Per ogni epsilon impostata salvo in accuracy plot\n",
        "                if len(perturbation) == total_images:\n",
        "                    perturbazione_media = sum(perturbation)/total_images    #Calcolo la media delle perturbazioni applicate su tutte le immagini per una determinata epsilon\n",
        "                    perturbation_for_eps.append(perturbazione_media)\n",
        "                    print(\"----------- Perturbazione media aggiunta a tutte le immagini per eps_Step: {} equivale a {}% ----------------\".format(step,perturbazione_media))\n",
        "\n",
        "                final_accuracy = correct_predictions/total_images\n",
        "                accuracy_for_eps.append(final_accuracy)\n",
        "                print(\"----------- Accuracy sugli adversarial Sample per eps_step: {} equivale a {}% ----------------\".format(step,final_accuracy))\n",
        "\n",
        "            #Per ogni epsilon impostata salvo in accuracy plot\n",
        "        if True:#len(perturbation_for_eps) == len(eps_range):\n",
        "            perturbazione_media_per_max_iter = sum(perturbation_for_eps)/len(eps_step) # Calcolo la perturbazione media dopo aver provato tutte le epsilon,quindi la media delle perturbazioni per eps_range\n",
        "            perturbation_for_max_iter.append(perturbazione_media_per_max_iter)\n",
        "            print(\"----------- Perturbazione media con iterazione {} sugli adversarial Sample: {}\\% ----------------\".format(max_iter[i],perturbation_for_max_iter[i]))\n",
        "            perturbation_for_eps = []\n",
        "        if True:#len(accuracy_for_eps) == len(eps_range):\n",
        "            accuracy_media_per_max_iter = sum(accuracy_for_eps)/len(eps_step) # Calcolo l'accuracy media dopo aver provato tutte le epsilon,quindi la media dell'accuracy per ogni eps_range\n",
        "            accuracy_for_max_iter.append(accuracy_media_per_max_iter)\n",
        "            print(\"----------- Accuracy media con iterazione {} sugli adversarial Sample: {}\\% ----------------\".format(max_iter[i],accuracy_for_max_iter[i]))\n",
        "            accuracy_for_eps = []\n",
        "        print(\"--------------------------------------------------------------------------------------------------------------------------------------------------------------------\")\n",
        "\n",
        "\n",
        "# correct_predictions = 0\n",
        "# total_images = 0\n",
        "# for filename in os.listdir(dataset_dir):\n",
        "#     if filename.endswith(\".jpg\") or filename.endswith(\".jpeg\"):\n",
        "#         person_path = os.path.join(dataset_dir, filename)\n",
        "#         print(\"Immagine:\", filename)\n",
        "#         test_img = load_image(person_path)\n",
        "#         test_img = test_img.unsqueeze(0)\n",
        "#         test_img = test_img.numpy()\n",
        "#         test_images_adv = attack.generate(test_img)\n",
        "#         model_predictions = model.predict(test_images_adv)\n",
        "#         correct_label = re.sub(r'_\\d+_face_0\\.jpg$', '', filename)\n",
        "#         print(\"Etichetta corretta:\", correct_label)   \n",
        "#         perturbation = np.mean(np.abs((test_images_adv - test_img)))\n",
        "#         predicted_label = LABELS[np.array(model_predictions[0].argmax())]\n",
        "#         print(\"Predetto {} con probabilità {}\".format(predicted_label,model_predictions[0][model_predictions.argmax()]))\n",
        "#         total_images+=1\n",
        "\n",
        "#         if predicted_label == correct_label:\n",
        "#             correct_predictions+=1\n",
        "\n",
        "#         accuracy = correct_predictions/total_images\n",
        "#         print(\"Accuracy sugli adversarial Sample: {}%\".format((100-(accuracy*100))))\n",
        "        \n",
        "\n",
        "# if total_images != 0:\n",
        "#     final_accuracy = correct_predictions/total_images\n",
        "#     print(\"----------- Accuracy FINALE sugli adversarial Sample: {}\\% ----------------\".format(final_accuracy))"
      ]
    },
    {
      "cell_type": "markdown",
      "metadata": {
        "id": "hLASDM-AKYol"
      },
      "source": [
        "**TARGETED ATTACK**\n"
      ]
    },
    {
      "cell_type": "code",
      "execution_count": null,
      "metadata": {},
      "outputs": [],
      "source": [
        "binary_search_steps = 1\n",
        "confidence = 0.5\n",
        "max_iter = 10\n",
        "learning_rate = 0.01\n",
        "initial_const = 1000\n",
        "target_class = 6\n",
        "\n",
        "attack = CarliniL2Method(classifier=classifier, binary_search_steps=binary_search_steps, confidence=confidence, max_iter=max_iter, learning_rate=learning_rate, initial_const=initial_const, targeted=True)\n"
      ]
    },
    {
      "cell_type": "code",
      "execution_count": null,
      "metadata": {
        "id": "IVZYhMyVKeVr"
      },
      "outputs": [],
      "source": [
        "# Carlini Wagner specific attack on single sample\n",
        "\n",
        "\n",
        "# Trasformazione del dato categorico\n",
        "targeted_labels = target_class*np.ones(LABELS.size)\n",
        "one_hot_targeted_labels = tf.keras.utils.to_categorical(targeted_labels, num_classes = 8631)\n",
        "test_images_adv = attack.generate(test_img, one_hot_targeted_labels)\n",
        "\n",
        "model_predictions = model.predict(test_images_adv)\n",
        "perturbation = np.mean(np.abs((test_images_adv - test_img)))\n",
        "print('Average perturbation: {:4.2f}'.format(perturbation))\n",
        "#targeted_attack_loss, targeted_attack_accuracy = model.evaluate(test_images_adv, targeted_labels)\n",
        "#print('Targeted attack accuracy: {:4.2f}'.format(targeted_attack_accuracy))\n",
        "print(LABELS[target_class])\n",
        "print(model_predictions)\n",
        "predicted_label = LABELS[np.array(model_predictions.argmax())]\n",
        "print(\"{} con probabilità {}\".format(predicted_label,model_predictions[0][model_predictions.argmax()]))"
      ]
    },
    {
      "cell_type": "code",
      "execution_count": null,
      "metadata": {},
      "outputs": [],
      "source": [
        "# Carlini Wagner specific attack on all samples\n",
        "\n",
        "\n",
        "correct_predictions = 0\n",
        "total_images = 0\n",
        "target_class = 10\n",
        "\n",
        "targeted_labels = target_class*np.ones(LABELS.size)\n",
        "one_hot_targeted_labels = tf.keras.utils.to_categorical(targeted_labels, num_classes = 8631)\n",
        "test_images_adv = attack.generate(test_img, one_hot_targeted_labels)\n",
        "\n",
        "for filename in os.listdir(dataset_dir):\n",
        "    if filename.endswith(\".jpg\") or filename.endswith(\".jpeg\"):\n",
        "        person_path = os.path.join(dataset_dir, filename)\n",
        "        print(\"Immagine:\", filename)\n",
        "        test_img = load_image(person_path)\n",
        "        test_img = test_img.unsqueeze(0)\n",
        "        test_img = test_img.numpy()\n",
        "        test_images_adv = attack.generate(test_img, one_hot_targeted_labels)\n",
        "        model_predictions = model.predict(test_images_adv)\n",
        "        correct_label = re.sub(r'_\\d+_face_0\\.jpg$', '', filename)\n",
        "        print(\"Etichetta corretta:\", correct_label)   \n",
        "        perturbation = np.mean(np.abs((test_images_adv - test_img)))\n",
        "        print('Average perturbation: {:4.2f}'.format(perturbation))\n",
        "        predicted_label = LABELS[np.array(model_predictions[0].argmax())]\n",
        "        print(\"Predetto {} con probabilità {}\".format(predicted_label,model_predictions[0][model_predictions.argmax()]))\n",
        "        \n",
        "        total_images+=1\n",
        "\n",
        "        if predicted_label == correct_label:\n",
        "            correct_predictions+=1\n",
        "\n",
        "        accuracy = correct_predictions/total_images\n",
        "        print(\"Accuracy sugli adversarial Sample: {}%\".format((100-(accuracy*100))))\n",
        "        \n",
        "\n",
        "if total_images != 0:\n",
        "    final_accuracy = correct_predictions/total_images\n",
        "    print(\"----------- Accuracy FINALE sugli adversarial Sample: {}\\% ----------------\".format(final_accuracy))"
      ]
    },
    {
      "cell_type": "markdown",
      "metadata": {
        "id": "Md2LFzBFKdr7"
      },
      "source": []
    },
    {
      "cell_type": "markdown",
      "metadata": {
        "id": "KjoKBgEzKiT3"
      },
      "source": [
        "# CODICE PLOT IMMAGINI"
      ]
    },
    {
      "cell_type": "code",
      "execution_count": null,
      "metadata": {
        "id": "6pBWFWD9Kk8e"
      },
      "outputs": [],
      "source": [
        "#Show one original example\n",
        "plt.figure()\n",
        "plt.matshow(test_images[0])\n",
        "plt.title(\"Original Label: {}\".format(test_labels[0]))\n",
        "plt.show()\n",
        "\n",
        "#Show the corresponding adversarial example\n",
        "plt.figure()\n",
        "plt.matshow(test_images_adv[0])\n",
        "plt.title(\"Model Prediction: {}\".format(np.argmax(model_predictions[0])))\n",
        "plt.show()"
      ]
    }
  ],
  "metadata": {
    "accelerator": "GPU",
    "colab": {
      "gpuType": "T4",
      "provenance": []
    },
    "kernelspec": {
      "display_name": "Python 3",
      "name": "python3"
    },
    "language_info": {
      "codemirror_mode": {
        "name": "ipython",
        "version": 3
      },
      "file_extension": ".py",
      "mimetype": "text/x-python",
      "name": "python",
      "nbconvert_exporter": "python",
      "pygments_lexer": "ipython3",
      "version": "3.7.12"
    },
    "widgets": {
      "application/vnd.jupyter.widget-state+json": {
        "1b5074f2cdae47e48054916c00395960": {
          "model_module": "@jupyter-widgets/controls",
          "model_module_version": "1.5.0",
          "model_name": "DescriptionStyleModel",
          "state": {
            "_model_module": "@jupyter-widgets/controls",
            "_model_module_version": "1.5.0",
            "_model_name": "DescriptionStyleModel",
            "_view_count": null,
            "_view_module": "@jupyter-widgets/base",
            "_view_module_version": "1.2.0",
            "_view_name": "StyleView",
            "description_width": ""
          }
        },
        "24f78c2c7dc542778022cac4cde42a9e": {
          "model_module": "@jupyter-widgets/base",
          "model_module_version": "1.2.0",
          "model_name": "LayoutModel",
          "state": {
            "_model_module": "@jupyter-widgets/base",
            "_model_module_version": "1.2.0",
            "_model_name": "LayoutModel",
            "_view_count": null,
            "_view_module": "@jupyter-widgets/base",
            "_view_module_version": "1.2.0",
            "_view_name": "LayoutView",
            "align_content": null,
            "align_items": null,
            "align_self": null,
            "border": null,
            "bottom": null,
            "display": null,
            "flex": null,
            "flex_flow": null,
            "grid_area": null,
            "grid_auto_columns": null,
            "grid_auto_flow": null,
            "grid_auto_rows": null,
            "grid_column": null,
            "grid_gap": null,
            "grid_row": null,
            "grid_template_areas": null,
            "grid_template_columns": null,
            "grid_template_rows": null,
            "height": null,
            "justify_content": null,
            "justify_items": null,
            "left": null,
            "margin": null,
            "max_height": null,
            "max_width": null,
            "min_height": null,
            "min_width": null,
            "object_fit": null,
            "object_position": null,
            "order": null,
            "overflow": null,
            "overflow_x": null,
            "overflow_y": null,
            "padding": null,
            "right": null,
            "top": null,
            "visibility": null,
            "width": null
          }
        },
        "2622eee74356474db8227019f2e2372f": {
          "model_module": "@jupyter-widgets/base",
          "model_module_version": "1.2.0",
          "model_name": "LayoutModel",
          "state": {
            "_model_module": "@jupyter-widgets/base",
            "_model_module_version": "1.2.0",
            "_model_name": "LayoutModel",
            "_view_count": null,
            "_view_module": "@jupyter-widgets/base",
            "_view_module_version": "1.2.0",
            "_view_name": "LayoutView",
            "align_content": null,
            "align_items": null,
            "align_self": null,
            "border": null,
            "bottom": null,
            "display": null,
            "flex": null,
            "flex_flow": null,
            "grid_area": null,
            "grid_auto_columns": null,
            "grid_auto_flow": null,
            "grid_auto_rows": null,
            "grid_column": null,
            "grid_gap": null,
            "grid_row": null,
            "grid_template_areas": null,
            "grid_template_columns": null,
            "grid_template_rows": null,
            "height": null,
            "justify_content": null,
            "justify_items": null,
            "left": null,
            "margin": null,
            "max_height": null,
            "max_width": null,
            "min_height": null,
            "min_width": null,
            "object_fit": null,
            "object_position": null,
            "order": null,
            "overflow": null,
            "overflow_x": null,
            "overflow_y": null,
            "padding": null,
            "right": null,
            "top": null,
            "visibility": null,
            "width": null
          }
        },
        "2e84c181de7140f59bd0730b64becb5a": {
          "model_module": "@jupyter-widgets/controls",
          "model_module_version": "1.5.0",
          "model_name": "HBoxModel",
          "state": {
            "_dom_classes": [],
            "_model_module": "@jupyter-widgets/controls",
            "_model_module_version": "1.5.0",
            "_model_name": "HBoxModel",
            "_view_count": null,
            "_view_module": "@jupyter-widgets/controls",
            "_view_module_version": "1.5.0",
            "_view_name": "HBoxView",
            "box_style": "",
            "children": [
              "IPY_MODEL_785554c18f4a4db5ae2f91feae8e730f",
              "IPY_MODEL_ca18afa898cc48fa9504321adc1a52cc",
              "IPY_MODEL_8c31d67f7e5f44e595e3f8317f983712"
            ],
            "layout": "IPY_MODEL_494ccdc8390245168c20038628de8f3e"
          }
        },
        "494ccdc8390245168c20038628de8f3e": {
          "model_module": "@jupyter-widgets/base",
          "model_module_version": "1.2.0",
          "model_name": "LayoutModel",
          "state": {
            "_model_module": "@jupyter-widgets/base",
            "_model_module_version": "1.2.0",
            "_model_name": "LayoutModel",
            "_view_count": null,
            "_view_module": "@jupyter-widgets/base",
            "_view_module_version": "1.2.0",
            "_view_name": "LayoutView",
            "align_content": null,
            "align_items": null,
            "align_self": null,
            "border": null,
            "bottom": null,
            "display": null,
            "flex": null,
            "flex_flow": null,
            "grid_area": null,
            "grid_auto_columns": null,
            "grid_auto_flow": null,
            "grid_auto_rows": null,
            "grid_column": null,
            "grid_gap": null,
            "grid_row": null,
            "grid_template_areas": null,
            "grid_template_columns": null,
            "grid_template_rows": null,
            "height": null,
            "justify_content": null,
            "justify_items": null,
            "left": null,
            "margin": null,
            "max_height": null,
            "max_width": null,
            "min_height": null,
            "min_width": null,
            "object_fit": null,
            "object_position": null,
            "order": null,
            "overflow": null,
            "overflow_x": null,
            "overflow_y": null,
            "padding": null,
            "right": null,
            "top": null,
            "visibility": null,
            "width": null
          }
        },
        "69dd02bb29604f7fbfb82d32168f3aca": {
          "model_module": "@jupyter-widgets/controls",
          "model_module_version": "1.5.0",
          "model_name": "ProgressStyleModel",
          "state": {
            "_model_module": "@jupyter-widgets/controls",
            "_model_module_version": "1.5.0",
            "_model_name": "ProgressStyleModel",
            "_view_count": null,
            "_view_module": "@jupyter-widgets/base",
            "_view_module_version": "1.2.0",
            "_view_name": "StyleView",
            "bar_color": null,
            "description_width": ""
          }
        },
        "785554c18f4a4db5ae2f91feae8e730f": {
          "model_module": "@jupyter-widgets/controls",
          "model_module_version": "1.5.0",
          "model_name": "HTMLModel",
          "state": {
            "_dom_classes": [],
            "_model_module": "@jupyter-widgets/controls",
            "_model_module_version": "1.5.0",
            "_model_name": "HTMLModel",
            "_view_count": null,
            "_view_module": "@jupyter-widgets/controls",
            "_view_module_version": "1.5.0",
            "_view_name": "HTMLView",
            "description": "",
            "description_tooltip": null,
            "layout": "IPY_MODEL_24f78c2c7dc542778022cac4cde42a9e",
            "placeholder": "​",
            "style": "IPY_MODEL_bc910750b37a48d0bbf7fa55a0a369fc",
            "value": "100%"
          }
        },
        "85caef33330243728789276dfd0189e2": {
          "model_module": "@jupyter-widgets/base",
          "model_module_version": "1.2.0",
          "model_name": "LayoutModel",
          "state": {
            "_model_module": "@jupyter-widgets/base",
            "_model_module_version": "1.2.0",
            "_model_name": "LayoutModel",
            "_view_count": null,
            "_view_module": "@jupyter-widgets/base",
            "_view_module_version": "1.2.0",
            "_view_name": "LayoutView",
            "align_content": null,
            "align_items": null,
            "align_self": null,
            "border": null,
            "bottom": null,
            "display": null,
            "flex": null,
            "flex_flow": null,
            "grid_area": null,
            "grid_auto_columns": null,
            "grid_auto_flow": null,
            "grid_auto_rows": null,
            "grid_column": null,
            "grid_gap": null,
            "grid_row": null,
            "grid_template_areas": null,
            "grid_template_columns": null,
            "grid_template_rows": null,
            "height": null,
            "justify_content": null,
            "justify_items": null,
            "left": null,
            "margin": null,
            "max_height": null,
            "max_width": null,
            "min_height": null,
            "min_width": null,
            "object_fit": null,
            "object_position": null,
            "order": null,
            "overflow": null,
            "overflow_x": null,
            "overflow_y": null,
            "padding": null,
            "right": null,
            "top": null,
            "visibility": null,
            "width": null
          }
        },
        "8c31d67f7e5f44e595e3f8317f983712": {
          "model_module": "@jupyter-widgets/controls",
          "model_module_version": "1.5.0",
          "model_name": "HTMLModel",
          "state": {
            "_dom_classes": [],
            "_model_module": "@jupyter-widgets/controls",
            "_model_module_version": "1.5.0",
            "_model_name": "HTMLModel",
            "_view_count": null,
            "_view_module": "@jupyter-widgets/controls",
            "_view_module_version": "1.5.0",
            "_view_name": "HTMLView",
            "description": "",
            "description_tooltip": null,
            "layout": "IPY_MODEL_2622eee74356474db8227019f2e2372f",
            "placeholder": "​",
            "style": "IPY_MODEL_1b5074f2cdae47e48054916c00395960",
            "value": " 107M/107M [00:00&lt;00:00, 232MB/s]"
          }
        },
        "bc910750b37a48d0bbf7fa55a0a369fc": {
          "model_module": "@jupyter-widgets/controls",
          "model_module_version": "1.5.0",
          "model_name": "DescriptionStyleModel",
          "state": {
            "_model_module": "@jupyter-widgets/controls",
            "_model_module_version": "1.5.0",
            "_model_name": "DescriptionStyleModel",
            "_view_count": null,
            "_view_module": "@jupyter-widgets/base",
            "_view_module_version": "1.2.0",
            "_view_name": "StyleView",
            "description_width": ""
          }
        },
        "ca18afa898cc48fa9504321adc1a52cc": {
          "model_module": "@jupyter-widgets/controls",
          "model_module_version": "1.5.0",
          "model_name": "FloatProgressModel",
          "state": {
            "_dom_classes": [],
            "_model_module": "@jupyter-widgets/controls",
            "_model_module_version": "1.5.0",
            "_model_name": "FloatProgressModel",
            "_view_count": null,
            "_view_module": "@jupyter-widgets/controls",
            "_view_module_version": "1.5.0",
            "_view_name": "ProgressView",
            "bar_style": "success",
            "description": "",
            "description_tooltip": null,
            "layout": "IPY_MODEL_85caef33330243728789276dfd0189e2",
            "max": 111898327,
            "min": 0,
            "orientation": "horizontal",
            "style": "IPY_MODEL_69dd02bb29604f7fbfb82d32168f3aca",
            "value": 111898327
          }
        }
      }
    }
  },
  "nbformat": 4,
  "nbformat_minor": 0
}
