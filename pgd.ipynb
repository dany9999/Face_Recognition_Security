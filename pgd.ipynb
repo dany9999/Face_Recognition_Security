{
 "cells": [
  {
   "cell_type": "markdown",
   "metadata": {},
   "source": [
    "# PDG ATTACK "
   ]
  },
  {
   "cell_type": "markdown",
   "metadata": {},
   "source": [
    "### *Import*"
   ]
  },
  {
   "cell_type": "code",
   "execution_count": 1,
   "metadata": {},
   "outputs": [
    {
     "name": "stderr",
     "output_type": "stream",
     "text": [
      "c:\\Users\\cassd\\miniconda3\\envs\\ai4cyber\\lib\\site-packages\\tqdm\\auto.py:21: TqdmWarning: IProgress not found. Please update jupyter and ipywidgets. See https://ipywidgets.readthedocs.io/en/stable/user_install.html\n",
      "  from .autonotebook import tqdm as notebook_tqdm\n"
     ]
    },
    {
     "name": "stdout",
     "output_type": "stream",
     "text": [
      "cuda\n"
     ]
    }
   ],
   "source": [
    "import numpy as np\n",
    "import torch\n",
    "from torch.nn import CrossEntropyLoss\n",
    "from PIL import Image\n",
    "from torchvision import transforms\n",
    "from art.attacks.evasion import ProjectedGradientDescentPyTorch\n",
    "from art.estimators.classification import PyTorchClassifier\n",
    "import matplotlib.pyplot as plt\n",
    "import tensorflow as tf\n",
    "\n",
    "device = torch.device('cuda' if torch.cuda.is_available() else 'cpu')\n",
    "print(device)"
   ]
  },
  {
   "cell_type": "markdown",
   "metadata": {},
   "source": [
    "### initialization\n"
   ]
  },
  {
   "cell_type": "code",
   "execution_count": 2,
   "metadata": {},
   "outputs": [
    {
     "name": "stdout",
     "output_type": "stream",
     "text": [
      "Import Inception.Inception\n"
     ]
    }
   ],
   "source": [
    "if str(device) in 'cuda':\n",
    "    print(\"Import Inception.Inception\")\n",
    "    import inception\n",
    "    resnet = inception.InceptionResnetV1(pretrained='vggface2').eval()\n",
    "elif str(device) == \"cpu\":\n",
    "    print(\"Import Facenet.Inception\")\n",
    "    from facenet_pytorch import InceptionResnetV1\n",
    "    resnet = InceptionResnetV1(pretrained='vggface2').eval()"
   ]
  },
  {
   "cell_type": "code",
   "execution_count": 3,
   "metadata": {},
   "outputs": [],
   "source": [
    "from utils import get_labels\n",
    "\n",
    "\n",
    "resnet.classify = True\n",
    "resnet.to(device)\n",
    "LABELS = get_labels()"
   ]
  },
  {
   "cell_type": "code",
   "execution_count": 4,
   "metadata": {},
   "outputs": [],
   "source": [
    "\n",
    "from torch.nn import CrossEntropyLoss\n",
    "from art.estimators.classification import PyTorchClassifier\n",
    "from art.attacks.evasion import ProjectedGradientDescentPyTorch\n",
    "\n",
    "\n",
    "#Impostare l'input shape\n",
    "model = PyTorchClassifier(resnet,input_shape=[224,224], loss=CrossEntropyLoss(),nb_classes=8631, device_type=device) #This class implements a classifier with the PyTorch framework.\n"
   ]
  },
  {
   "cell_type": "markdown",
   "metadata": {},
   "source": [
    "### Untargeted Attack on all test set"
   ]
  },
  {
   "cell_type": "code",
   "execution_count": null,
   "metadata": {},
   "outputs": [],
   "source": [
    "# PGD generic Attack for all samples\n",
    "import os\n",
    "import re\n",
    "from utils import load_image_NN1\n",
    "\n",
    "dataset_dir = \"test_set_cropped_piccolo/\" \n",
    "eps_step = [2e-05, 5e-05, 7e-05, 2e-03, 5e-03, 7e-03, 2e-02, 5e-02, 7e-02, 1e-01] #La dimensione del passo della variazione dell'input a ogni iterazione. Questo parametro definisce quanto grande sarà ogni passo nella direzione del gradiente. #La dimensione del passo della variazione dell'input per il calcolo della perturbazione minima. Questo parametro è utilizzato quando minimal è impostato su True.\n",
    "max_iter = [2,5,7]  # Il numero massimo di iterazioni. Questo parametro determina quante volte l'attacco iterativo sarà eseguito.\n",
    " \n",
    "eps_range = 0.1 #Questo valore determina l'ampiezza massima della perturbazione aggiunta agli input originali. Può essere un valore singolo (int o float) o un array numpy (ndarray).\n",
    "\n",
    "accuracy_for_eps = np.zeros((len(max_iter),len(eps_step)))\n",
    "\n",
    "perturbation_for_eps = np.zeros((len(max_iter),len(eps_step)))\n",
    "\n",
    "correct_predictions = 0\n",
    "total_images = 0\n",
    "print(\"Inizio Attacco PGD NON-TARGETED\")\n",
    "for i in range(len(max_iter)):\n",
    "        print(\"**** Attacco con max_iter {} **** \".format(max_iter[i]))\n",
    "        for j in range(len(eps_step)):   #Se qualcosa funziona strano controllare questo zip\n",
    "            correct_predictions = 0\n",
    "            total_images = 0\n",
    "            perturbation = []\n",
    "            \n",
    "            attack = ProjectedGradientDescentPyTorch(estimator=model, eps = eps_range, eps_step=eps_step[j], targeted=False, max_iter = max_iter[i])\n",
    "            \n",
    "            print(\"**** Attacco con eps:{} con step a {} ****\".format(eps_range,eps_step[j]))\n",
    "            for filename in os.listdir(dataset_dir):\n",
    "                if filename.endswith(\".jpg\") or filename.endswith(\".jpeg\"):\n",
    "                    person_path = os.path.join(dataset_dir, filename)\n",
    "                    test_img = load_image_NN1(person_path)\n",
    "                    test_img = test_img.numpy()\n",
    "                    test_images_adv = attack.generate(test_img)\n",
    "                    model_predictions = model.predict(test_images_adv)\n",
    "                    correct_label = re.sub(r'_\\d+_face_0\\.jpg$', '', filename)\n",
    "                    print(\"Etichetta corretta:\", correct_label)   \n",
    "                    perturbation.append(np.mean(np.abs((test_images_adv - test_img))))  #Salvo le perturbazioni applicate su ogni immagine\n",
    "                    predicted_label = LABELS[np.array(model_predictions[0].argmax())]\n",
    "                    print(\"Predetto {} con probabilità {} e con perturbazione {}\".format(predicted_label,model_predictions[0][model_predictions.argmax()],perturbation[-1]))\n",
    "                    total_images+=1\n",
    "                    \n",
    "                    predicted_label = str(predicted_label)\n",
    "\n",
    "                    if correct_label in predicted_label:\n",
    "                        correct_predictions+=1\n",
    "\n",
    "                    accuracy = correct_predictions/total_images\n",
    "                    print(\"Adversarial Sample misclassificati correttamente attuale: {}%\".format((100-(accuracy*100))))\n",
    "            \n",
    "\n",
    "            if total_images != 0:    #Per ogni epsilon impostata salvo in accuracy plot\n",
    "                if len(perturbation) == total_images:\n",
    "                    perturbazione_media = sum(perturbation)/total_images    #Calcolo la media delle perturbazioni applicate su tutte le immagini per una determinata epsilon\n",
    "                    perturbation_for_eps[i][j] = perturbazione_media\n",
    "                    print(\"----------- Perturbazione media aggiunta a tutte le immagini per eps_Step: {} equivale a {}% ----------------\".format(eps_step[j],perturbazione_media))\n",
    "\n",
    "                final_accuracy = correct_predictions/total_images\n",
    "                accuracy_for_eps[i][j] = final_accuracy\n",
    "                print(\"----------- Accuracy sugli adversarial Sample per eps_step: {} equivale a {}% ----------------\".format(eps_step[j],final_accuracy))\n",
    "                print(\"\")\n",
    "            #Per ogni epsilon impostata salvo in accuracy plot\n",
    "        print(\"--------------------------------------------------------------------------------------------------------------------------------------------------------------------\")\n",
    "        print()\n",
    "# correct_predictions = 0\n",
    "# total_images = 0\n",
    "# for filename in os.listdir(dataset_dir):\n",
    "#     if filename.endswith(\".jpg\") or filename.endswith(\".jpeg\"):\n",
    "#         person_path = os.path.join(dataset_dir, filename)\n",
    "#         print(\"Immagine:\", filename)\n",
    "#         test_img = load_image(person_path)\n",
    "#         test_img = test_img.unsqueeze(0)\n",
    "#         test_img = test_img.numpy()\n",
    "#         test_images_adv = attack.generate(test_img)\n",
    "#         model_predictions = model.predict(test_images_adv)\n",
    "#         correct_label = re.sub(r'_\\d+_face_0\\.jpg$', '', filename)\n",
    "#         print(\"Etichetta corretta:\", correct_label)   \n",
    "#         perturbation = np.mean(np.abs((test_images_adv - test_img)))\n",
    "#         predicted_label = LABELS[np.array(model_predictions[0].argmax())]\n",
    "#         print(\"Predetto {} con probabilità {}\".format(predicted_label,model_predictions[0][model_predictions.argmax()]))\n",
    "#         total_images+=1\n",
    "\n",
    "#         if predicted_label == correct_label:\n",
    "#             correct_predictions+=1\n",
    "\n",
    "#         accuracy = correct_predictions/total_images\n",
    "#         print(\"Accuracy sugli adversarial Sample: {}%\".format((100-(accuracy*100))))\n",
    "        \n",
    "\n",
    "# if total_images != 0:\n",
    "#     final_accuracy = correct_predictions/total_images\n",
    "#     print(\"----------- Accuracy FINALE sugli adversarial Sample: {}\\% ----------------\".format(final_accuracy))"
   ]
  },
  {
   "cell_type": "code",
   "execution_count": null,
   "metadata": {},
   "outputs": [],
   "source": [
    "from matplotlib import pyplot as plt\n",
    "\n",
    "# plot accuracy/Attack strength\n",
    "\n",
    "fig, ax = plt.subplots()\n",
    "ax.plot(np.array(eps_range), np.array(accuracy_for_eps), 'b--', label='NN1')\n",
    "\n",
    "legend = ax.legend(loc='upper center', shadow=True, fontsize='large')\n",
    "legend.get_frame().set_facecolor('#00FFCC')\n",
    "\n",
    "plt.xlabel('Attack strength (eps)')\n",
    "plt.ylabel('Accuracy')\n",
    "plt.show()"
   ]
  },
  {
   "cell_type": "code",
   "execution_count": null,
   "metadata": {},
   "outputs": [],
   "source": [
    "fig, ax = plt.subplots()\n",
    "ax.plot(np.array(eps_range), np.array(perturbation_for_eps), 'b--', label='NN1')\n",
    "\n",
    "legend = ax.legend(loc='upper center', shadow=True, fontsize='large')\n",
    "legend.get_frame().set_facecolor('#00FFCC')\n",
    "\n",
    "plt.xlabel('Attack strength (eps)')\n",
    "plt.ylabel('mean perturbation')\n",
    "plt.show()"
   ]
  },
  {
   "cell_type": "markdown",
   "metadata": {},
   "source": [
    "### Single sample Untargeted attack"
   ]
  },
  {
   "cell_type": "code",
   "execution_count": null,
   "metadata": {},
   "outputs": [],
   "source": [
    "epsilon = 1\n",
    "eps_step = 0.005\n",
    "max_iter = 5 \n",
    "\n",
    "attack = ProjectedGradientDescentPyTorch(estimator=model, eps = epsilon, eps_step= eps_step, targeted=True, max_iter = max_iter)"
   ]
  },
  {
   "cell_type": "code",
   "execution_count": null,
   "metadata": {},
   "outputs": [],
   "source": [
    "from utils import load_image_NN1\n",
    "import os\n",
    "import numpy as np\n",
    "\n",
    "target_class = 10\n",
    "\n",
    "dataset_dir = \"test_set_cropped/\"\n",
    "filename = \"Brad_Pitt_8_face_0.jpg\"\n",
    "person_path = os.path.join(dataset_dir, filename)\n",
    "\n",
    "test_img = load_image_NN1(person_path)\n",
    "\n",
    "target_class = 10\n",
    "etichetta_target = LABELS[0]\n",
    "print(\"ETICHETTA TARGET: \", LABELS[10])\n",
    "\n",
    "batch_size = test_img.shape[0]\n",
    "print(test_img.shape[0])\n",
    "targeted_labels = np.array([target_class] * batch_size)\n",
    "one_hot_targeted_labels = tf.keras.utils.to_categorical(targeted_labels, num_classes=8631)\n",
    "\n",
    "\n",
    "\n",
    "test_img_numpy = test_img.numpy()\n",
    "test_images_adv = attack.generate(test_img_numpy, one_hot_targeted_labels)\n",
    "model_predictions = model.predict(test_images_adv)\n",
    "\n",
    "\n",
    "\n",
    "model_predictions = model.predict(test_images_adv)\n",
    "perturbation = np.mean(np.abs((test_images_adv - test_img_numpy)))\n",
    "print('Average perturbation: {:4.2f}'.format(perturbation))\n",
    "#targeted_attack_loss, targeted_attack_accuracy = model.evaluate(test_images_adv, targeted_labels)\n",
    "#print('Targeted attack accuracy: {:4.2f}'.format(targeted_attack_accuracy))\n",
    "print(\"Etichetta target:{}\".format(LABELS[target_class]))\n",
    "predicted_label = LABELS[np.array(model_predictions.argmax())]\n",
    "print(\"{} con probabilità {}\".format(predicted_label,model_predictions[0][model_predictions.argmax()]))"
   ]
  },
  {
   "cell_type": "code",
   "execution_count": null,
   "metadata": {},
   "outputs": [],
   "source": [
    "# Prepara le immagini per la visualizzazione\n",
    "# Rimuovi la dimensione batch extra e converti nel formato channels-last\n",
    "test_images_adv = np.squeeze(test_images_adv, axis=0)\n",
    "test_images_adv = np.transpose(test_images_adv, (1, 2, 0))\n",
    "\n",
    "# Converti le immagini in uint8 per la visualizzazione\n",
    "if test_img_numpy.dtype != np.uint8:\n",
    "    test_img_numpy = (test_img_numpy * 255).astype(np.uint8)\n",
    "    test_img_numpy = np.squeeze(test_img_numpy, axis=0)  # Rimuovi la dimensione batch extra\n",
    "    test_img_numpy = np.transpose(test_img_numpy, (1, 2, 0))\n",
    "\n",
    "if test_images_adv.dtype != np.uint8:\n",
    "    test_images_adv = (test_images_adv * 255).astype(np.uint8)\n",
    "\n",
    "# Visualizza le immagini affiancate con Matplotlib\n",
    "fig, (ax1, ax2) = plt.subplots(1, 2, figsize=(10, 5))\n",
    "\n",
    "# Mostra l'immagine originale\n",
    "ax1.imshow(test_img_numpy)\n",
    "ax1.set_title('Original Image')\n",
    "ax1.axis('off')\n",
    "\n",
    "# Mostra l'immagine avversaria\n",
    "ax2.imshow(test_images_adv)\n",
    "ax2.set_title(f'Adversarial Image\\nPredicted: {predicted_label}')\n",
    "ax2.axis('off')\n",
    "\n",
    "# Mostra la figura\n",
    "plt.suptitle(\"DeepFool Adversarial Images\")\n",
    "plt.show()\n"
   ]
  },
  {
   "cell_type": "markdown",
   "metadata": {},
   "source": [
    "### Targeted Attack on all test set"
   ]
  },
  {
   "cell_type": "code",
   "execution_count": 6,
   "metadata": {},
   "outputs": [
    {
     "name": "stdout",
     "output_type": "stream",
     "text": [
      "ETICHETTA TARGET:   Aaron_Hernandez\n",
      "Inizio Attacco PGD NON-TARGETED\n",
      "**** Attacco con max_iter 2 **** \n",
      "**** Attacco con eps:0.1 con step a 2e-05 ****\n"
     ]
    },
    {
     "name": "stderr",
     "output_type": "stream",
     "text": [
      "                                                            \r"
     ]
    },
    {
     "name": "stdout",
     "output_type": "stream",
     "text": [
      "Etichetta corretta: Andrea_Pirlo\n",
      "Predetto  Andrea_Pirlo con probabilità 12.70524787902832 e con perturbazione 3.815378659055568e-05\n",
      "Adversarial Sample misclassificati correttamente attualmente: 0.0%\n",
      "Accuracy attuale: 100.0%\n",
      "\n"
     ]
    },
    {
     "name": "stderr",
     "output_type": "stream",
     "text": [
      "                                                            \r"
     ]
    },
    {
     "name": "stdout",
     "output_type": "stream",
     "text": [
      "Etichetta corretta: Antonio_Cassano\n",
      "Predetto  Branch_Warren con probabilità 10.500913619995117 e con perturbazione 3.808758992818184e-05\n",
      "Adversarial Sample misclassificati correttamente attualmente: 0.0%\n",
      "Accuracy attuale: 50.0%\n",
      "\n"
     ]
    },
    {
     "name": "stderr",
     "output_type": "stream",
     "text": [
      "                                                            \r"
     ]
    },
    {
     "name": "stdout",
     "output_type": "stream",
     "text": [
      "Etichetta corretta: Ariana_Grande\n",
      "Predetto  Ariana_Grande con probabilità 11.141061782836914 e con perturbazione 3.7927784433122724e-05\n",
      "Adversarial Sample misclassificati correttamente attualmente: 0.0%\n",
      "Accuracy attuale: 66.66666666666666%\n",
      "\n"
     ]
    },
    {
     "name": "stderr",
     "output_type": "stream",
     "text": [
      "                                                            \r"
     ]
    },
    {
     "name": "stdout",
     "output_type": "stream",
     "text": [
      "Etichetta corretta: Ashley_Scott\n",
      "Predetto  Ashley_Scott con probabilità 13.847076416015625 e con perturbazione 3.818137338384986e-05\n",
      "Adversarial Sample misclassificati correttamente attualmente: 0.0%\n",
      "Accuracy attuale: 75.0%\n",
      "\n"
     ]
    },
    {
     "name": "stderr",
     "output_type": "stream",
     "text": [
      "                                                            \r"
     ]
    },
    {
     "name": "stdout",
     "output_type": "stream",
     "text": [
      "Etichetta corretta: Boris_Johnson\n",
      "Predetto  Boris_Johnson con probabilità 13.299497604370117 e con perturbazione 3.79367484129034e-05\n",
      "Adversarial Sample misclassificati correttamente attualmente: 0.0%\n",
      "Accuracy attuale: 80.0%\n",
      "\n"
     ]
    },
    {
     "name": "stderr",
     "output_type": "stream",
     "text": [
      "                                                            \r"
     ]
    },
    {
     "name": "stdout",
     "output_type": "stream",
     "text": [
      "Etichetta corretta: Brad_Pitt\n",
      "Predetto  Brad_Pitt con probabilità 13.17966079711914 e con perturbazione 3.815024683717638e-05\n",
      "Adversarial Sample misclassificati correttamente attualmente: 0.0%\n",
      "Accuracy attuale: 83.33333333333334%\n",
      "\n"
     ]
    },
    {
     "name": "stderr",
     "output_type": "stream",
     "text": [
      "                                                            \r"
     ]
    },
    {
     "name": "stdout",
     "output_type": "stream",
     "text": [
      "Etichetta corretta: Christian_De_Sica\n",
      "Predetto  Christian_De_Sica con probabilità 13.727594375610352 e con perturbazione 3.8000962376827374e-05\n",
      "Adversarial Sample misclassificati correttamente attualmente: 0.0%\n",
      "Accuracy attuale: 85.71428571428571%\n",
      "\n"
     ]
    },
    {
     "name": "stderr",
     "output_type": "stream",
     "text": [
      "                                                            \r"
     ]
    },
    {
     "name": "stdout",
     "output_type": "stream",
     "text": [
      "Etichetta corretta: Christopher_Nolan\n",
      "Predetto  Christopher_Nolan con probabilità 12.050915718078613 e con perturbazione 3.7810525100212544e-05\n",
      "Adversarial Sample misclassificati correttamente attualmente: 0.0%\n",
      "Accuracy attuale: 87.5%\n",
      "\n"
     ]
    },
    {
     "name": "stderr",
     "output_type": "stream",
     "text": [
      "                                                            \r"
     ]
    },
    {
     "name": "stdout",
     "output_type": "stream",
     "text": [
      "Etichetta corretta: Cristiano_Ronaldo\n",
      "Predetto  Cristiano_Ronaldo con probabilità 12.932771682739258 e con perturbazione 3.7942667404422536e-05\n",
      "Adversarial Sample misclassificati correttamente attualmente: 0.0%\n",
      "Accuracy attuale: 88.88888888888889%\n",
      "\n"
     ]
    },
    {
     "name": "stderr",
     "output_type": "stream",
     "text": [
      "                                                            \r"
     ]
    },
    {
     "name": "stdout",
     "output_type": "stream",
     "text": [
      "Etichetta corretta: Diego_Maradona\n",
      "Predetto  Diego_Maradona con probabilità 12.546086311340332 e con perturbazione 3.705601193360053e-05\n",
      "Adversarial Sample misclassificati correttamente attualmente: 0.0%\n",
      "Accuracy attuale: 90.0%\n",
      "\n",
      "----------- Perturbazione media aggiunta a tutte le immagini per eps_Step: 2e-05 equivale a 3.792476964008529e-05% ----------------\n",
      "----------- Accuracy sugli adversarial Sample per eps_step: 2e-05 equivale a 0.9% ----------------\n",
      "----------- Adversarial Sample misclassificati correttamente: 0.0% -----------\n",
      "\n",
      "**** Attacco con eps:0.1 con step a 5e-05 ****\n"
     ]
    },
    {
     "name": "stderr",
     "output_type": "stream",
     "text": [
      "                                                            \r"
     ]
    },
    {
     "name": "stdout",
     "output_type": "stream",
     "text": [
      "Etichetta corretta: Andrea_Pirlo\n",
      "Predetto  Andrea_Pirlo con probabilità 12.675054550170898 e con perturbazione 9.478660649619997e-05\n",
      "Adversarial Sample misclassificati correttamente attualmente: 0.0%\n",
      "Accuracy attuale: 100.0%\n",
      "\n"
     ]
    },
    {
     "name": "stderr",
     "output_type": "stream",
     "text": [
      "                                                            \r"
     ]
    },
    {
     "name": "stdout",
     "output_type": "stream",
     "text": [
      "Etichetta corretta: Antonio_Cassano\n",
      "Predetto  Branch_Warren con probabilità 10.492435455322266 e con perturbazione 9.431529906578362e-05\n",
      "Adversarial Sample misclassificati correttamente attualmente: 0.0%\n",
      "Accuracy attuale: 50.0%\n",
      "\n"
     ]
    },
    {
     "name": "stderr",
     "output_type": "stream",
     "text": [
      "                                                            \r"
     ]
    },
    {
     "name": "stdout",
     "output_type": "stream",
     "text": [
      "Etichetta corretta: Ariana_Grande\n",
      "Predetto  Ariana_Grande con probabilità 11.093883514404297 e con perturbazione 9.376949310535565e-05\n",
      "Adversarial Sample misclassificati correttamente attualmente: 0.0%\n",
      "Accuracy attuale: 66.66666666666666%\n",
      "\n"
     ]
    },
    {
     "name": "stderr",
     "output_type": "stream",
     "text": [
      "                                                            \r"
     ]
    },
    {
     "name": "stdout",
     "output_type": "stream",
     "text": [
      "Etichetta corretta: Ashley_Scott\n",
      "Predetto  Ashley_Scott con probabilità 13.772257804870605 e con perturbazione 9.419312118552625e-05\n",
      "Adversarial Sample misclassificati correttamente attualmente: 0.0%\n",
      "Accuracy attuale: 75.0%\n",
      "\n"
     ]
    },
    {
     "name": "stderr",
     "output_type": "stream",
     "text": [
      "                                                            \r"
     ]
    },
    {
     "name": "stdout",
     "output_type": "stream",
     "text": [
      "Etichetta corretta: Boris_Johnson\n",
      "Predetto  Boris_Johnson con probabilità 13.262866973876953 e con perturbazione 9.387417958350852e-05\n",
      "Adversarial Sample misclassificati correttamente attualmente: 0.0%\n",
      "Accuracy attuale: 80.0%\n",
      "\n"
     ]
    },
    {
     "name": "stderr",
     "output_type": "stream",
     "text": [
      "                                                            \r"
     ]
    },
    {
     "name": "stdout",
     "output_type": "stream",
     "text": [
      "Etichetta corretta: Brad_Pitt\n",
      "Predetto  Brad_Pitt con probabilità 13.139659881591797 e con perturbazione 9.419995330972597e-05\n",
      "Adversarial Sample misclassificati correttamente attualmente: 0.0%\n",
      "Accuracy attuale: 83.33333333333334%\n",
      "\n"
     ]
    },
    {
     "name": "stderr",
     "output_type": "stream",
     "text": [
      "                                                            \r"
     ]
    },
    {
     "name": "stdout",
     "output_type": "stream",
     "text": [
      "Etichetta corretta: Christian_De_Sica\n",
      "Predetto  Christian_De_Sica con probabilità 13.687962532043457 e con perturbazione 9.380964183947071e-05\n",
      "Adversarial Sample misclassificati correttamente attualmente: 0.0%\n",
      "Accuracy attuale: 85.71428571428571%\n",
      "\n"
     ]
    },
    {
     "name": "stderr",
     "output_type": "stream",
     "text": [
      "                                                            \r"
     ]
    },
    {
     "name": "stdout",
     "output_type": "stream",
     "text": [
      "Etichetta corretta: Christopher_Nolan\n",
      "Predetto  Christopher_Nolan con probabilità 12.016257286071777 e con perturbazione 9.367324673803523e-05\n",
      "Adversarial Sample misclassificati correttamente attualmente: 0.0%\n",
      "Accuracy attuale: 87.5%\n",
      "\n"
     ]
    },
    {
     "name": "stderr",
     "output_type": "stream",
     "text": [
      "                                                            \r"
     ]
    },
    {
     "name": "stdout",
     "output_type": "stream",
     "text": [
      "Etichetta corretta: Cristiano_Ronaldo\n",
      "Predetto  Cristiano_Ronaldo con probabilità 12.91338062286377 e con perturbazione 9.403058356838301e-05\n",
      "Adversarial Sample misclassificati correttamente attualmente: 0.0%\n",
      "Accuracy attuale: 88.88888888888889%\n",
      "\n"
     ]
    },
    {
     "name": "stderr",
     "output_type": "stream",
     "text": [
      "                                                            \r"
     ]
    },
    {
     "name": "stdout",
     "output_type": "stream",
     "text": [
      "Etichetta corretta: Diego_Maradona\n",
      "Predetto  Diego_Maradona con probabilità 12.42492961883545 e con perturbazione 9.133615822065622e-05\n",
      "Adversarial Sample misclassificati correttamente attualmente: 0.0%\n",
      "Accuracy attuale: 90.0%\n",
      "\n",
      "----------- Perturbazione media aggiunta a tutte le immagini per eps_Step: 5e-05 equivale a 9.379882831126452e-05% ----------------\n",
      "----------- Accuracy sugli adversarial Sample per eps_step: 5e-05 equivale a 0.9% ----------------\n",
      "----------- Adversarial Sample misclassificati correttamente: 0.0% -----------\n",
      "\n",
      "**** Attacco con eps:0.1 con step a 7e-05 ****\n"
     ]
    },
    {
     "name": "stderr",
     "output_type": "stream",
     "text": [
      "                                                            \r"
     ]
    },
    {
     "name": "stdout",
     "output_type": "stream",
     "text": [
      "Etichetta corretta: Andrea_Pirlo\n",
      "Predetto  Andrea_Pirlo con probabilità 12.65493392944336 e con perturbazione 0.00013202628178987652\n",
      "Adversarial Sample misclassificati correttamente attualmente: 0.0%\n",
      "Accuracy attuale: 100.0%\n",
      "\n"
     ]
    },
    {
     "name": "stderr",
     "output_type": "stream",
     "text": [
      "                                                            \r"
     ]
    },
    {
     "name": "stdout",
     "output_type": "stream",
     "text": [
      "Etichetta corretta: Antonio_Cassano\n",
      "Predetto  Branch_Warren con probabilità 10.487000465393066 e con perturbazione 0.00013156778004486114\n",
      "Adversarial Sample misclassificati correttamente attualmente: 0.0%\n",
      "Accuracy attuale: 50.0%\n",
      "\n"
     ]
    },
    {
     "name": "stderr",
     "output_type": "stream",
     "text": [
      "                                                            \r"
     ]
    },
    {
     "name": "stdout",
     "output_type": "stream",
     "text": [
      "Etichetta corretta: Ariana_Grande\n",
      "Predetto  Ariana_Grande con probabilità 11.062817573547363 e con perturbazione 0.00013037893222644925\n",
      "Adversarial Sample misclassificati correttamente attualmente: 0.0%\n",
      "Accuracy attuale: 66.66666666666666%\n",
      "\n"
     ]
    },
    {
     "name": "stderr",
     "output_type": "stream",
     "text": [
      "                                                            \r"
     ]
    },
    {
     "name": "stdout",
     "output_type": "stream",
     "text": [
      "Etichetta corretta: Ashley_Scott\n",
      "Predetto  Ashley_Scott con probabilità 13.722149848937988 e con perturbazione 0.00013129840954206884\n",
      "Adversarial Sample misclassificati correttamente attualmente: 0.0%\n",
      "Accuracy attuale: 75.0%\n",
      "\n"
     ]
    },
    {
     "name": "stderr",
     "output_type": "stream",
     "text": [
      "                                                            \r"
     ]
    },
    {
     "name": "stdout",
     "output_type": "stream",
     "text": [
      "Etichetta corretta: Boris_Johnson\n",
      "Predetto  Boris_Johnson con probabilità 13.238557815551758 e con perturbazione 0.00013086946273688227\n",
      "Adversarial Sample misclassificati correttamente attualmente: 0.0%\n",
      "Accuracy attuale: 80.0%\n",
      "\n"
     ]
    },
    {
     "name": "stderr",
     "output_type": "stream",
     "text": [
      "                                                            \r"
     ]
    },
    {
     "name": "stdout",
     "output_type": "stream",
     "text": [
      "Etichetta corretta: Brad_Pitt\n",
      "Predetto  Brad_Pitt con probabilità 13.112841606140137 e con perturbazione 0.0001311008381890133\n",
      "Adversarial Sample misclassificati correttamente attualmente: 0.0%\n",
      "Accuracy attuale: 83.33333333333334%\n",
      "\n"
     ]
    },
    {
     "name": "stderr",
     "output_type": "stream",
     "text": [
      "                                                            \r"
     ]
    },
    {
     "name": "stdout",
     "output_type": "stream",
     "text": [
      "Etichetta corretta: Christian_De_Sica\n",
      "Predetto  Christian_De_Sica con probabilità 13.661876678466797 e con perturbazione 0.0001309049839619547\n",
      "Adversarial Sample misclassificati correttamente attualmente: 0.0%\n",
      "Accuracy attuale: 85.71428571428571%\n",
      "\n"
     ]
    },
    {
     "name": "stderr",
     "output_type": "stream",
     "text": [
      "                                                            \r"
     ]
    },
    {
     "name": "stdout",
     "output_type": "stream",
     "text": [
      "Etichetta corretta: Christopher_Nolan\n",
      "Predetto  Christopher_Nolan con probabilità 11.993500709533691 e con perturbazione 0.00013070764543954283\n",
      "Adversarial Sample misclassificati correttamente attualmente: 0.0%\n",
      "Accuracy attuale: 87.5%\n",
      "\n"
     ]
    },
    {
     "name": "stderr",
     "output_type": "stream",
     "text": [
      "                                                            \r"
     ]
    },
    {
     "name": "stdout",
     "output_type": "stream",
     "text": [
      "Etichetta corretta: Cristiano_Ronaldo\n",
      "Predetto  Cristiano_Ronaldo con probabilità 12.899274826049805 e con perturbazione 0.00013128486170899123\n",
      "Adversarial Sample misclassificati correttamente attualmente: 0.0%\n",
      "Accuracy attuale: 88.88888888888889%\n",
      "\n"
     ]
    },
    {
     "name": "stderr",
     "output_type": "stream",
     "text": [
      "                                                            \r"
     ]
    },
    {
     "name": "stdout",
     "output_type": "stream",
     "text": [
      "Etichetta corretta: Diego_Maradona\n",
      "Predetto  Diego_Maradona con probabilità 12.344752311706543 e con perturbazione 0.0001257224939763546\n",
      "Adversarial Sample misclassificati correttamente attualmente: 0.0%\n",
      "Accuracy attuale: 90.0%\n",
      "\n",
      "----------- Perturbazione media aggiunta a tutte le immagini per eps_Step: 7e-05 equivale a 0.00013058616896159946% ----------------\n",
      "----------- Accuracy sugli adversarial Sample per eps_step: 7e-05 equivale a 0.9% ----------------\n",
      "----------- Adversarial Sample misclassificati correttamente: 0.0% -----------\n",
      "\n",
      "**** Attacco con eps:0.1 con step a 0.002 ****\n"
     ]
    },
    {
     "name": "stderr",
     "output_type": "stream",
     "text": [
      "                                                            \r"
     ]
    },
    {
     "name": "stdout",
     "output_type": "stream",
     "text": [
      "Etichetta corretta: Andrea_Pirlo\n",
      "Predetto  Andrea_Pirlo con probabilità 10.866847038269043 e con perturbazione 0.0033454580698162317\n",
      "Adversarial Sample misclassificati correttamente attualmente: 0.0%\n",
      "Accuracy attuale: 100.0%\n",
      "\n"
     ]
    },
    {
     "name": "stderr",
     "output_type": "stream",
     "text": [
      "                                                            \r"
     ]
    },
    {
     "name": "stdout",
     "output_type": "stream",
     "text": [
      "Etichetta corretta: Antonio_Cassano\n",
      "Predetto  Branch_Warren con probabilità 9.641149520874023 e con perturbazione 0.0032443483360111713\n",
      "Adversarial Sample misclassificati correttamente attualmente: 0.0%\n",
      "Accuracy attuale: 50.0%\n",
      "\n"
     ]
    },
    {
     "name": "stderr",
     "output_type": "stream",
     "text": [
      "                                                            \r"
     ]
    },
    {
     "name": "stdout",
     "output_type": "stream",
     "text": [
      "Etichetta corretta: Ariana_Grande\n",
      "Predetto  Mai_Phương_Thúy con probabilità 8.75091552734375 e con perturbazione 0.0029610740020871162\n",
      "Adversarial Sample misclassificati correttamente attualmente: 0.0%\n",
      "Accuracy attuale: 33.33333333333333%\n",
      "\n"
     ]
    },
    {
     "name": "stderr",
     "output_type": "stream",
     "text": [
      "                                                            \r"
     ]
    },
    {
     "name": "stdout",
     "output_type": "stream",
     "text": [
      "Etichetta corretta: Ashley_Scott\n",
      "Predetto  Ashley_Scott con probabilità 9.610480308532715 e con perturbazione 0.00310289254412055\n",
      "Adversarial Sample misclassificati correttamente attualmente: 0.0%\n",
      "Accuracy attuale: 50.0%\n",
      "\n"
     ]
    },
    {
     "name": "stderr",
     "output_type": "stream",
     "text": [
      "                                                            \r"
     ]
    },
    {
     "name": "stdout",
     "output_type": "stream",
     "text": [
      "Etichetta corretta: Boris_Johnson\n",
      "Predetto  Boris_Johnson con probabilità 10.887500762939453 e con perturbazione 0.003230649745091796\n",
      "Adversarial Sample misclassificati correttamente attualmente: 0.0%\n",
      "Accuracy attuale: 60.0%\n",
      "\n"
     ]
    },
    {
     "name": "stderr",
     "output_type": "stream",
     "text": [
      "                                                            \r"
     ]
    },
    {
     "name": "stdout",
     "output_type": "stream",
     "text": [
      "Etichetta corretta: Brad_Pitt\n",
      "Predetto  Brad_Pitt con probabilità 10.772214889526367 e con perturbazione 0.003201912622898817\n",
      "Adversarial Sample misclassificati correttamente attualmente: 0.0%\n",
      "Accuracy attuale: 66.66666666666666%\n",
      "\n"
     ]
    },
    {
     "name": "stderr",
     "output_type": "stream",
     "text": [
      "                                                            \r"
     ]
    },
    {
     "name": "stdout",
     "output_type": "stream",
     "text": [
      "Etichetta corretta: Christian_De_Sica\n",
      "Predetto  Christian_De_Sica con probabilità 10.907182693481445 e con perturbazione 0.0032038434874266386\n",
      "Adversarial Sample misclassificati correttamente attualmente: 0.0%\n",
      "Accuracy attuale: 71.42857142857143%\n",
      "\n"
     ]
    },
    {
     "name": "stderr",
     "output_type": "stream",
     "text": [
      "                                                            \r"
     ]
    },
    {
     "name": "stdout",
     "output_type": "stream",
     "text": [
      "Etichetta corretta: Christopher_Nolan\n",
      "Predetto  Don_Mattingly con probabilità 9.52818489074707 e con perturbazione 0.0030858274549245834\n",
      "Adversarial Sample misclassificati correttamente attualmente: 0.0%\n",
      "Accuracy attuale: 62.5%\n",
      "\n"
     ]
    },
    {
     "name": "stderr",
     "output_type": "stream",
     "text": [
      "                                                            \r"
     ]
    },
    {
     "name": "stdout",
     "output_type": "stream",
     "text": [
      "Etichetta corretta: Cristiano_Ronaldo\n",
      "Predetto  Cristiano_Ronaldo con probabilità 11.130563735961914 e con perturbazione 0.0032270620577037334\n",
      "Adversarial Sample misclassificati correttamente attualmente: 0.0%\n",
      "Accuracy attuale: 66.66666666666666%\n",
      "\n"
     ]
    },
    {
     "name": "stderr",
     "output_type": "stream",
     "text": [
      "                                                            \r"
     ]
    },
    {
     "name": "stdout",
     "output_type": "stream",
     "text": [
      "Etichetta corretta: Diego_Maradona\n",
      "Predetto  Paolo_Goltz con probabilità 10.350337982177734 e con perturbazione 0.002507593482732773\n",
      "Adversarial Sample misclassificati correttamente attualmente: 0.0%\n",
      "Accuracy attuale: 60.0%\n",
      "\n",
      "----------- Perturbazione media aggiunta a tutte le immagini per eps_Step: 0.002 equivale a 0.003111066180281341% ----------------\n",
      "----------- Accuracy sugli adversarial Sample per eps_step: 0.002 equivale a 0.6% ----------------\n",
      "----------- Adversarial Sample misclassificati correttamente: 0.0% -----------\n",
      "\n",
      "**** Attacco con eps:0.1 con step a 0.005 ****\n"
     ]
    },
    {
     "name": "stderr",
     "output_type": "stream",
     "text": [
      "                                                            \r"
     ]
    },
    {
     "name": "stdout",
     "output_type": "stream",
     "text": [
      "Etichetta corretta: Andrea_Pirlo\n",
      "Predetto  Andrea_Pirlo con probabilità 9.433029174804688 e con perturbazione 0.007204160559922457\n",
      "Adversarial Sample misclassificati correttamente attualmente: 0.0%\n",
      "Accuracy attuale: 100.0%\n",
      "\n"
     ]
    },
    {
     "name": "stderr",
     "output_type": "stream",
     "text": [
      "                                                            \r"
     ]
    },
    {
     "name": "stdout",
     "output_type": "stream",
     "text": [
      "Etichetta corretta: Antonio_Cassano\n",
      "Predetto  J._J._Watt con probabilità 9.43207836151123 e con perturbazione 0.006954031065106392\n",
      "Adversarial Sample misclassificati correttamente attualmente: 0.0%\n",
      "Accuracy attuale: 50.0%\n",
      "\n"
     ]
    },
    {
     "name": "stderr",
     "output_type": "stream",
     "text": [
      "                                                            \r"
     ]
    },
    {
     "name": "stdout",
     "output_type": "stream",
     "text": [
      "Etichetta corretta: Ariana_Grande\n",
      "Predetto  Minzy con probabilità 7.959446430206299 e con perturbazione 0.006323562934994698\n",
      "Adversarial Sample misclassificati correttamente attualmente: 0.0%\n",
      "Accuracy attuale: 33.33333333333333%\n",
      "\n"
     ]
    },
    {
     "name": "stderr",
     "output_type": "stream",
     "text": [
      "                                                            \r"
     ]
    },
    {
     "name": "stdout",
     "output_type": "stream",
     "text": [
      "Etichetta corretta: Ashley_Scott\n",
      "Predetto  Gloria_Hunniford con probabilità 9.565232276916504 e con perturbazione 0.0063973902724683285\n",
      "Adversarial Sample misclassificati correttamente attualmente: 0.0%\n",
      "Accuracy attuale: 25.0%\n",
      "\n"
     ]
    },
    {
     "name": "stderr",
     "output_type": "stream",
     "text": [
      "                                                            \r"
     ]
    },
    {
     "name": "stdout",
     "output_type": "stream",
     "text": [
      "Etichetta corretta: Boris_Johnson\n",
      "Predetto  Vladimir_Petković con probabilità 9.115487098693848 e con perturbazione 0.0067723896354436874\n",
      "Adversarial Sample misclassificati correttamente attualmente: 0.0%\n",
      "Accuracy attuale: 20.0%\n",
      "\n"
     ]
    },
    {
     "name": "stderr",
     "output_type": "stream",
     "text": [
      "                                                            \r"
     ]
    },
    {
     "name": "stdout",
     "output_type": "stream",
     "text": [
      "Etichetta corretta: Brad_Pitt\n",
      "Predetto  Brad_Pitt con probabilità 8.5137939453125 e con perturbazione 0.006776296067982912\n",
      "Adversarial Sample misclassificati correttamente attualmente: 0.0%\n",
      "Accuracy attuale: 33.33333333333333%\n",
      "\n"
     ]
    },
    {
     "name": "stderr",
     "output_type": "stream",
     "text": [
      "                                                            \r"
     ]
    },
    {
     "name": "stdout",
     "output_type": "stream",
     "text": [
      "Etichetta corretta: Christian_De_Sica\n",
      "Predetto  Christian_De_Sica con probabilità 8.280017852783203 e con perturbazione 0.006607025396078825\n",
      "Adversarial Sample misclassificati correttamente attualmente: 0.0%\n",
      "Accuracy attuale: 42.857142857142854%\n",
      "\n"
     ]
    },
    {
     "name": "stderr",
     "output_type": "stream",
     "text": [
      "                                                            \r"
     ]
    },
    {
     "name": "stdout",
     "output_type": "stream",
     "text": [
      "Etichetta corretta: Christopher_Nolan\n",
      "Predetto  Don_Mattingly con probabilità 8.879210472106934 e con perturbazione 0.006560411304235458\n",
      "Adversarial Sample misclassificati correttamente attualmente: 0.0%\n",
      "Accuracy attuale: 37.5%\n",
      "\n"
     ]
    },
    {
     "name": "stderr",
     "output_type": "stream",
     "text": [
      "                                                            \r"
     ]
    },
    {
     "name": "stdout",
     "output_type": "stream",
     "text": [
      "Etichetta corretta: Cristiano_Ronaldo\n",
      "Predetto  Aaron_Hernandez con probabilità 11.97818374633789 e con perturbazione 0.006710411049425602\n",
      "Adversarial Sample misclassificati correttamente attualmente: 0.0%\n",
      "Accuracy attuale: 33.33333333333333%\n",
      "\n"
     ]
    },
    {
     "name": "stderr",
     "output_type": "stream",
     "text": [
      "                                                            \r"
     ]
    },
    {
     "name": "stdout",
     "output_type": "stream",
     "text": [
      "Etichetta corretta: Diego_Maradona\n",
      "Predetto  Luis_Scola con probabilità 8.835240364074707 e con perturbazione 0.006033198442310095\n",
      "Adversarial Sample misclassificati correttamente attualmente: 0.0%\n",
      "Accuracy attuale: 30.0%\n",
      "\n",
      "----------- Perturbazione media aggiunta a tutte le immagini per eps_Step: 0.005 equivale a 0.006633887672796846% ----------------\n",
      "----------- Accuracy sugli adversarial Sample per eps_step: 0.005 equivale a 0.3% ----------------\n",
      "----------- Adversarial Sample misclassificati correttamente: 0.0% -----------\n",
      "\n",
      "**** Attacco con eps:0.1 con step a 0.007 ****\n"
     ]
    },
    {
     "name": "stderr",
     "output_type": "stream",
     "text": [
      "                                                            \r"
     ]
    },
    {
     "name": "stdout",
     "output_type": "stream",
     "text": [
      "Etichetta corretta: Andrea_Pirlo\n",
      "Predetto  Andrea_Pirlo con probabilità 8.95102310180664 e con perturbazione 0.009209933690726757\n",
      "Adversarial Sample misclassificati correttamente attualmente: 0.0%\n",
      "Accuracy attuale: 100.0%\n",
      "\n"
     ]
    },
    {
     "name": "stderr",
     "output_type": "stream",
     "text": [
      "                                                            \r"
     ]
    },
    {
     "name": "stdout",
     "output_type": "stream",
     "text": [
      "Etichetta corretta: Antonio_Cassano\n",
      "Predetto  J._J._Watt con probabilità 9.537826538085938 e con perturbazione 0.009220883250236511\n",
      "Adversarial Sample misclassificati correttamente attualmente: 0.0%\n",
      "Accuracy attuale: 50.0%\n",
      "\n"
     ]
    },
    {
     "name": "stderr",
     "output_type": "stream",
     "text": [
      "                                                            \r"
     ]
    },
    {
     "name": "stdout",
     "output_type": "stream",
     "text": [
      "Etichetta corretta: Ariana_Grande\n",
      "Predetto  Park_Ji-yeon con probabilità 9.177790641784668 e con perturbazione 0.008367023430764675\n",
      "Adversarial Sample misclassificati correttamente attualmente: 0.0%\n",
      "Accuracy attuale: 33.33333333333333%\n",
      "\n"
     ]
    },
    {
     "name": "stderr",
     "output_type": "stream",
     "text": [
      "                                                            \r"
     ]
    },
    {
     "name": "stdout",
     "output_type": "stream",
     "text": [
      "Etichetta corretta: Ashley_Scott\n",
      "Predetto  Gloria_Hunniford con probabilità 9.505133628845215 e con perturbazione 0.008465282618999481\n",
      "Adversarial Sample misclassificati correttamente attualmente: 0.0%\n",
      "Accuracy attuale: 25.0%\n",
      "\n"
     ]
    },
    {
     "name": "stderr",
     "output_type": "stream",
     "text": [
      "                                                            \r"
     ]
    },
    {
     "name": "stdout",
     "output_type": "stream",
     "text": [
      "Etichetta corretta: Boris_Johnson\n",
      "Predetto  Vladimir_Petković con probabilità 8.698884010314941 e con perturbazione 0.008812004700303078\n",
      "Adversarial Sample misclassificati correttamente attualmente: 0.0%\n",
      "Accuracy attuale: 20.0%\n",
      "\n"
     ]
    },
    {
     "name": "stderr",
     "output_type": "stream",
     "text": [
      "                                                            \r"
     ]
    },
    {
     "name": "stdout",
     "output_type": "stream",
     "text": [
      "Etichetta corretta: Brad_Pitt\n",
      "Predetto  Sergio_Goyri con probabilità 8.221293449401855 e con perturbazione 0.008859572000801563\n",
      "Adversarial Sample misclassificati correttamente attualmente: 0.0%\n",
      "Accuracy attuale: 16.666666666666664%\n",
      "\n"
     ]
    },
    {
     "name": "stderr",
     "output_type": "stream",
     "text": [
      "                                                            \r"
     ]
    },
    {
     "name": "stdout",
     "output_type": "stream",
     "text": [
      "Etichetta corretta: Christian_De_Sica\n",
      "Predetto  Aaron_Hernandez con probabilità 7.9355902671813965 e con perturbazione 0.008184907957911491\n",
      "Adversarial Sample misclassificati correttamente attualmente: 0.0%\n",
      "Accuracy attuale: 14.285714285714285%\n",
      "\n"
     ]
    },
    {
     "name": "stderr",
     "output_type": "stream",
     "text": [
      "                                                            \r"
     ]
    },
    {
     "name": "stdout",
     "output_type": "stream",
     "text": [
      "Etichetta corretta: Christopher_Nolan\n",
      "Predetto  Aaron_Hernandez con probabilità 9.106475830078125 e con perturbazione 0.00833128485828638\n",
      "Adversarial Sample misclassificati correttamente attualmente: 0.0%\n",
      "Accuracy attuale: 12.5%\n",
      "\n"
     ]
    },
    {
     "name": "stderr",
     "output_type": "stream",
     "text": [
      "                                                            \r"
     ]
    },
    {
     "name": "stdout",
     "output_type": "stream",
     "text": [
      "Etichetta corretta: Cristiano_Ronaldo\n",
      "Predetto  Aaron_Hernandez con probabilità 12.741610527038574 e con perturbazione 0.008619681000709534\n",
      "Adversarial Sample misclassificati correttamente attualmente: 0.0%\n",
      "Accuracy attuale: 11.11111111111111%\n",
      "\n"
     ]
    },
    {
     "name": "stderr",
     "output_type": "stream",
     "text": [
      "                                                            \r"
     ]
    },
    {
     "name": "stdout",
     "output_type": "stream",
     "text": [
      "Etichetta corretta: Diego_Maradona\n",
      "Predetto  Steed_Malbranque con probabilità 8.931604385375977 e con perturbazione 0.008335299789905548\n",
      "Adversarial Sample misclassificati correttamente attualmente: 0.0%\n",
      "Accuracy attuale: 10.0%\n",
      "\n",
      "----------- Perturbazione media aggiunta a tutte le immagini per eps_Step: 0.007 equivale a 0.008640587329864502% ----------------\n",
      "----------- Accuracy sugli adversarial Sample per eps_step: 0.007 equivale a 0.1% ----------------\n",
      "----------- Adversarial Sample misclassificati correttamente: 0.0% -----------\n",
      "\n",
      "**** Attacco con eps:0.1 con step a 0.02 ****\n"
     ]
    },
    {
     "name": "stderr",
     "output_type": "stream",
     "text": [
      "                                                            \r"
     ]
    },
    {
     "name": "stdout",
     "output_type": "stream",
     "text": [
      "Etichetta corretta: Andrea_Pirlo\n",
      "Predetto  Aaron_Hernandez con probabilità 8.42867374420166 e con perturbazione 0.021636975929141045\n",
      "Adversarial Sample misclassificati correttamente attualmente: 0.0%\n",
      "Accuracy attuale: 0.0%\n",
      "\n"
     ]
    },
    {
     "name": "stderr",
     "output_type": "stream",
     "text": [
      "                                                            \r"
     ]
    },
    {
     "name": "stdout",
     "output_type": "stream",
     "text": [
      "Etichetta corretta: Antonio_Cassano\n",
      "Predetto  Aaron_Hernandez con probabilità 10.124672889709473 e con perturbazione 0.020971346646547318\n",
      "Adversarial Sample misclassificati correttamente attualmente: 0.0%\n",
      "Accuracy attuale: 0.0%\n",
      "\n"
     ]
    },
    {
     "name": "stderr",
     "output_type": "stream",
     "text": [
      "                                                            \r"
     ]
    },
    {
     "name": "stdout",
     "output_type": "stream",
     "text": [
      "Etichetta corretta: Ariana_Grande\n",
      "Predetto  Angelique_Morgan con probabilità 9.275264739990234 e con perturbazione 0.02040780335664749\n",
      "Adversarial Sample misclassificati correttamente attualmente: 0.0%\n",
      "Accuracy attuale: 0.0%\n",
      "\n"
     ]
    },
    {
     "name": "stderr",
     "output_type": "stream",
     "text": [
      "                                                            \r"
     ]
    },
    {
     "name": "stdout",
     "output_type": "stream",
     "text": [
      "Etichetta corretta: Ashley_Scott\n",
      "Predetto  Kate_Garraway con probabilità 10.50805377960205 e con perturbazione 0.02081197127699852\n",
      "Adversarial Sample misclassificati correttamente attualmente: 0.0%\n",
      "Accuracy attuale: 0.0%\n",
      "\n"
     ]
    },
    {
     "name": "stderr",
     "output_type": "stream",
     "text": [
      "                                                            \r"
     ]
    },
    {
     "name": "stdout",
     "output_type": "stream",
     "text": [
      "Etichetta corretta: Boris_Johnson\n",
      "Predetto  Aaron_Hernandez con probabilità 9.799320220947266 e con perturbazione 0.020448949187994003\n",
      "Adversarial Sample misclassificati correttamente attualmente: 0.0%\n",
      "Accuracy attuale: 0.0%\n",
      "\n"
     ]
    },
    {
     "name": "stderr",
     "output_type": "stream",
     "text": [
      "                                                            \r"
     ]
    },
    {
     "name": "stdout",
     "output_type": "stream",
     "text": [
      "Etichetta corretta: Brad_Pitt\n",
      "Predetto  Aaron_Hernandez con probabilità 10.651318550109863 e con perturbazione 0.020760413259267807\n",
      "Adversarial Sample misclassificati correttamente attualmente: 0.0%\n",
      "Accuracy attuale: 0.0%\n",
      "\n"
     ]
    },
    {
     "name": "stderr",
     "output_type": "stream",
     "text": [
      "                                                            \r"
     ]
    },
    {
     "name": "stdout",
     "output_type": "stream",
     "text": [
      "Etichetta corretta: Christian_De_Sica\n",
      "Predetto  Aaron_Hernandez con probabilità 10.26325798034668 e con perturbazione 0.020189061760902405\n",
      "Adversarial Sample misclassificati correttamente attualmente: 0.0%\n",
      "Accuracy attuale: 0.0%\n",
      "\n"
     ]
    },
    {
     "name": "stderr",
     "output_type": "stream",
     "text": [
      "                                                            \r"
     ]
    },
    {
     "name": "stdout",
     "output_type": "stream",
     "text": [
      "Etichetta corretta: Christopher_Nolan\n",
      "Predetto  Aaron_Hernandez con probabilità 11.79019546508789 e con perturbazione 0.020094793289899826\n",
      "Adversarial Sample misclassificati correttamente attualmente: 0.0%\n",
      "Accuracy attuale: 0.0%\n",
      "\n"
     ]
    },
    {
     "name": "stderr",
     "output_type": "stream",
     "text": [
      "                                                            \r"
     ]
    },
    {
     "name": "stdout",
     "output_type": "stream",
     "text": [
      "Etichetta corretta: Cristiano_Ronaldo\n",
      "Predetto  Aaron_Hernandez con probabilità 14.561714172363281 e con perturbazione 0.01985207572579384\n",
      "Adversarial Sample misclassificati correttamente attualmente: 0.0%\n",
      "Accuracy attuale: 0.0%\n",
      "\n"
     ]
    },
    {
     "name": "stderr",
     "output_type": "stream",
     "text": [
      "                                                            \r"
     ]
    },
    {
     "name": "stdout",
     "output_type": "stream",
     "text": [
      "Etichetta corretta: Diego_Maradona\n",
      "Predetto  Aaron_Hernandez con probabilità 10.462220191955566 e con perturbazione 0.020426560193300247\n",
      "Adversarial Sample misclassificati correttamente attualmente: 0.0%\n",
      "Accuracy attuale: 0.0%\n",
      "\n",
      "----------- Perturbazione media aggiunta a tutte le immagini per eps_Step: 0.02 equivale a 0.02055999506264925% ----------------\n",
      "----------- Accuracy sugli adversarial Sample per eps_step: 0.02 equivale a 0.0% ----------------\n",
      "----------- Adversarial Sample misclassificati correttamente: 0.0% -----------\n",
      "\n",
      "**** Attacco con eps:0.1 con step a 0.05 ****\n"
     ]
    },
    {
     "name": "stderr",
     "output_type": "stream",
     "text": [
      "                                                            \r"
     ]
    },
    {
     "name": "stdout",
     "output_type": "stream",
     "text": [
      "Etichetta corretta: Andrea_Pirlo\n",
      "Predetto  Aaron_Hernandez con probabilità 10.799004554748535 e con perturbazione 0.048772141337394714\n",
      "Adversarial Sample misclassificati correttamente attualmente: 0.0%\n",
      "Accuracy attuale: 0.0%\n",
      "\n"
     ]
    },
    {
     "name": "stderr",
     "output_type": "stream",
     "text": [
      "                                                            \r"
     ]
    },
    {
     "name": "stdout",
     "output_type": "stream",
     "text": [
      "Etichetta corretta: Antonio_Cassano\n",
      "Predetto  Aaron_Hernandez con probabilità 11.46602725982666 e con perturbazione 0.04816146567463875\n",
      "Adversarial Sample misclassificati correttamente attualmente: 0.0%\n",
      "Accuracy attuale: 0.0%\n",
      "\n"
     ]
    },
    {
     "name": "stderr",
     "output_type": "stream",
     "text": [
      "                                                            \r"
     ]
    },
    {
     "name": "stdout",
     "output_type": "stream",
     "text": [
      "Etichetta corretta: Ariana_Grande\n",
      "Predetto  Bandaru_Dattatreya con probabilità 7.557628154754639 e con perturbazione 0.04937110096216202\n",
      "Adversarial Sample misclassificati correttamente attualmente: 0.0%\n",
      "Accuracy attuale: 0.0%\n",
      "\n"
     ]
    },
    {
     "name": "stderr",
     "output_type": "stream",
     "text": [
      "                                                            \r"
     ]
    },
    {
     "name": "stdout",
     "output_type": "stream",
     "text": [
      "Etichetta corretta: Ashley_Scott\n",
      "Predetto  Carnie_Wilson con probabilità 10.667527198791504 e con perturbazione 0.04716797545552254\n",
      "Adversarial Sample misclassificati correttamente attualmente: 0.0%\n",
      "Accuracy attuale: 0.0%\n",
      "\n"
     ]
    },
    {
     "name": "stderr",
     "output_type": "stream",
     "text": [
      "                                                            \r"
     ]
    },
    {
     "name": "stdout",
     "output_type": "stream",
     "text": [
      "Etichetta corretta: Boris_Johnson\n",
      "Predetto  Aaron_Hernandez con probabilità 12.598617553710938 e con perturbazione 0.04891277104616165\n",
      "Adversarial Sample misclassificati correttamente attualmente: 0.0%\n",
      "Accuracy attuale: 0.0%\n",
      "\n"
     ]
    },
    {
     "name": "stderr",
     "output_type": "stream",
     "text": [
      "                                                            \r"
     ]
    },
    {
     "name": "stdout",
     "output_type": "stream",
     "text": [
      "Etichetta corretta: Brad_Pitt\n",
      "Predetto  Aaron_Hernandez con probabilità 11.903817176818848 e con perturbazione 0.04740104824304581\n",
      "Adversarial Sample misclassificati correttamente attualmente: 0.0%\n",
      "Accuracy attuale: 0.0%\n",
      "\n"
     ]
    },
    {
     "name": "stderr",
     "output_type": "stream",
     "text": [
      "                                                            \r"
     ]
    },
    {
     "name": "stdout",
     "output_type": "stream",
     "text": [
      "Etichetta corretta: Christian_De_Sica\n",
      "Predetto  Aaron_Hernandez con probabilità 8.89991283416748 e con perturbazione 0.047503914684057236\n",
      "Adversarial Sample misclassificati correttamente attualmente: 0.0%\n",
      "Accuracy attuale: 0.0%\n",
      "\n"
     ]
    },
    {
     "name": "stderr",
     "output_type": "stream",
     "text": [
      "                                                            \r"
     ]
    },
    {
     "name": "stdout",
     "output_type": "stream",
     "text": [
      "Etichetta corretta: Christopher_Nolan\n",
      "Predetto  Tomasz_Adamek con probabilità 11.589859008789062 e con perturbazione 0.047675784677267075\n",
      "Adversarial Sample misclassificati correttamente attualmente: 0.0%\n",
      "Accuracy attuale: 0.0%\n",
      "\n"
     ]
    },
    {
     "name": "stderr",
     "output_type": "stream",
     "text": [
      "                                                            \r"
     ]
    },
    {
     "name": "stdout",
     "output_type": "stream",
     "text": [
      "Etichetta corretta: Cristiano_Ronaldo\n",
      "Predetto  Aaron_Hernandez con probabilità 14.28353500366211 e con perturbazione 0.0461822971701622\n",
      "Adversarial Sample misclassificati correttamente attualmente: 0.0%\n",
      "Accuracy attuale: 0.0%\n",
      "\n"
     ]
    },
    {
     "name": "stderr",
     "output_type": "stream",
     "text": [
      "                                                            \r"
     ]
    },
    {
     "name": "stdout",
     "output_type": "stream",
     "text": [
      "Etichetta corretta: Diego_Maradona\n",
      "Predetto  Cain_Velasquez con probabilità 10.25066089630127 e con perturbazione 0.048876307904720306\n",
      "Adversarial Sample misclassificati correttamente attualmente: 0.0%\n",
      "Accuracy attuale: 0.0%\n",
      "\n",
      "----------- Perturbazione media aggiunta a tutte le immagini per eps_Step: 0.05 equivale a 0.04800248071551323% ----------------\n",
      "----------- Accuracy sugli adversarial Sample per eps_step: 0.05 equivale a 0.0% ----------------\n",
      "----------- Adversarial Sample misclassificati correttamente: 0.0% -----------\n",
      "\n",
      "**** Attacco con eps:0.1 con step a 0.07 ****\n"
     ]
    },
    {
     "name": "stderr",
     "output_type": "stream",
     "text": [
      "                                                            \r"
     ]
    },
    {
     "name": "stdout",
     "output_type": "stream",
     "text": [
      "Etichetta corretta: Andrea_Pirlo\n",
      "Predetto  Aaron_Hernandez con probabilità 10.13940715789795 e con perturbazione 0.048675786703825\n",
      "Adversarial Sample misclassificati correttamente attualmente: 0.0%\n",
      "Accuracy attuale: 0.0%\n",
      "\n"
     ]
    },
    {
     "name": "stderr",
     "output_type": "stream",
     "text": [
      "                                                            \r"
     ]
    },
    {
     "name": "stdout",
     "output_type": "stream",
     "text": [
      "Etichetta corretta: Antonio_Cassano\n",
      "Predetto  Aaron_Hernandez con probabilità 11.602696418762207 e con perturbazione 0.04943881183862686\n",
      "Adversarial Sample misclassificati correttamente attualmente: 0.0%\n",
      "Accuracy attuale: 0.0%\n",
      "\n"
     ]
    },
    {
     "name": "stderr",
     "output_type": "stream",
     "text": [
      "                                                            \r"
     ]
    },
    {
     "name": "stdout",
     "output_type": "stream",
     "text": [
      "Etichetta corretta: Ariana_Grande\n",
      "Predetto  Mulayam_Singh_Yadav con probabilità 8.408241271972656 e con perturbazione 0.04604167118668556\n",
      "Adversarial Sample misclassificati correttamente attualmente: 0.0%\n",
      "Accuracy attuale: 0.0%\n",
      "\n"
     ]
    },
    {
     "name": "stderr",
     "output_type": "stream",
     "text": [
      "                                                            \r"
     ]
    },
    {
     "name": "stdout",
     "output_type": "stream",
     "text": [
      "Etichetta corretta: Ashley_Scott\n",
      "Predetto  Gackt con probabilità 9.12253475189209 e con perturbazione 0.046738289296627045\n",
      "Adversarial Sample misclassificati correttamente attualmente: 0.0%\n",
      "Accuracy attuale: 0.0%\n",
      "\n"
     ]
    },
    {
     "name": "stderr",
     "output_type": "stream",
     "text": [
      "                                                            \r"
     ]
    },
    {
     "name": "stdout",
     "output_type": "stream",
     "text": [
      "Etichetta corretta: Boris_Johnson\n",
      "Predetto  Aaron_Hernandez con probabilità 11.309030532836914 e con perturbazione 0.04764975234866142\n",
      "Adversarial Sample misclassificati correttamente attualmente: 0.0%\n",
      "Accuracy attuale: 0.0%\n",
      "\n"
     ]
    },
    {
     "name": "stderr",
     "output_type": "stream",
     "text": [
      "                                                            \r"
     ]
    },
    {
     "name": "stdout",
     "output_type": "stream",
     "text": [
      "Etichetta corretta: Brad_Pitt\n",
      "Predetto  Aaron_Hernandez con probabilità 11.025104522705078 e con perturbazione 0.047367192804813385\n",
      "Adversarial Sample misclassificati correttamente attualmente: 0.0%\n",
      "Accuracy attuale: 0.0%\n",
      "\n"
     ]
    },
    {
     "name": "stderr",
     "output_type": "stream",
     "text": [
      "                                                            \r"
     ]
    },
    {
     "name": "stdout",
     "output_type": "stream",
     "text": [
      "Etichetta corretta: Christian_De_Sica\n",
      "Predetto  Aaron_Hernandez con probabilità 9.628540992736816 e con perturbazione 0.048496097326278687\n",
      "Adversarial Sample misclassificati correttamente attualmente: 0.0%\n",
      "Accuracy attuale: 0.0%\n",
      "\n"
     ]
    },
    {
     "name": "stderr",
     "output_type": "stream",
     "text": [
      "                                                            \r"
     ]
    },
    {
     "name": "stdout",
     "output_type": "stream",
     "text": [
      "Etichetta corretta: Christopher_Nolan\n",
      "Predetto  Aaron_Hernandez con probabilità 11.853691101074219 e con perturbazione 0.04775390774011612\n",
      "Adversarial Sample misclassificati correttamente attualmente: 0.0%\n",
      "Accuracy attuale: 0.0%\n",
      "\n"
     ]
    },
    {
     "name": "stderr",
     "output_type": "stream",
     "text": [
      "                                                            \r"
     ]
    },
    {
     "name": "stdout",
     "output_type": "stream",
     "text": [
      "Etichetta corretta: Cristiano_Ronaldo\n",
      "Predetto  Aaron_Hernandez con probabilità 13.612066268920898 e con perturbazione 0.046759117394685745\n",
      "Adversarial Sample misclassificati correttamente attualmente: 0.0%\n",
      "Accuracy attuale: 0.0%\n",
      "\n"
     ]
    },
    {
     "name": "stderr",
     "output_type": "stream",
     "text": [
      "                                                            \r"
     ]
    },
    {
     "name": "stdout",
     "output_type": "stream",
     "text": [
      "Etichetta corretta: Diego_Maradona\n",
      "Predetto  Cain_Velasquez con probabilità 9.93891716003418 e con perturbazione 0.047367196530103683\n",
      "Adversarial Sample misclassificati correttamente attualmente: 0.0%\n",
      "Accuracy attuale: 0.0%\n",
      "\n",
      "----------- Perturbazione media aggiunta a tutte le immagini per eps_Step: 0.07 equivale a 0.04762878231704235% ----------------\n",
      "----------- Accuracy sugli adversarial Sample per eps_step: 0.07 equivale a 0.0% ----------------\n",
      "----------- Adversarial Sample misclassificati correttamente: 0.0% -----------\n",
      "\n",
      "**** Attacco con eps:0.1 con step a 0.1 ****\n"
     ]
    },
    {
     "name": "stderr",
     "output_type": "stream",
     "text": [
      "                                                            \r"
     ]
    },
    {
     "name": "stdout",
     "output_type": "stream",
     "text": [
      "Etichetta corretta: Andrea_Pirlo\n",
      "Predetto  Aaron_Hernandez con probabilità 10.108336448669434 e con perturbazione 0.04842187836766243\n",
      "Adversarial Sample misclassificati correttamente attualmente: 0.0%\n",
      "Accuracy attuale: 0.0%\n",
      "\n"
     ]
    },
    {
     "name": "stderr",
     "output_type": "stream",
     "text": [
      "                                                            \r"
     ]
    },
    {
     "name": "stdout",
     "output_type": "stream",
     "text": [
      "Etichetta corretta: Antonio_Cassano\n",
      "Predetto  Aaron_Hernandez con probabilità 12.582605361938477 e con perturbazione 0.04748828709125519\n",
      "Adversarial Sample misclassificati correttamente attualmente: 0.0%\n",
      "Accuracy attuale: 0.0%\n",
      "\n"
     ]
    },
    {
     "name": "stderr",
     "output_type": "stream",
     "text": [
      "                                                            \r"
     ]
    },
    {
     "name": "stdout",
     "output_type": "stream",
     "text": [
      "Etichetta corretta: Ariana_Grande\n",
      "Predetto  Rytmus con probabilità 8.785301208496094 e con perturbazione 0.048277348279953\n",
      "Adversarial Sample misclassificati correttamente attualmente: 0.0%\n",
      "Accuracy attuale: 0.0%\n",
      "\n"
     ]
    },
    {
     "name": "stderr",
     "output_type": "stream",
     "text": [
      "                                                            \r"
     ]
    },
    {
     "name": "stdout",
     "output_type": "stream",
     "text": [
      "Etichetta corretta: Ashley_Scott\n",
      "Predetto  Lynda_Bellingham con probabilità 9.657625198364258 e con perturbazione 0.04822787269949913\n",
      "Adversarial Sample misclassificati correttamente attualmente: 0.0%\n",
      "Accuracy attuale: 0.0%\n",
      "\n"
     ]
    },
    {
     "name": "stderr",
     "output_type": "stream",
     "text": [
      "                                                            \r"
     ]
    },
    {
     "name": "stdout",
     "output_type": "stream",
     "text": [
      "Etichetta corretta: Boris_Johnson\n",
      "Predetto  Aaron_Hernandez con probabilità 11.436346054077148 e con perturbazione 0.047598958015441895\n",
      "Adversarial Sample misclassificati correttamente attualmente: 0.0%\n",
      "Accuracy attuale: 0.0%\n",
      "\n"
     ]
    },
    {
     "name": "stderr",
     "output_type": "stream",
     "text": [
      "                                                            \r"
     ]
    },
    {
     "name": "stdout",
     "output_type": "stream",
     "text": [
      "Etichetta corretta: Brad_Pitt\n",
      "Predetto  Aaron_Hernandez con probabilità 10.122621536254883 e con perturbazione 0.04682812839746475\n",
      "Adversarial Sample misclassificati correttamente attualmente: 0.0%\n",
      "Accuracy attuale: 0.0%\n",
      "\n"
     ]
    },
    {
     "name": "stderr",
     "output_type": "stream",
     "text": [
      "                                                            \r"
     ]
    },
    {
     "name": "stdout",
     "output_type": "stream",
     "text": [
      "Etichetta corretta: Christian_De_Sica\n",
      "Predetto  Aaron_Hernandez con probabilità 9.645949363708496 e con perturbazione 0.04663671925663948\n",
      "Adversarial Sample misclassificati correttamente attualmente: 0.0%\n",
      "Accuracy attuale: 0.0%\n",
      "\n"
     ]
    },
    {
     "name": "stderr",
     "output_type": "stream",
     "text": [
      "                                                            \r"
     ]
    },
    {
     "name": "stdout",
     "output_type": "stream",
     "text": [
      "Etichetta corretta: Christopher_Nolan\n",
      "Predetto  Aaron_Hernandez con probabilità 12.075883865356445 e con perturbazione 0.048561204224824905\n",
      "Adversarial Sample misclassificati correttamente attualmente: 0.0%\n",
      "Accuracy attuale: 0.0%\n",
      "\n"
     ]
    },
    {
     "name": "stderr",
     "output_type": "stream",
     "text": [
      "                                                            \r"
     ]
    },
    {
     "name": "stdout",
     "output_type": "stream",
     "text": [
      "Etichetta corretta: Cristiano_Ronaldo\n",
      "Predetto  Aaron_Hernandez con probabilità 11.876853942871094 e con perturbazione 0.046656250953674316\n",
      "Adversarial Sample misclassificati correttamente attualmente: 0.0%\n",
      "Accuracy attuale: 0.0%\n",
      "\n"
     ]
    },
    {
     "name": "stderr",
     "output_type": "stream",
     "text": [
      "                                                            \r"
     ]
    },
    {
     "name": "stdout",
     "output_type": "stream",
     "text": [
      "Etichetta corretta: Diego_Maradona\n",
      "Predetto  Cain_Velasquez con probabilità 8.531878471374512 e con perturbazione 0.046872399747371674\n",
      "Adversarial Sample misclassificati correttamente attualmente: 0.0%\n",
      "Accuracy attuale: 0.0%\n",
      "\n",
      "----------- Perturbazione media aggiunta a tutte le immagini per eps_Step: 0.1 equivale a 0.04755690470337868% ----------------\n",
      "----------- Accuracy sugli adversarial Sample per eps_step: 0.1 equivale a 0.0% ----------------\n",
      "----------- Adversarial Sample misclassificati correttamente: 0.0% -----------\n",
      "\n",
      "\n",
      "--------------------------------------------------------------------------------------------------------------------------------------------------------------------\n",
      "\n",
      "**** Attacco con max_iter 5 **** \n",
      "**** Attacco con eps:0.1 con step a 2e-05 ****\n"
     ]
    },
    {
     "name": "stderr",
     "output_type": "stream",
     "text": [
      "                                                            \r"
     ]
    },
    {
     "name": "stdout",
     "output_type": "stream",
     "text": [
      "Etichetta corretta: Andrea_Pirlo\n",
      "Predetto  Andrea_Pirlo con probabilità 12.675080299377441 e con perturbazione 9.471527300775051e-05\n",
      "Adversarial Sample misclassificati correttamente attualmente: 0.0%\n",
      "Accuracy attuale: 100.0%\n",
      "\n"
     ]
    },
    {
     "name": "stderr",
     "output_type": "stream",
     "text": [
      "                                                            \r"
     ]
    },
    {
     "name": "stdout",
     "output_type": "stream",
     "text": [
      "Etichetta corretta: Antonio_Cassano\n",
      "Predetto  Branch_Warren con probabilità 10.492639541625977 e con perturbazione 9.438121924176812e-05\n",
      "Adversarial Sample misclassificati correttamente attualmente: 0.0%\n",
      "Accuracy attuale: 50.0%\n",
      "\n"
     ]
    },
    {
     "name": "stderr",
     "output_type": "stream",
     "text": [
      "                                                            \r"
     ]
    },
    {
     "name": "stdout",
     "output_type": "stream",
     "text": [
      "Etichetta corretta: Ariana_Grande\n",
      "Predetto  Ariana_Grande con probabilità 11.0945405960083 e con perturbazione 9.365747246192768e-05\n",
      "Adversarial Sample misclassificati correttamente attualmente: 0.0%\n",
      "Accuracy attuale: 66.66666666666666%\n",
      "\n"
     ]
    },
    {
     "name": "stderr",
     "output_type": "stream",
     "text": [
      "                                                            \r"
     ]
    },
    {
     "name": "stdout",
     "output_type": "stream",
     "text": [
      "Etichetta corretta: Ashley_Scott\n",
      "Predetto  Ashley_Scott con probabilità 13.772198677062988 e con perturbazione 9.414106898475438e-05\n",
      "Adversarial Sample misclassificati correttamente attualmente: 0.0%\n",
      "Accuracy attuale: 75.0%\n",
      "\n"
     ]
    },
    {
     "name": "stderr",
     "output_type": "stream",
     "text": [
      "                                                            \r"
     ]
    },
    {
     "name": "stdout",
     "output_type": "stream",
     "text": [
      "Etichetta corretta: Boris_Johnson\n",
      "Predetto  Boris_Johnson con probabilità 13.262914657592773 e con perturbazione 9.407746256329119e-05\n",
      "Adversarial Sample misclassificati correttamente attualmente: 0.0%\n",
      "Accuracy attuale: 80.0%\n",
      "\n"
     ]
    },
    {
     "name": "stderr",
     "output_type": "stream",
     "text": [
      "                                                            \r"
     ]
    },
    {
     "name": "stdout",
     "output_type": "stream",
     "text": [
      "Etichetta corretta: Brad_Pitt\n",
      "Predetto  Brad_Pitt con probabilità 13.139570236206055 e con perturbazione 9.406360186403617e-05\n",
      "Adversarial Sample misclassificati correttamente attualmente: 0.0%\n",
      "Accuracy attuale: 83.33333333333334%\n",
      "\n"
     ]
    },
    {
     "name": "stderr",
     "output_type": "stream",
     "text": [
      "                                                            \r"
     ]
    },
    {
     "name": "stdout",
     "output_type": "stream",
     "text": [
      "Etichetta corretta: Christian_De_Sica\n",
      "Predetto  Christian_De_Sica con probabilità 13.687837600708008 e con perturbazione 9.39993406063877e-05\n",
      "Adversarial Sample misclassificati correttamente attualmente: 0.0%\n",
      "Accuracy attuale: 85.71428571428571%\n",
      "\n"
     ]
    },
    {
     "name": "stderr",
     "output_type": "stream",
     "text": [
      "                                                            \r"
     ]
    },
    {
     "name": "stdout",
     "output_type": "stream",
     "text": [
      "Etichetta corretta: Christopher_Nolan\n",
      "Predetto  Christopher_Nolan con probabilità 12.016357421875 e con perturbazione 9.39683523029089e-05\n",
      "Adversarial Sample misclassificati correttamente attualmente: 0.0%\n",
      "Accuracy attuale: 87.5%\n",
      "\n"
     ]
    },
    {
     "name": "stderr",
     "output_type": "stream",
     "text": [
      "                                                            \r"
     ]
    },
    {
     "name": "stdout",
     "output_type": "stream",
     "text": [
      "Etichetta corretta: Cristiano_Ronaldo\n",
      "Predetto  Cristiano_Ronaldo con probabilità 12.9132080078125 e con perturbazione 9.425396274309605e-05\n",
      "Adversarial Sample misclassificati correttamente attualmente: 0.0%\n",
      "Accuracy attuale: 88.88888888888889%\n",
      "\n"
     ]
    },
    {
     "name": "stderr",
     "output_type": "stream",
     "text": [
      "                                                            \r"
     ]
    },
    {
     "name": "stdout",
     "output_type": "stream",
     "text": [
      "Etichetta corretta: Diego_Maradona\n",
      "Predetto  Diego_Maradona con probabilità 12.432524681091309 e con perturbazione 9.133169805863872e-05\n",
      "Adversarial Sample misclassificati correttamente attualmente: 0.0%\n",
      "Accuracy attuale: 90.0%\n",
      "\n",
      "----------- Perturbazione media aggiunta a tutte le immagini per eps_Step: 2e-05 equivale a 9.385894518345594e-05% ----------------\n",
      "----------- Accuracy sugli adversarial Sample per eps_step: 2e-05 equivale a 0.9% ----------------\n",
      "----------- Adversarial Sample misclassificati correttamente: 0.0% -----------\n",
      "\n",
      "**** Attacco con eps:0.1 con step a 5e-05 ****\n"
     ]
    },
    {
     "name": "stderr",
     "output_type": "stream",
     "text": [
      "                                                            \r"
     ]
    },
    {
     "name": "stdout",
     "output_type": "stream",
     "text": [
      "Etichetta corretta: Andrea_Pirlo\n",
      "Predetto  Andrea_Pirlo con probabilità 12.600053787231445 e con perturbazione 0.00023349354160018265\n",
      "Adversarial Sample misclassificati correttamente attualmente: 0.0%\n",
      "Accuracy attuale: 100.0%\n",
      "\n"
     ]
    },
    {
     "name": "stderr",
     "output_type": "stream",
     "text": [
      "                                                            \r"
     ]
    },
    {
     "name": "stdout",
     "output_type": "stream",
     "text": [
      "Etichetta corretta: Antonio_Cassano\n",
      "Predetto  Branch_Warren con probabilità 10.470657348632812 e con perturbazione 0.000232102902373299\n",
      "Adversarial Sample misclassificati correttamente attualmente: 0.0%\n",
      "Accuracy attuale: 50.0%\n",
      "\n"
     ]
    },
    {
     "name": "stderr",
     "output_type": "stream",
     "text": [
      "                                                            \r"
     ]
    },
    {
     "name": "stdout",
     "output_type": "stream",
     "text": [
      "Etichetta corretta: Ariana_Grande\n",
      "Predetto  Ariana_Grande con probabilità 10.97703742980957 e con perturbazione 0.00022950061247684062\n",
      "Adversarial Sample misclassificati correttamente attualmente: 0.0%\n",
      "Accuracy attuale: 66.66666666666666%\n",
      "\n"
     ]
    },
    {
     "name": "stderr",
     "output_type": "stream",
     "text": [
      "                                                            \r"
     ]
    },
    {
     "name": "stdout",
     "output_type": "stream",
     "text": [
      "Etichetta corretta: Ashley_Scott\n",
      "Predetto  Ashley_Scott con probabilità 13.583096504211426 e con perturbazione 0.00023204604804050177\n",
      "Adversarial Sample misclassificati correttamente attualmente: 0.0%\n",
      "Accuracy attuale: 75.0%\n",
      "\n"
     ]
    },
    {
     "name": "stderr",
     "output_type": "stream",
     "text": [
      "                                                            \r"
     ]
    },
    {
     "name": "stdout",
     "output_type": "stream",
     "text": [
      "Etichetta corretta: Boris_Johnson\n",
      "Predetto  Boris_Johnson con probabilità 13.169544219970703 e con perturbazione 0.00023232115199789405\n",
      "Adversarial Sample misclassificati correttamente attualmente: 0.0%\n",
      "Accuracy attuale: 80.0%\n",
      "\n"
     ]
    },
    {
     "name": "stderr",
     "output_type": "stream",
     "text": [
      "                                                            \r"
     ]
    },
    {
     "name": "stdout",
     "output_type": "stream",
     "text": [
      "Etichetta corretta: Brad_Pitt\n",
      "Predetto  Brad_Pitt con probabilità 13.040142059326172 e con perturbazione 0.0002318437909707427\n",
      "Adversarial Sample misclassificati correttamente attualmente: 0.0%\n",
      "Accuracy attuale: 83.33333333333334%\n",
      "\n"
     ]
    },
    {
     "name": "stderr",
     "output_type": "stream",
     "text": [
      "                                                            \r"
     ]
    },
    {
     "name": "stdout",
     "output_type": "stream",
     "text": [
      "Etichetta corretta: Christian_De_Sica\n",
      "Predetto  Christian_De_Sica con probabilità 13.590188026428223 e con perturbazione 0.00023153814254328609\n",
      "Adversarial Sample misclassificati correttamente attualmente: 0.0%\n",
      "Accuracy attuale: 85.71428571428571%\n",
      "\n"
     ]
    },
    {
     "name": "stderr",
     "output_type": "stream",
     "text": [
      "                                                            \r"
     ]
    },
    {
     "name": "stdout",
     "output_type": "stream",
     "text": [
      "Etichetta corretta: Christopher_Nolan\n",
      "Predetto  Christopher_Nolan con probabilità 11.926169395446777 e con perturbazione 0.00023037666687741876\n",
      "Adversarial Sample misclassificati correttamente attualmente: 0.0%\n",
      "Accuracy attuale: 87.5%\n",
      "\n"
     ]
    },
    {
     "name": "stderr",
     "output_type": "stream",
     "text": [
      "                                                            \r"
     ]
    },
    {
     "name": "stdout",
     "output_type": "stream",
     "text": [
      "Etichetta corretta: Cristiano_Ronaldo\n",
      "Predetto  Cristiano_Ronaldo con probabilità 12.860973358154297 e con perturbazione 0.00023223954485729337\n",
      "Adversarial Sample misclassificati correttamente attualmente: 0.0%\n",
      "Accuracy attuale: 88.88888888888889%\n",
      "\n"
     ]
    },
    {
     "name": "stderr",
     "output_type": "stream",
     "text": [
      "                                                            \r"
     ]
    },
    {
     "name": "stdout",
     "output_type": "stream",
     "text": [
      "Etichetta corretta: Diego_Maradona\n",
      "Predetto  Diego_Maradona con probabilità 12.168182373046875 e con perturbazione 0.00021810720500070602\n",
      "Adversarial Sample misclassificati correttamente attualmente: 0.0%\n",
      "Accuracy attuale: 90.0%\n",
      "\n",
      "----------- Perturbazione media aggiunta a tutte le immagini per eps_Step: 5e-05 equivale a 0.0002303569606738165% ----------------\n",
      "----------- Accuracy sugli adversarial Sample per eps_step: 5e-05 equivale a 0.9% ----------------\n",
      "----------- Adversarial Sample misclassificati correttamente: 0.0% -----------\n",
      "\n",
      "**** Attacco con eps:0.1 con step a 7e-05 ****\n"
     ]
    },
    {
     "name": "stderr",
     "output_type": "stream",
     "text": [
      "                                                            \r"
     ]
    },
    {
     "name": "stdout",
     "output_type": "stream",
     "text": [
      "Etichetta corretta: Andrea_Pirlo\n",
      "Predetto  Andrea_Pirlo con probabilità 12.551122665405273 e con perturbazione 0.000324130873195827\n",
      "Adversarial Sample misclassificati correttamente attualmente: 0.0%\n",
      "Accuracy attuale: 100.0%\n",
      "\n"
     ]
    },
    {
     "name": "stderr",
     "output_type": "stream",
     "text": [
      "                                                            \r"
     ]
    },
    {
     "name": "stdout",
     "output_type": "stream",
     "text": [
      "Etichetta corretta: Antonio_Cassano\n",
      "Predetto  Branch_Warren con probabilità 10.457512855529785 e con perturbazione 0.0003231066220905632\n",
      "Adversarial Sample misclassificati correttamente attualmente: 0.0%\n",
      "Accuracy attuale: 50.0%\n",
      "\n"
     ]
    },
    {
     "name": "stderr",
     "output_type": "stream",
     "text": [
      "                                                            \r"
     ]
    },
    {
     "name": "stdout",
     "output_type": "stream",
     "text": [
      "Etichetta corretta: Ariana_Grande\n",
      "Predetto  Ariana_Grande con probabilità 10.895007133483887 e con perturbazione 0.00031773364753462374\n",
      "Adversarial Sample misclassificati correttamente attualmente: 0.0%\n",
      "Accuracy attuale: 66.66666666666666%\n",
      "\n"
     ]
    },
    {
     "name": "stderr",
     "output_type": "stream",
     "text": [
      "                                                            \r"
     ]
    },
    {
     "name": "stdout",
     "output_type": "stream",
     "text": [
      "Etichetta corretta: Ashley_Scott\n",
      "Predetto  Ashley_Scott con probabilità 13.457408905029297 e con perturbazione 0.0003220038197468966\n",
      "Adversarial Sample misclassificati correttamente attualmente: 0.0%\n",
      "Accuracy attuale: 75.0%\n",
      "\n"
     ]
    },
    {
     "name": "stderr",
     "output_type": "stream",
     "text": [
      "                                                            \r"
     ]
    },
    {
     "name": "stdout",
     "output_type": "stream",
     "text": [
      "Etichetta corretta: Boris_Johnson\n",
      "Predetto  Boris_Johnson con probabilità 13.106278419494629 e con perturbazione 0.00032209069468081\n",
      "Adversarial Sample misclassificati correttamente attualmente: 0.0%\n",
      "Accuracy attuale: 80.0%\n",
      "\n"
     ]
    },
    {
     "name": "stderr",
     "output_type": "stream",
     "text": [
      "                                                            \r"
     ]
    },
    {
     "name": "stdout",
     "output_type": "stream",
     "text": [
      "Etichetta corretta: Brad_Pitt\n",
      "Predetto  Brad_Pitt con probabilità 12.975090026855469 e con perturbazione 0.00032198592089116573\n",
      "Adversarial Sample misclassificati correttamente attualmente: 0.0%\n",
      "Accuracy attuale: 83.33333333333334%\n",
      "\n"
     ]
    },
    {
     "name": "stderr",
     "output_type": "stream",
     "text": [
      "                                                            \r"
     ]
    },
    {
     "name": "stdout",
     "output_type": "stream",
     "text": [
      "Etichetta corretta: Christian_De_Sica\n",
      "Predetto  Christian_De_Sica con probabilità 13.524709701538086 e con perturbazione 0.00032188245677389205\n",
      "Adversarial Sample misclassificati correttamente attualmente: 0.0%\n",
      "Accuracy attuale: 85.71428571428571%\n",
      "\n"
     ]
    },
    {
     "name": "stderr",
     "output_type": "stream",
     "text": [
      "                                                            \r"
     ]
    },
    {
     "name": "stdout",
     "output_type": "stream",
     "text": [
      "Etichetta corretta: Christopher_Nolan\n",
      "Predetto  Christopher_Nolan con probabilità 11.860847473144531 e con perturbazione 0.0003204438544344157\n",
      "Adversarial Sample misclassificati correttamente attualmente: 0.0%\n",
      "Accuracy attuale: 87.5%\n",
      "\n"
     ]
    },
    {
     "name": "stderr",
     "output_type": "stream",
     "text": [
      "                                                            \r"
     ]
    },
    {
     "name": "stdout",
     "output_type": "stream",
     "text": [
      "Etichetta corretta: Cristiano_Ronaldo\n",
      "Predetto  Cristiano_Ronaldo con probabilità 12.826787948608398 e con perturbazione 0.0003219696518499404\n",
      "Adversarial Sample misclassificati correttamente attualmente: 0.0%\n",
      "Accuracy attuale: 88.88888888888889%\n",
      "\n"
     ]
    },
    {
     "name": "stderr",
     "output_type": "stream",
     "text": [
      "                                                            \r"
     ]
    },
    {
     "name": "stdout",
     "output_type": "stream",
     "text": [
      "Etichetta corretta: Diego_Maradona\n",
      "Predetto  Diego_Maradona con probabilità 12.014398574829102 e con perturbazione 0.00030073602101765573\n",
      "Adversarial Sample misclassificati correttamente attualmente: 0.0%\n",
      "Accuracy attuale: 90.0%\n",
      "\n",
      "----------- Perturbazione media aggiunta a tutte le immagini per eps_Step: 7e-05 equivale a 0.000319608356221579% ----------------\n",
      "----------- Accuracy sugli adversarial Sample per eps_step: 7e-05 equivale a 0.9% ----------------\n",
      "----------- Adversarial Sample misclassificati correttamente: 0.0% -----------\n",
      "\n",
      "**** Attacco con eps:0.1 con step a 0.002 ****\n"
     ]
    },
    {
     "name": "stderr",
     "output_type": "stream",
     "text": [
      "                                                            \r"
     ]
    },
    {
     "name": "stdout",
     "output_type": "stream",
     "text": [
      "Etichetta corretta: Andrea_Pirlo\n",
      "Predetto  Andrea_Pirlo con probabilità 9.371219635009766 e con perturbazione 0.007261357270181179\n",
      "Adversarial Sample misclassificati correttamente attualmente: 0.0%\n",
      "Accuracy attuale: 100.0%\n",
      "\n"
     ]
    },
    {
     "name": "stderr",
     "output_type": "stream",
     "text": [
      "                                                            \r"
     ]
    },
    {
     "name": "stdout",
     "output_type": "stream",
     "text": [
      "Etichetta corretta: Antonio_Cassano\n",
      "Predetto  J._J._Watt con probabilità 9.372086524963379 e con perturbazione 0.006917208898812532\n",
      "Adversarial Sample misclassificati correttamente attualmente: 0.0%\n",
      "Accuracy attuale: 50.0%\n",
      "\n"
     ]
    },
    {
     "name": "stderr",
     "output_type": "stream",
     "text": [
      "                                                            \r"
     ]
    },
    {
     "name": "stdout",
     "output_type": "stream",
     "text": [
      "Etichetta corretta: Ariana_Grande\n",
      "Predetto  Park_Ji-yeon con probabilità 8.909128189086914 e con perturbazione 0.006289359647780657\n",
      "Adversarial Sample misclassificati correttamente attualmente: 0.0%\n",
      "Accuracy attuale: 33.33333333333333%\n",
      "\n"
     ]
    },
    {
     "name": "stderr",
     "output_type": "stream",
     "text": [
      "                                                            \r"
     ]
    },
    {
     "name": "stdout",
     "output_type": "stream",
     "text": [
      "Etichetta corretta: Ashley_Scott\n",
      "Predetto  Gloria_Hunniford con probabilità 9.212250709533691 e con perturbazione 0.006547736935317516\n",
      "Adversarial Sample misclassificati correttamente attualmente: 0.0%\n",
      "Accuracy attuale: 25.0%\n",
      "\n"
     ]
    },
    {
     "name": "stderr",
     "output_type": "stream",
     "text": [
      "                                                            \r"
     ]
    },
    {
     "name": "stdout",
     "output_type": "stream",
     "text": [
      "Etichetta corretta: Boris_Johnson\n",
      "Predetto  Vladimir_Petković con probabilità 9.042558670043945 e con perturbazione 0.006776010151952505\n",
      "Adversarial Sample misclassificati correttamente attualmente: 0.0%\n",
      "Accuracy attuale: 20.0%\n",
      "\n"
     ]
    },
    {
     "name": "stderr",
     "output_type": "stream",
     "text": [
      "                                                            \r"
     ]
    },
    {
     "name": "stdout",
     "output_type": "stream",
     "text": [
      "Etichetta corretta: Brad_Pitt\n",
      "Predetto  Brad_Pitt con probabilità 8.543285369873047 e con perturbazione 0.006768693216145039\n",
      "Adversarial Sample misclassificati correttamente attualmente: 0.0%\n",
      "Accuracy attuale: 33.33333333333333%\n",
      "\n"
     ]
    },
    {
     "name": "stderr",
     "output_type": "stream",
     "text": [
      "                                                            \r"
     ]
    },
    {
     "name": "stdout",
     "output_type": "stream",
     "text": [
      "Etichetta corretta: Christian_De_Sica\n",
      "Predetto  Christian_De_Sica con probabilità 8.70347785949707 e con perturbazione 0.006558024324476719\n",
      "Adversarial Sample misclassificati correttamente attualmente: 0.0%\n",
      "Accuracy attuale: 42.857142857142854%\n",
      "\n"
     ]
    },
    {
     "name": "stderr",
     "output_type": "stream",
     "text": [
      "                                                            \r"
     ]
    },
    {
     "name": "stdout",
     "output_type": "stream",
     "text": [
      "Etichetta corretta: Christopher_Nolan\n",
      "Predetto  Don_Mattingly con probabilità 8.95065689086914 e con perturbazione 0.006558606401085854\n",
      "Adversarial Sample misclassificati correttamente attualmente: 0.0%\n",
      "Accuracy attuale: 37.5%\n",
      "\n"
     ]
    },
    {
     "name": "stderr",
     "output_type": "stream",
     "text": [
      "                                                            \r"
     ]
    },
    {
     "name": "stdout",
     "output_type": "stream",
     "text": [
      "Etichetta corretta: Cristiano_Ronaldo\n",
      "Predetto  Aaron_Hernandez con probabilità 12.957073211669922 e con perturbazione 0.006810867693275213\n",
      "Adversarial Sample misclassificati correttamente attualmente: 0.0%\n",
      "Accuracy attuale: 33.33333333333333%\n",
      "\n"
     ]
    },
    {
     "name": "stderr",
     "output_type": "stream",
     "text": [
      "                                                            \r"
     ]
    },
    {
     "name": "stdout",
     "output_type": "stream",
     "text": [
      "Etichetta corretta: Diego_Maradona\n",
      "Predetto  Paolo_Goltz con probabilità 11.920894622802734 e con perturbazione 0.005303598009049892\n",
      "Adversarial Sample misclassificati correttamente attualmente: 0.0%\n",
      "Accuracy attuale: 30.0%\n",
      "\n",
      "----------- Perturbazione media aggiunta a tutte le immagini per eps_Step: 0.002 equivale a 0.006579146254807711% ----------------\n",
      "----------- Accuracy sugli adversarial Sample per eps_step: 0.002 equivale a 0.3% ----------------\n",
      "----------- Adversarial Sample misclassificati correttamente: 0.0% -----------\n",
      "\n",
      "**** Attacco con eps:0.1 con step a 0.005 ****\n"
     ]
    },
    {
     "name": "stderr",
     "output_type": "stream",
     "text": [
      "                                                            \r"
     ]
    },
    {
     "name": "stdout",
     "output_type": "stream",
     "text": [
      "Etichetta corretta: Andrea_Pirlo\n",
      "Predetto  Aaron_Hernandez con probabilità 9.318333625793457 e con perturbazione 0.01440721470862627\n",
      "Adversarial Sample misclassificati correttamente attualmente: 0.0%\n",
      "Accuracy attuale: 0.0%\n",
      "\n"
     ]
    },
    {
     "name": "stderr",
     "output_type": "stream",
     "text": [
      "                                                            \r"
     ]
    },
    {
     "name": "stdout",
     "output_type": "stream",
     "text": [
      "Etichetta corretta: Antonio_Cassano\n",
      "Predetto  Aaron_Hernandez con probabilità 12.714842796325684 e con perturbazione 0.01310304831713438\n",
      "Adversarial Sample misclassificati correttamente attualmente: 0.0%\n",
      "Accuracy attuale: 0.0%\n",
      "\n"
     ]
    },
    {
     "name": "stderr",
     "output_type": "stream",
     "text": [
      "                                                            \r"
     ]
    },
    {
     "name": "stdout",
     "output_type": "stream",
     "text": [
      "Etichetta corretta: Ariana_Grande\n",
      "Predetto  Aaron_Hernandez con probabilità 11.266731262207031 e con perturbazione 0.01208495069295168\n",
      "Adversarial Sample misclassificati correttamente attualmente: 0.0%\n",
      "Accuracy attuale: 0.0%\n",
      "\n"
     ]
    },
    {
     "name": "stderr",
     "output_type": "stream",
     "text": [
      "                                                            \r"
     ]
    },
    {
     "name": "stdout",
     "output_type": "stream",
     "text": [
      "Etichetta corretta: Ashley_Scott\n",
      "Predetto  Aaron_Hernandez con probabilità 11.849750518798828 e con perturbazione 0.012869324535131454\n",
      "Adversarial Sample misclassificati correttamente attualmente: 0.0%\n",
      "Accuracy attuale: 0.0%\n",
      "\n"
     ]
    },
    {
     "name": "stderr",
     "output_type": "stream",
     "text": [
      "                                                            \r"
     ]
    },
    {
     "name": "stdout",
     "output_type": "stream",
     "text": [
      "Etichetta corretta: Boris_Johnson\n",
      "Predetto  Aaron_Hernandez con probabilità 12.4056396484375 e con perturbazione 0.013224402442574501\n",
      "Adversarial Sample misclassificati correttamente attualmente: 0.0%\n",
      "Accuracy attuale: 0.0%\n",
      "\n"
     ]
    },
    {
     "name": "stderr",
     "output_type": "stream",
     "text": [
      "                                                            \r"
     ]
    },
    {
     "name": "stdout",
     "output_type": "stream",
     "text": [
      "Etichetta corretta: Brad_Pitt\n",
      "Predetto  Aaron_Hernandez con probabilità 13.541823387145996 e con perturbazione 0.013356433250010014\n",
      "Adversarial Sample misclassificati correttamente attualmente: 0.0%\n",
      "Accuracy attuale: 0.0%\n",
      "\n"
     ]
    },
    {
     "name": "stderr",
     "output_type": "stream",
     "text": [
      "                                                            \r"
     ]
    },
    {
     "name": "stdout",
     "output_type": "stream",
     "text": [
      "Etichetta corretta: Christian_De_Sica\n",
      "Predetto  Aaron_Hernandez con probabilità 13.93574333190918 e con perturbazione 0.013038204051554203\n",
      "Adversarial Sample misclassificati correttamente attualmente: 0.0%\n",
      "Accuracy attuale: 0.0%\n",
      "\n"
     ]
    },
    {
     "name": "stderr",
     "output_type": "stream",
     "text": [
      "                                                            \r"
     ]
    },
    {
     "name": "stdout",
     "output_type": "stream",
     "text": [
      "Etichetta corretta: Christopher_Nolan\n",
      "Predetto  Aaron_Hernandez con probabilità 14.72474479675293 e con perturbazione 0.012052270583808422\n",
      "Adversarial Sample misclassificati correttamente attualmente: 0.0%\n",
      "Accuracy attuale: 0.0%\n",
      "\n"
     ]
    },
    {
     "name": "stderr",
     "output_type": "stream",
     "text": [
      "                                                            \r"
     ]
    },
    {
     "name": "stdout",
     "output_type": "stream",
     "text": [
      "Etichetta corretta: Cristiano_Ronaldo\n",
      "Predetto  Aaron_Hernandez con probabilità 16.98843002319336 e con perturbazione 0.012513205409049988\n",
      "Adversarial Sample misclassificati correttamente attualmente: 0.0%\n",
      "Accuracy attuale: 0.0%\n",
      "\n"
     ]
    },
    {
     "name": "stderr",
     "output_type": "stream",
     "text": [
      "                                                            \r"
     ]
    },
    {
     "name": "stdout",
     "output_type": "stream",
     "text": [
      "Etichetta corretta: Diego_Maradona\n",
      "Predetto  Aaron_Hernandez con probabilità 14.698561668395996 e con perturbazione 0.011481436900794506\n",
      "Adversarial Sample misclassificati correttamente attualmente: 0.0%\n",
      "Accuracy attuale: 0.0%\n",
      "\n",
      "----------- Perturbazione media aggiunta a tutte le immagini per eps_Step: 0.005 equivale a 0.012813049089163541% ----------------\n",
      "----------- Accuracy sugli adversarial Sample per eps_step: 0.005 equivale a 0.0% ----------------\n",
      "----------- Adversarial Sample misclassificati correttamente: 0.0% -----------\n",
      "\n",
      "**** Attacco con eps:0.1 con step a 0.007 ****\n"
     ]
    },
    {
     "name": "stderr",
     "output_type": "stream",
     "text": [
      "                                                            \r"
     ]
    },
    {
     "name": "stdout",
     "output_type": "stream",
     "text": [
      "Etichetta corretta: Andrea_Pirlo\n",
      "Predetto  Aaron_Hernandez con probabilità 12.535280227661133 e con perturbazione 0.017998864874243736\n",
      "Adversarial Sample misclassificati correttamente attualmente: 0.0%\n",
      "Accuracy attuale: 0.0%\n",
      "\n"
     ]
    },
    {
     "name": "stderr",
     "output_type": "stream",
     "text": [
      "                                                            \r"
     ]
    },
    {
     "name": "stdout",
     "output_type": "stream",
     "text": [
      "Etichetta corretta: Antonio_Cassano\n",
      "Predetto  Aaron_Hernandez con probabilità 14.02619457244873 e con perturbazione 0.016383780166506767\n",
      "Adversarial Sample misclassificati correttamente attualmente: 0.0%\n",
      "Accuracy attuale: 0.0%\n",
      "\n"
     ]
    },
    {
     "name": "stderr",
     "output_type": "stream",
     "text": [
      "                                                            \r"
     ]
    },
    {
     "name": "stdout",
     "output_type": "stream",
     "text": [
      "Etichetta corretta: Ariana_Grande\n",
      "Predetto  Aaron_Hernandez con probabilità 13.577463150024414 e con perturbazione 0.01593642681837082\n",
      "Adversarial Sample misclassificati correttamente attualmente: 0.0%\n",
      "Accuracy attuale: 0.0%\n",
      "\n"
     ]
    },
    {
     "name": "stderr",
     "output_type": "stream",
     "text": [
      "                                                            \r"
     ]
    },
    {
     "name": "stdout",
     "output_type": "stream",
     "text": [
      "Etichetta corretta: Ashley_Scott\n",
      "Predetto  Aaron_Hernandez con probabilità 13.082155227661133 e con perturbazione 0.016332920640707016\n",
      "Adversarial Sample misclassificati correttamente attualmente: 0.0%\n",
      "Accuracy attuale: 0.0%\n",
      "\n"
     ]
    },
    {
     "name": "stderr",
     "output_type": "stream",
     "text": [
      "                                                            \r"
     ]
    },
    {
     "name": "stdout",
     "output_type": "stream",
     "text": [
      "Etichetta corretta: Boris_Johnson\n",
      "Predetto  Aaron_Hernandez con probabilità 15.252928733825684 e con perturbazione 0.016516491770744324\n",
      "Adversarial Sample misclassificati correttamente attualmente: 0.0%\n",
      "Accuracy attuale: 0.0%\n",
      "\n"
     ]
    },
    {
     "name": "stderr",
     "output_type": "stream",
     "text": [
      "                                                            \r"
     ]
    },
    {
     "name": "stdout",
     "output_type": "stream",
     "text": [
      "Etichetta corretta: Brad_Pitt\n",
      "Predetto  Aaron_Hernandez con probabilità 16.704809188842773 e con perturbazione 0.016629312187433243\n",
      "Adversarial Sample misclassificati correttamente attualmente: 0.0%\n",
      "Accuracy attuale: 0.0%\n",
      "\n"
     ]
    },
    {
     "name": "stderr",
     "output_type": "stream",
     "text": [
      "                                                            \r"
     ]
    },
    {
     "name": "stdout",
     "output_type": "stream",
     "text": [
      "Etichetta corretta: Christian_De_Sica\n",
      "Predetto  Aaron_Hernandez con probabilità 14.087674140930176 e con perturbazione 0.0159528236836195\n",
      "Adversarial Sample misclassificati correttamente attualmente: 0.0%\n",
      "Accuracy attuale: 0.0%\n",
      "\n"
     ]
    },
    {
     "name": "stderr",
     "output_type": "stream",
     "text": [
      "                                                            \r"
     ]
    },
    {
     "name": "stdout",
     "output_type": "stream",
     "text": [
      "Etichetta corretta: Christopher_Nolan\n",
      "Predetto  Aaron_Hernandez con probabilità 15.814957618713379 e con perturbazione 0.015403203666210175\n",
      "Adversarial Sample misclassificati correttamente attualmente: 0.0%\n",
      "Accuracy attuale: 0.0%\n",
      "\n"
     ]
    },
    {
     "name": "stderr",
     "output_type": "stream",
     "text": [
      "                                                            \r"
     ]
    },
    {
     "name": "stdout",
     "output_type": "stream",
     "text": [
      "Etichetta corretta: Cristiano_Ronaldo\n",
      "Predetto  Aaron_Hernandez con probabilità 18.220640182495117 e con perturbazione 0.015282729640603065\n",
      "Adversarial Sample misclassificati correttamente attualmente: 0.0%\n",
      "Accuracy attuale: 0.0%\n",
      "\n"
     ]
    },
    {
     "name": "stderr",
     "output_type": "stream",
     "text": [
      "                                                            \r"
     ]
    },
    {
     "name": "stdout",
     "output_type": "stream",
     "text": [
      "Etichetta corretta: Diego_Maradona\n",
      "Predetto  Aaron_Hernandez con probabilità 13.792699813842773 e con perturbazione 0.01511993259191513\n",
      "Adversarial Sample misclassificati correttamente attualmente: 0.0%\n",
      "Accuracy attuale: 0.0%\n",
      "\n",
      "----------- Perturbazione media aggiunta a tutte le immagini per eps_Step: 0.007 equivale a 0.01615564860403538% ----------------\n",
      "----------- Accuracy sugli adversarial Sample per eps_step: 0.007 equivale a 0.0% ----------------\n",
      "----------- Adversarial Sample misclassificati correttamente: 0.0% -----------\n",
      "\n",
      "**** Attacco con eps:0.1 con step a 0.02 ****\n"
     ]
    },
    {
     "name": "stderr",
     "output_type": "stream",
     "text": [
      "                                                            \r"
     ]
    },
    {
     "name": "stdout",
     "output_type": "stream",
     "text": [
      "Etichetta corretta: Andrea_Pirlo\n",
      "Predetto  Aaron_Hernandez con probabilità 14.342877388000488 e con perturbazione 0.039448171854019165\n",
      "Adversarial Sample misclassificati correttamente attualmente: 0.0%\n",
      "Accuracy attuale: 0.0%\n",
      "\n"
     ]
    },
    {
     "name": "stderr",
     "output_type": "stream",
     "text": [
      "                                                            \r"
     ]
    },
    {
     "name": "stdout",
     "output_type": "stream",
     "text": [
      "Etichetta corretta: Antonio_Cassano\n",
      "Predetto  Aaron_Hernandez con probabilità 17.91695213317871 e con perturbazione 0.038278885185718536\n",
      "Adversarial Sample misclassificati correttamente attualmente: 0.0%\n",
      "Accuracy attuale: 0.0%\n",
      "\n"
     ]
    },
    {
     "name": "stderr",
     "output_type": "stream",
     "text": [
      "                                                            \r"
     ]
    },
    {
     "name": "stdout",
     "output_type": "stream",
     "text": [
      "Etichetta corretta: Ariana_Grande\n",
      "Predetto  Aaron_Hernandez con probabilità 13.399269104003906 e con perturbazione 0.036773160099983215\n",
      "Adversarial Sample misclassificati correttamente attualmente: 0.0%\n",
      "Accuracy attuale: 0.0%\n",
      "\n"
     ]
    },
    {
     "name": "stderr",
     "output_type": "stream",
     "text": [
      "                                                            \r"
     ]
    },
    {
     "name": "stdout",
     "output_type": "stream",
     "text": [
      "Etichetta corretta: Ashley_Scott\n",
      "Predetto  Aaron_Hernandez con probabilità 13.217912673950195 e con perturbazione 0.03750857710838318\n",
      "Adversarial Sample misclassificati correttamente attualmente: 0.0%\n",
      "Accuracy attuale: 0.0%\n",
      "\n"
     ]
    },
    {
     "name": "stderr",
     "output_type": "stream",
     "text": [
      "                                                            \r"
     ]
    },
    {
     "name": "stdout",
     "output_type": "stream",
     "text": [
      "Etichetta corretta: Boris_Johnson\n",
      "Predetto  Aaron_Hernandez con probabilità 16.19948959350586 e con perturbazione 0.0376741997897625\n",
      "Adversarial Sample misclassificati correttamente attualmente: 0.0%\n",
      "Accuracy attuale: 0.0%\n",
      "\n"
     ]
    },
    {
     "name": "stderr",
     "output_type": "stream",
     "text": [
      "                                                            \r"
     ]
    },
    {
     "name": "stdout",
     "output_type": "stream",
     "text": [
      "Etichetta corretta: Brad_Pitt\n",
      "Predetto  Aaron_Hernandez con probabilità 16.884241104125977 e con perturbazione 0.03730910271406174\n",
      "Adversarial Sample misclassificati correttamente attualmente: 0.0%\n",
      "Accuracy attuale: 0.0%\n",
      "\n"
     ]
    },
    {
     "name": "stderr",
     "output_type": "stream",
     "text": [
      "                                                            \r"
     ]
    },
    {
     "name": "stdout",
     "output_type": "stream",
     "text": [
      "Etichetta corretta: Christian_De_Sica\n",
      "Predetto  Aaron_Hernandez con probabilità 15.479400634765625 e con perturbazione 0.03641796484589577\n",
      "Adversarial Sample misclassificati correttamente attualmente: 0.0%\n",
      "Accuracy attuale: 0.0%\n",
      "\n"
     ]
    },
    {
     "name": "stderr",
     "output_type": "stream",
     "text": [
      "                                                            \r"
     ]
    },
    {
     "name": "stdout",
     "output_type": "stream",
     "text": [
      "Etichetta corretta: Christopher_Nolan\n",
      "Predetto  Aaron_Hernandez con probabilità 16.611024856567383 e con perturbazione 0.036125779151916504\n",
      "Adversarial Sample misclassificati correttamente attualmente: 0.0%\n",
      "Accuracy attuale: 0.0%\n",
      "\n"
     ]
    },
    {
     "name": "stderr",
     "output_type": "stream",
     "text": [
      "                                                            \r"
     ]
    },
    {
     "name": "stdout",
     "output_type": "stream",
     "text": [
      "Etichetta corretta: Cristiano_Ronaldo\n",
      "Predetto  Aaron_Hernandez con probabilità 18.48054313659668 e con perturbazione 0.03553670272231102\n",
      "Adversarial Sample misclassificati correttamente attualmente: 0.0%\n",
      "Accuracy attuale: 0.0%\n",
      "\n"
     ]
    },
    {
     "name": "stderr",
     "output_type": "stream",
     "text": [
      "                                                            \r"
     ]
    },
    {
     "name": "stdout",
     "output_type": "stream",
     "text": [
      "Etichetta corretta: Diego_Maradona\n",
      "Predetto  Aaron_Hernandez con probabilità 14.203195571899414 e con perturbazione 0.036945562809705734\n",
      "Adversarial Sample misclassificati correttamente attualmente: 0.0%\n",
      "Accuracy attuale: 0.0%\n",
      "\n",
      "----------- Perturbazione media aggiunta a tutte le immagini per eps_Step: 0.02 equivale a 0.037201810628175735% ----------------\n",
      "----------- Accuracy sugli adversarial Sample per eps_step: 0.02 equivale a 0.0% ----------------\n",
      "----------- Adversarial Sample misclassificati correttamente: 0.0% -----------\n",
      "\n",
      "**** Attacco con eps:0.1 con step a 0.05 ****\n"
     ]
    },
    {
     "name": "stderr",
     "output_type": "stream",
     "text": [
      "                                                            \r"
     ]
    },
    {
     "name": "stdout",
     "output_type": "stream",
     "text": [
      "Etichetta corretta: Andrea_Pirlo\n",
      "Predetto  Aaron_Hernandez con probabilità 12.973037719726562 e con perturbazione 0.06128190457820892\n",
      "Adversarial Sample misclassificati correttamente attualmente: 0.0%\n",
      "Accuracy attuale: 0.0%\n",
      "\n"
     ]
    },
    {
     "name": "stderr",
     "output_type": "stream",
     "text": [
      "                                                            \r"
     ]
    },
    {
     "name": "stdout",
     "output_type": "stream",
     "text": [
      "Etichetta corretta: Antonio_Cassano\n",
      "Predetto  Aaron_Hernandez con probabilità 15.329715728759766 e con perturbazione 0.061636071652173996\n",
      "Adversarial Sample misclassificati correttamente attualmente: 0.0%\n",
      "Accuracy attuale: 0.0%\n",
      "\n"
     ]
    },
    {
     "name": "stderr",
     "output_type": "stream",
     "text": [
      "                                                            \r"
     ]
    },
    {
     "name": "stdout",
     "output_type": "stream",
     "text": [
      "Etichetta corretta: Ariana_Grande\n",
      "Predetto  Aaron_Hernandez con probabilità 12.58303451538086 e con perturbazione 0.060453783720731735\n",
      "Adversarial Sample misclassificati correttamente attualmente: 0.0%\n",
      "Accuracy attuale: 0.0%\n",
      "\n"
     ]
    },
    {
     "name": "stderr",
     "output_type": "stream",
     "text": [
      "                                                            \r"
     ]
    },
    {
     "name": "stdout",
     "output_type": "stream",
     "text": [
      "Etichetta corretta: Ashley_Scott\n",
      "Predetto  Aaron_Hernandez con probabilità 11.888715744018555 e con perturbazione 0.061033859848976135\n",
      "Adversarial Sample misclassificati correttamente attualmente: 0.0%\n",
      "Accuracy attuale: 0.0%\n",
      "\n"
     ]
    },
    {
     "name": "stderr",
     "output_type": "stream",
     "text": [
      "                                                            \r"
     ]
    },
    {
     "name": "stdout",
     "output_type": "stream",
     "text": [
      "Etichetta corretta: Boris_Johnson\n",
      "Predetto  Aaron_Hernandez con probabilità 15.194878578186035 e con perturbazione 0.06071550399065018\n",
      "Adversarial Sample misclassificati correttamente attualmente: 0.0%\n",
      "Accuracy attuale: 0.0%\n",
      "\n"
     ]
    },
    {
     "name": "stderr",
     "output_type": "stream",
     "text": [
      "                                                            \r"
     ]
    },
    {
     "name": "stdout",
     "output_type": "stream",
     "text": [
      "Etichetta corretta: Brad_Pitt\n",
      "Predetto  Aaron_Hernandez con probabilità 15.460124969482422 e con perturbazione 0.06173698604106903\n",
      "Adversarial Sample misclassificati correttamente attualmente: 0.0%\n",
      "Accuracy attuale: 0.0%\n",
      "\n"
     ]
    },
    {
     "name": "stderr",
     "output_type": "stream",
     "text": [
      "                                                            \r"
     ]
    },
    {
     "name": "stdout",
     "output_type": "stream",
     "text": [
      "Etichetta corretta: Christian_De_Sica\n",
      "Predetto  Aaron_Hernandez con probabilità 12.907949447631836 e con perturbazione 0.06056054309010506\n",
      "Adversarial Sample misclassificati correttamente attualmente: 0.0%\n",
      "Accuracy attuale: 0.0%\n",
      "\n"
     ]
    },
    {
     "name": "stderr",
     "output_type": "stream",
     "text": [
      "                                                            \r"
     ]
    },
    {
     "name": "stdout",
     "output_type": "stream",
     "text": [
      "Etichetta corretta: Christopher_Nolan\n",
      "Predetto  Aaron_Hernandez con probabilità 14.013166427612305 e con perturbazione 0.0614316426217556\n",
      "Adversarial Sample misclassificati correttamente attualmente: 0.0%\n",
      "Accuracy attuale: 0.0%\n",
      "\n"
     ]
    },
    {
     "name": "stderr",
     "output_type": "stream",
     "text": [
      "                                                            \r"
     ]
    },
    {
     "name": "stdout",
     "output_type": "stream",
     "text": [
      "Etichetta corretta: Cristiano_Ronaldo\n",
      "Predetto  Aaron_Hernandez con probabilità 16.108407974243164 e con perturbazione 0.06091602146625519\n",
      "Adversarial Sample misclassificati correttamente attualmente: 0.0%\n",
      "Accuracy attuale: 0.0%\n",
      "\n"
     ]
    },
    {
     "name": "stderr",
     "output_type": "stream",
     "text": [
      "                                                            \r"
     ]
    },
    {
     "name": "stdout",
     "output_type": "stream",
     "text": [
      "Etichetta corretta: Diego_Maradona\n",
      "Predetto  Aaron_Hernandez con probabilità 11.407883644104004 e con perturbazione 0.0598125085234642\n",
      "Adversarial Sample misclassificati correttamente attualmente: 0.0%\n",
      "Accuracy attuale: 0.0%\n",
      "\n",
      "----------- Perturbazione media aggiunta a tutte le immagini per eps_Step: 0.05 equivale a 0.060957882553339005% ----------------\n",
      "----------- Accuracy sugli adversarial Sample per eps_step: 0.05 equivale a 0.0% ----------------\n",
      "----------- Adversarial Sample misclassificati correttamente: 0.0% -----------\n",
      "\n",
      "**** Attacco con eps:0.1 con step a 0.07 ****\n"
     ]
    },
    {
     "name": "stderr",
     "output_type": "stream",
     "text": [
      "                                                            \r"
     ]
    },
    {
     "name": "stdout",
     "output_type": "stream",
     "text": [
      "Etichetta corretta: Andrea_Pirlo\n",
      "Predetto  Aaron_Hernandez con probabilità 11.168891906738281 e con perturbazione 0.06498033553361893\n",
      "Adversarial Sample misclassificati correttamente attualmente: 0.0%\n",
      "Accuracy attuale: 0.0%\n",
      "\n"
     ]
    },
    {
     "name": "stderr",
     "output_type": "stream",
     "text": [
      "                                                            \r"
     ]
    },
    {
     "name": "stdout",
     "output_type": "stream",
     "text": [
      "Etichetta corretta: Antonio_Cassano\n",
      "Predetto  Aaron_Hernandez con probabilità 12.429253578186035 e con perturbazione 0.0654175877571106\n",
      "Adversarial Sample misclassificati correttamente attualmente: 0.0%\n",
      "Accuracy attuale: 0.0%\n",
      "\n"
     ]
    },
    {
     "name": "stderr",
     "output_type": "stream",
     "text": [
      "                                                            \r"
     ]
    },
    {
     "name": "stdout",
     "output_type": "stream",
     "text": [
      "Etichetta corretta: Ariana_Grande\n",
      "Predetto  Aaron_Hernandez con probabilità 12.180493354797363 e con perturbazione 0.06526680290699005\n",
      "Adversarial Sample misclassificati correttamente attualmente: 0.0%\n",
      "Accuracy attuale: 0.0%\n",
      "\n"
     ]
    },
    {
     "name": "stderr",
     "output_type": "stream",
     "text": [
      "                                                            \r"
     ]
    },
    {
     "name": "stdout",
     "output_type": "stream",
     "text": [
      "Etichetta corretta: Ashley_Scott\n",
      "Predetto  Nate_Diaz con probabilità 10.423831939697266 e con perturbazione 0.06560859829187393\n",
      "Adversarial Sample misclassificati correttamente attualmente: 0.0%\n",
      "Accuracy attuale: 0.0%\n",
      "\n"
     ]
    },
    {
     "name": "stderr",
     "output_type": "stream",
     "text": [
      "                                                            \r"
     ]
    },
    {
     "name": "stdout",
     "output_type": "stream",
     "text": [
      "Etichetta corretta: Boris_Johnson\n",
      "Predetto  Aaron_Hernandez con probabilità 13.609719276428223 e con perturbazione 0.0644238293170929\n",
      "Adversarial Sample misclassificati correttamente attualmente: 0.0%\n",
      "Accuracy attuale: 0.0%\n",
      "\n"
     ]
    },
    {
     "name": "stderr",
     "output_type": "stream",
     "text": [
      "                                                            \r"
     ]
    },
    {
     "name": "stdout",
     "output_type": "stream",
     "text": [
      "Etichetta corretta: Brad_Pitt\n",
      "Predetto  Aaron_Hernandez con probabilità 10.379194259643555 e con perturbazione 0.0645342543721199\n",
      "Adversarial Sample misclassificati correttamente attualmente: 0.0%\n",
      "Accuracy attuale: 0.0%\n",
      "\n"
     ]
    },
    {
     "name": "stderr",
     "output_type": "stream",
     "text": [
      "                                                            \r"
     ]
    },
    {
     "name": "stdout",
     "output_type": "stream",
     "text": [
      "Etichetta corretta: Christian_De_Sica\n",
      "Predetto  Aaron_Hernandez con probabilità 11.26534652709961 e con perturbazione 0.06487083435058594\n",
      "Adversarial Sample misclassificati correttamente attualmente: 0.0%\n",
      "Accuracy attuale: 0.0%\n",
      "\n"
     ]
    },
    {
     "name": "stderr",
     "output_type": "stream",
     "text": [
      "                                                            \r"
     ]
    },
    {
     "name": "stdout",
     "output_type": "stream",
     "text": [
      "Etichetta corretta: Christopher_Nolan\n",
      "Predetto  Aaron_Hernandez con probabilità 11.353034973144531 e con perturbazione 0.0645621120929718\n",
      "Adversarial Sample misclassificati correttamente attualmente: 0.0%\n",
      "Accuracy attuale: 0.0%\n",
      "\n"
     ]
    },
    {
     "name": "stderr",
     "output_type": "stream",
     "text": [
      "                                                            \r"
     ]
    },
    {
     "name": "stdout",
     "output_type": "stream",
     "text": [
      "Etichetta corretta: Cristiano_Ronaldo\n",
      "Predetto  Aaron_Hernandez con probabilità 14.040642738342285 e con perturbazione 0.06465612351894379\n",
      "Adversarial Sample misclassificati correttamente attualmente: 0.0%\n",
      "Accuracy attuale: 0.0%\n",
      "\n"
     ]
    },
    {
     "name": "stderr",
     "output_type": "stream",
     "text": [
      "                                                            \r"
     ]
    },
    {
     "name": "stdout",
     "output_type": "stream",
     "text": [
      "Etichetta corretta: Diego_Maradona\n",
      "Predetto  Aaron_Hernandez con probabilità 10.562646865844727 e con perturbazione 0.06443697959184647\n",
      "Adversarial Sample misclassificati correttamente attualmente: 0.0%\n",
      "Accuracy attuale: 0.0%\n",
      "\n",
      "----------- Perturbazione media aggiunta a tutte le immagini per eps_Step: 0.07 equivale a 0.06487574577331542% ----------------\n",
      "----------- Accuracy sugli adversarial Sample per eps_step: 0.07 equivale a 0.0% ----------------\n",
      "----------- Adversarial Sample misclassificati correttamente: 0.0% -----------\n",
      "\n",
      "**** Attacco con eps:0.1 con step a 0.1 ****\n"
     ]
    },
    {
     "name": "stderr",
     "output_type": "stream",
     "text": [
      "                                                            \r"
     ]
    },
    {
     "name": "stdout",
     "output_type": "stream",
     "text": [
      "Etichetta corretta: Andrea_Pirlo\n",
      "Predetto  Joe_Girardi con probabilità 10.666610717773438 e con perturbazione 0.06812760978937149\n",
      "Adversarial Sample misclassificati correttamente attualmente: 0.0%\n",
      "Accuracy attuale: 0.0%\n",
      "\n"
     ]
    },
    {
     "name": "stderr",
     "output_type": "stream",
     "text": [
      "                                                            \r"
     ]
    },
    {
     "name": "stdout",
     "output_type": "stream",
     "text": [
      "Etichetta corretta: Antonio_Cassano\n",
      "Predetto  Aaron_Hernandez con probabilità 12.450239181518555 e con perturbazione 0.06993881613016129\n",
      "Adversarial Sample misclassificati correttamente attualmente: 0.0%\n",
      "Accuracy attuale: 0.0%\n",
      "\n"
     ]
    },
    {
     "name": "stderr",
     "output_type": "stream",
     "text": [
      "                                                            \r"
     ]
    },
    {
     "name": "stdout",
     "output_type": "stream",
     "text": [
      "Etichetta corretta: Ariana_Grande\n",
      "Predetto  Imanol_Harinordoquy con probabilità 10.525252342224121 e con perturbazione 0.06803255528211594\n",
      "Adversarial Sample misclassificati correttamente attualmente: 0.0%\n",
      "Accuracy attuale: 0.0%\n",
      "\n"
     ]
    },
    {
     "name": "stderr",
     "output_type": "stream",
     "text": [
      "                                                            \r"
     ]
    },
    {
     "name": "stdout",
     "output_type": "stream",
     "text": [
      "Etichetta corretta: Ashley_Scott\n",
      "Predetto  Aaron_Hernandez con probabilità 10.424654960632324 e con perturbazione 0.06815366446971893\n",
      "Adversarial Sample misclassificati correttamente attualmente: 0.0%\n",
      "Accuracy attuale: 0.0%\n",
      "\n"
     ]
    },
    {
     "name": "stderr",
     "output_type": "stream",
     "text": [
      "                                                            \r"
     ]
    },
    {
     "name": "stdout",
     "output_type": "stream",
     "text": [
      "Etichetta corretta: Boris_Johnson\n",
      "Predetto  Hans_Jörg_Schelling con probabilità 11.143529891967773 e con perturbazione 0.06630990654230118\n",
      "Adversarial Sample misclassificati correttamente attualmente: 0.0%\n",
      "Accuracy attuale: 0.0%\n",
      "\n"
     ]
    },
    {
     "name": "stderr",
     "output_type": "stream",
     "text": [
      "                                                            \r"
     ]
    },
    {
     "name": "stdout",
     "output_type": "stream",
     "text": [
      "Etichetta corretta: Brad_Pitt\n",
      "Predetto  Aaron_Hernandez con probabilità 11.234659194946289 e con perturbazione 0.06805990636348724\n",
      "Adversarial Sample misclassificati correttamente attualmente: 0.0%\n",
      "Accuracy attuale: 0.0%\n",
      "\n"
     ]
    },
    {
     "name": "stderr",
     "output_type": "stream",
     "text": [
      "                                                            \r"
     ]
    },
    {
     "name": "stdout",
     "output_type": "stream",
     "text": [
      "Etichetta corretta: Christian_De_Sica\n",
      "Predetto  Aaron_Hernandez con probabilità 9.616072654724121 e con perturbazione 0.06742969155311584\n",
      "Adversarial Sample misclassificati correttamente attualmente: 0.0%\n",
      "Accuracy attuale: 0.0%\n",
      "\n"
     ]
    },
    {
     "name": "stderr",
     "output_type": "stream",
     "text": [
      "                                                            \r"
     ]
    },
    {
     "name": "stdout",
     "output_type": "stream",
     "text": [
      "Etichetta corretta: Christopher_Nolan\n",
      "Predetto  Ivan_Perišić con probabilità 10.401275634765625 e con perturbazione 0.06584896892309189\n",
      "Adversarial Sample misclassificati correttamente attualmente: 0.0%\n",
      "Accuracy attuale: 0.0%\n",
      "\n"
     ]
    },
    {
     "name": "stderr",
     "output_type": "stream",
     "text": [
      "                                                            \r"
     ]
    },
    {
     "name": "stdout",
     "output_type": "stream",
     "text": [
      "Etichetta corretta: Cristiano_Ronaldo\n",
      "Predetto  Paul_Gallen con probabilità 11.029582977294922 e con perturbazione 0.06555990129709244\n",
      "Adversarial Sample misclassificati correttamente attualmente: 0.0%\n",
      "Accuracy attuale: 0.0%\n",
      "\n"
     ]
    },
    {
     "name": "stderr",
     "output_type": "stream",
     "text": [
      "                                                            \r"
     ]
    },
    {
     "name": "stdout",
     "output_type": "stream",
     "text": [
      "Etichetta corretta: Diego_Maradona\n",
      "Predetto  José_Mayer con probabilità 11.566534996032715 e con perturbazione 0.06758464872837067\n",
      "Adversarial Sample misclassificati correttamente attualmente: 0.0%\n",
      "Accuracy attuale: 0.0%\n",
      "\n",
      "----------- Perturbazione media aggiunta a tutte le immagini per eps_Step: 0.1 equivale a 0.06750456690788269% ----------------\n",
      "----------- Accuracy sugli adversarial Sample per eps_step: 0.1 equivale a 0.0% ----------------\n",
      "----------- Adversarial Sample misclassificati correttamente: 0.0% -----------\n",
      "\n",
      "\n",
      "--------------------------------------------------------------------------------------------------------------------------------------------------------------------\n",
      "\n",
      "**** Attacco con max_iter 7 **** \n",
      "**** Attacco con eps:0.1 con step a 2e-05 ****\n"
     ]
    },
    {
     "name": "stderr",
     "output_type": "stream",
     "text": [
      "                                                            \r"
     ]
    },
    {
     "name": "stdout",
     "output_type": "stream",
     "text": [
      "Etichetta corretta: Andrea_Pirlo\n",
      "Predetto  Andrea_Pirlo con probabilità 12.655025482177734 e con perturbazione 0.00013200419198255986\n",
      "Adversarial Sample misclassificati correttamente attualmente: 0.0%\n",
      "Accuracy attuale: 100.0%\n",
      "\n"
     ]
    },
    {
     "name": "stderr",
     "output_type": "stream",
     "text": [
      "                                                            \r"
     ]
    },
    {
     "name": "stdout",
     "output_type": "stream",
     "text": [
      "Etichetta corretta: Antonio_Cassano\n",
      "Predetto  Branch_Warren con probabilità 10.487035751342773 e con perturbazione 0.000131381384562701\n",
      "Adversarial Sample misclassificati correttamente attualmente: 0.0%\n",
      "Accuracy attuale: 50.0%\n",
      "\n"
     ]
    },
    {
     "name": "stderr",
     "output_type": "stream",
     "text": [
      "                                                            \r"
     ]
    },
    {
     "name": "stdout",
     "output_type": "stream",
     "text": [
      "Etichetta corretta: Ariana_Grande\n",
      "Predetto  Ariana_Grande con probabilità 11.06424617767334 e con perturbazione 0.0001300091971643269\n",
      "Adversarial Sample misclassificati correttamente attualmente: 0.0%\n",
      "Accuracy attuale: 66.66666666666666%\n",
      "\n"
     ]
    },
    {
     "name": "stderr",
     "output_type": "stream",
     "text": [
      "                                                            \r"
     ]
    },
    {
     "name": "stdout",
     "output_type": "stream",
     "text": [
      "Etichetta corretta: Ashley_Scott\n",
      "Predetto  Ashley_Scott con probabilità 13.72201156616211 e con perturbazione 0.00013114635657984763\n",
      "Adversarial Sample misclassificati correttamente attualmente: 0.0%\n",
      "Accuracy attuale: 75.0%\n",
      "\n"
     ]
    },
    {
     "name": "stderr",
     "output_type": "stream",
     "text": [
      "                                                            \r"
     ]
    },
    {
     "name": "stdout",
     "output_type": "stream",
     "text": [
      "Etichetta corretta: Boris_Johnson\n",
      "Predetto  Boris_Johnson con probabilità 13.238460540771484 e con perturbazione 0.00013126460544299334\n",
      "Adversarial Sample misclassificati correttamente attualmente: 0.0%\n",
      "Accuracy attuale: 80.0%\n",
      "\n"
     ]
    },
    {
     "name": "stderr",
     "output_type": "stream",
     "text": [
      "                                                            \r"
     ]
    },
    {
     "name": "stdout",
     "output_type": "stream",
     "text": [
      "Etichetta corretta: Brad_Pitt\n",
      "Predetto  Brad_Pitt con probabilità 13.112828254699707 e con perturbazione 0.0001308231585426256\n",
      "Adversarial Sample misclassificati correttamente attualmente: 0.0%\n",
      "Accuracy attuale: 83.33333333333334%\n",
      "\n"
     ]
    },
    {
     "name": "stderr",
     "output_type": "stream",
     "text": [
      "                                                            \r"
     ]
    },
    {
     "name": "stdout",
     "output_type": "stream",
     "text": [
      "Etichetta corretta: Christian_De_Sica\n",
      "Predetto  Christian_De_Sica con probabilità 13.66160774230957 e con perturbazione 0.00013098487397655845\n",
      "Adversarial Sample misclassificati correttamente attualmente: 0.0%\n",
      "Accuracy attuale: 85.71428571428571%\n",
      "\n"
     ]
    },
    {
     "name": "stderr",
     "output_type": "stream",
     "text": [
      "                                                            \r"
     ]
    },
    {
     "name": "stdout",
     "output_type": "stream",
     "text": [
      "Etichetta corretta: Christopher_Nolan\n",
      "Predetto  Christopher_Nolan con probabilità 11.993555068969727 e con perturbazione 0.0001306749472860247\n",
      "Adversarial Sample misclassificati correttamente attualmente: 0.0%\n",
      "Accuracy attuale: 87.5%\n",
      "\n"
     ]
    },
    {
     "name": "stderr",
     "output_type": "stream",
     "text": [
      "                                                            \r"
     ]
    },
    {
     "name": "stdout",
     "output_type": "stream",
     "text": [
      "Etichetta corretta: Cristiano_Ronaldo\n",
      "Predetto  Cristiano_Ronaldo con probabilità 12.899182319641113 e con perturbazione 0.00013128985301591456\n",
      "Adversarial Sample misclassificati correttamente attualmente: 0.0%\n",
      "Accuracy attuale: 88.88888888888889%\n",
      "\n"
     ]
    },
    {
     "name": "stderr",
     "output_type": "stream",
     "text": [
      "                                                            \r"
     ]
    },
    {
     "name": "stdout",
     "output_type": "stream",
     "text": [
      "Etichetta corretta: Diego_Maradona\n",
      "Predetto  Diego_Maradona con probabilità 12.355018615722656 e con perturbazione 0.0001266503968508914\n",
      "Adversarial Sample misclassificati correttamente attualmente: 0.0%\n",
      "Accuracy attuale: 90.0%\n",
      "\n",
      "----------- Perturbazione media aggiunta a tutte le immagini per eps_Step: 2e-05 equivale a 0.00013062289654044434% ----------------\n",
      "----------- Accuracy sugli adversarial Sample per eps_step: 2e-05 equivale a 0.9% ----------------\n",
      "----------- Adversarial Sample misclassificati correttamente: 0.0% -----------\n",
      "\n",
      "**** Attacco con eps:0.1 con step a 5e-05 ****\n"
     ]
    },
    {
     "name": "stderr",
     "output_type": "stream",
     "text": [
      "                                                            \r"
     ]
    },
    {
     "name": "stdout",
     "output_type": "stream",
     "text": [
      "Etichetta corretta: Andrea_Pirlo\n",
      "Predetto  Andrea_Pirlo con probabilità 12.551309585571289 e con perturbazione 0.0003236937627661973\n",
      "Adversarial Sample misclassificati correttamente attualmente: 0.0%\n",
      "Accuracy attuale: 100.0%\n",
      "\n"
     ]
    },
    {
     "name": "stderr",
     "output_type": "stream",
     "text": [
      "                                                            \r"
     ]
    },
    {
     "name": "stdout",
     "output_type": "stream",
     "text": [
      "Etichetta corretta: Antonio_Cassano\n",
      "Predetto  Branch_Warren con probabilità 10.457374572753906 e con perturbazione 0.00032257914426736534\n",
      "Adversarial Sample misclassificati correttamente attualmente: 0.0%\n",
      "Accuracy attuale: 50.0%\n",
      "\n"
     ]
    },
    {
     "name": "stderr",
     "output_type": "stream",
     "text": [
      "                                                            \r"
     ]
    },
    {
     "name": "stdout",
     "output_type": "stream",
     "text": [
      "Etichetta corretta: Ariana_Grande\n",
      "Predetto  Ariana_Grande con probabilità 10.896738052368164 e con perturbazione 0.0003174907760694623\n",
      "Adversarial Sample misclassificati correttamente attualmente: 0.0%\n",
      "Accuracy attuale: 66.66666666666666%\n",
      "\n"
     ]
    },
    {
     "name": "stderr",
     "output_type": "stream",
     "text": [
      "                                                            \r"
     ]
    },
    {
     "name": "stdout",
     "output_type": "stream",
     "text": [
      "Etichetta corretta: Ashley_Scott\n",
      "Predetto  Ashley_Scott con probabilità 13.457640647888184 e con perturbazione 0.0003218035853933543\n",
      "Adversarial Sample misclassificati correttamente attualmente: 0.0%\n",
      "Accuracy attuale: 75.0%\n",
      "\n"
     ]
    },
    {
     "name": "stderr",
     "output_type": "stream",
     "text": [
      "                                                            \r"
     ]
    },
    {
     "name": "stdout",
     "output_type": "stream",
     "text": [
      "Etichetta corretta: Boris_Johnson\n",
      "Predetto  Boris_Johnson con probabilità 13.106240272521973 e con perturbazione 0.0003220853104721755\n",
      "Adversarial Sample misclassificati correttamente attualmente: 0.0%\n",
      "Accuracy attuale: 80.0%\n",
      "\n"
     ]
    },
    {
     "name": "stderr",
     "output_type": "stream",
     "text": [
      "                                                            \r"
     ]
    },
    {
     "name": "stdout",
     "output_type": "stream",
     "text": [
      "Etichetta corretta: Brad_Pitt\n",
      "Predetto  Brad_Pitt con probabilità 12.97534465789795 e con perturbazione 0.0003221252700313926\n",
      "Adversarial Sample misclassificati correttamente attualmente: 0.0%\n",
      "Accuracy attuale: 83.33333333333334%\n",
      "\n"
     ]
    },
    {
     "name": "stderr",
     "output_type": "stream",
     "text": [
      "                                                            \r"
     ]
    },
    {
     "name": "stdout",
     "output_type": "stream",
     "text": [
      "Etichetta corretta: Christian_De_Sica\n",
      "Predetto  Christian_De_Sica con probabilità 13.524112701416016 e con perturbazione 0.00032116370857693255\n",
      "Adversarial Sample misclassificati correttamente attualmente: 0.0%\n",
      "Accuracy attuale: 85.71428571428571%\n",
      "\n"
     ]
    },
    {
     "name": "stderr",
     "output_type": "stream",
     "text": [
      "                                                            \r"
     ]
    },
    {
     "name": "stdout",
     "output_type": "stream",
     "text": [
      "Etichetta corretta: Christopher_Nolan\n",
      "Predetto  Christopher_Nolan con probabilità 11.860851287841797 e con perturbazione 0.0003196679172106087\n",
      "Adversarial Sample misclassificati correttamente attualmente: 0.0%\n",
      "Accuracy attuale: 87.5%\n",
      "\n"
     ]
    },
    {
     "name": "stderr",
     "output_type": "stream",
     "text": [
      "                                                            \r"
     ]
    },
    {
     "name": "stdout",
     "output_type": "stream",
     "text": [
      "Etichetta corretta: Cristiano_Ronaldo\n",
      "Predetto  Cristiano_Ronaldo con probabilità 12.826855659484863 e con perturbazione 0.00032128512975759804\n",
      "Adversarial Sample misclassificati correttamente attualmente: 0.0%\n",
      "Accuracy attuale: 88.88888888888889%\n",
      "\n"
     ]
    },
    {
     "name": "stderr",
     "output_type": "stream",
     "text": [
      "                                                            \r"
     ]
    },
    {
     "name": "stdout",
     "output_type": "stream",
     "text": [
      "Etichetta corretta: Diego_Maradona\n",
      "Predetto  Diego_Maradona con probabilità 11.98759651184082 e con perturbazione 0.00030251668067649007\n",
      "Adversarial Sample misclassificati correttamente attualmente: 0.0%\n",
      "Accuracy attuale: 90.0%\n",
      "\n",
      "----------- Perturbazione media aggiunta a tutte le immagini per eps_Step: 5e-05 equivale a 0.00031944112852215766% ----------------\n",
      "----------- Accuracy sugli adversarial Sample per eps_step: 5e-05 equivale a 0.9% ----------------\n",
      "----------- Adversarial Sample misclassificati correttamente: 0.0% -----------\n",
      "\n",
      "**** Attacco con eps:0.1 con step a 7e-05 ****\n"
     ]
    },
    {
     "name": "stderr",
     "output_type": "stream",
     "text": [
      "                                                            \r"
     ]
    },
    {
     "name": "stdout",
     "output_type": "stream",
     "text": [
      "Etichetta corretta: Andrea_Pirlo\n",
      "Predetto  Andrea_Pirlo con probabilità 12.483259201049805 e con perturbazione 0.0004494529857765883\n",
      "Adversarial Sample misclassificati correttamente attualmente: 0.0%\n",
      "Accuracy attuale: 100.0%\n",
      "\n"
     ]
    },
    {
     "name": "stderr",
     "output_type": "stream",
     "text": [
      "                                                            \r"
     ]
    },
    {
     "name": "stdout",
     "output_type": "stream",
     "text": [
      "Etichetta corretta: Antonio_Cassano\n",
      "Predetto  Branch_Warren con probabilità 10.441434860229492 e con perturbazione 0.00044626538874581456\n",
      "Adversarial Sample misclassificati correttamente attualmente: 0.0%\n",
      "Accuracy attuale: 50.0%\n",
      "\n"
     ]
    },
    {
     "name": "stderr",
     "output_type": "stream",
     "text": [
      "                                                            \r"
     ]
    },
    {
     "name": "stdout",
     "output_type": "stream",
     "text": [
      "Etichetta corretta: Ariana_Grande\n",
      "Predetto  Ariana_Grande con probabilità 10.763509750366211 e con perturbazione 0.00043744296999648213\n",
      "Adversarial Sample misclassificati correttamente attualmente: 0.0%\n",
      "Accuracy attuale: 66.66666666666666%\n",
      "\n"
     ]
    },
    {
     "name": "stderr",
     "output_type": "stream",
     "text": [
      "                                                            \r"
     ]
    },
    {
     "name": "stdout",
     "output_type": "stream",
     "text": [
      "Etichetta corretta: Ashley_Scott\n",
      "Predetto  Ashley_Scott con probabilità 13.280923843383789 e con perturbazione 0.0004449677071534097\n",
      "Adversarial Sample misclassificati correttamente attualmente: 0.0%\n",
      "Accuracy attuale: 75.0%\n",
      "\n"
     ]
    },
    {
     "name": "stderr",
     "output_type": "stream",
     "text": [
      "                                                            \r"
     ]
    },
    {
     "name": "stdout",
     "output_type": "stream",
     "text": [
      "Etichetta corretta: Boris_Johnson\n",
      "Predetto  Boris_Johnson con probabilità 13.01657772064209 e con perturbazione 0.0004459944902919233\n",
      "Adversarial Sample misclassificati correttamente attualmente: 0.0%\n",
      "Accuracy attuale: 80.0%\n",
      "\n"
     ]
    },
    {
     "name": "stderr",
     "output_type": "stream",
     "text": [
      "                                                            \r"
     ]
    },
    {
     "name": "stdout",
     "output_type": "stream",
     "text": [
      "Etichetta corretta: Brad_Pitt\n",
      "Predetto  Brad_Pitt con probabilità 12.883732795715332 e con perturbazione 0.00044569020974449813\n",
      "Adversarial Sample misclassificati correttamente attualmente: 0.0%\n",
      "Accuracy attuale: 83.33333333333334%\n",
      "\n"
     ]
    },
    {
     "name": "stderr",
     "output_type": "stream",
     "text": [
      "                                                            \r"
     ]
    },
    {
     "name": "stdout",
     "output_type": "stream",
     "text": [
      "Etichetta corretta: Christian_De_Sica\n",
      "Predetto  Christian_De_Sica con probabilità 13.432852745056152 e con perturbazione 0.00044545799028128386\n",
      "Adversarial Sample misclassificati correttamente attualmente: 0.0%\n",
      "Accuracy attuale: 85.71428571428571%\n",
      "\n"
     ]
    },
    {
     "name": "stderr",
     "output_type": "stream",
     "text": [
      "                                                            \r"
     ]
    },
    {
     "name": "stdout",
     "output_type": "stream",
     "text": [
      "Etichetta corretta: Christopher_Nolan\n",
      "Predetto  Christopher_Nolan con probabilità 11.768342018127441 e con perturbazione 0.00044339700252749026\n",
      "Adversarial Sample misclassificati correttamente attualmente: 0.0%\n",
      "Accuracy attuale: 87.5%\n",
      "\n"
     ]
    },
    {
     "name": "stderr",
     "output_type": "stream",
     "text": [
      "                                                            \r"
     ]
    },
    {
     "name": "stdout",
     "output_type": "stream",
     "text": [
      "Etichetta corretta: Cristiano_Ronaldo\n",
      "Predetto  Cristiano_Ronaldo con probabilità 12.774932861328125 e con perturbazione 0.00044584739953279495\n",
      "Adversarial Sample misclassificati correttamente attualmente: 0.0%\n",
      "Accuracy attuale: 88.88888888888889%\n",
      "\n"
     ]
    },
    {
     "name": "stderr",
     "output_type": "stream",
     "text": [
      "                                                            \r"
     ]
    },
    {
     "name": "stdout",
     "output_type": "stream",
     "text": [
      "Etichetta corretta: Diego_Maradona\n",
      "Predetto  Diego_Maradona con probabilità 11.85106372833252 e con perturbazione 0.0004137395299039781\n",
      "Adversarial Sample misclassificati correttamente attualmente: 0.0%\n",
      "Accuracy attuale: 90.0%\n",
      "\n",
      "----------- Perturbazione media aggiunta a tutte le immagini per eps_Step: 7e-05 equivale a 0.00044182556739542634% ----------------\n",
      "----------- Accuracy sugli adversarial Sample per eps_step: 7e-05 equivale a 0.9% ----------------\n",
      "----------- Adversarial Sample misclassificati correttamente: 0.0% -----------\n",
      "\n",
      "**** Attacco con eps:0.1 con step a 0.002 ****\n"
     ]
    },
    {
     "name": "stderr",
     "output_type": "stream",
     "text": [
      "                                                            \r"
     ]
    },
    {
     "name": "stdout",
     "output_type": "stream",
     "text": [
      "Etichetta corretta: Andrea_Pirlo\n",
      "Predetto  Andrea_Pirlo con probabilità 8.529658317565918 e con perturbazione 0.009271716699004173\n",
      "Adversarial Sample misclassificati correttamente attualmente: 0.0%\n",
      "Accuracy attuale: 100.0%\n",
      "\n"
     ]
    },
    {
     "name": "stderr",
     "output_type": "stream",
     "text": [
      "                                                            \r"
     ]
    },
    {
     "name": "stdout",
     "output_type": "stream",
     "text": [
      "Etichetta corretta: Antonio_Cassano\n",
      "Predetto  Aaron_Hernandez con probabilità 9.23924732208252 e con perturbazione 0.00871313363313675\n",
      "Adversarial Sample misclassificati correttamente attualmente: 0.0%\n",
      "Accuracy attuale: 50.0%\n",
      "\n"
     ]
    },
    {
     "name": "stderr",
     "output_type": "stream",
     "text": [
      "                                                            \r"
     ]
    },
    {
     "name": "stdout",
     "output_type": "stream",
     "text": [
      "Etichetta corretta: Ariana_Grande\n",
      "Predetto  Minzy con probabilità 9.466490745544434 e con perturbazione 0.007938931696116924\n",
      "Adversarial Sample misclassificati correttamente attualmente: 0.0%\n",
      "Accuracy attuale: 33.33333333333333%\n",
      "\n"
     ]
    },
    {
     "name": "stderr",
     "output_type": "stream",
     "text": [
      "                                                            \r"
     ]
    },
    {
     "name": "stdout",
     "output_type": "stream",
     "text": [
      "Etichetta corretta: Ashley_Scott\n",
      "Predetto  Aaron_Hernandez con probabilità 9.674560546875 e con perturbazione 0.008421055041253567\n",
      "Adversarial Sample misclassificati correttamente attualmente: 0.0%\n",
      "Accuracy attuale: 25.0%\n",
      "\n"
     ]
    },
    {
     "name": "stderr",
     "output_type": "stream",
     "text": [
      "                                                            \r"
     ]
    },
    {
     "name": "stdout",
     "output_type": "stream",
     "text": [
      "Etichetta corretta: Boris_Johnson\n",
      "Predetto  Vladimir_Petković con probabilità 8.472454071044922 e con perturbazione 0.008588546887040138\n",
      "Adversarial Sample misclassificati correttamente attualmente: 0.0%\n",
      "Accuracy attuale: 20.0%\n",
      "\n"
     ]
    },
    {
     "name": "stderr",
     "output_type": "stream",
     "text": [
      "                                                            \r"
     ]
    },
    {
     "name": "stdout",
     "output_type": "stream",
     "text": [
      "Etichetta corretta: Brad_Pitt\n",
      "Predetto  Sergio_Goyri con probabilità 8.972684860229492 e con perturbazione 0.008596079424023628\n",
      "Adversarial Sample misclassificati correttamente attualmente: 0.0%\n",
      "Accuracy attuale: 16.666666666666664%\n",
      "\n"
     ]
    },
    {
     "name": "stderr",
     "output_type": "stream",
     "text": [
      "                                                            \r"
     ]
    },
    {
     "name": "stdout",
     "output_type": "stream",
     "text": [
      "Etichetta corretta: Christian_De_Sica\n",
      "Predetto  Aaron_Hernandez con probabilità 10.350833892822266 e con perturbazione 0.008362184278666973\n",
      "Adversarial Sample misclassificati correttamente attualmente: 0.0%\n",
      "Accuracy attuale: 14.285714285714285%\n",
      "\n"
     ]
    },
    {
     "name": "stderr",
     "output_type": "stream",
     "text": [
      "                                                            \r"
     ]
    },
    {
     "name": "stdout",
     "output_type": "stream",
     "text": [
      "Etichetta corretta: Christopher_Nolan\n",
      "Predetto  Aaron_Hernandez con probabilità 12.126363754272461 e con perturbazione 0.008311883546411991\n",
      "Adversarial Sample misclassificati correttamente attualmente: 0.0%\n",
      "Accuracy attuale: 12.5%\n",
      "\n"
     ]
    },
    {
     "name": "stderr",
     "output_type": "stream",
     "text": [
      "                                                            \r"
     ]
    },
    {
     "name": "stdout",
     "output_type": "stream",
     "text": [
      "Etichetta corretta: Cristiano_Ronaldo\n",
      "Predetto  Aaron_Hernandez con probabilità 15.29301929473877 e con perturbazione 0.008625230751931667\n",
      "Adversarial Sample misclassificati correttamente attualmente: 0.0%\n",
      "Accuracy attuale: 11.11111111111111%\n",
      "\n"
     ]
    },
    {
     "name": "stderr",
     "output_type": "stream",
     "text": [
      "                                                            \r"
     ]
    },
    {
     "name": "stdout",
     "output_type": "stream",
     "text": [
      "Etichetta corretta: Diego_Maradona\n",
      "Predetto  Aaron_Hernandez con probabilità 11.683928489685059 e con perturbazione 0.006987080443650484\n",
      "Adversarial Sample misclassificati correttamente attualmente: 0.0%\n",
      "Accuracy attuale: 10.0%\n",
      "\n",
      "----------- Perturbazione media aggiunta a tutte le immagini per eps_Step: 0.002 equivale a 0.00838158424012363% ----------------\n",
      "----------- Accuracy sugli adversarial Sample per eps_step: 0.002 equivale a 0.1% ----------------\n",
      "----------- Adversarial Sample misclassificati correttamente: 0.0% -----------\n",
      "\n",
      "**** Attacco con eps:0.1 con step a 0.005 ****\n"
     ]
    },
    {
     "name": "stderr",
     "output_type": "stream",
     "text": [
      "                                                            \r"
     ]
    },
    {
     "name": "stdout",
     "output_type": "stream",
     "text": [
      "Etichetta corretta: Andrea_Pirlo\n",
      "Predetto  Aaron_Hernandez con probabilità 13.706618309020996 e con perturbazione 0.017631692811846733\n",
      "Adversarial Sample misclassificati correttamente attualmente: 0.0%\n",
      "Accuracy attuale: 0.0%\n",
      "\n"
     ]
    },
    {
     "name": "stderr",
     "output_type": "stream",
     "text": [
      "                                                            \r"
     ]
    },
    {
     "name": "stdout",
     "output_type": "stream",
     "text": [
      "Etichetta corretta: Antonio_Cassano\n",
      "Predetto  Aaron_Hernandez con probabilità 15.310330390930176 e con perturbazione 0.015836510807275772\n",
      "Adversarial Sample misclassificati correttamente attualmente: 0.0%\n",
      "Accuracy attuale: 0.0%\n",
      "\n"
     ]
    },
    {
     "name": "stderr",
     "output_type": "stream",
     "text": [
      "                                                            \r"
     ]
    },
    {
     "name": "stdout",
     "output_type": "stream",
     "text": [
      "Etichetta corretta: Ariana_Grande\n",
      "Predetto  Aaron_Hernandez con probabilità 13.18055534362793 e con perturbazione 0.014216587878763676\n",
      "Adversarial Sample misclassificati correttamente attualmente: 0.0%\n",
      "Accuracy attuale: 0.0%\n",
      "\n"
     ]
    },
    {
     "name": "stderr",
     "output_type": "stream",
     "text": [
      "                                                            \r"
     ]
    },
    {
     "name": "stdout",
     "output_type": "stream",
     "text": [
      "Etichetta corretta: Ashley_Scott\n",
      "Predetto  Aaron_Hernandez con probabilità 13.587069511413574 e con perturbazione 0.015556562691926956\n",
      "Adversarial Sample misclassificati correttamente attualmente: 0.0%\n",
      "Accuracy attuale: 0.0%\n",
      "\n"
     ]
    },
    {
     "name": "stderr",
     "output_type": "stream",
     "text": [
      "                                                            \r"
     ]
    },
    {
     "name": "stdout",
     "output_type": "stream",
     "text": [
      "Etichetta corretta: Boris_Johnson\n",
      "Predetto  Aaron_Hernandez con probabilità 16.434112548828125 e con perturbazione 0.015703566372394562\n",
      "Adversarial Sample misclassificati correttamente attualmente: 0.0%\n",
      "Accuracy attuale: 0.0%\n",
      "\n"
     ]
    },
    {
     "name": "stderr",
     "output_type": "stream",
     "text": [
      "                                                            \r"
     ]
    },
    {
     "name": "stdout",
     "output_type": "stream",
     "text": [
      "Etichetta corretta: Brad_Pitt\n",
      "Predetto  Aaron_Hernandez con probabilità 17.999601364135742 e con perturbazione 0.015949660912156105\n",
      "Adversarial Sample misclassificati correttamente attualmente: 0.0%\n",
      "Accuracy attuale: 0.0%\n",
      "\n"
     ]
    },
    {
     "name": "stderr",
     "output_type": "stream",
     "text": [
      "                                                            \r"
     ]
    },
    {
     "name": "stdout",
     "output_type": "stream",
     "text": [
      "Etichetta corretta: Christian_De_Sica\n",
      "Predetto  Aaron_Hernandez con probabilità 16.815122604370117 e con perturbazione 0.01573585905134678\n",
      "Adversarial Sample misclassificati correttamente attualmente: 0.0%\n",
      "Accuracy attuale: 0.0%\n",
      "\n"
     ]
    },
    {
     "name": "stderr",
     "output_type": "stream",
     "text": [
      "                                                            \r"
     ]
    },
    {
     "name": "stdout",
     "output_type": "stream",
     "text": [
      "Etichetta corretta: Christopher_Nolan\n",
      "Predetto  Aaron_Hernandez con probabilità 17.126951217651367 e con perturbazione 0.014062553644180298\n",
      "Adversarial Sample misclassificati correttamente attualmente: 0.0%\n",
      "Accuracy attuale: 0.0%\n",
      "\n"
     ]
    },
    {
     "name": "stderr",
     "output_type": "stream",
     "text": [
      "                                                            \r"
     ]
    },
    {
     "name": "stdout",
     "output_type": "stream",
     "text": [
      "Etichetta corretta: Cristiano_Ronaldo\n",
      "Predetto  Aaron_Hernandez con probabilità 18.924165725708008 e con perturbazione 0.014756953343749046\n",
      "Adversarial Sample misclassificati correttamente attualmente: 0.0%\n",
      "Accuracy attuale: 0.0%\n",
      "\n"
     ]
    },
    {
     "name": "stderr",
     "output_type": "stream",
     "text": [
      "                                                            \r"
     ]
    },
    {
     "name": "stdout",
     "output_type": "stream",
     "text": [
      "Etichetta corretta: Diego_Maradona\n",
      "Predetto  Aaron_Hernandez con probabilità 16.021425247192383 e con perturbazione 0.013426877558231354\n",
      "Adversarial Sample misclassificati correttamente attualmente: 0.0%\n",
      "Accuracy attuale: 0.0%\n",
      "\n",
      "----------- Perturbazione media aggiunta a tutte le immagini per eps_Step: 0.005 equivale a 0.015287682507187128% ----------------\n",
      "----------- Accuracy sugli adversarial Sample per eps_step: 0.005 equivale a 0.0% ----------------\n",
      "----------- Adversarial Sample misclassificati correttamente: 0.0% -----------\n",
      "\n",
      "**** Attacco con eps:0.1 con step a 0.007 ****\n"
     ]
    },
    {
     "name": "stderr",
     "output_type": "stream",
     "text": [
      "                                                            \r"
     ]
    },
    {
     "name": "stdout",
     "output_type": "stream",
     "text": [
      "Etichetta corretta: Andrea_Pirlo\n",
      "Predetto  Aaron_Hernandez con probabilità 15.520523071289062 e con perturbazione 0.021416837349534035\n",
      "Adversarial Sample misclassificati correttamente attualmente: 0.0%\n",
      "Accuracy attuale: 0.0%\n",
      "\n"
     ]
    },
    {
     "name": "stderr",
     "output_type": "stream",
     "text": [
      "                                                            \r"
     ]
    },
    {
     "name": "stdout",
     "output_type": "stream",
     "text": [
      "Etichetta corretta: Antonio_Cassano\n",
      "Predetto  Aaron_Hernandez con probabilità 16.96971893310547 e con perturbazione 0.019467614591121674\n",
      "Adversarial Sample misclassificati correttamente attualmente: 0.0%\n",
      "Accuracy attuale: 0.0%\n",
      "\n"
     ]
    },
    {
     "name": "stderr",
     "output_type": "stream",
     "text": [
      "                                                            \r"
     ]
    },
    {
     "name": "stdout",
     "output_type": "stream",
     "text": [
      "Etichetta corretta: Ariana_Grande\n",
      "Predetto  Aaron_Hernandez con probabilità 17.069747924804688 e con perturbazione 0.018132686614990234\n",
      "Adversarial Sample misclassificati correttamente attualmente: 0.0%\n",
      "Accuracy attuale: 0.0%\n",
      "\n"
     ]
    },
    {
     "name": "stderr",
     "output_type": "stream",
     "text": [
      "                                                            \r"
     ]
    },
    {
     "name": "stdout",
     "output_type": "stream",
     "text": [
      "Etichetta corretta: Ashley_Scott\n",
      "Predetto  Aaron_Hernandez con probabilità 14.943672180175781 e con perturbazione 0.019419126212596893\n",
      "Adversarial Sample misclassificati correttamente attualmente: 0.0%\n",
      "Accuracy attuale: 0.0%\n",
      "\n"
     ]
    },
    {
     "name": "stderr",
     "output_type": "stream",
     "text": [
      "                                                            \r"
     ]
    },
    {
     "name": "stdout",
     "output_type": "stream",
     "text": [
      "Etichetta corretta: Boris_Johnson\n",
      "Predetto  Aaron_Hernandez con probabilità 17.225130081176758 e con perturbazione 0.01880626752972603\n",
      "Adversarial Sample misclassificati correttamente attualmente: 0.0%\n",
      "Accuracy attuale: 0.0%\n",
      "\n"
     ]
    },
    {
     "name": "stderr",
     "output_type": "stream",
     "text": [
      "                                                            \r"
     ]
    },
    {
     "name": "stdout",
     "output_type": "stream",
     "text": [
      "Etichetta corretta: Brad_Pitt\n",
      "Predetto  Aaron_Hernandez con probabilità 18.809818267822266 e con perturbazione 0.019421115517616272\n",
      "Adversarial Sample misclassificati correttamente attualmente: 0.0%\n",
      "Accuracy attuale: 0.0%\n",
      "\n"
     ]
    },
    {
     "name": "stderr",
     "output_type": "stream",
     "text": [
      "                                                            \r"
     ]
    },
    {
     "name": "stdout",
     "output_type": "stream",
     "text": [
      "Etichetta corretta: Christian_De_Sica\n",
      "Predetto  Aaron_Hernandez con probabilità 16.434785842895508 e con perturbazione 0.018435271456837654\n",
      "Adversarial Sample misclassificati correttamente attualmente: 0.0%\n",
      "Accuracy attuale: 0.0%\n",
      "\n"
     ]
    },
    {
     "name": "stderr",
     "output_type": "stream",
     "text": [
      "                                                            \r"
     ]
    },
    {
     "name": "stdout",
     "output_type": "stream",
     "text": [
      "Etichetta corretta: Christopher_Nolan\n",
      "Predetto  Aaron_Hernandez con probabilità 17.078638076782227 e con perturbazione 0.01752781867980957\n",
      "Adversarial Sample misclassificati correttamente attualmente: 0.0%\n",
      "Accuracy attuale: 0.0%\n",
      "\n"
     ]
    },
    {
     "name": "stderr",
     "output_type": "stream",
     "text": [
      "                                                            \r"
     ]
    },
    {
     "name": "stdout",
     "output_type": "stream",
     "text": [
      "Etichetta corretta: Cristiano_Ronaldo\n",
      "Predetto  Aaron_Hernandez con probabilità 19.12345314025879 e con perturbazione 0.017479345202445984\n",
      "Adversarial Sample misclassificati correttamente attualmente: 0.0%\n",
      "Accuracy attuale: 0.0%\n",
      "\n"
     ]
    },
    {
     "name": "stderr",
     "output_type": "stream",
     "text": [
      "                                                            \r"
     ]
    },
    {
     "name": "stdout",
     "output_type": "stream",
     "text": [
      "Etichetta corretta: Diego_Maradona\n",
      "Predetto  Aaron_Hernandez con probabilità 15.985191345214844 e con perturbazione 0.01698715053498745\n",
      "Adversarial Sample misclassificati correttamente attualmente: 0.0%\n",
      "Accuracy attuale: 0.0%\n",
      "\n",
      "----------- Perturbazione media aggiunta a tutte le immagini per eps_Step: 0.007 equivale a 0.01870932336896658% ----------------\n",
      "----------- Accuracy sugli adversarial Sample per eps_step: 0.007 equivale a 0.0% ----------------\n",
      "----------- Adversarial Sample misclassificati correttamente: 0.0% -----------\n",
      "\n",
      "**** Attacco con eps:0.1 con step a 0.02 ****\n"
     ]
    },
    {
     "name": "stderr",
     "output_type": "stream",
     "text": [
      "                                                            \r"
     ]
    },
    {
     "name": "stdout",
     "output_type": "stream",
     "text": [
      "Etichetta corretta: Andrea_Pirlo\n",
      "Predetto  Aaron_Hernandez con probabilità 15.834602355957031 e con perturbazione 0.044233065098524094\n",
      "Adversarial Sample misclassificati correttamente attualmente: 0.0%\n",
      "Accuracy attuale: 0.0%\n",
      "\n"
     ]
    },
    {
     "name": "stderr",
     "output_type": "stream",
     "text": [
      "                                                            \r"
     ]
    },
    {
     "name": "stdout",
     "output_type": "stream",
     "text": [
      "Etichetta corretta: Antonio_Cassano\n",
      "Predetto  Aaron_Hernandez con probabilità 18.87029457092285 e con perturbazione 0.042740870267152786\n",
      "Adversarial Sample misclassificati correttamente attualmente: 0.0%\n",
      "Accuracy attuale: 0.0%\n",
      "\n"
     ]
    },
    {
     "name": "stderr",
     "output_type": "stream",
     "text": [
      "                                                            \r"
     ]
    },
    {
     "name": "stdout",
     "output_type": "stream",
     "text": [
      "Etichetta corretta: Ariana_Grande\n",
      "Predetto  Aaron_Hernandez con probabilità 17.794113159179688 e con perturbazione 0.0413760207593441\n",
      "Adversarial Sample misclassificati correttamente attualmente: 0.0%\n",
      "Accuracy attuale: 0.0%\n",
      "\n"
     ]
    },
    {
     "name": "stderr",
     "output_type": "stream",
     "text": [
      "                                                            \r"
     ]
    },
    {
     "name": "stdout",
     "output_type": "stream",
     "text": [
      "Etichetta corretta: Ashley_Scott\n",
      "Predetto  Aaron_Hernandez con probabilità 14.776573181152344 e con perturbazione 0.042159877717494965\n",
      "Adversarial Sample misclassificati correttamente attualmente: 0.0%\n",
      "Accuracy attuale: 0.0%\n",
      "\n"
     ]
    },
    {
     "name": "stderr",
     "output_type": "stream",
     "text": [
      "                                                            \r"
     ]
    },
    {
     "name": "stdout",
     "output_type": "stream",
     "text": [
      "Etichetta corretta: Boris_Johnson\n",
      "Predetto  Aaron_Hernandez con probabilità 17.858671188354492 e con perturbazione 0.04197784140706062\n",
      "Adversarial Sample misclassificati correttamente attualmente: 0.0%\n",
      "Accuracy attuale: 0.0%\n",
      "\n"
     ]
    },
    {
     "name": "stderr",
     "output_type": "stream",
     "text": [
      "                                                            \r"
     ]
    },
    {
     "name": "stdout",
     "output_type": "stream",
     "text": [
      "Etichetta corretta: Brad_Pitt\n",
      "Predetto  Aaron_Hernandez con probabilità 17.755643844604492 e con perturbazione 0.041820820420980453\n",
      "Adversarial Sample misclassificati correttamente attualmente: 0.0%\n",
      "Accuracy attuale: 0.0%\n",
      "\n"
     ]
    },
    {
     "name": "stderr",
     "output_type": "stream",
     "text": [
      "                                                            \r"
     ]
    },
    {
     "name": "stdout",
     "output_type": "stream",
     "text": [
      "Etichetta corretta: Christian_De_Sica\n",
      "Predetto  Aaron_Hernandez con probabilità 16.831077575683594 e con perturbazione 0.041103895753622055\n",
      "Adversarial Sample misclassificati correttamente attualmente: 0.0%\n",
      "Accuracy attuale: 0.0%\n",
      "\n"
     ]
    },
    {
     "name": "stderr",
     "output_type": "stream",
     "text": [
      "                                                            \r"
     ]
    },
    {
     "name": "stdout",
     "output_type": "stream",
     "text": [
      "Etichetta corretta: Christopher_Nolan\n",
      "Predetto  Aaron_Hernandez con probabilità 17.40737533569336 e con perturbazione 0.04074348509311676\n",
      "Adversarial Sample misclassificati correttamente attualmente: 0.0%\n",
      "Accuracy attuale: 0.0%\n",
      "\n"
     ]
    },
    {
     "name": "stderr",
     "output_type": "stream",
     "text": [
      "                                                            \r"
     ]
    },
    {
     "name": "stdout",
     "output_type": "stream",
     "text": [
      "Etichetta corretta: Cristiano_Ronaldo\n",
      "Predetto  Aaron_Hernandez con probabilità 19.24744987487793 e con perturbazione 0.04055936262011528\n",
      "Adversarial Sample misclassificati correttamente attualmente: 0.0%\n",
      "Accuracy attuale: 0.0%\n",
      "\n"
     ]
    },
    {
     "name": "stderr",
     "output_type": "stream",
     "text": [
      "                                                            \r"
     ]
    },
    {
     "name": "stdout",
     "output_type": "stream",
     "text": [
      "Etichetta corretta: Diego_Maradona\n",
      "Predetto  Aaron_Hernandez con probabilità 14.946090698242188 e con perturbazione 0.041454415768384933\n",
      "Adversarial Sample misclassificati correttamente attualmente: 0.0%\n",
      "Accuracy attuale: 0.0%\n",
      "\n",
      "----------- Perturbazione media aggiunta a tutte le immagini per eps_Step: 0.02 equivale a 0.0418169654905796% ----------------\n",
      "----------- Accuracy sugli adversarial Sample per eps_step: 0.02 equivale a 0.0% ----------------\n",
      "----------- Adversarial Sample misclassificati correttamente: 0.0% -----------\n",
      "\n",
      "**** Attacco con eps:0.1 con step a 0.05 ****\n"
     ]
    },
    {
     "name": "stderr",
     "output_type": "stream",
     "text": [
      "                                                            \r"
     ]
    },
    {
     "name": "stdout",
     "output_type": "stream",
     "text": [
      "Etichetta corretta: Andrea_Pirlo\n",
      "Predetto  Aaron_Hernandez con probabilità 14.223888397216797 e con perturbazione 0.061672527343034744\n",
      "Adversarial Sample misclassificati correttamente attualmente: 0.0%\n",
      "Accuracy attuale: 0.0%\n",
      "\n"
     ]
    },
    {
     "name": "stderr",
     "output_type": "stream",
     "text": [
      "                                                            \r"
     ]
    },
    {
     "name": "stdout",
     "output_type": "stream",
     "text": [
      "Etichetta corretta: Antonio_Cassano\n",
      "Predetto  Aaron_Hernandez con probabilità 15.068290710449219 e con perturbazione 0.061463553458452225\n",
      "Adversarial Sample misclassificati correttamente attualmente: 0.0%\n",
      "Accuracy attuale: 0.0%\n",
      "\n"
     ]
    },
    {
     "name": "stderr",
     "output_type": "stream",
     "text": [
      "                                                            \r"
     ]
    },
    {
     "name": "stdout",
     "output_type": "stream",
     "text": [
      "Etichetta corretta: Ariana_Grande\n",
      "Predetto  Aaron_Hernandez con probabilità 11.734959602355957 e con perturbazione 0.060128264129161835\n",
      "Adversarial Sample misclassificati correttamente attualmente: 0.0%\n",
      "Accuracy attuale: 0.0%\n",
      "\n"
     ]
    },
    {
     "name": "stderr",
     "output_type": "stream",
     "text": [
      "                                                            \r"
     ]
    },
    {
     "name": "stdout",
     "output_type": "stream",
     "text": [
      "Etichetta corretta: Ashley_Scott\n",
      "Predetto  Aaron_Hernandez con probabilità 12.574553489685059 e con perturbazione 0.06109701097011566\n",
      "Adversarial Sample misclassificati correttamente attualmente: 0.0%\n",
      "Accuracy attuale: 0.0%\n",
      "\n"
     ]
    },
    {
     "name": "stderr",
     "output_type": "stream",
     "text": [
      "                                                            \r"
     ]
    },
    {
     "name": "stdout",
     "output_type": "stream",
     "text": [
      "Etichetta corretta: Boris_Johnson\n",
      "Predetto  Aaron_Hernandez con probabilità 15.265563011169434 e con perturbazione 0.060866545885801315\n",
      "Adversarial Sample misclassificati correttamente attualmente: 0.0%\n",
      "Accuracy attuale: 0.0%\n",
      "\n"
     ]
    },
    {
     "name": "stderr",
     "output_type": "stream",
     "text": [
      "                                                            \r"
     ]
    },
    {
     "name": "stdout",
     "output_type": "stream",
     "text": [
      "Etichetta corretta: Brad_Pitt\n",
      "Predetto  Aaron_Hernandez con probabilità 15.537111282348633 e con perturbazione 0.060865242034196854\n",
      "Adversarial Sample misclassificati correttamente attualmente: 0.0%\n",
      "Accuracy attuale: 0.0%\n",
      "\n"
     ]
    },
    {
     "name": "stderr",
     "output_type": "stream",
     "text": [
      "                                                            \r"
     ]
    },
    {
     "name": "stdout",
     "output_type": "stream",
     "text": [
      "Etichetta corretta: Christian_De_Sica\n",
      "Predetto  Aaron_Hernandez con probabilità 12.705669403076172 e con perturbazione 0.05979752913117409\n",
      "Adversarial Sample misclassificati correttamente attualmente: 0.0%\n",
      "Accuracy attuale: 0.0%\n",
      "\n"
     ]
    },
    {
     "name": "stderr",
     "output_type": "stream",
     "text": [
      "PGD - Batches:   0%|          | 0/1 [00:00<?, ?it/s]"
     ]
    }
   ],
   "source": [
    "#PGD specific Attack for all samples\n",
    "import os\n",
    "import re\n",
    "import torch\n",
    "from utils import load_image_NN1\n",
    "\n",
    "dataset_dir = \"test_set_cropped_piccolo/\" \n",
    "eps_step = [2e-05, 5e-05, 7e-05, 2e-03, 5e-03, 7e-03, 2e-02, 5e-02, 7e-02, 1e-01] #La dimensione del passo della variazione dell'input a ogni iterazione. Questo parametro definisce quanto grande sarà ogni passo nella direzione del gradiente. #La dimensione del passo della variazione dell'input per il calcolo della perturbazione minima. Questo parametro è utilizzato quando minimal è impostato su True.\n",
    "\n",
    "max_iter = [2,5,7]  # Il numero massimo di iterazioni. Questo parametro determina quante volte l'attacco iterativo sarà eseguito.\n",
    "\n",
    "eps_range = 0.1  # Questo valore determina l'ampiezza massima della perturbazione aggiunta agli input originali. Può essere un valore singolo (int o float) o un array numpy (ndarray).\n",
    "\n",
    "accuracy_misclassified_for_eps = np.zeros((len(max_iter),len(eps_step)))\n",
    "\n",
    "accuracy_for_eps = np.zeros((len(max_iter),len(eps_step)))\n",
    "\n",
    "perturbation_for_eps = np.zeros((len(max_iter),len(eps_step)))\n",
    "\n",
    "correct_misclassified = 0\n",
    "total_images = 0\n",
    "\n",
    "target_class = 10\n",
    "etichetta_target = LABELS[0]\n",
    "print(\"ETICHETTA TARGET: \", LABELS[10])\n",
    "shape = 1 #shape di test image \n",
    "batch_size = shape\n",
    "targeted_labels = np.array([target_class] * batch_size)\n",
    "one_hot_targeted_labels = tf.keras.utils.to_categorical(targeted_labels, num_classes=8631)\n",
    "\n",
    "print(\"Inizio Attacco PGD NON-TARGETED\")\n",
    "for i in range(len(max_iter)):\n",
    "        print(\"**** Attacco con max_iter {} **** \".format(max_iter[i]))\n",
    "        for j in range(len(eps_step)):   #Se qualcosa funziona strano controllare questo zip\n",
    "            correct_predictions = 0\n",
    "            total_images = 0\n",
    "            perturbation = []\n",
    "            \n",
    "            attack = ProjectedGradientDescentPyTorch(estimator=model, eps = eps_range, eps_step=eps_step[j], targeted=True, max_iter = max_iter[i])\n",
    "            \n",
    "            print(\"**** Attacco con eps:{} con step a {} ****\".format(eps_range,eps_step[j]))\n",
    "            for filename in os.listdir(dataset_dir):\n",
    "                if filename.endswith(\".jpg\") or filename.endswith(\".jpeg\"):\n",
    "                    person_path = os.path.join(dataset_dir, filename)\n",
    "                    test_img = load_image_NN1(person_path)\n",
    "                    test_img = test_img.numpy()\n",
    "                    test_images_adv = attack.generate(test_img, one_hot_targeted_labels)\n",
    "                    model_predictions = model.predict(test_images_adv)\n",
    "                    correct_label = re.sub(r'_\\d+_face_0\\.jpg$', '', filename)\n",
    "                    print(\"Etichetta corretta:\", correct_label)   \n",
    "                    perturbation.append(np.mean(np.abs((test_images_adv - test_img))))  #Salvo le perturbazioni applicate su ogni immagine\n",
    "                    predicted_label = LABELS[np.array(model_predictions[0].argmax())]\n",
    "                    print(\"Predetto {} con probabilità {} e con perturbazione {}\".format(predicted_label,model_predictions[0][model_predictions.argmax()],perturbation[-1]))\n",
    "                    total_images+=1\n",
    "                    \n",
    "                    predicted_label = str(predicted_label)\n",
    "\n",
    "                    if correct_label in predicted_label:\n",
    "                        correct_predictions+=1\n",
    "                        \n",
    "                    if etichetta_target in predicted_label:  \n",
    "                        correct_misclassified = correct_misclassified+1   #Se il modello predice l'etichetta target allora è correttamente misclassificato\n",
    "\n",
    "                    accuracy_misclassified = correct_misclassified/total_images\n",
    "                    print(\"Adversarial Sample misclassificati correttamente attualmente: {}%\".format((accuracy_misclassified)))\n",
    "                    print(\"Accuracy attuale: {}%\".format((correct_predictions/total_images)*100))\n",
    "                    print(\"\")\n",
    "\n",
    "            if total_images != 0:    #Per ogni epsilon impostata salvo in accuracy plot\n",
    "                if len(perturbation) == total_images:\n",
    "                    perturbazione_media = sum(perturbation)/total_images    #Calcolo la media delle perturbazioni applicate su tutte le immagini per una determinata epsilon\n",
    "                    perturbation_for_eps[i][j] = perturbazione_media\n",
    "                    print(\"----------- Perturbazione media aggiunta a tutte le immagini per eps_Step: {} equivale a {}% ----------------\".format(eps_step[j],perturbazione_media))\n",
    "\n",
    "                final_accuracy = correct_predictions/total_images\n",
    "                accuracy_for_eps[i][j] = final_accuracy\n",
    "                print(\"----------- Accuracy sugli adversarial Sample per eps_step: {} equivale a {}% ----------------\".format(eps_step[j],final_accuracy))\n",
    "                \n",
    "                accuracy_misclassified = correct_misclassified/total_images\n",
    "                accuracy_misclassified_for_eps[i][j] = accuracy_misclassified\n",
    "                print(\"----------- Adversarial Sample misclassificati correttamente: {}% -----------\".format((accuracy_misclassified)))\n",
    "                print(\"\")\n",
    "            #Per ogni epsilon impostata salvo in accuracy plot\n",
    "        print(\"\")\n",
    "\n",
    "        print(\"--------------------------------------------------------------------------------------------------------------------------------------------------------------------\")\n",
    "        print(\"\")\n",
    "\n",
    "# correct_predictions = 0\n",
    "# total_images = 0\n",
    "# target_class = 10\n",
    "# print(\"ETICHETTA TARGET: \", LABELS[10])\n",
    "# batch_size = test_img.shape[0]\n",
    "# targeted_labels = np.array([target_class] * batch_size)\n",
    "# one_hot_targeted_labels = tf.keras.utils.to_categorical(targeted_labels, num_classes=8631)\n",
    "\n",
    "# for filename in os.listdir(dataset_dir):\n",
    "#     if filename.endswith(\".jpg\") or filename.endswith(\".jpeg\"):\n",
    "#         person_path = os.path.join(dataset_dir, filename)\n",
    "#         print(\"Immagine:\", filename)\n",
    "#         test_img = load_image(person_path)\n",
    "#         test_img = test_img.unsqueeze(0)\n",
    "#         test_img = test_img.numpy()\n",
    "#         test_images_adv = attack.generate(test_img, one_hot_targeted_labels)\n",
    "#         model_predictions = model.predict(test_images_adv)\n",
    "#         correct_label = re.sub(r'_\\d+_face_0\\.jpg$', '', filename)\n",
    "#         print(\"Etichetta corretta:\", correct_label)   \n",
    "#         perturbation = np.mean(np.abs((test_images_adv - test_img)))\n",
    "#         predicted_label = LABELS[np.array(model_predictions[0].argmax())]\n",
    "#         print(\"Predetto {} con probabilità {}\".format(predicted_label,model_predictions[0][model_predictions.argmax()]))\n",
    "#         total_images+=1\n",
    "\n",
    "#         if predicted_label == correct_label:\n",
    "#             correct_predictions+=1\n",
    "\n",
    "#         accuracy = correct_predictions/total_images\n",
    "#         print(\"Accuracy sugli adversarial Sample: {}%\".format((100-(accuracy*100))))\n",
    "        \n",
    "\n",
    "# if total_images != 0:\n",
    "#     final_accuracy = correct_predictions/total_images\n",
    "#     print(\"----------- Accuracy FINALE sugli adversarial Sample: {}\\% ----------------\".format(final_accuracy))"
   ]
  },
  {
   "cell_type": "code",
   "execution_count": null,
   "metadata": {},
   "outputs": [],
   "source": [
    "from matplotlib import pyplot as plt\n",
    "\n",
    "# plot accuracy/Attack strength\n",
    "\n",
    "fig, ax = plt.subplots()\n",
    "ax.plot(np.array(eps_range), np.array(accuracy_for_eps), 'b--', label='NN1')\n",
    "\n",
    "legend = ax.legend(loc='upper center', shadow=True, fontsize='large')\n",
    "legend.get_frame().set_facecolor('#00FFCC')\n",
    "\n",
    "plt.xlabel('Attack strength (eps)')\n",
    "plt.ylabel('Accuracy')\n",
    "plt.show()"
   ]
  },
  {
   "cell_type": "code",
   "execution_count": null,
   "metadata": {},
   "outputs": [],
   "source": [
    "fig, ax = plt.subplots()\n",
    "ax.plot(np.array(eps_range), np.array(perturbation_for_eps), 'b--', label='NN1')\n",
    "\n",
    "legend = ax.legend(loc='upper center', shadow=True, fontsize='large')\n",
    "legend.get_frame().set_facecolor('#00FFCC')\n",
    "\n",
    "plt.xlabel('Attack strength (eps)')\n",
    "plt.ylabel('mean perturbation')\n",
    "plt.show()"
   ]
  },
  {
   "cell_type": "markdown",
   "metadata": {},
   "source": [
    "### Single sample Targeted attack"
   ]
  },
  {
   "cell_type": "code",
   "execution_count": null,
   "metadata": {},
   "outputs": [],
   "source": [
    "epsilon = 1\n",
    "eps_step = 0.005\n",
    "max_iter = 5 \n",
    "\n",
    "attack = ProjectedGradientDescentPyTorch(estimator=model, eps = epsilon, eps_step= eps_step, targeted=True, max_iter = max_iter)"
   ]
  },
  {
   "cell_type": "code",
   "execution_count": null,
   "metadata": {},
   "outputs": [],
   "source": [
    "from utils import load_image_NN1\n",
    "import os\n",
    "import numpy as np\n",
    "\n",
    "target_class = 10\n",
    "\n",
    "dataset_dir = \"test_set_cropped/\"\n",
    "filename = \"Brad_Pitt_8_face_0.jpg\"\n",
    "person_path = os.path.join(dataset_dir, filename)\n",
    "\n",
    "test_img = load_image_NN1(person_path)\n",
    "target_class = 10\n",
    "etichetta_target = LABELS[0]\n",
    "print(\"ETICHETTA TARGET: \", LABELS[10])\n",
    "batch_size = test_img.shape[0]\n",
    "targeted_labels = np.array([target_class] * batch_size)\n",
    "one_hot_targeted_labels = tf.keras.utils.to_categorical(targeted_labels, num_classes=8631)\n",
    "print(one_hot_targeted_labels.shape)\n",
    "\n",
    "\n",
    "test_img_numpy = test_img.numpy()\n",
    "test_images_adv = attack.generate(test_img_numpy, one_hot_targeted_labels)\n",
    "model_predictions = model.predict(test_images_adv)\n",
    "\n",
    "\n",
    "\n",
    "model_predictions = model.predict(test_images_adv)\n",
    "perturbation = np.mean(np.abs((test_images_adv - test_img_numpy)))\n",
    "print('Average perturbation: {:4.2f}'.format(perturbation))\n",
    "#targeted_attack_loss, targeted_attack_accuracy = model.evaluate(test_images_adv, targeted_labels)\n",
    "#print('Targeted attack accuracy: {:4.2f}'.format(targeted_attack_accuracy))\n",
    "print(\"Etichetta target:{}\".format(LABELS[target_class]))\n",
    "predicted_label = LABELS[np.array(model_predictions.argmax())]\n",
    "print(\"{} con probabilità {}\".format(predicted_label,model_predictions[0][model_predictions.argmax()]))"
   ]
  },
  {
   "cell_type": "code",
   "execution_count": null,
   "metadata": {},
   "outputs": [],
   "source": [
    "# Prepara le immagini per la visualizzazione\n",
    "# Rimuovi la dimensione batch extra e converti nel formato channels-last\n",
    "test_images_adv = np.squeeze(test_images_adv, axis=0)\n",
    "test_images_adv = np.transpose(test_images_adv, (1, 2, 0))\n",
    "\n",
    "# Converti le immagini in uint8 per la visualizzazione\n",
    "if test_img_numpy.dtype != np.uint8:\n",
    "    test_img_numpy = (test_img_numpy * 255).astype(np.uint8)\n",
    "    test_img_numpy = np.squeeze(test_img_numpy, axis=0)  # Rimuovi la dimensione batch extra\n",
    "    test_img_numpy = np.transpose(test_img_numpy, (1, 2, 0))\n",
    "\n",
    "if test_images_adv.dtype != np.uint8:\n",
    "    test_images_adv = (test_images_adv * 255).astype(np.uint8)\n",
    "\n",
    "# Visualizza le immagini affiancate con Matplotlib\n",
    "fig, (ax1, ax2) = plt.subplots(1, 2, figsize=(10, 5))\n",
    "\n",
    "# Mostra l'immagine originale\n",
    "ax1.imshow(test_img_numpy)\n",
    "ax1.set_title('Original Image')\n",
    "ax1.axis('off')\n",
    "\n",
    "# Mostra l'immagine avversaria\n",
    "ax2.imshow(test_images_adv)\n",
    "ax2.set_title(f'Adversarial Image\\nPredicted: {predicted_label}')\n",
    "ax2.axis('off')\n",
    "\n",
    "# Mostra la figura\n",
    "plt.suptitle(\"DeepFool Adversarial Images\")\n",
    "plt.show()"
   ]
  }
 ],
 "metadata": {
  "kernelspec": {
   "display_name": "Python 3",
   "language": "python",
   "name": "python3"
  },
  "language_info": {
   "codemirror_mode": {
    "name": "ipython",
    "version": 3
   },
   "file_extension": ".py",
   "mimetype": "text/x-python",
   "name": "python",
   "nbconvert_exporter": "python",
   "pygments_lexer": "ipython3",
   "version": "3.8.19"
  }
 },
 "nbformat": 4,
 "nbformat_minor": 2
}
