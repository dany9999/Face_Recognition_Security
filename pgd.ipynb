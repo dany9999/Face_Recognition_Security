{
 "cells": [
  {
   "cell_type": "markdown",
   "metadata": {},
   "source": [
    "# PDG ATTACK "
   ]
  },
  {
   "cell_type": "markdown",
   "metadata": {},
   "source": [
    "### *Import*"
   ]
  },
  {
   "cell_type": "code",
   "execution_count": 1,
   "metadata": {},
   "outputs": [
    {
     "name": "stderr",
     "output_type": "stream",
     "text": [
      "/Users/danieleabbagnale/Desktop/AI CyberSecurity/Face_Recognition_Security/.venv/lib/python3.9/site-packages/tqdm/auto.py:21: TqdmWarning: IProgress not found. Please update jupyter and ipywidgets. See https://ipywidgets.readthedocs.io/en/stable/user_install.html\n",
      "  from .autonotebook import tqdm as notebook_tqdm\n",
      "/Users/danieleabbagnale/Desktop/AI CyberSecurity/Face_Recognition_Security/.venv/lib/python3.9/site-packages/urllib3/__init__.py:35: NotOpenSSLWarning: urllib3 v2 only supports OpenSSL 1.1.1+, currently the 'ssl' module is compiled with 'LibreSSL 2.8.3'. See: https://github.com/urllib3/urllib3/issues/3020\n",
      "  warnings.warn(\n"
     ]
    },
    {
     "name": "stdout",
     "output_type": "stream",
     "text": [
      "cpu\n"
     ]
    }
   ],
   "source": [
    "import numpy as np\n",
    "import torch\n",
    "from torch.nn import CrossEntropyLoss\n",
    "from PIL import Image\n",
    "from torchvision import transforms\n",
    "from art.attacks.evasion import ProjectedGradientDescentPyTorch\n",
    "from art.estimators.classification import PyTorchClassifier\n",
    "import matplotlib.pyplot as plt\n",
    "import tensorflow as tf\n",
    "\n",
    "device = torch.device('cuda' if torch.cuda.is_available() else 'cpu')\n",
    "print(device)"
   ]
  },
  {
   "cell_type": "markdown",
   "metadata": {},
   "source": [
    "### initialization\n"
   ]
  },
  {
   "cell_type": "code",
   "execution_count": 2,
   "metadata": {},
   "outputs": [
    {
     "name": "stdout",
     "output_type": "stream",
     "text": [
      "Import Facenet.Inception\n"
     ]
    }
   ],
   "source": [
    "if str(device) in 'cuda':\n",
    "    print(\"Import Inception.Inception\")\n",
    "    import inception\n",
    "    nn1 = inception.InceptionResnetV1(pretrained='vggface2').eval()\n",
    "elif str(device) == \"cpu\":\n",
    "    print(\"Import Facenet.Inception\")\n",
    "    from facenet_pytorch import InceptionResnetV1\n",
    "    nn1 = InceptionResnetV1(pretrained='vggface2').eval()"
   ]
  },
  {
   "cell_type": "code",
   "execution_count": 3,
   "metadata": {},
   "outputs": [],
   "source": [
    "from utils import get_labels\n",
    "\n",
    "\n",
    "nn1.classify = True\n",
    "nn1.to(device)\n",
    "LABELS = get_labels()"
   ]
  },
  {
   "cell_type": "code",
   "execution_count": 4,
   "metadata": {},
   "outputs": [],
   "source": [
    "\n",
    "from torch.nn import CrossEntropyLoss\n",
    "from art.estimators.classification import PyTorchClassifier\n",
    "from art.attacks.evasion import ProjectedGradientDescentPyTorch\n",
    "\n",
    "\n",
    "#Impostare l'input shape\n",
    "model_nn1 = PyTorchClassifier(nn1,input_shape=[224,224], loss=CrossEntropyLoss(),nb_classes=8631, device_type=device) #This class implements a classifier with the PyTorch framework.\n"
   ]
  },
  {
   "cell_type": "code",
   "execution_count": 5,
   "metadata": {},
   "outputs": [],
   "source": [
    "from RESNET import ResNet\n",
    "from utils import get_labels\n",
    "from utils import load_state_dict\n",
    "\n",
    "nn2 = ResNet.resnet50(num_classes=8631, include_top=True)\n",
    "\n",
    "\n",
    "load_state_dict(nn2,'resnet50_scratch_weight.pkl')\n",
    "nn2.eval()\n",
    "\n",
    "model_nn2 = PyTorchClassifier(nn2,input_shape=[224,224], loss=CrossEntropyLoss(),nb_classes=8631, device_type=device)\n",
    "\n",
    "LABELS = get_labels()"
   ]
  },
  {
   "cell_type": "markdown",
   "metadata": {},
   "source": [
    "### Untargeted Attack on all test set"
   ]
  },
  {
   "cell_type": "code",
   "execution_count": 6,
   "metadata": {},
   "outputs": [
    {
     "name": "stdout",
     "output_type": "stream",
     "text": [
      "Inizio Attacco PGD UNTARGETED\n",
      "**** Attacco con max_iter 2 **** \n",
      "**** Attacco con eps:0.03 con step a 1e-06 ****\n"
     ]
    },
    {
     "name": "stderr",
     "output_type": "stream",
     "text": [
      "                                                            \r"
     ]
    },
    {
     "name": "stdout",
     "output_type": "stream",
     "text": [
      "**** Attacco con eps:0.03 con step a 1e-05 ****\n"
     ]
    },
    {
     "name": "stderr",
     "output_type": "stream",
     "text": [
      "                                                            \r"
     ]
    },
    {
     "name": "stdout",
     "output_type": "stream",
     "text": [
      "**** Attacco con eps:0.03 con step a 0.0001 ****\n"
     ]
    },
    {
     "name": "stderr",
     "output_type": "stream",
     "text": [
      "                                                            \r"
     ]
    },
    {
     "name": "stdout",
     "output_type": "stream",
     "text": [
      "**** Attacco con eps:0.03 con step a 0.0003 ****\n"
     ]
    },
    {
     "name": "stderr",
     "output_type": "stream",
     "text": [
      "                                                            \r"
     ]
    },
    {
     "name": "stdout",
     "output_type": "stream",
     "text": [
      "**** Attacco con eps:0.03 con step a 0.0005 ****\n"
     ]
    },
    {
     "name": "stderr",
     "output_type": "stream",
     "text": [
      "                                                            \r"
     ]
    },
    {
     "name": "stdout",
     "output_type": "stream",
     "text": [
      "**** Attacco con eps:0.03 con step a 0.0007 ****\n"
     ]
    },
    {
     "name": "stderr",
     "output_type": "stream",
     "text": [
      "                                                            \r"
     ]
    },
    {
     "name": "stdout",
     "output_type": "stream",
     "text": [
      "**** Attacco con eps:0.03 con step a 0.001 ****\n"
     ]
    },
    {
     "name": "stderr",
     "output_type": "stream",
     "text": [
      "                                                            \r"
     ]
    },
    {
     "name": "stdout",
     "output_type": "stream",
     "text": [
      "**** Attacco con eps:0.03 con step a 0.005 ****\n"
     ]
    },
    {
     "name": "stderr",
     "output_type": "stream",
     "text": [
      "                                                            \r"
     ]
    },
    {
     "name": "stdout",
     "output_type": "stream",
     "text": [
      "**** Attacco con eps:0.03 con step a 0.007 ****\n"
     ]
    },
    {
     "name": "stderr",
     "output_type": "stream",
     "text": [
      "                                                            \r"
     ]
    },
    {
     "name": "stdout",
     "output_type": "stream",
     "text": [
      "**** Attacco con eps:0.03 con step a 0.01 ****\n"
     ]
    },
    {
     "name": "stderr",
     "output_type": "stream",
     "text": [
      "                                                            \r"
     ]
    },
    {
     "name": "stdout",
     "output_type": "stream",
     "text": [
      "**** Attacco con max_iter 5 **** \n",
      "**** Attacco con eps:0.03 con step a 1e-06 ****\n"
     ]
    },
    {
     "name": "stderr",
     "output_type": "stream",
     "text": [
      "                                                            \r"
     ]
    },
    {
     "name": "stdout",
     "output_type": "stream",
     "text": [
      "**** Attacco con eps:0.03 con step a 1e-05 ****\n"
     ]
    },
    {
     "name": "stderr",
     "output_type": "stream",
     "text": [
      "                                                            \r"
     ]
    },
    {
     "name": "stdout",
     "output_type": "stream",
     "text": [
      "**** Attacco con eps:0.03 con step a 0.0001 ****\n"
     ]
    },
    {
     "name": "stderr",
     "output_type": "stream",
     "text": [
      "                                                            \r"
     ]
    },
    {
     "name": "stdout",
     "output_type": "stream",
     "text": [
      "**** Attacco con eps:0.03 con step a 0.0003 ****\n"
     ]
    },
    {
     "name": "stderr",
     "output_type": "stream",
     "text": [
      "                                                            \r"
     ]
    },
    {
     "name": "stdout",
     "output_type": "stream",
     "text": [
      "**** Attacco con eps:0.03 con step a 0.0005 ****\n"
     ]
    },
    {
     "name": "stderr",
     "output_type": "stream",
     "text": [
      "                                                            \r"
     ]
    },
    {
     "name": "stdout",
     "output_type": "stream",
     "text": [
      "**** Attacco con eps:0.03 con step a 0.0007 ****\n"
     ]
    },
    {
     "name": "stderr",
     "output_type": "stream",
     "text": [
      "                                                            \r"
     ]
    },
    {
     "name": "stdout",
     "output_type": "stream",
     "text": [
      "**** Attacco con eps:0.03 con step a 0.001 ****\n"
     ]
    },
    {
     "name": "stderr",
     "output_type": "stream",
     "text": [
      "                                                            \r"
     ]
    },
    {
     "name": "stdout",
     "output_type": "stream",
     "text": [
      "**** Attacco con eps:0.03 con step a 0.005 ****\n"
     ]
    },
    {
     "name": "stderr",
     "output_type": "stream",
     "text": [
      "                                                            \r"
     ]
    },
    {
     "name": "stdout",
     "output_type": "stream",
     "text": [
      "**** Attacco con eps:0.03 con step a 0.007 ****\n"
     ]
    },
    {
     "name": "stderr",
     "output_type": "stream",
     "text": [
      "                                                            \r"
     ]
    },
    {
     "name": "stdout",
     "output_type": "stream",
     "text": [
      "**** Attacco con eps:0.03 con step a 0.01 ****\n"
     ]
    },
    {
     "name": "stderr",
     "output_type": "stream",
     "text": [
      "                                                            \r"
     ]
    },
    {
     "name": "stdout",
     "output_type": "stream",
     "text": [
      "**** Attacco con max_iter 7 **** \n",
      "**** Attacco con eps:0.03 con step a 1e-06 ****\n"
     ]
    },
    {
     "name": "stderr",
     "output_type": "stream",
     "text": [
      "                                                            \r"
     ]
    },
    {
     "name": "stdout",
     "output_type": "stream",
     "text": [
      "**** Attacco con eps:0.03 con step a 1e-05 ****\n"
     ]
    },
    {
     "name": "stderr",
     "output_type": "stream",
     "text": [
      "                                                            \r"
     ]
    },
    {
     "name": "stdout",
     "output_type": "stream",
     "text": [
      "**** Attacco con eps:0.03 con step a 0.0001 ****\n"
     ]
    },
    {
     "name": "stderr",
     "output_type": "stream",
     "text": [
      "                                                            \r"
     ]
    },
    {
     "name": "stdout",
     "output_type": "stream",
     "text": [
      "**** Attacco con eps:0.03 con step a 0.0003 ****\n"
     ]
    },
    {
     "name": "stderr",
     "output_type": "stream",
     "text": [
      "                                                            \r"
     ]
    },
    {
     "name": "stdout",
     "output_type": "stream",
     "text": [
      "**** Attacco con eps:0.03 con step a 0.0005 ****\n"
     ]
    },
    {
     "name": "stderr",
     "output_type": "stream",
     "text": [
      "                                                            \r"
     ]
    },
    {
     "name": "stdout",
     "output_type": "stream",
     "text": [
      "**** Attacco con eps:0.03 con step a 0.0007 ****\n"
     ]
    },
    {
     "name": "stderr",
     "output_type": "stream",
     "text": [
      "                                                            \r"
     ]
    },
    {
     "name": "stdout",
     "output_type": "stream",
     "text": [
      "**** Attacco con eps:0.03 con step a 0.001 ****\n"
     ]
    },
    {
     "name": "stderr",
     "output_type": "stream",
     "text": [
      "                                                            \r"
     ]
    },
    {
     "name": "stdout",
     "output_type": "stream",
     "text": [
      "**** Attacco con eps:0.03 con step a 0.005 ****\n"
     ]
    },
    {
     "name": "stderr",
     "output_type": "stream",
     "text": [
      "                                                            \r"
     ]
    },
    {
     "name": "stdout",
     "output_type": "stream",
     "text": [
      "**** Attacco con eps:0.03 con step a 0.007 ****\n"
     ]
    },
    {
     "name": "stderr",
     "output_type": "stream",
     "text": [
      "                                                            \r"
     ]
    },
    {
     "name": "stdout",
     "output_type": "stream",
     "text": [
      "**** Attacco con eps:0.03 con step a 0.01 ****\n"
     ]
    },
    {
     "name": "stderr",
     "output_type": "stream",
     "text": [
      "                                                            \r"
     ]
    }
   ],
   "source": [
    "# PGD generic Attack for all samples\n",
    "import os\n",
    "import re\n",
    "from utils import load_image_NN1, load_test_image_NN2\n",
    "\n",
    "dataset_dir = \"test_set_cropped/\" \n",
    "eps_step = [0.000001, 0.00001, 0.0001, 0.0003, 0.0005, 0.0007, 0.001, 0.005, 0.007, 0.01] #La dimensione del passo della variazione dell'input a ogni iterazione. Questo parametro definisce quanto grande sarà ogni passo nella direzione del gradiente. #La dimensione del passo della variazione dell'input per il calcolo della perturbazione minima. Questo parametro è utilizzato quando minimal è impostato su True.\n",
    "max_iter = [2,5,7]  # Il numero massimo di iterazioni. Questo parametro determina quante volte l'attacco iterativo sarà eseguito.\n",
    " \n",
    "eps_range = 0.03 #Questo valore determina l'ampiezza massima della perturbazione aggiunta agli input originali. Può essere un valore singolo (int o float) o un array numpy (ndarray).\n",
    "\n",
    "accuracy_for_eps_nn1 = np.zeros((len(max_iter),len(eps_step)))\n",
    "perturbation_for_eps_nn1 = np.zeros((len(max_iter),len(eps_step)))\n",
    "correct_predictions_nn1 = 0\n",
    "\n",
    "accuracy_for_eps_nn2 = np.zeros((len(max_iter),len(eps_step)))\n",
    "perturbation_for_eps_nn2 = np.zeros((len(max_iter),len(eps_step)))\n",
    "correct_predictions_nn2 = 0\n",
    "\n",
    "total_images = 0\n",
    "print(\"Inizio Attacco PGD UNTARGETED\")\n",
    "for i in range(len(max_iter)):\n",
    "        print(\"**** Attacco con max_iter {} **** \".format(max_iter[i]))\n",
    "        for j in range(len(eps_step)):   #Se qualcosa funziona strano controllare questo zip\n",
    "            correct_predictions_nn1 = 0\n",
    "            correct_predictions_nn2 = 0\n",
    "            total_images = 0\n",
    "            perturbation = []\n",
    "            \n",
    "            attack = ProjectedGradientDescentPyTorch(estimator=model_nn1, eps = eps_range, eps_step=eps_step[j], targeted=False, max_iter = max_iter[i])\n",
    "            \n",
    "            print(\"**** Attacco con eps:{} con step a {} ****\".format(eps_range,eps_step[j]))\n",
    "            for filename in os.listdir(dataset_dir):\n",
    "                if filename.endswith(\".jpg\") or filename.endswith(\".jpeg\"):\n",
    "                    person_path = os.path.join(dataset_dir, filename)\n",
    "                    test_img = load_image_NN1(person_path,device)\n",
    "                    test_img = test_img.numpy()\n",
    "                    test_images_adv = attack.generate(test_img)\n",
    "                    nn1_predictions = model_nn1.predict(test_images_adv)\n",
    "\n",
    "                    test_images_NN2 = load_test_image_NN2(test_images_adv)\n",
    "\n",
    "\n",
    "                    nn2_predictions = model_nn2.predict(test_images_NN2)\n",
    "\n",
    "                    correct_label = re.sub(r'_\\d+_face_0\\.jpg$', '', filename)\n",
    "                    #print(\"Etichetta corretta:\", correct_label)   \n",
    "                    perturbation.append(np.mean(np.abs((test_images_adv - test_img))))  #Salvo le perturbazioni applicate su ogni immagine\n",
    "            \n",
    "                    predicted_label_nn1 = LABELS[np.array(nn1_predictions.argmax())]\n",
    "                    predicted_label_nn2 = LABELS[np.array(nn2_predictions.argmax())]\n",
    "                    #print(\"Predetto {} con probabilità {} e con perturbazione {}\".format(predicted_label,model_predictions[0][model_predictions.argmax()],perturbation[-1]))\n",
    "                    total_images+=1\n",
    "                    \n",
    "                    predicted_label_nn1 = str(predicted_label_nn1)  # da togliere ?\n",
    "\n",
    "                    \n",
    "                    if correct_label in predicted_label_nn1:\n",
    "                        correct_predictions_nn1+=1\n",
    "\n",
    "                    #print(\"Adversarial Sample misclassificati correttamente attuale: {}%\".format((100-(accuracy*100))))\n",
    "                    accuracy_nn1 = correct_predictions_nn1/total_images\n",
    "\n",
    "                    if correct_label in predicted_label_nn2:\n",
    "                        correct_predictions_nn2+=1\n",
    "\n",
    "                    accuracy_nn2 = correct_predictions_nn2/total_images    \n",
    "\n",
    "                    \n",
    "            \n",
    "\n",
    "            if total_images != 0:    #Per ogni epsilon impostata salvo in accuracy plot\n",
    "                if len(perturbation) == total_images:\n",
    "                    perturbazione_media = sum(perturbation)/total_images    #Calcolo la media delle perturbazioni applicate su tutte le immagini per una determinata epsilon\n",
    "                    perturbation_for_eps_nn1[i][j] = perturbazione_media\n",
    "                    #print(\"----------- Perturbazione media aggiunta a tutte le immagini per eps_Step: {} equivale a {}% ----------------\".format(eps_step[j],perturbazione_media))\n",
    "\n",
    "\n",
    "                final_accuracy_nn1 = correct_predictions_nn1/total_images\n",
    "                accuracy_for_eps_nn1[i][j] = final_accuracy_nn1\n",
    "\n",
    "                final_accuracy_nn2 = correct_predictions_nn2/total_images\n",
    "                accuracy_for_eps_nn2[i][j] = final_accuracy_nn2\n",
    "                #print(\"----------- Accuracy sugli adversarial Sample per eps_step: {} equivale a {}% ----------------\".format(eps_step[j],final_accuracy))\n",
    "                #print(\"\")\n",
    "            #Per ogni epsilon impostata salvo in accuracy plot\n",
    "       #print(\"--------------------------------------------------------------------------------------------------------------------------------------------------------------------\")\n",
    "       #print()\n"
   ]
  },
  {
   "cell_type": "markdown",
   "metadata": {},
   "source": [
    "### Plot results"
   ]
  },
  {
   "cell_type": "code",
   "execution_count": 27,
   "metadata": {},
   "outputs": [
    {
     "data": {
      "image/png": "[encoded data removed]",
      "text/plain": [
       "<Figure size 640x480 with 1 Axes>"
      ]
     },
     "metadata": {},
     "output_type": "display_data"
    }
   ],
   "source": [
    "from matplotlib import pyplot as plt\n",
    "\n",
    "# plot accuracy/Attack strength\n",
    "\n",
    "\n",
    "fig, ax = plt.subplots()\n",
    "\n",
    "\n",
    "ax.plot(np.array(eps_step), np.array(accuracy_for_eps_nn1[0]), 'y-', label='NN1 max_iter:{}'.format(max_iter[0]))\n",
    "ax.plot(np.array(eps_step), np.array(accuracy_for_eps_nn1[1]), 'orange', label='NN1 max_iter:{}'.format(max_iter[1]))\n",
    "ax.plot(np.array(eps_step), np.array(accuracy_for_eps_nn1[2]), 'red', label='NN1 max_iter:{}'.format(max_iter[2]))\n",
    "\n",
    "\n",
    "ax.plot(np.array(eps_step), np.array(accuracy_for_eps_nn2[0]), 'b-', label='NN2 max_iter:{}'.format(max_iter[0]))\n",
    "ax.plot(np.array(eps_step), np.array(accuracy_for_eps_nn2[1]), 'm-', label='NN2 max_iter:{}'.format(max_iter[1]))\n",
    "ax.plot(np.array(eps_step), np.array(accuracy_for_eps_nn2[2]), 'black', label='NN2 max_iter:{}'.format(max_iter[2]))\n",
    "\n",
    "\n",
    "\n",
    "\n",
    "legend = ax.legend(loc='upper right', shadow=True, fontsize='small')\n",
    "legend.get_frame().set_facecolor('#00FFCC')\n",
    "\n",
    "# Impostazione delle scale sugli assi x e y\n",
    "ax.set_xlim(eps_step[0], eps_step[-1])  # Imposta i limiti dell'asse x\n",
    "ax.set_ylim(0,1)  # Imposta i limiti dell'asse y\n",
    "\n",
    "plt.xlabel('Attack strength (eps)')\n",
    "plt.ylabel('Accuracy')\n",
    "plt.show()"
   ]
  },
  {
   "cell_type": "code",
   "execution_count": 12,
   "metadata": {},
   "outputs": [
    {
     "data": {
      "image/png": "[encoded data removed]",
      "text/plain": [
       "<Figure size 640x480 with 1 Axes>"
      ]
     },
     "metadata": {},
     "output_type": "display_data"
    }
   ],
   "source": [
    "from matplotlib import pyplot as plt\n",
    "\n",
    "# plot accuracy/Attack strength\n",
    "\n",
    "fig, ax = plt.subplots()\n",
    "ax.plot(np.array(eps_step), np.array(accuracy_for_eps_nn1[0]), 'y-', label='NN1 max_iter:{}'.format(max_iter[0]))\n",
    "ax.plot(np.array(eps_step), np.array(accuracy_for_eps_nn1[1]), 'orange', label='NN1 max_iter:{}'.format(max_iter[1]))\n",
    "ax.plot(np.array(eps_step), np.array(accuracy_for_eps_nn1[2]), 'red', label='NN1 max_iter:{}'.format(max_iter[2]))\n",
    "\n",
    "legend = ax.legend(loc='upper right', shadow=True, fontsize='small')\n",
    "legend.get_frame().set_facecolor('#00FFCC')\n",
    "\n",
    "# Impostazione delle scale sugli assi x e y\n",
    "ax.set_xlim(eps_step[0], eps_step[-1])  # Imposta i limiti dell'asse x\n",
    "ax.set_ylim(0,1)  # Imposta i limiti dell'asse y\n",
    "\n",
    "plt.xlabel('Attack strength (eps)')\n",
    "plt.ylabel('Accuracy')\n",
    "plt.show()"
   ]
  },
  {
   "cell_type": "code",
   "execution_count": 24,
   "metadata": {},
   "outputs": [
    {
     "data": {
      "image/png": "[encoded data removed]",
      "text/plain": [
       "<Figure size 640x480 with 1 Axes>"
      ]
     },
     "metadata": {},
     "output_type": "display_data"
    }
   ],
   "source": [
    "from matplotlib import pyplot as plt\n",
    "\n",
    "# plot accuracy/Attack strength\n",
    "\n",
    "fig, ax = plt.subplots()\n",
    "ax.plot(np.array(eps_step), np.array(accuracy_for_eps_nn2[0]), 'b-', label='NN2 max_iter:{}'.format(max_iter[0]))\n",
    "ax.plot(np.array(eps_step), np.array(accuracy_for_eps_nn2[1]), 'm-', label='NN2 max_iter:{}'.format(max_iter[1]))\n",
    "ax.plot(np.array(eps_step), np.array(accuracy_for_eps_nn2[2]), 'black', label='NN2 max_iter:{}'.format(max_iter[2]))\n",
    "\n",
    "legend = ax.legend(loc='upper right', shadow=True, fontsize='small')\n",
    "legend.get_frame().set_facecolor('#00FFCC')\n",
    "\n",
    "# Impostazione delle scale sugli assi x e y\n",
    "ax.set_xlim(eps_step[0], eps_step[-1])  # Imposta i limiti dell'asse x\n",
    "ax.set_ylim(0,1)  # Imposta i limiti dell'asse y\n",
    "\n",
    "plt.xlabel('Attack strength (eps)')\n",
    "plt.ylabel('Accuracy')\n",
    "plt.show()\n",
    "\n"
   ]
  },
  {
   "cell_type": "code",
   "execution_count": 18,
   "metadata": {},
   "outputs": [
    {
     "name": "stdout",
     "output_type": "stream",
     "text": [
      "[1e-06, 1e-05, 0.0001, 0.0003, 0.0005, 0.0007, 0.001, 0.005, 0.007, 0.01]\n",
      "[[0.819 0.817 0.814 0.792 0.755 0.703 0.621 0.053 0.02  0.006]\n",
      " [0.819 0.818 0.808 0.689 0.544 0.404 0.241 0.003 0.    0.   ]\n",
      " [0.819 0.817 0.779 0.596 0.4   0.244 0.102 0.001 0.    0.   ]]\n",
      "[[0.785 0.785 0.785 0.785 0.786 0.785 0.785 0.64  0.543 0.387]\n",
      " [0.785 0.785 0.785 0.785 0.785 0.784 0.718 0.354 0.31  0.287]\n",
      " [0.785 0.785 0.785 0.785 0.784 0.718 0.714 0.317 0.323 0.303]]\n"
     ]
    }
   ],
   "source": [
    "print(eps_step)\n",
    "print(accuracy_for_eps_nn1)\n",
    "print(accuracy_for_eps_nn2)"
   ]
  },
  {
   "cell_type": "code",
   "execution_count": 28,
   "metadata": {},
   "outputs": [
    {
     "data": {
      "image/png": "[encoded data removed]",
      "text/plain": [
       "<Figure size 640x480 with 1 Axes>"
      ]
     },
     "metadata": {},
     "output_type": "display_data"
    }
   ],
   "source": [
    "from matplotlib import pyplot as plt\n",
    "\n",
    "# plot accuracy/Attack strength\n",
    "\n",
    "fig, ax = plt.subplots()\n",
    "ax.plot(np.array(eps_step), np.array(perturbation_for_eps_nn1[0]), 'b-', label='NN1 max_iter:{}'.format(max_iter[0]))\n",
    "\n",
    "\n",
    "ax.plot(np.array(eps_step), np.array(perturbation_for_eps_nn1[1]), 'y-', label='NN1 max_iter:{}'.format(max_iter[1]))\n",
    "\n",
    "\n",
    "ax.plot(np.array(eps_step), np.array(perturbation_for_eps_nn1[2]), 'orange', label='NN1 max_iter:{}'.format(max_iter[2]))\n",
    "\n",
    "legend = ax.legend(loc='upper right', shadow=True, fontsize='small')\n",
    "legend.get_frame().set_facecolor('#00FFCC')\n",
    "\n",
    "# Impostazione delle scale sugli assi x e y\n",
    "ax.set_xlim(eps_step[0], eps_step[-1])  # Imposta i limiti dell'asse x\n",
    "ax.set_ylim(perturbation_for_eps_nn1[2][0]-0.001,perturbation_for_eps_nn1[2][-1]+0.01)  # Imposta i limiti dell'asse y\n",
    "\n",
    "plt.xlabel('Attack strength (eps)')\n",
    "plt.ylabel('Perturbation')\n",
    "plt.show()\n",
    "\n",
    "\n"
   ]
  },
  {
   "cell_type": "markdown",
   "metadata": {},
   "source": [
    "### Single sample Untargeted attack"
   ]
  },
  {
   "cell_type": "code",
   "execution_count": null,
   "metadata": {},
   "outputs": [],
   "source": [
    "epsilon = 0.01\n",
    "eps_step = 0.05\n",
    "max_iter = 3 \n",
    "\n",
    "attack = ProjectedGradientDescentPyTorch(estimator=model_nn1, eps = epsilon, eps_step= eps_step, targeted=False, max_iter = max_iter)"
   ]
  },
  {
   "cell_type": "code",
   "execution_count": null,
   "metadata": {},
   "outputs": [],
   "source": [
    "from utils import load_image_NN1, load_test_image_NN2\n",
    "import os\n",
    "import numpy as np\n",
    "\n",
    "\n",
    "\n",
    "dataset_dir = \"test_set_cropped_piccolo/\"\n",
    "filename = \"Brad_Pitt_1_face_0.jpg\"\n",
    "person_path = os.path.join(dataset_dir, filename)\n",
    "\n",
    "test_img = load_image_NN1(person_path,device)\n",
    "test_img_numpy = test_img.numpy()\n",
    "test_images_adv = attack.generate(test_img_numpy)\n",
    "\n",
    "\n",
    "nn1_predictions = model_nn1.predict(test_images_adv)\n",
    "perturbation = np.mean(np.abs((test_images_adv - test_img_numpy)))\n",
    "print('Average perturbation: {:4.2f}'.format(perturbation))\n",
    "\n",
    "\n",
    "test_images_NN2 = load_test_image_NN2(test_images_adv)\n",
    "\n",
    "\n",
    "nn2_predictions = model_nn2.predict(test_images_NN2)\n",
    "\n",
    "\n",
    "predicted_label_nn1 = LABELS[np.array(nn1_predictions.argmax())]\n",
    "predicted_label_nn2 = LABELS[np.array(nn2_predictions.argmax())]\n",
    "print(\"NN1{} con probabilità {}\".format(predicted_label_nn1,nn1_predictions[0][nn1_predictions.argmax()]))\n",
    "print(\"NN2{} con probabilità {}\".format(predicted_label_nn2,nn2_predictions[0][nn2_predictions.argmax()]))\n"
   ]
  },
  {
   "cell_type": "code",
   "execution_count": null,
   "metadata": {},
   "outputs": [],
   "source": [
    "# Prepara le immagini per la visualizzazione\n",
    "# Rimuovi la dimensione batch extra e converti nel formato channels-last\n",
    "test_images_adv = np.squeeze(test_images_adv, axis=0)\n",
    "test_images_adv = np.transpose(test_images_adv, (1, 2, 0))\n",
    "\n",
    "# Converti le immagini in uint8 per la visualizzazione\n",
    "if test_img_numpy.dtype != np.uint8:\n",
    "    test_img_numpy = (test_img_numpy * 255).astype(np.uint8)\n",
    "    test_img_numpy = np.squeeze(test_img_numpy, axis=0)  # Rimuovi la dimensione batch extra\n",
    "    test_img_numpy = np.transpose(test_img_numpy, (1, 2, 0))\n",
    "\n",
    "if test_images_adv.dtype != np.uint8:\n",
    "    test_images_adv = (test_images_adv * 255).astype(np.uint8)\n",
    "\n",
    "# Visualizza le immagini affiancate con Matplotlib\n",
    "fig, (ax1, ax2) = plt.subplots(1, 2, figsize=(10, 5))\n",
    "\n",
    "# Mostra l'immagine originale\n",
    "ax1.imshow(test_img_numpy)\n",
    "ax1.set_title('Original Image')\n",
    "ax1.axis('off')\n",
    "\n",
    "# Mostra l'immagine avversaria\n",
    "ax2.imshow(test_images_adv)\n",
    "ax2.set_title(f'Adversarial Image\\nPredicted: {predicted_label_nn1}')\n",
    "ax2.axis('off')\n",
    "\n",
    "# Mostra la figura\n",
    "plt.suptitle(\"DeepFool Adversarial Images\")\n",
    "plt.show()\n"
   ]
  },
  {
   "cell_type": "markdown",
   "metadata": {},
   "source": [
    "### Targeted Attack on all test set"
   ]
  },
  {
   "cell_type": "code",
   "execution_count": null,
   "metadata": {},
   "outputs": [],
   "source": [
    "import os\n",
    "import re\n",
    "from utils import load_image_NN1, load_test_image_NN2\n",
    "\n",
    "dataset_dir = \"test_set_cropped/\" \n",
    "eps_step = [0.00001, 0.0001, 0.001, 0.003, 0.005, 0.007, 0.01, 0.05, 0.07, 0.1] #La dimensione del passo della variazione dell'input a ogni iterazione. Questo parametro definisce quanto grande sarà ogni passo nella direzione del gradiente. #La dimensione del passo della variazione dell'input per il calcolo della perturbazione minima. Questo parametro è utilizzato quando minimal è impostato su True.\n",
    "\n",
    "max_iter = [2,5,7]  # Il numero massimo di iterazioni. Questo parametro determina quante volte l'attacco iterativo sarà eseguito.\n",
    " \n",
    "eps_range = 0.03 #Questo valore determina l'ampiezza massima della perturbazione aggiunta agli input originali. Può essere un valore singolo (int o float) o un array numpy (ndarray).\n",
    "\n",
    "accuracy_for_eps_nn1 = np.zeros((len(max_iter),len(eps_step)))\n",
    "perturbation_for_eps_nn1 = np.zeros((len(max_iter),len(eps_step)))\n",
    "correct_predictions_nn1 = 0\n",
    "accuracy_misclassified_for_eps_nn1 = np.zeros((len(max_iter),len(eps_step)))\n",
    "correct_misclassified_nn1 = 0\n",
    "\n",
    "accuracy_for_eps_nn2 = np.zeros((len(max_iter),len(eps_step)))\n",
    "perturbation_for_eps_nn2 = np.zeros((len(max_iter),len(eps_step)))\n",
    "correct_predictions_nn2 = 0\n",
    "accuracy_misclassified_for_eps_nn2 = np.zeros((len(max_iter),len(eps_step)))\n",
    "correct_misclassified_nn2 = 0\n",
    "\n",
    "total_images = 0\n",
    "\n",
    "target_class = 10\n",
    "etichetta_target = LABELS[10]\n",
    "print(\"ETICHETTA TARGET: \", LABELS[10])\n",
    "shape = 1 #shape di test image \n",
    "batch_size = shape\n",
    "targeted_labels = np.array([target_class] * batch_size)\n",
    "one_hot_targeted_labels = tf.keras.utils.to_categorical(targeted_labels, num_classes=8631)\n",
    "\n",
    "\n",
    "\n",
    "print(\"Inizio Attacco PGD TARGETED\")\n",
    "for i in range(len(max_iter)):\n",
    "        print(\"**** Attacco con max_iter {} **** \".format(max_iter[i]))\n",
    "        for j in range(len(eps_step)):   #Se qualcosa funziona strano controllare questo zip\n",
    "            correct_predictions_nn1 = 0\n",
    "            correct_predictions_nn2 = 0\n",
    "            correct_misclassified_nn1 = 0\n",
    "            correct_misclassified_nn2 = 0\n",
    "            total_images = 0\n",
    "            perturbation = []\n",
    "            \n",
    "            attack = ProjectedGradientDescentPyTorch(estimator=model_nn1, eps = eps_range, eps_step=eps_step[j], targeted=True, max_iter = max_iter[i])\n",
    "            \n",
    "            print(\"**** Attacco con eps:{} con step a {} ****\".format(eps_range,eps_step[j]))\n",
    "            for filename in os.listdir(dataset_dir):\n",
    "                if filename.endswith(\".jpg\") or filename.endswith(\".jpeg\"):\n",
    "                    person_path = os.path.join(dataset_dir, filename)\n",
    "                    test_img = load_image_NN1(person_path, device)\n",
    "                    test_img = test_img.numpy()\n",
    "                    test_images_adv = attack.generate(test_img, one_hot_targeted_labels)\n",
    "                    nn1_predictions = model_nn1.predict(test_images_adv)\n",
    "\n",
    "                    test_images_NN2 = load_test_image_NN2(test_images_adv)\n",
    "\n",
    "\n",
    "                    nn2_predictions = model_nn2.predict(test_images_NN2)\n",
    "\n",
    "                    correct_label = re.sub(r'_\\d+_face_0\\.jpg$', '', filename)\n",
    "                    #print(\"Etichetta corretta:\", correct_label)   \n",
    "                    perturbation.append(np.mean(np.abs((test_images_adv - test_img))))  #Salvo le perturbazioni applicate su ogni immagine\n",
    "            \n",
    "                    predicted_label_nn1 = LABELS[np.array(nn1_predictions.argmax())]\n",
    "                    predicted_label_nn2 = LABELS[np.array(nn2_predictions.argmax())]\n",
    "                    #print(\"Predetto {} con probabilità {} e con perturbazione {}\".format(predicted_label,model_predictions[0][model_predictions.argmax()],perturbation[-1]))\n",
    "                    total_images+=1\n",
    "                    \n",
    "                    predicted_label_nn1 = str(predicted_label_nn1)  # da togliere ?\n",
    "\n",
    "                    \n",
    "                    if correct_label in predicted_label_nn1:\n",
    "                        correct_predictions_nn1+=1\n",
    "\n",
    "                    if correct_label in predicted_label_nn2:\n",
    "                        correct_predictions_nn2+=1    \n",
    "\n",
    "                    if predicted_label_nn1 in etichetta_target:  \n",
    "                        correct_misclassified_nn1 = correct_misclassified_nn1+1\n",
    "                       \n",
    "                    \n",
    "                    if predicted_label_nn2 in etichetta_target: \n",
    "                        correct_misclassified_nn2 = correct_misclassified_nn2+1\n",
    "\n",
    "            \n",
    "\n",
    "            if total_images != 0:    #Per ogni epsilon impostata salvo in accuracy plot\n",
    "                if len(perturbation) == total_images:\n",
    "                    perturbazione_media = sum(perturbation)/total_images    #Calcolo la media delle perturbazioni applicate su tutte le immagini per una determinata epsilon\n",
    "                    perturbation_for_eps_nn1[i][j] = perturbazione_media\n",
    "                    #print(\"----------- Perturbazione media aggiunta a tutte le immagini per eps_Step: {} equivale a {}% ----------------\".format(eps_step[j],perturbazione_media))\n",
    "\n",
    "\n",
    "                final_accuracy_nn1 = correct_predictions_nn1/total_images\n",
    "                accuracy_for_eps_nn1[i][j] = final_accuracy_nn1\n",
    "\n",
    "                final_accuracy_nn2 = correct_predictions_nn2/total_images\n",
    "                accuracy_for_eps_nn2[i][j] = final_accuracy_nn2\n",
    "\n",
    "                accuracy_misclassified_nn1 = correct_misclassified_nn1/total_images\n",
    "                accuracy_misclassified_for_eps_nn1[i][j] = accuracy_misclassified_nn1\n",
    "\n",
    "                accuracy_misclassified_nn2 = correct_misclassified_nn2/total_images\n",
    "                accuracy_misclassified_for_eps_nn2[i][j] = correct_misclassified_nn2\n",
    "            \n",
    "                \n",
    "                #print(\"----------- Accuracy sugli adversarial Sample per eps_step: {} equivale a {}% ----------------\".format(eps_step[j],final_accuracy))\n",
    "                #print(\"\")\n",
    "            #Per ogni epsilon impostata salvo in accuracy plot\n",
    "       #print(\"--------------------------------------------------------------------------------------------------------------------------------------------------------------------\")\n",
    "       #print()"
   ]
  },
  {
   "cell_type": "code",
   "execution_count": null,
   "metadata": {},
   "outputs": [],
   "source": [
    "from matplotlib import pyplot as plt\n",
    "\n",
    "# plot accuracy/Attack strength\n",
    "\n",
    "fig, ax = plt.subplots()\n",
    "ax.plot(np.array(eps_step), np.array(accuracy_for_eps_nn1[1]), 'b--', label='NN1')\n",
    "ax.plot(np.array(eps_step), np.array(accuracy_for_eps_nn2[1]), 'r--', label='NN2')\n",
    "\n",
    "legend = ax.legend(loc='upper center', shadow=True, fontsize='large')\n",
    "legend.get_frame().set_facecolor('#00FFCC')\n",
    "\n",
    "plt.xlabel('Attack strength (eps)')\n",
    "plt.ylabel('Accuracy')\n",
    "plt.show()"
   ]
  },
  {
   "cell_type": "code",
   "execution_count": null,
   "metadata": {},
   "outputs": [],
   "source": [
    "fig, ax = plt.subplots()\n",
    "ax.plot( np.array(perturbation_for_eps_nn1[0]),np.array(accuracy_for_eps_nn1[0]), 'b--', label='NN1')\n",
    "ax.plot( np.array(perturbation_for_eps_nn1[1]),np.array(accuracy_for_eps_nn2[2]), 'r--', label='NN2')\n",
    "legend = ax.legend(loc='upper center', shadow=True, fontsize='large')\n",
    "legend.get_frame().set_facecolor('#00FFCC')\n",
    "\n",
    "plt.xlabel('Attack strength (eps)')\n",
    "plt.ylabel('mean perturbation')\n",
    "plt.show()"
   ]
  },
  {
   "cell_type": "code",
   "execution_count": null,
   "metadata": {},
   "outputs": [],
   "source": [
    "fig, ax = plt.subplots()\n",
    "ax.plot(np.array(eps_step),np.array(accuracy_misclassified_for_eps_nn1[0]), 'b--', label='NN1')\n",
    "ax.plot(np.array(eps_step),np.array(accuracy_misclassified_for_eps_nn2[0]), 'r--', label='NN2')\n",
    "\n",
    "legend = ax.legend(loc='upper center', shadow=True, fontsize='large')\n",
    "legend.get_frame().set_facecolor('#00FFCC')\n",
    "\n",
    "plt.xlabel('Attack strength (eps)')\n",
    "plt.ylabel('misclassification success')\n",
    "plt.show()"
   ]
  },
  {
   "cell_type": "markdown",
   "metadata": {},
   "source": [
    "### Single sample Targeted attack"
   ]
  },
  {
   "cell_type": "code",
   "execution_count": null,
   "metadata": {},
   "outputs": [],
   "source": [
    "epsilon = 0.9\n",
    "eps_step = 0.00003\n",
    "max_iter = 100\n",
    "\n",
    "attack = ProjectedGradientDescentPyTorch(estimator=model_nn1,  eps = epsilon, eps_step= eps_step, targeted=True, max_iter = max_iter)"
   ]
  },
  {
   "cell_type": "code",
   "execution_count": null,
   "metadata": {},
   "outputs": [],
   "source": [
    "from utils import load_image_NN1\n",
    "import os\n",
    "import numpy as np\n",
    "\n",
    "\n",
    "dataset_dir = \"test_set_cropped/\"\n",
    "filename = \"Ariana_Grande_5_face_0.jpg\"\n",
    "person_path = os.path.join(dataset_dir, filename)\n",
    "\n",
    "test_img = load_image_NN1(person_path, device)\n",
    "target_class = 70\n",
    "etichetta_target = LABELS[target_class]\n",
    "print(\"ETICHETTA TARGET: \", LABELS[target_class])\n",
    "batch_size = test_img.shape[0]\n",
    "targeted_labels = np.array([target_class] * batch_size)\n",
    "one_hot_targeted_labels = tf.keras.utils.to_categorical(targeted_labels, num_classes=8631)\n",
    "print(one_hot_targeted_labels.shape)\n",
    "\n",
    "\n",
    "test_img_numpy = test_img.numpy()\n",
    "test_images_adv = attack.generate(test_img_numpy, one_hot_targeted_labels)\n",
    "model_predictions_nn1 = model_nn1.predict(test_images_adv)\n",
    "\n",
    "test_images_NN2 = load_test_image_NN2(test_images_adv)\n",
    "\n",
    "\n",
    "model_predictions_nn2 = model_nn2.predict(test_images_NN2)\n",
    "\n",
    "\n",
    "perturbation = np.mean(np.abs((test_images_adv - test_img_numpy)))\n",
    "print('Average perturbation: {:4.2f}'.format(perturbation))\n",
    "\n",
    "\n",
    "print(\"Etichetta target:{}\".format(LABELS[target_class]))\n",
    "predicted_label_nn1 = LABELS[np.array(model_predictions_nn1.argmax())]\n",
    "print(\"{} con probabilità {}\".format(predicted_label_nn1,model_predictions_nn1[0][model_predictions_nn1.argmax()]))\n",
    "\n",
    "predicted_label_nn2 = LABELS[np.array(model_predictions_nn2.argmax())]\n",
    "print(\"{} con probabilità {}\".format(predicted_label_nn2,model_predictions_nn2[0][model_predictions_nn2.argmax()]))\n"
   ]
  },
  {
   "cell_type": "code",
   "execution_count": null,
   "metadata": {},
   "outputs": [],
   "source": [
    "# Prepara le immagini per la visualizzazione\n",
    "# Rimuovi la dimensione batch extra e converti nel formato channels-last\n",
    "test_images_adv = np.squeeze(test_images_adv, axis=0)\n",
    "test_images_adv = np.transpose(test_images_adv, (1, 2, 0))\n",
    "\n",
    "# Converti le immagini in uint8 per la visualizzazione\n",
    "if test_img_numpy.dtype != np.uint8:\n",
    "    test_img_numpy = (test_img_numpy * 255).astype(np.uint8)\n",
    "    test_img_numpy = np.squeeze(test_img_numpy, axis=0)  # Rimuovi la dimensione batch extra\n",
    "    test_img_numpy = np.transpose(test_img_numpy, (1, 2, 0))\n",
    "\n",
    "if test_images_adv.dtype != np.uint8:\n",
    "    test_images_adv = (test_images_adv * 255).astype(np.uint8)\n",
    "\n",
    "# Visualizza le immagini affiancate con Matplotlib\n",
    "fig, (ax1, ax2) = plt.subplots(1, 2, figsize=(10, 5))\n",
    "\n",
    "# Mostra l'immagine originale\n",
    "ax1.imshow(test_img_numpy)\n",
    "ax1.set_title('Original Image')\n",
    "ax1.axis('off')\n",
    "\n",
    "# Mostra l'immagine avversaria\n",
    "ax2.imshow(test_images_adv)\n",
    "ax2.set_title(f'Adversarial Image\\nPredicted: {predicted_label_nn1}')\n",
    "ax2.axis('off')\n",
    "\n",
    "\n",
    "# Mostra la figura\n",
    "plt.suptitle(\"DeepFool Adversarial Images\")\n",
    "plt.show()"
   ]
  }
 ],
 "metadata": {
  "kernelspec": {
   "display_name": "Python 3",
   "language": "python",
   "name": "python3"
  },
  "language_info": {
   "codemirror_mode": {
    "name": "ipython",
    "version": 3
   },
   "file_extension": ".py",
   "mimetype": "text/x-python",
   "name": "python",
   "nbconvert_exporter": "python",
   "pygments_lexer": "ipython3",
   "version": "3.9.6"
  }
 },
 "nbformat": 4,
 "nbformat_minor": 2
}
