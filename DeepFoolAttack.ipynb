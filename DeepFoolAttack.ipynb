{
 "cells": [
  {
   "cell_type": "markdown",
   "metadata": {},
   "source": [
    "# DeepFool ATTACK"
   ]
  },
  {
   "cell_type": "code",
   "execution_count": null,
   "metadata": {},
   "outputs": [],
   "source": [
    "# !pip install facenet-pytorch\n",
    "# !pip install Pillow\n",
    "# !pip install -q tensorflow==2.0.0\n",
    "# !pip install adversarial-robustness-toolbox[all]\n",
    "# !pip install matplotlib"
   ]
  },
  {
   "cell_type": "markdown",
   "metadata": {},
   "source": [
    "### *Import*\n",
    "\n"
   ]
  },
  {
   "cell_type": "markdown",
   "metadata": {},
   "source": [
    "### initialization"
   ]
  },
  {
   "cell_type": "code",
   "execution_count": null,
   "metadata": {},
   "outputs": [],
   "source": [
    "import os\n",
    "import re\n",
    "import numpy as np\n",
    "from matplotlib import pyplot as plt\n",
    "from PIL import Image\n",
    "from torchvision import transforms\n",
    "import torch\n",
    "from torch.nn import CrossEntropyLoss\n",
    "import torch.nn as nn\n",
    "from art.estimators.classification import PyTorchClassifier\n",
    "import tensorflow as tf\n",
    "from matplotlib import pyplot as plt\n",
    "# Import all L-distance based attacks\n",
    "from art.attacks.evasion import CarliniL2Method, CarliniL0Method, CarliniLInfMethod\n",
    "from utils import load_test_image_NN2_preprocessed\n",
    "\n",
    "device = torch.device('cuda' if torch.cuda.is_available() else 'cpu')\n",
    "device = str(device)\n",
    "print(device)"
   ]
  },
  {
   "cell_type": "code",
   "execution_count": null,
   "metadata": {},
   "outputs": [],
   "source": [
    "if device in 'cuda':\n",
    "    print(\"Import Inception.Inception\")\n",
    "    import inception\n",
    "    nn1 = inception.InceptionResnetV1(pretrained='vggface2').eval()\n",
    "    nn1 .classify = True\n",
    "elif device == \"cpu\":\n",
    "    print(\"Import Facenet.Inception\")\n",
    "    from facenet_pytorch import InceptionResnetV1\n",
    "    nn1  = InceptionResnetV1(pretrained='vggface2').eval()\n",
    "    nn1.classify = True\n",
    "\n",
    "nn1.to(device)\n",
    "\n",
    "model_nn1 = PyTorchClassifier(nn1,input_shape=[160,160], loss=CrossEntropyLoss(),nb_classes=8631, device_type=device) #This class implements a classifier with the PyTorch framework.\n"
   ]
  },
  {
   "cell_type": "code",
   "execution_count": null,
   "metadata": {},
   "outputs": [],
   "source": [
    "from RESNET import ResNet\n",
    "from utils import get_labels\n",
    "from utils import load_state_dict\n",
    "\n",
    "nn2 = ResNet.resnet50(num_classes=8631, include_top=True)\n",
    "\n",
    "\n",
    "load_state_dict(nn2,'resnet50_scratch_weight.pkl')\n",
    "nn2.eval()\n",
    "\n",
    "model_nn2 = PyTorchClassifier(nn2,input_shape=[224,224], loss=CrossEntropyLoss(),nb_classes=8631, device_type=device)\n",
    "\n",
    "LABELS = get_labels()"
   ]
  },
  {
   "cell_type": "markdown",
   "metadata": {},
   "source": [
    "### Untargeted Attack on all test set"
   ]
  },
  {
   "cell_type": "code",
   "execution_count": null,
   "metadata": {},
   "outputs": [],
   "source": [
    "from art.attacks.evasion import DeepFool\n",
    "import os\n",
    "import re\n",
    "import numpy as np\n",
    "from utils import load_image_NN1, load_test_image_NN2\n",
    "\n",
    "dataset_dir = \"test_set_cropped_piccolo/\"\n",
    "#eps_step = [0.001, 0.02 ,0.05, 0.07, 0.3, 0.5, 0.7, 1]\n",
    "#eps_step = [0.00001, 0.0001, 0.001, 0.003, 0.005, 0.007, 0.01, 0.05, 0.07, 0.1, 0.7, 1, 2]\n",
    "#eps_step = [1e-20, 1e-15, 1e-10, 1]\n",
    "eps_step =[0.05, 0.1, 0.15, 0.2, 0.25, 0.3, 0.35, 0.4, 0.45, 0.5, 0.6, 0.7, 0.8, 0.9]\n",
    "max_iter = [1,5]\n",
    "\n",
    "\n",
    "accuracy_for_eps_nn1 = np.zeros((len(max_iter),len(eps_step)))\n",
    "perturbation_for_eps_nn1 = np.zeros((len(max_iter),len(eps_step)))\n",
    "correct_predictions_nn1 = 0\n",
    "\n",
    "accuracy_for_eps_nn2 = np.zeros((len(max_iter),len(eps_step)))\n",
    "perturbation_for_eps_nn2 = np.zeros((len(max_iter),len(eps_step)))\n",
    "correct_predictions_nn2 = 0\n",
    "\n",
    "accuracy_for_eps_nn2_preprocessed=np.zeros((len(max_iter),len(eps_step)))\n",
    "correct_predictions_nn2_preprocessed=0\n",
    "\n",
    "\n",
    "total_images = 0\n",
    "print(\"Inizio Attacco DeepFool NON-TARGETED\")\n",
    "\n",
    "# Ensure models and labels are defined and loaded\n",
    "# model_nn1, model_nn2, LABELS should be defined here\n",
    "for i in range(len(max_iter)):\n",
    "    for j in range(len(eps_step)):\n",
    "        correct_predictions_nn1 = 0\n",
    "        correct_predictions_nn2 = 0\n",
    "        correct_predictions_nn2_preprocessed=0\n",
    "        total_images = 0\n",
    "\n",
    "        perturbations = []\n",
    "        attack = DeepFool(classifier=model_nn1, epsilon=eps_step[j], max_iter=max_iter[i])\n",
    "\n",
    "        print(f\"**** Attacco con eps: {eps_step[j]} ****\")\n",
    "        for filename in os.listdir(dataset_dir):\n",
    "            if filename.endswith(\".jpg\") or filename.endswith(\".jpeg\"):\n",
    "                person_path = os.path.join(dataset_dir, filename)\n",
    "                test_img = load_image_NN1(person_path, device).numpy()\n",
    "                test_images_adv = attack.generate(test_img)\n",
    "                nn1_predictions = model_nn1.predict(test_images_adv)\n",
    "                test_images_NN2 = load_test_image_NN2(test_images_adv)\n",
    "                nn2_predictions = model_nn2.predict(test_images_NN2)\n",
    "\n",
    "                test_images_NN2_preprocessed= load_test_image_NN2_preprocessed(test_images_adv)\n",
    "                nn2_prediction_preprocessed=model_nn2.predict(test_images_NN2_preprocessed)\n",
    "\n",
    "                correct_label = re.sub(r'_\\d+_face_0\\.jpg$', '', filename)\n",
    "                perturbations.append(np.mean(np.abs(test_images_adv - test_img)))\n",
    "\n",
    "                predicted_label_nn1 = LABELS[np.array(nn1_predictions.argmax())]\n",
    "                predicted_label_nn2 = LABELS[np.array(nn2_predictions.argmax())]\n",
    "                predicted_label_nn2_preprocessed= LABELS[np.array(nn2_prediction_preprocessed.argmax())]\n",
    "\n",
    "                total_images += 1\n",
    "\n",
    "                if correct_label in predicted_label_nn1:\n",
    "                    correct_predictions_nn1 += 1\n",
    "\n",
    "                if correct_label in predicted_label_nn2:\n",
    "                    correct_predictions_nn2 += 1\n",
    "\n",
    "                if correct_label in predicted_label_nn2_preprocessed:\n",
    "                    correct_predictions_nn2_preprocessed +=1\n",
    "\n",
    "        if total_images != 0:\n",
    "            perturbation_mean = np.mean(perturbations)\n",
    "            perturbation_for_eps_nn1[i][j]=perturbation_mean\n",
    "        \n",
    "            accuracy_nn1 = correct_predictions_nn1 / total_images\n",
    "            accuracy_for_eps_nn1[i][j]=accuracy_nn1\n",
    "\n",
    "            accuracy_nn2 = correct_predictions_nn2/ total_images\n",
    "            accuracy_for_eps_nn2[i][j]=accuracy_nn2\n",
    "\n",
    "            accuracy_nn2_preprocessed= correct_predictions_nn2_preprocessed/total_images\n",
    "            accuracy_for_eps_nn2_preprocessed[i][j]=accuracy_nn2_preprocessed\n",
    "\n",
    "            print(f\"Accuracy Inception ResNet for eps {eps_step[j]}: {accuracy_nn1}\")\n",
    "            print(f\"Accuracy Resnet50 for eps {eps_step[j]}: {accuracy_nn2}\")\n",
    "            print(f\"Average perturbation for eps {eps_step[j]}: {perturbation_mean}\")\n"
   ]
  },
  {
   "cell_type": "code",
   "execution_count": 14,
   "metadata": {},
   "outputs": [
    {
     "name": "stdout",
     "output_type": "stream",
     "text": [
      "[0.05, 0.1, 0.15, 0.2, 0.25, 0.3, 0.35, 0.4, 0.45, 0.5, 0.6, 0.7, 0.8, 0.9]\n",
      "[[0.3 0.3 0.3 0.2 0.2 0.2 0.2 0.2 0.2 0.2 0.2 0.2 0.2 0.2]\n",
      " [0.1 0.1 0.1 0.1 0.1 0.1 0.1 0.1 0.1 0.1 0.1 0.1 0.  0. ]]\n",
      "\n",
      "\n",
      "[[0.9 0.9 0.9 0.9 0.9 0.9 0.9 0.8 0.8 0.8 0.8 0.8 0.8 0.8]\n",
      " [0.9 0.9 0.9 0.9 0.9 0.9 0.9 0.8 0.8 0.8 0.8 0.8 0.8 0.8]]\n",
      "\n",
      "\n",
      "[[0.9 0.9 0.9 0.9 0.9 0.9 0.9 0.9 0.9 0.9 0.9 0.9 0.9 0.9]\n",
      " [0.9 0.9 0.9 0.9 0.9 0.9 0.9 0.9 0.9 0.9 0.9 0.9 0.9 0.9]]\n"
     ]
    }
   ],
   "source": [
    "print(eps_step)\n",
    "\n",
    "print(accuracy_for_eps_nn1)\n",
    "print(\"\\n\")\n",
    "print(accuracy_for_eps_nn2)\n",
    "print(\"\\n\")\n",
    "print(accuracy_for_eps_nn2_preprocessed)"
   ]
  },
  {
   "cell_type": "code",
   "execution_count": null,
   "metadata": {},
   "outputs": [],
   "source": [
    "from matplotlib import pyplot as plt\n",
    "\n",
    "# plot accuracy/Attack strength NN1-NN2\n",
    "\n",
    "fig, ax = plt.subplots()\n",
    "\n",
    "ax.plot(np.array(eps_step), np.array(accuracy_for_eps_nn1), 'b--', label='NN1')\n",
    "ax.plot(np.array(eps_step), np.array(accuracy_for_eps_nn2), 'r--', label='NN2')\n",
    "\n",
    "legend = ax.legend(loc='upper center', shadow=True, fontsize='large')\n",
    "legend.get_frame().set_facecolor('#00FFCC')\n",
    "\n",
    "plt.xlabel('Attack strength (eps)')\n",
    "plt.ylabel('Accuracy')\n",
    "plt.show()"
   ]
  },
  {
   "cell_type": "code",
   "execution_count": null,
   "metadata": {},
   "outputs": [],
   "source": [
    "fig, ax = plt.subplots()\n",
    "ax.plot(np.array(eps_step), np.array(perturbation_for_eps_nn1), 'b--', label='NN1')\n",
    "\n",
    "legend = ax.legend(loc='upper center', shadow=True, fontsize='large')\n",
    "legend.get_frame().set_facecolor('#00FFCC')\n",
    "\n",
    "plt.xlabel('Attack strength (eps)')\n",
    "plt.ylabel('mean perturbation')\n",
    "plt.show()"
   ]
  },
  {
   "cell_type": "markdown",
   "metadata": {},
   "source": [
    "### Single sample Untargeted attack"
   ]
  },
  {
   "cell_type": "code",
   "execution_count": null,
   "metadata": {},
   "outputs": [],
   "source": [
    "from art.attacks.evasion import DeepFool\n",
    "\n",
    "epsilon =0.09\n",
    "max_iter = 5\n",
    "\n",
    "attack = DeepFool(classifier=model_nn1, epsilon=epsilon, max_iter=max_iter)"
   ]
  },
  {
   "cell_type": "code",
   "execution_count": null,
   "metadata": {},
   "outputs": [],
   "source": [
    "from utils import load_image_NN1\n",
    "dataset_dir = \"test_set_cropped/\"\n",
    "filename = \"Ursula_von_der_Leyen_6_face_0.jpg\"\n",
    "\n",
    "person_path = os.path.join(dataset_dir, filename)\n",
    "test_img = load_image_NN1(person_path,device)\n",
    "test_img_numpy = test_img.numpy()\n",
    "test_images_adv = attack.generate(test_img_numpy)\n",
    "\n",
    "nn1_predictions = model_nn1.predict(test_images_adv)\n",
    "perturbation = np.mean(np.abs((test_images_adv - test_img_numpy)))\n",
    "print('Average perturbation: {:4.2f}'.format(perturbation))\n",
    "\n",
    "\n",
    "test_images_NN2 = load_test_image_NN2_preprocessed(test_images_adv)\n",
    "nn2_predictions = model_nn2.predict(test_images_NN2)\n",
    "\n",
    "\n",
    "\n",
    "predicted_label_nn1= LABELS[np.array(nn1_predictions.argmax())]\n",
    "predicted_label_nn2 = LABELS[np.array(nn2_predictions.argmax())]\n",
    "print(\"NN1{} con probabilità {}\".format(predicted_label_nn1,nn1_predictions[0][nn1_predictions.argmax()]))\n",
    "print(\"NN2{} con probabilità {}\".format(predicted_label_nn2,nn2_predictions[0][nn2_predictions.argmax()]))\n"
   ]
  },
  {
   "cell_type": "code",
   "execution_count": null,
   "metadata": {},
   "outputs": [],
   "source": [
    "# Prepara le immagini per la visualizzazione\n",
    "# Rimuovi la dimensione batch extra e converti nel formato channels-last\n",
    "test_images_adv = np.squeeze(test_images_adv, axis=0)\n",
    "test_images_adv = np.transpose(test_images_adv, (1, 2, 0))\n",
    "\n",
    "# Converti le immagini in uint8 per la visualizzazione\n",
    "if test_img_numpy.dtype != np.uint8:\n",
    "    test_img_numpy = (test_img_numpy * 255).astype(np.uint8)\n",
    "    test_img_numpy = np.squeeze(test_img_numpy, axis=0)  # Rimuovi la dimensione batch extra\n",
    "    test_img_numpy = np.transpose(test_img_numpy, (1, 2, 0))\n",
    "\n",
    "if test_images_adv.dtype != np.uint8:\n",
    "    test_images_adv = (test_images_adv * 255).astype(np.uint8)\n",
    "\n",
    "# Visualizza le immagini affiancate con Matplotlib\n",
    "fig, (ax1, ax2) = plt.subplots(1, 2, figsize=(10, 5))\n",
    "\n",
    "# Mostra l'immagine originale\n",
    "ax1.imshow(test_img_numpy)\n",
    "ax1.set_title('Original Image')\n",
    "ax1.axis('off')\n",
    "\n",
    "# Mostra l'immagine avversaria\n",
    "ax2.imshow(test_images_adv)\n",
    "ax2.set_title(f'Adversarial Image\\nPredicted: {predicted_label_nn1}')\n",
    "ax2.axis('off')\n",
    "\n",
    "# Mostra la figura\n",
    "plt.suptitle(\"DeepFool Adversarial Images\")\n",
    "plt.show()\n"
   ]
  }
 ],
 "metadata": {
  "kernelspec": {
   "display_name": ".venv",
   "language": "python",
   "name": "python3"
  },
  "language_info": {
   "codemirror_mode": {
    "name": "ipython",
    "version": 3
   },
   "file_extension": ".py",
   "mimetype": "text/x-python",
   "name": "python",
   "nbconvert_exporter": "python",
   "pygments_lexer": "ipython3",
   "version": "3.9.6"
  }
 },
 "nbformat": 4,
 "nbformat_minor": 2
}
