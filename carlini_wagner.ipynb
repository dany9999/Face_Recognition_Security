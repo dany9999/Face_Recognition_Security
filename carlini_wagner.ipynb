{
 "cells": [
  {
   "cell_type": "markdown",
   "metadata": {},
   "source": [
    "# CARLINI WAGNER #"
   ]
  },
  {
   "cell_type": "markdown",
   "metadata": {},
   "source": [
    "Ricordati di cambiare le cartelle del test set."
   ]
  },
  {
   "cell_type": "markdown",
   "metadata": {},
   "source": [
    "#### *Import* "
   ]
  },
  {
   "cell_type": "code",
   "execution_count": null,
   "metadata": {},
   "outputs": [],
   "source": [
    "import os\n",
    "import re\n",
    "import numpy as np\n",
    "from matplotlib import pyplot as plt\n",
    "from PIL import Image\n",
    "from torchvision import transforms\n",
    "import torch\n",
    "from torch.nn import CrossEntropyLoss\n",
    "import torch.nn as nn\n",
    "from art.estimators.classification import PyTorchClassifier\n",
    "import tensorflow as tf\n",
    "from matplotlib import pyplot as plt\n",
    "# Import all L-distance based attacks\n",
    "from art.attacks.evasion import CarliniL2Method, CarliniL0Method, CarliniLInfMethod\n",
    "\n",
    "device = torch.device('cuda' if torch.cuda.is_available() else 'cpu')\n",
    "print(device)"
   ]
  },
  {
   "cell_type": "code",
   "execution_count": null,
   "metadata": {},
   "outputs": [],
   "source": [
    "if device == \"cuda\":\n",
    "    from inception import InceptionResnetV1\n",
    "elif device == \"cpu\":\n",
    "    from facenet_pytorch import InceptionResnetV1"
   ]
  },
  {
   "cell_type": "markdown",
   "metadata": {},
   "source": [
    "#### Inizializzazione"
   ]
  },
  {
   "cell_type": "code",
   "execution_count": null,
   "metadata": {},
   "outputs": [],
   "source": [
    "resnet = InceptionResnetV1(pretrained='vggface2').eval()\n",
    "resnet.classify = True\n",
    "resnet.to(device)\n",
    "fpath = tf.keras.utils.get_file('rcmalli_vggface_labels_v2.npy',\n",
    "                             \"https://github.com/rcmalli/keras-vggface/releases/download/v2.0/rcmalli_vggface_labels_v2.npy\",\n",
    "                             cache_subdir=\"./\")\n",
    "LABELS = np.load(fpath)\n",
    "\n",
    "def load_image(filename):\n",
    "    img = Image.open(filename)\n",
    "    rsz = img.resize((160, 160))\n",
    "    tns = transforms.ToTensor()(rsz)\n",
    "    tns.to(device)\n",
    "    return tns\n",
    "\n",
    "classifier = PyTorchClassifier(resnet,input_shape=[224,224], loss=CrossEntropyLoss(),nb_classes=8631) #This class implements a classifier with the PyTorch framework.\n"
   ]
  },
  {
   "cell_type": "markdown",
   "metadata": {},
   "source": [
    "#### Caricamento di una sola immagine per i test"
   ]
  },
  {
   "cell_type": "code",
   "execution_count": null,
   "metadata": {},
   "outputs": [],
   "source": [
    "test_img = load_image(\"test_set_cropped/Antonio_Cassano_8_face_0.jpg\")\n",
    "\n",
    "print(test_img.shape)\n",
    "print(test_img.size)\n",
    "test_img = test_img.unsqueeze(0)\n",
    "print(test_img.shape)\n",
    "print(test_img.size)\n",
    "test_img = test_img.numpy()\n",
    "print(test_img.shape)\n",
    "print(type(test_img))"
   ]
  },
  {
   "cell_type": "markdown",
   "metadata": {},
   "source": [
    "#### SIGNIFICATO PARAMETRI \n"
   ]
  },
  {
   "cell_type": "markdown",
   "metadata": {},
   "source": [
    "Il metodo Carlini and Wagner L_0 Attack è un attacco iterativo che mira a trovare un esempio avversario minimizzando il numero di caratteristiche modificate (norma L_0). Ecco una spiegazione dettagliata del metodo e dei suoi parametri:\n",
    "\n",
    "Metodo Carlini and Wagner L_0 Attack\n",
    "Parametri del Metodo __init__\n",
    "\n",
    "classifier (CLASSIFIER_CLASS_LOSS_GRADIENTS_TYPE):\n",
    "Un classificatore addestrato che implementa i metodi per calcolare le perdite e i gradienti delle perdite rispetto agli input.\n",
    "\n",
    "confidence (float = 0.0):\n",
    "La fiducia degli esempi avversari: un valore più alto produce esempi che sono più lontani dall'input originale ma classificati con maggiore fiducia come la classe target. Questo parametro bilancia la necessità di modificare l'input originale con la certezza che l'output sia nella classe avversaria desiderata.\n",
    "\n",
    "targeted (bool = False):\n",
    "Indica se l'attacco è mirato a una specifica classe (True) o meno (False). In un attacco mirato, l'obiettivo è far classificare l'input avversario come una classe specifica scelta dall'attaccante. In un attacco non mirato, l'obiettivo è semplicemente far classificare l'input in una classe diversa da quella corretta.\n",
    "\n",
    "learning_rate (float = 0.01):\n",
    "Il tasso di apprendimento iniziale per l'algoritmo di attacco. Valori più piccoli producono risultati migliori ma convergono più lentamente.\n",
    "\n",
    "binary_search_steps (int = 10):\n",
    "Numero di volte in cui regolare la costante con la ricerca binaria (valore positivo). Se binary_search_steps è grande, l'algoritmo non è molto sensibile al valore di initial_const. Questo parametro controlla quante volte la costante di trade-off viene aggiustata per trovare il miglior equilibrio tra la distanza e la fiducia.\n",
    "\n",
    "max_iter (int = 10):\n",
    "Il numero massimo di iterazioni per l'attacco.\n",
    "\n",
    "initial_const (float = 0.01):\n",
    "La costante di trade-off iniziale c per regolare l'importanza relativa tra la distanza e la fiducia. Se binary_search_steps è grande, il valore iniziale di questa costante non è critico.\n",
    "\n",
    "mask (ndarray | None = None):\n",
    "Le caratteristiche iniziali che possono essere modificate dall'algoritmo. Se non specificato, l'algoritmo utilizza l'intero set di caratteristiche. Questo parametro può essere utilizzato per limitare l'attacco a modificare solo determinate parti dell'input.\n",
    "\n",
    "warm_start (bool = True):\n",
    "Invece di iniziare la discesa del gradiente in ogni iterazione dall'immagine iniziale, si inizia la discesa del gradiente dalla soluzione trovata nell'iterazione precedente. Questo parametro può accelerare la convergenza.\n",
    "\n",
    "max_halving (int = 5):\n",
    "Numero massimo di passi di dimezzamento nella ricerca lineare di ottimizzazione. Questo parametro controlla quante volte la dimensione del passo viene dimezzata durante la ricerca di un passo ottimale.\n",
    "\n",
    "max_doubling (int = 5):\n",
    "Numero massimo di passi di raddoppiamento nella ricerca lineare di ottimizzazione. Questo parametro controlla quante volte la dimensione del passo viene raddoppiata durante la ricerca di un passo ottimale.\n",
    "batch_size (int = 1):\n",
    "\n",
    "La dimensione del batch su cui vengono generati i campioni avversari. Questo parametro determina quanti campioni vengono processati contemporaneamente durante l'attacco.\n",
    "\n",
    "verbose (bool = True):\n",
    "Mostra barre di avanzamento. Se impostato su True, verranno visualizzati i progressi dell'attacco durante l'esecuzione."
   ]
  },
  {
   "cell_type": "markdown",
   "metadata": {},
   "source": [
    "### *Attacco* **NON TARGETED**"
   ]
  },
  {
   "cell_type": "code",
   "execution_count": 68,
   "metadata": {},
   "outputs": [
    {
     "name": "stdout",
     "output_type": "stream",
     "text": [
      "Inizio Attacco CARLINI-WAGNER NON-TARGETED\n",
      "<---> Attacco con learning rate = 0.1 e initial cost = 1 <--->\n"
     ]
    },
    {
     "name": "stderr",
     "output_type": "stream",
     "text": [
      "C&W L_2: 100%|██████████| 1/1 [00:00<00:00,  1.74it/s]\n"
     ]
    },
    {
     "name": "stdout",
     "output_type": "stream",
     "text": [
      "Etichetta reale:Andrea_Pirlo || Predetto:  Marco_Giallini con probabilità: 10.841480255126953 e con perturbazione: 0.0020489031448960304\n",
      "Adversarial Sample misclassificati correttamente attuale: 100.0%\n"
     ]
    },
    {
     "name": "stderr",
     "output_type": "stream",
     "text": [
      "C&W L_2: 100%|██████████| 1/1 [00:00<00:00,  2.70it/s]\n"
     ]
    },
    {
     "name": "stdout",
     "output_type": "stream",
     "text": [
      "Etichetta reale:Antonio_Cassano || Predetto:  Jürgen_Trittin con probabilità: 11.222684860229492 e con perturbazione: 0.00031999844941310585\n",
      "Adversarial Sample misclassificati correttamente attuale: 100.0%\n"
     ]
    },
    {
     "name": "stderr",
     "output_type": "stream",
     "text": [
      "C&W L_2: 100%|██████████| 1/1 [00:00<00:00,  2.75it/s]\n"
     ]
    },
    {
     "name": "stdout",
     "output_type": "stream",
     "text": [
      "Etichetta reale:Ariana_Grande || Predetto:  Sammy_Winward con probabilità: 11.554709434509277 e con perturbazione: 0.000770697311963886\n",
      "Adversarial Sample misclassificati correttamente attuale: 100.0%\n"
     ]
    },
    {
     "name": "stderr",
     "output_type": "stream",
     "text": [
      "C&W L_2: 100%|██████████| 1/1 [00:00<00:00,  2.45it/s]\n"
     ]
    },
    {
     "name": "stdout",
     "output_type": "stream",
     "text": [
      "Etichetta reale:Ashley_Scott || Predetto:  Ashley_Scott con probabilità: 13.896852493286133 e con perturbazione: 0.0\n",
      "Adversarial Sample misclassificati correttamente attuale: 75.0%\n"
     ]
    },
    {
     "name": "stderr",
     "output_type": "stream",
     "text": [
      "C&W L_2: 100%|██████████| 1/1 [00:00<00:00,  2.38it/s]\n"
     ]
    },
    {
     "name": "stdout",
     "output_type": "stream",
     "text": [
      "Etichetta reale:Boris_Johnson || Predetto:  Boris_Johnson con probabilità: 13.323941230773926 e con perturbazione: 0.0\n",
      "Adversarial Sample misclassificati correttamente attuale: 60.0%\n"
     ]
    },
    {
     "name": "stderr",
     "output_type": "stream",
     "text": [
      "C&W L_2: 100%|██████████| 1/1 [00:00<00:00,  2.39it/s]\n"
     ]
    },
    {
     "name": "stdout",
     "output_type": "stream",
     "text": [
      "Etichetta reale:Brad_Pitt || Predetto:  Jason_Ritter con probabilità: 10.69975471496582 e con perturbazione: 0.0016947577241808176\n",
      "Adversarial Sample misclassificati correttamente attuale: 66.66666666666667%\n"
     ]
    },
    {
     "name": "stderr",
     "output_type": "stream",
     "text": [
      "C&W L_2: 100%|██████████| 1/1 [00:00<00:00,  2.11it/s]\n"
     ]
    },
    {
     "name": "stdout",
     "output_type": "stream",
     "text": [
      "Etichetta reale:Christian_De_Sica || Predetto:  Christian_De_Sica con probabilità: 13.7531156539917 e con perturbazione: 0.0\n",
      "Adversarial Sample misclassificati correttamente attuale: 57.142857142857146%\n"
     ]
    },
    {
     "name": "stderr",
     "output_type": "stream",
     "text": [
      "C&W L_2: 100%|██████████| 1/1 [00:00<00:00,  2.58it/s]\n"
     ]
    },
    {
     "name": "stdout",
     "output_type": "stream",
     "text": [
      "Etichetta reale:Christopher_Nolan || Predetto:  Franck_Dubosc con probabilità: 11.769453048706055 e con perturbazione: 0.0007012512069195509\n",
      "Adversarial Sample misclassificati correttamente attuale: 62.5%\n"
     ]
    },
    {
     "name": "stderr",
     "output_type": "stream",
     "text": [
      "C&W L_2: 100%|██████████| 1/1 [00:00<00:00,  2.53it/s]\n"
     ]
    },
    {
     "name": "stdout",
     "output_type": "stream",
     "text": [
      "Etichetta reale:Cristiano_Ronaldo || Predetto:  Marco_Carta con probabilità: 12.930920600891113 e con perturbazione: 0.0008407340501435101\n",
      "Adversarial Sample misclassificati correttamente attuale: 66.66666666666667%\n"
     ]
    },
    {
     "name": "stderr",
     "output_type": "stream",
     "text": [
      "C&W L_2: 100%|██████████| 1/1 [00:00<00:00,  2.52it/s]\n"
     ]
    },
    {
     "name": "stdout",
     "output_type": "stream",
     "text": [
      "Etichetta reale:Diego_Maradona || Predetto:  Diego_Maradona con probabilità: 12.622477531433105 e con perturbazione: 0.0\n",
      "Adversarial Sample misclassificati correttamente attuale: 60.0%\n",
      "----------- Perturbazione media aggiunta a tutte le immagini per learning: 0.1 equivale a ---> 0.00063763418875169% ----------------\n",
      "----------- Accuracy sugli adversarial Sample per learning: 0.1 equivale a ---> 0.4% ----------------\n",
      "<---> Attacco con learning rate = 0.2 e initial cost = 1 <--->\n"
     ]
    },
    {
     "name": "stderr",
     "output_type": "stream",
     "text": [
      "C&W L_2: 100%|██████████| 1/1 [00:00<00:00,  2.39it/s]\n"
     ]
    },
    {
     "name": "stdout",
     "output_type": "stream",
     "text": [
      "Etichetta reale:Andrea_Pirlo || Predetto:  Marco_Giallini con probabilità: 10.84148120880127 e con perturbazione: 0.0020489031448960304\n",
      "Adversarial Sample misclassificati correttamente attuale: 100.0%\n"
     ]
    },
    {
     "name": "stderr",
     "output_type": "stream",
     "text": [
      "C&W L_2: 100%|██████████| 1/1 [00:00<00:00,  3.03it/s]\n"
     ]
    },
    {
     "name": "stdout",
     "output_type": "stream",
     "text": [
      "Etichetta reale:Antonio_Cassano || Predetto:  Jürgen_Trittin con probabilità: 11.859075546264648 e con perturbazione: 0.0006399676203727722\n",
      "Adversarial Sample misclassificati correttamente attuale: 100.0%\n"
     ]
    },
    {
     "name": "stderr",
     "output_type": "stream",
     "text": [
      "C&W L_2: 100%|██████████| 1/1 [00:00<00:00,  3.02it/s]\n"
     ]
    },
    {
     "name": "stdout",
     "output_type": "stream",
     "text": [
      "Etichetta reale:Ariana_Grande || Predetto:  Sammy_Winward con probabilità: 11.618698120117188 e con perturbazione: 0.0015413357177749276\n",
      "Adversarial Sample misclassificati correttamente attuale: 100.0%\n"
     ]
    },
    {
     "name": "stderr",
     "output_type": "stream",
     "text": [
      "C&W L_2: 100%|██████████| 1/1 [00:00<00:00,  2.91it/s]\n"
     ]
    },
    {
     "name": "stdout",
     "output_type": "stream",
     "text": [
      "Etichetta reale:Ashley_Scott || Predetto:  Ashley_Scott con probabilità: 13.896852493286133 e con perturbazione: 0.0\n",
      "Adversarial Sample misclassificati correttamente attuale: 75.0%\n"
     ]
    },
    {
     "name": "stderr",
     "output_type": "stream",
     "text": [
      "C&W L_2: 100%|██████████| 1/1 [00:00<00:00,  2.60it/s]\n"
     ]
    },
    {
     "name": "stdout",
     "output_type": "stream",
     "text": [
      "Etichetta reale:Boris_Johnson || Predetto:  Boris_Johnson con probabilità: 13.323941230773926 e con perturbazione: 0.0\n",
      "Adversarial Sample misclassificati correttamente attuale: 60.0%\n"
     ]
    },
    {
     "name": "stderr",
     "output_type": "stream",
     "text": [
      "C&W L_2: 100%|██████████| 1/1 [00:00<00:00,  2.63it/s]\n"
     ]
    },
    {
     "name": "stdout",
     "output_type": "stream",
     "text": [
      "Etichetta reale:Brad_Pitt || Predetto:  Jason_Ritter con probabilità: 10.69975471496582 e con perturbazione: 0.0016947577241808176\n",
      "Adversarial Sample misclassificati correttamente attuale: 66.66666666666667%\n"
     ]
    },
    {
     "name": "stderr",
     "output_type": "stream",
     "text": [
      "C&W L_2: 100%|██████████| 1/1 [00:00<00:00,  2.67it/s]\n"
     ]
    },
    {
     "name": "stdout",
     "output_type": "stream",
     "text": [
      "Etichetta reale:Christian_De_Sica || Predetto:  Christian_De_Sica con probabilità: 13.7531156539917 e con perturbazione: 0.0\n",
      "Adversarial Sample misclassificati correttamente attuale: 57.142857142857146%\n"
     ]
    },
    {
     "name": "stderr",
     "output_type": "stream",
     "text": [
      "C&W L_2: 100%|██████████| 1/1 [00:00<00:00,  2.98it/s]\n"
     ]
    },
    {
     "name": "stdout",
     "output_type": "stream",
     "text": [
      "Etichetta reale:Christopher_Nolan || Predetto:  Franck_Dubosc con probabilità: 11.769454002380371 e con perturbazione: 0.0007012512069195509\n",
      "Adversarial Sample misclassificati correttamente attuale: 62.5%\n"
     ]
    },
    {
     "name": "stderr",
     "output_type": "stream",
     "text": [
      "C&W L_2: 100%|██████████| 1/1 [00:00<00:00,  2.85it/s]\n"
     ]
    },
    {
     "name": "stdout",
     "output_type": "stream",
     "text": [
      "Etichetta reale:Cristiano_Ronaldo || Predetto:  Marco_Carta con probabilità: 12.930920600891113 e con perturbazione: 0.0008407340501435101\n",
      "Adversarial Sample misclassificati correttamente attuale: 66.66666666666667%\n"
     ]
    },
    {
     "name": "stderr",
     "output_type": "stream",
     "text": [
      "C&W L_2: 100%|██████████| 1/1 [00:00<00:00,  2.95it/s]\n"
     ]
    },
    {
     "name": "stdout",
     "output_type": "stream",
     "text": [
      "Etichetta reale:Diego_Maradona || Predetto:  Diego_Maradona con probabilità: 12.622477531433105 e con perturbazione: 0.0\n",
      "Adversarial Sample misclassificati correttamente attuale: 60.0%\n",
      "----------- Perturbazione media aggiunta a tutte le immagini per learning: 0.2 equivale a ---> 0.0007466949464287609% ----------------\n",
      "----------- Accuracy sugli adversarial Sample per learning: 0.2 equivale a ---> 0.4% ----------------\n",
      "<---> Attacco con learning rate = 0.5 e initial cost = 1 <--->\n"
     ]
    },
    {
     "name": "stderr",
     "output_type": "stream",
     "text": [
      "C&W L_2: 100%|██████████| 1/1 [00:00<00:00,  2.92it/s]\n"
     ]
    },
    {
     "name": "stdout",
     "output_type": "stream",
     "text": [
      "Etichetta reale:Andrea_Pirlo || Predetto:  Andrea_Pirlo con probabilità: 12.725250244140625 e con perturbazione: 0.0\n",
      "Adversarial Sample misclassificati correttamente attuale: 0.0%\n"
     ]
    },
    {
     "name": "stderr",
     "output_type": "stream",
     "text": [
      "C&W L_2: 100%|██████████| 1/1 [00:00<00:00,  2.60it/s]\n"
     ]
    },
    {
     "name": "stdout",
     "output_type": "stream",
     "text": [
      "Etichetta reale:Antonio_Cassano || Predetto:  Jürgen_Trittin con probabilità: 12.979475021362305 e con perturbazione: 0.0015998183516785502\n",
      "Adversarial Sample misclassificati correttamente attuale: 50.0%\n"
     ]
    },
    {
     "name": "stderr",
     "output_type": "stream",
     "text": [
      "C&W L_2: 100%|██████████| 1/1 [00:00<00:00,  2.84it/s]\n"
     ]
    },
    {
     "name": "stdout",
     "output_type": "stream",
     "text": [
      "Etichetta reale:Ariana_Grande || Predetto:  Sammy_Winward con probabilità: 11.535983085632324 e con perturbazione: 0.0019266112940385938\n",
      "Adversarial Sample misclassificati correttamente attuale: 66.66666666666667%\n"
     ]
    },
    {
     "name": "stderr",
     "output_type": "stream",
     "text": [
      "C&W L_2: 100%|██████████| 1/1 [00:00<00:00,  2.69it/s]\n"
     ]
    },
    {
     "name": "stdout",
     "output_type": "stream",
     "text": [
      "Etichetta reale:Ashley_Scott || Predetto:  Adrienne_Frantz con probabilità: 12.425680160522461 e con perturbazione: 0.002422527177259326\n",
      "Adversarial Sample misclassificati correttamente attuale: 75.0%\n"
     ]
    },
    {
     "name": "stderr",
     "output_type": "stream",
     "text": [
      "C&W L_2: 100%|██████████| 1/1 [00:00<00:00,  3.04it/s]\n"
     ]
    },
    {
     "name": "stdout",
     "output_type": "stream",
     "text": [
      "Etichetta reale:Boris_Johnson || Predetto:  Boris_Johnson con probabilità: 13.323941230773926 e con perturbazione: 0.0\n",
      "Adversarial Sample misclassificati correttamente attuale: 60.0%\n"
     ]
    },
    {
     "name": "stderr",
     "output_type": "stream",
     "text": [
      "C&W L_2: 100%|██████████| 1/1 [00:00<00:00,  2.99it/s]\n"
     ]
    },
    {
     "name": "stdout",
     "output_type": "stream",
     "text": [
      "Etichetta reale:Brad_Pitt || Predetto:  Jason_Ritter con probabilità: 11.022002220153809 e con perturbazione: 0.0021183756180107594\n",
      "Adversarial Sample misclassificati correttamente attuale: 66.66666666666667%\n"
     ]
    },
    {
     "name": "stderr",
     "output_type": "stream",
     "text": [
      "C&W L_2: 100%|██████████| 1/1 [00:00<00:00,  2.88it/s]\n"
     ]
    },
    {
     "name": "stdout",
     "output_type": "stream",
     "text": [
      "Etichetta reale:Christian_De_Sica || Predetto:  Marco_Antonio_Solís con probabilità: 10.6867036819458 e con perturbazione: 0.0017758442554622889\n",
      "Adversarial Sample misclassificati correttamente attuale: 71.42857142857143%\n"
     ]
    },
    {
     "name": "stderr",
     "output_type": "stream",
     "text": [
      "C&W L_2: 100%|██████████| 1/1 [00:00<00:00,  3.06it/s]\n"
     ]
    },
    {
     "name": "stdout",
     "output_type": "stream",
     "text": [
      "Etichetta reale:Christopher_Nolan || Predetto:  Franck_Dubosc con probabilità: 12.482755661010742 e con perturbazione: 0.0017528682947158813\n",
      "Adversarial Sample misclassificati correttamente attuale: 75.0%\n"
     ]
    },
    {
     "name": "stderr",
     "output_type": "stream",
     "text": [
      "C&W L_2: 100%|██████████| 1/1 [00:00<00:00,  3.00it/s]\n"
     ]
    },
    {
     "name": "stdout",
     "output_type": "stream",
     "text": [
      "Etichetta reale:Cristiano_Ronaldo || Predetto:  Marco_Carta con probabilità: 13.940154075622559 e con perturbazione: 0.002101433929055929\n",
      "Adversarial Sample misclassificati correttamente attuale: 77.77777777777777%\n"
     ]
    },
    {
     "name": "stderr",
     "output_type": "stream",
     "text": [
      "C&W L_2: 100%|██████████| 1/1 [00:00<00:00,  2.99it/s]\n"
     ]
    },
    {
     "name": "stdout",
     "output_type": "stream",
     "text": [
      "Etichetta reale:Diego_Maradona || Predetto:  Diego_Maradona con probabilità: 12.622477531433105 e con perturbazione: 0.0\n",
      "Adversarial Sample misclassificati correttamente attuale: 70.0%\n",
      "----------- Perturbazione media aggiunta a tutte le immagini per learning: 0.5 equivale a ---> 0.001369747892022133% ----------------\n",
      "----------- Accuracy sugli adversarial Sample per learning: 0.5 equivale a ---> 0.3% ----------------\n",
      "<---> Attacco con learning rate = 0.7 e initial cost = 1 <--->\n"
     ]
    },
    {
     "name": "stderr",
     "output_type": "stream",
     "text": [
      "C&W L_2: 100%|██████████| 1/1 [00:00<00:00,  3.05it/s]\n"
     ]
    },
    {
     "name": "stdout",
     "output_type": "stream",
     "text": [
      "Etichetta reale:Andrea_Pirlo || Predetto:  Marco_Giallini con probabilità: 10.734115600585938 e con perturbazione: 0.0017929049208760262\n",
      "Adversarial Sample misclassificati correttamente attuale: 100.0%\n"
     ]
    },
    {
     "name": "stderr",
     "output_type": "stream",
     "text": [
      "C&W L_2: 100%|██████████| 1/1 [00:00<00:00,  3.09it/s]\n"
     ]
    },
    {
     "name": "stdout",
     "output_type": "stream",
     "text": [
      "Etichetta reale:Antonio_Cassano || Predetto:  Jürgen_Trittin con probabilità: 12.55665397644043 e con perturbazione: 0.0011199115542694926\n",
      "Adversarial Sample misclassificati correttamente attuale: 100.0%\n"
     ]
    },
    {
     "name": "stderr",
     "output_type": "stream",
     "text": [
      "C&W L_2: 100%|██████████| 1/1 [00:00<00:00,  2.89it/s]\n"
     ]
    },
    {
     "name": "stdout",
     "output_type": "stream",
     "text": [
      "Etichetta reale:Ariana_Grande || Predetto:  Sammy_Winward con probabilità: 11.450565338134766 e con perturbazione: 0.0026970163453370333\n",
      "Adversarial Sample misclassificati correttamente attuale: 100.0%\n"
     ]
    },
    {
     "name": "stderr",
     "output_type": "stream",
     "text": [
      "C&W L_2: 100%|██████████| 1/1 [00:00<00:00,  3.03it/s]\n"
     ]
    },
    {
     "name": "stdout",
     "output_type": "stream",
     "text": [
      "Etichetta reale:Ashley_Scott || Predetto:  Adrienne_Frantz con probabilità: 12.181219100952148 e con perturbazione: 0.003390774829313159\n",
      "Adversarial Sample misclassificati correttamente attuale: 100.0%\n"
     ]
    },
    {
     "name": "stderr",
     "output_type": "stream",
     "text": [
      "C&W L_2: 100%|██████████| 1/1 [00:00<00:00,  3.03it/s]\n"
     ]
    },
    {
     "name": "stdout",
     "output_type": "stream",
     "text": [
      "Etichetta reale:Boris_Johnson || Predetto:  Uto_Ughi con probabilità: 11.359045028686523 e con perturbazione: 0.002243776572868228\n",
      "Adversarial Sample misclassificati correttamente attuale: 100.0%\n"
     ]
    },
    {
     "name": "stderr",
     "output_type": "stream",
     "text": [
      "C&W L_2: 100%|██████████| 1/1 [00:00<00:00,  2.45it/s]\n"
     ]
    },
    {
     "name": "stdout",
     "output_type": "stream",
     "text": [
      "Etichetta reale:Brad_Pitt || Predetto:  Jason_Ritter con probabilità: 11.482843399047852 e con perturbazione: 0.0029654470272362232\n",
      "Adversarial Sample misclassificati correttamente attuale: 100.0%\n"
     ]
    },
    {
     "name": "stderr",
     "output_type": "stream",
     "text": [
      "C&W L_2: 100%|██████████| 1/1 [00:00<00:00,  3.01it/s]\n"
     ]
    },
    {
     "name": "stdout",
     "output_type": "stream",
     "text": [
      "Etichetta reale:Christian_De_Sica || Predetto:  Marco_Antonio_Solís con probabilità: 10.49225902557373 e con perturbazione: 0.0024858128745108843\n",
      "Adversarial Sample misclassificati correttamente attuale: 100.0%\n"
     ]
    },
    {
     "name": "stderr",
     "output_type": "stream",
     "text": [
      "C&W L_2: 100%|██████████| 1/1 [00:00<00:00,  2.95it/s]\n"
     ]
    },
    {
     "name": "stdout",
     "output_type": "stream",
     "text": [
      "Etichetta reale:Christopher_Nolan || Predetto:  Franck_Dubosc con probabilità: 12.524170875549316 e con perturbazione: 0.002453654306009412\n",
      "Adversarial Sample misclassificati correttamente attuale: 100.0%\n"
     ]
    },
    {
     "name": "stderr",
     "output_type": "stream",
     "text": [
      "C&W L_2: 100%|██████████| 1/1 [00:00<00:00,  2.94it/s]\n"
     ]
    },
    {
     "name": "stdout",
     "output_type": "stream",
     "text": [
      "Etichetta reale:Cristiano_Ronaldo || Predetto:  Marco_Carta con probabilità: 14.063913345336914 e con perturbazione: 0.0029414778109639883\n",
      "Adversarial Sample misclassificati correttamente attuale: 100.0%\n"
     ]
    },
    {
     "name": "stderr",
     "output_type": "stream",
     "text": [
      "C&W L_2: 100%|██████████| 1/1 [00:00<00:00,  2.93it/s]\n"
     ]
    },
    {
     "name": "stdout",
     "output_type": "stream",
     "text": [
      "Etichetta reale:Diego_Maradona || Predetto:  Diego_Maradona con probabilità: 12.622477531433105 e con perturbazione: 0.0\n",
      "Adversarial Sample misclassificati correttamente attuale: 90.0%\n",
      "----------- Perturbazione media aggiunta a tutte le immagini per learning: 0.7 equivale a ---> 0.0022090776241384447% ----------------\n",
      "----------- Accuracy sugli adversarial Sample per learning: 0.7 equivale a ---> 0.1% ----------------\n",
      "<---> Attacco con learning rate = 0.9 e initial cost = 1 <--->\n"
     ]
    },
    {
     "name": "stderr",
     "output_type": "stream",
     "text": [
      "C&W L_2: 100%|██████████| 1/1 [00:00<00:00,  3.10it/s]\n"
     ]
    },
    {
     "name": "stdout",
     "output_type": "stream",
     "text": [
      "Etichetta reale:Andrea_Pirlo || Predetto:  Marco_Giallini con probabilità: 10.921987533569336 e con perturbazione: 0.002304856665432453\n",
      "Adversarial Sample misclassificati correttamente attuale: 100.0%\n"
     ]
    },
    {
     "name": "stderr",
     "output_type": "stream",
     "text": [
      "C&W L_2: 100%|██████████| 1/1 [00:00<00:00,  2.95it/s]\n"
     ]
    },
    {
     "name": "stdout",
     "output_type": "stream",
     "text": [
      "Etichetta reale:Antonio_Cassano || Predetto:  Jürgen_Trittin con probabilità: 12.865808486938477 e con perturbazione: 0.001439855434000492\n",
      "Adversarial Sample misclassificati correttamente attuale: 100.0%\n"
     ]
    },
    {
     "name": "stderr",
     "output_type": "stream",
     "text": [
      "C&W L_2: 100%|██████████| 1/1 [00:00<00:00,  2.70it/s]\n"
     ]
    },
    {
     "name": "stdout",
     "output_type": "stream",
     "text": [
      "Etichetta reale:Ariana_Grande || Predetto:  Sammy_Winward con probabilità: 11.565632820129395 e con perturbazione: 0.0017339783953502774\n",
      "Adversarial Sample misclassificati correttamente attuale: 100.0%\n"
     ]
    },
    {
     "name": "stderr",
     "output_type": "stream",
     "text": [
      "C&W L_2: 100%|██████████| 1/1 [00:00<00:00,  3.03it/s]\n"
     ]
    },
    {
     "name": "stdout",
     "output_type": "stream",
     "text": [
      "Etichetta reale:Ashley_Scott || Predetto:  Adrienne_Frantz con probabilità: 12.4711275100708 e con perturbazione: 0.0021803739946335554\n",
      "Adversarial Sample misclassificati correttamente attuale: 100.0%\n"
     ]
    },
    {
     "name": "stderr",
     "output_type": "stream",
     "text": [
      "C&W L_2: 100%|██████████| 1/1 [00:00<00:00,  3.02it/s]\n"
     ]
    },
    {
     "name": "stdout",
     "output_type": "stream",
     "text": [
      "Etichetta reale:Boris_Johnson || Predetto:  Uto_Ughi con probabilità: 11.47436237335205 e con perturbazione: 0.002884684829041362\n",
      "Adversarial Sample misclassificati correttamente attuale: 100.0%\n"
     ]
    },
    {
     "name": "stderr",
     "output_type": "stream",
     "text": [
      "C&W L_2: 100%|██████████| 1/1 [00:00<00:00,  3.11it/s]\n"
     ]
    },
    {
     "name": "stdout",
     "output_type": "stream",
     "text": [
      "Etichetta reale:Brad_Pitt || Predetto:  Jason_Ritter con probabilità: 11.779838562011719 e con perturbazione: 0.0038122236728668213\n",
      "Adversarial Sample misclassificati correttamente attuale: 100.0%\n"
     ]
    },
    {
     "name": "stderr",
     "output_type": "stream",
     "text": [
      "C&W L_2: 100%|██████████| 1/1 [00:00<00:00,  3.01it/s]\n"
     ]
    },
    {
     "name": "stdout",
     "output_type": "stream",
     "text": [
      "Etichetta reale:Christian_De_Sica || Predetto:  Marco_Antonio_Solís con probabilità: 10.075518608093262 e con perturbazione: 0.003195461118593812\n",
      "Adversarial Sample misclassificati correttamente attuale: 100.0%\n"
     ]
    },
    {
     "name": "stderr",
     "output_type": "stream",
     "text": [
      "C&W L_2: 100%|██████████| 1/1 [00:00<00:00,  3.01it/s]\n"
     ]
    },
    {
     "name": "stdout",
     "output_type": "stream",
     "text": [
      "Etichetta reale:Christopher_Nolan || Predetto:  Franck_Dubosc con probabilità: 12.455155372619629 e con perturbazione: 0.001577629242092371\n",
      "Adversarial Sample misclassificati correttamente attuale: 100.0%\n"
     ]
    },
    {
     "name": "stderr",
     "output_type": "stream",
     "text": [
      "C&W L_2: 100%|██████████| 1/1 [00:00<00:00,  2.89it/s]\n"
     ]
    },
    {
     "name": "stdout",
     "output_type": "stream",
     "text": [
      "Etichetta reale:Cristiano_Ronaldo || Predetto:  Marco_Carta con probabilità: 13.87060260772705 e con perturbazione: 0.0018913624808192253\n",
      "Adversarial Sample misclassificati correttamente attuale: 100.0%\n"
     ]
    },
    {
     "name": "stderr",
     "output_type": "stream",
     "text": [
      "C&W L_2: 100%|██████████| 1/1 [00:00<00:00,  2.34it/s]\n"
     ]
    },
    {
     "name": "stdout",
     "output_type": "stream",
     "text": [
      "Etichetta reale:Diego_Maradona || Predetto:  Diego_Maradona con probabilità: 12.622477531433105 e con perturbazione: 0.0\n",
      "Adversarial Sample misclassificati correttamente attuale: 90.0%\n",
      "----------- Perturbazione media aggiunta a tutte le immagini per learning: 0.9 equivale a ---> 0.002102042583283037% ----------------\n",
      "----------- Accuracy sugli adversarial Sample per learning: 0.9 equivale a ---> 0.1% ----------------\n",
      "--------------------------------------------------------------------------------------------------------------------------------------------------------------------\n",
      "<---> Attacco con learning rate = 0.1 e initial cost = 300 <--->\n"
     ]
    },
    {
     "name": "stderr",
     "output_type": "stream",
     "text": [
      "C&W L_2: 100%|██████████| 1/1 [00:00<00:00,  2.98it/s]\n"
     ]
    },
    {
     "name": "stdout",
     "output_type": "stream",
     "text": [
      "Etichetta reale:Andrea_Pirlo || Predetto:  Undertaker con probabilità: 7.529609203338623 e con perturbazione: 0.06827273964881897\n",
      "Adversarial Sample misclassificati correttamente attuale: 100.0%\n"
     ]
    },
    {
     "name": "stderr",
     "output_type": "stream",
     "text": [
      "C&W L_2: 100%|██████████| 1/1 [00:00<00:00,  2.64it/s]\n"
     ]
    },
    {
     "name": "stdout",
     "output_type": "stream",
     "text": [
      "Etichetta reale:Antonio_Cassano || Predetto:  Boris_Becker con probabilità: 9.444068908691406 e con perturbazione: 0.02354765683412552\n",
      "Adversarial Sample misclassificati correttamente attuale: 100.0%\n"
     ]
    },
    {
     "name": "stderr",
     "output_type": "stream",
     "text": [
      "C&W L_2: 100%|██████████| 1/1 [00:00<00:00,  2.77it/s]\n"
     ]
    },
    {
     "name": "stdout",
     "output_type": "stream",
     "text": [
      "Etichetta reale:Ariana_Grande || Predetto:  Michael_Berryman con probabilità: 5.395467758178711 e con perturbazione: 0.05361674726009369\n",
      "Adversarial Sample misclassificati correttamente attuale: 100.0%\n"
     ]
    },
    {
     "name": "stderr",
     "output_type": "stream",
     "text": [
      "C&W L_2: 100%|██████████| 1/1 [00:00<00:00,  2.86it/s]\n"
     ]
    },
    {
     "name": "stdout",
     "output_type": "stream",
     "text": [
      "Etichetta reale:Ashley_Scott || Predetto:  Wole_Soyinka con probabilità: 7.235847473144531 e con perturbazione: 0.06534066051244736\n",
      "Adversarial Sample misclassificati correttamente attuale: 100.0%\n"
     ]
    },
    {
     "name": "stderr",
     "output_type": "stream",
     "text": [
      "C&W L_2: 100%|██████████| 1/1 [00:00<00:00,  3.10it/s]\n"
     ]
    },
    {
     "name": "stdout",
     "output_type": "stream",
     "text": [
      "Etichetta reale:Boris_Johnson || Predetto:  Vojislav_Šešelj con probabilità: 7.305496692657471 e con perturbazione: 0.08561760932207108\n",
      "Adversarial Sample misclassificati correttamente attuale: 100.0%\n"
     ]
    },
    {
     "name": "stderr",
     "output_type": "stream",
     "text": [
      "C&W L_2: 100%|██████████| 1/1 [00:00<00:00,  2.86it/s]\n"
     ]
    },
    {
     "name": "stdout",
     "output_type": "stream",
     "text": [
      "Etichetta reale:Brad_Pitt || Predetto:  Sushil_Koirala con probabilità: 8.714714050292969 e con perturbazione: 0.05935683473944664\n",
      "Adversarial Sample misclassificati correttamente attuale: 100.0%\n"
     ]
    },
    {
     "name": "stderr",
     "output_type": "stream",
     "text": [
      "C&W L_2: 100%|██████████| 1/1 [00:00<00:00,  2.98it/s]\n"
     ]
    },
    {
     "name": "stdout",
     "output_type": "stream",
     "text": [
      "Etichetta reale:Christian_De_Sica || Predetto:  Gwede_Mantashe con probabilità: 9.14079761505127 e con perturbazione: 0.0901811271905899\n",
      "Adversarial Sample misclassificati correttamente attuale: 100.0%\n"
     ]
    },
    {
     "name": "stderr",
     "output_type": "stream",
     "text": [
      "C&W L_2: 100%|██████████| 1/1 [00:00<00:00,  3.04it/s]\n"
     ]
    },
    {
     "name": "stdout",
     "output_type": "stream",
     "text": [
      "Etichetta reale:Christopher_Nolan || Predetto:  George_Takei con probabilità: 11.925887107849121 e con perturbazione: 0.04856569319963455\n",
      "Adversarial Sample misclassificati correttamente attuale: 100.0%\n"
     ]
    },
    {
     "name": "stderr",
     "output_type": "stream",
     "text": [
      "C&W L_2: 100%|██████████| 1/1 [00:00<00:00,  3.06it/s]\n"
     ]
    },
    {
     "name": "stdout",
     "output_type": "stream",
     "text": [
      "Etichetta reale:Cristiano_Ronaldo || Predetto:  Lady_Bunny con probabilità: 6.127528667449951 e con perturbazione: 0.057880014181137085\n",
      "Adversarial Sample misclassificati correttamente attuale: 100.0%\n"
     ]
    },
    {
     "name": "stderr",
     "output_type": "stream",
     "text": [
      "C&W L_2: 100%|██████████| 1/1 [00:00<00:00,  2.72it/s]\n"
     ]
    },
    {
     "name": "stdout",
     "output_type": "stream",
     "text": [
      "Etichetta reale:Diego_Maradona || Predetto:  Bonnie_Raitt con probabilità: 7.357301235198975 e con perturbazione: 0.052125152200460434\n",
      "Adversarial Sample misclassificati correttamente attuale: 100.0%\n",
      "----------- Perturbazione media aggiunta a tutte le immagini per learning: 0.1 equivale a ---> 0.06045042350888252% ----------------\n",
      "----------- Accuracy sugli adversarial Sample per learning: 0.1 equivale a ---> 0.0% ----------------\n",
      "<---> Attacco con learning rate = 0.2 e initial cost = 300 <--->\n"
     ]
    },
    {
     "name": "stderr",
     "output_type": "stream",
     "text": [
      "C&W L_2: 100%|██████████| 1/1 [00:00<00:00,  3.03it/s]\n"
     ]
    },
    {
     "name": "stdout",
     "output_type": "stream",
     "text": [
      "Etichetta reale:Andrea_Pirlo || Predetto:  Undertaker con probabilità: 7.529609203338623 e con perturbazione: 0.06827273964881897\n",
      "Adversarial Sample misclassificati correttamente attuale: 100.0%\n"
     ]
    },
    {
     "name": "stderr",
     "output_type": "stream",
     "text": [
      "C&W L_2: 100%|██████████| 1/1 [00:00<00:00,  2.42it/s]\n"
     ]
    },
    {
     "name": "stdout",
     "output_type": "stream",
     "text": [
      "Etichetta reale:Antonio_Cassano || Predetto:  Boris_Becker con probabilità: 9.44406795501709 e con perturbazione: 0.02354765683412552\n",
      "Adversarial Sample misclassificati correttamente attuale: 100.0%\n"
     ]
    },
    {
     "name": "stderr",
     "output_type": "stream",
     "text": [
      "C&W L_2: 100%|██████████| 1/1 [00:00<00:00,  2.53it/s]\n"
     ]
    },
    {
     "name": "stdout",
     "output_type": "stream",
     "text": [
      "Etichetta reale:Ariana_Grande || Predetto:  Michael_Berryman con probabilità: 5.395468711853027 e con perturbazione: 0.05361673980951309\n",
      "Adversarial Sample misclassificati correttamente attuale: 100.0%\n"
     ]
    },
    {
     "name": "stderr",
     "output_type": "stream",
     "text": [
      "C&W L_2: 100%|██████████| 1/1 [00:00<00:00,  2.22it/s]\n"
     ]
    },
    {
     "name": "stdout",
     "output_type": "stream",
     "text": [
      "Etichetta reale:Ashley_Scott || Predetto:  Wole_Soyinka con probabilità: 7.235851287841797 e con perturbazione: 0.06534066051244736\n",
      "Adversarial Sample misclassificati correttamente attuale: 100.0%\n"
     ]
    },
    {
     "name": "stderr",
     "output_type": "stream",
     "text": [
      "C&W L_2: 100%|██████████| 1/1 [00:00<00:00,  2.95it/s]\n"
     ]
    },
    {
     "name": "stdout",
     "output_type": "stream",
     "text": [
      "Etichetta reale:Boris_Johnson || Predetto:  Vojislav_Šešelj con probabilità: 7.305498123168945 e con perturbazione: 0.08561760932207108\n",
      "Adversarial Sample misclassificati correttamente attuale: 100.0%\n"
     ]
    },
    {
     "name": "stderr",
     "output_type": "stream",
     "text": [
      "C&W L_2: 100%|██████████| 1/1 [00:00<00:00,  2.76it/s]\n"
     ]
    },
    {
     "name": "stdout",
     "output_type": "stream",
     "text": [
      "Etichetta reale:Brad_Pitt || Predetto:  Sushil_Koirala con probabilità: 8.714715003967285 e con perturbazione: 0.05935683473944664\n",
      "Adversarial Sample misclassificati correttamente attuale: 100.0%\n"
     ]
    },
    {
     "name": "stderr",
     "output_type": "stream",
     "text": [
      "C&W L_2: 100%|██████████| 1/1 [00:00<00:00,  2.90it/s]\n"
     ]
    },
    {
     "name": "stdout",
     "output_type": "stream",
     "text": [
      "Etichetta reale:Christian_De_Sica || Predetto:  Gwede_Mantashe con probabilità: 9.140801429748535 e con perturbazione: 0.0901811271905899\n",
      "Adversarial Sample misclassificati correttamente attuale: 100.0%\n"
     ]
    },
    {
     "name": "stderr",
     "output_type": "stream",
     "text": [
      "C&W L_2: 100%|██████████| 1/1 [00:00<00:00,  2.72it/s]\n"
     ]
    },
    {
     "name": "stdout",
     "output_type": "stream",
     "text": [
      "Etichetta reale:Christopher_Nolan || Predetto:  George_Takei con probabilità: 11.925888061523438 e con perturbazione: 0.04856569319963455\n",
      "Adversarial Sample misclassificati correttamente attuale: 100.0%\n"
     ]
    },
    {
     "name": "stderr",
     "output_type": "stream",
     "text": [
      "C&W L_2: 100%|██████████| 1/1 [00:00<00:00,  2.63it/s]\n"
     ]
    },
    {
     "name": "stdout",
     "output_type": "stream",
     "text": [
      "Etichetta reale:Cristiano_Ronaldo || Predetto:  Lady_Bunny con probabilità: 6.127530574798584 e con perturbazione: 0.057880014181137085\n",
      "Adversarial Sample misclassificati correttamente attuale: 100.0%\n"
     ]
    },
    {
     "name": "stderr",
     "output_type": "stream",
     "text": [
      "C&W L_2: 100%|██████████| 1/1 [00:00<00:00,  2.35it/s]\n"
     ]
    },
    {
     "name": "stdout",
     "output_type": "stream",
     "text": [
      "Etichetta reale:Diego_Maradona || Predetto:  Bonnie_Raitt con probabilità: 7.357300758361816 e con perturbazione: 0.052125152200460434\n",
      "Adversarial Sample misclassificati correttamente attuale: 100.0%\n",
      "----------- Perturbazione media aggiunta a tutte le immagini per learning: 0.2 equivale a ---> 0.060450422763824466% ----------------\n",
      "----------- Accuracy sugli adversarial Sample per learning: 0.2 equivale a ---> 0.0% ----------------\n",
      "<---> Attacco con learning rate = 0.5 e initial cost = 300 <--->\n"
     ]
    },
    {
     "name": "stderr",
     "output_type": "stream",
     "text": [
      "C&W L_2: 100%|██████████| 1/1 [00:00<00:00,  2.76it/s]\n"
     ]
    },
    {
     "name": "stdout",
     "output_type": "stream",
     "text": [
      "Etichetta reale:Andrea_Pirlo || Predetto:  Ambrose_Akinmusire con probabilità: 6.474013328552246 e con perturbazione: 0.08218684792518616\n",
      "Adversarial Sample misclassificati correttamente attuale: 100.0%\n"
     ]
    },
    {
     "name": "stderr",
     "output_type": "stream",
     "text": [
      "C&W L_2: 100%|██████████| 1/1 [00:00<00:00,  2.23it/s]\n"
     ]
    },
    {
     "name": "stdout",
     "output_type": "stream",
     "text": [
      "Etichetta reale:Antonio_Cassano || Predetto:  Mick_Wallace con probabilità: 9.959894180297852 e con perturbazione: 0.029170064255595207\n",
      "Adversarial Sample misclassificati correttamente attuale: 100.0%\n"
     ]
    },
    {
     "name": "stderr",
     "output_type": "stream",
     "text": [
      "C&W L_2: 100%|██████████| 1/1 [00:00<00:00,  2.46it/s]\n"
     ]
    },
    {
     "name": "stdout",
     "output_type": "stream",
     "text": [
      "Etichetta reale:Ariana_Grande || Predetto:  Ariana_Grande con probabilità: 11.170966148376465 e con perturbazione: 0.0\n",
      "Adversarial Sample misclassificati correttamente attuale: 66.66666666666667%\n"
     ]
    },
    {
     "name": "stderr",
     "output_type": "stream",
     "text": [
      "C&W L_2: 100%|██████████| 1/1 [00:00<00:00,  2.44it/s]\n"
     ]
    },
    {
     "name": "stdout",
     "output_type": "stream",
     "text": [
      "Etichetta reale:Ashley_Scott || Predetto:  Wole_Soyinka con probabilità: 6.637111186981201 e con perturbazione: 0.07882660627365112\n",
      "Adversarial Sample misclassificati correttamente attuale: 75.0%\n"
     ]
    },
    {
     "name": "stderr",
     "output_type": "stream",
     "text": [
      "C&W L_2: 100%|██████████| 1/1 [00:00<00:00,  2.37it/s]\n"
     ]
    },
    {
     "name": "stdout",
     "output_type": "stream",
     "text": [
      "Etichetta reale:Boris_Johnson || Predetto:  Vojislav_Šešelj con probabilità: 8.961651802062988 e con perturbazione: 0.0566776841878891\n",
      "Adversarial Sample misclassificati correttamente attuale: 80.0%\n"
     ]
    },
    {
     "name": "stderr",
     "output_type": "stream",
     "text": [
      "C&W L_2: 100%|██████████| 1/1 [00:00<00:00,  2.39it/s]\n"
     ]
    },
    {
     "name": "stdout",
     "output_type": "stream",
     "text": [
      "Etichetta reale:Brad_Pitt || Predetto:  Gwede_Mantashe con probabilità: 8.975443840026855 e con perturbazione: 0.07222878187894821\n",
      "Adversarial Sample misclassificati correttamente attuale: 83.33333333333334%\n"
     ]
    },
    {
     "name": "stderr",
     "output_type": "stream",
     "text": [
      "C&W L_2: 100%|██████████| 1/1 [00:00<00:00,  2.46it/s]\n"
     ]
    },
    {
     "name": "stdout",
     "output_type": "stream",
     "text": [
      "Etichetta reale:Christian_De_Sica || Predetto:  Al_Sharpton con probabilità: 9.92462158203125 e con perturbazione: 0.060833364725112915\n",
      "Adversarial Sample misclassificati correttamente attuale: 85.71428571428572%\n"
     ]
    },
    {
     "name": "stderr",
     "output_type": "stream",
     "text": [
      "C&W L_2: 100%|██████████| 1/1 [00:00<00:00,  2.08it/s]\n"
     ]
    },
    {
     "name": "stdout",
     "output_type": "stream",
     "text": [
      "Etichetta reale:Christopher_Nolan || Predetto:  George_Takei con probabilità: 10.486109733581543 e con perturbazione: 0.05892995744943619\n",
      "Adversarial Sample misclassificati correttamente attuale: 87.5%\n"
     ]
    },
    {
     "name": "stderr",
     "output_type": "stream",
     "text": [
      "C&W L_2: 100%|██████████| 1/1 [00:00<00:00,  2.28it/s]\n"
     ]
    },
    {
     "name": "stdout",
     "output_type": "stream",
     "text": [
      "Etichetta reale:Cristiano_Ronaldo || Predetto:  Hella_von_Sinnen con probabilità: 6.920907020568848 e con perturbazione: 0.037813734263181686\n",
      "Adversarial Sample misclassificati correttamente attuale: 88.88888888888889%\n"
     ]
    },
    {
     "name": "stderr",
     "output_type": "stream",
     "text": [
      "C&W L_2: 100%|██████████| 1/1 [00:00<00:00,  2.44it/s]\n"
     ]
    },
    {
     "name": "stdout",
     "output_type": "stream",
     "text": [
      "Etichetta reale:Diego_Maradona || Predetto:  Diego_Maradona con probabilità: 12.622477531433105 e con perturbazione: 0.0\n",
      "Adversarial Sample misclassificati correttamente attuale: 80.0%\n",
      "----------- Perturbazione media aggiunta a tutte le immagini per learning: 0.5 equivale a ---> 0.047666704095900056% ----------------\n",
      "----------- Accuracy sugli adversarial Sample per learning: 0.5 equivale a ---> 0.2% ----------------\n",
      "<---> Attacco con learning rate = 0.7 e initial cost = 300 <--->\n"
     ]
    },
    {
     "name": "stderr",
     "output_type": "stream",
     "text": [
      "C&W L_2: 100%|██████████| 1/1 [00:00<00:00,  2.46it/s]\n"
     ]
    },
    {
     "name": "stdout",
     "output_type": "stream",
     "text": [
      "Etichetta reale:Andrea_Pirlo || Predetto:  Undertaker con probabilità: 8.778706550598145 e con perturbazione: 0.060875263065099716\n",
      "Adversarial Sample misclassificati correttamente attuale: 100.0%\n"
     ]
    },
    {
     "name": "stderr",
     "output_type": "stream",
     "text": [
      "C&W L_2: 100%|██████████| 1/1 [00:00<00:00,  2.36it/s]\n"
     ]
    },
    {
     "name": "stdout",
     "output_type": "stream",
     "text": [
      "Etichetta reale:Antonio_Cassano || Predetto:  Branch_Warren con probabilità: 10.506441116333008 e con perturbazione: 0.0\n",
      "Adversarial Sample misclassificati correttamente attuale: 100.0%\n"
     ]
    },
    {
     "name": "stderr",
     "output_type": "stream",
     "text": [
      "C&W L_2: 100%|██████████| 1/1 [00:00<00:00,  2.23it/s]\n"
     ]
    },
    {
     "name": "stdout",
     "output_type": "stream",
     "text": [
      "Etichetta reale:Ariana_Grande || Predetto:  Ariana_Grande con probabilità: 11.170966148376465 e con perturbazione: 0.0\n",
      "Adversarial Sample misclassificati correttamente attuale: 66.66666666666667%\n"
     ]
    },
    {
     "name": "stderr",
     "output_type": "stream",
     "text": [
      "C&W L_2: 100%|██████████| 1/1 [00:00<00:00,  2.13it/s]\n"
     ]
    },
    {
     "name": "stdout",
     "output_type": "stream",
     "text": [
      "Etichetta reale:Ashley_Scott || Predetto:  Wole_Soyinka con probabilità: 6.94956111907959 e con perturbazione: 0.05819341540336609\n",
      "Adversarial Sample misclassificati correttamente attuale: 75.0%\n"
     ]
    },
    {
     "name": "stderr",
     "output_type": "stream",
     "text": [
      "C&W L_2: 100%|██████████| 1/1 [00:00<00:00,  2.26it/s]\n"
     ]
    },
    {
     "name": "stdout",
     "output_type": "stream",
     "text": [
      "Etichetta reale:Boris_Johnson || Predetto:  Vojislav_Šešelj con probabilità: 8.028887748718262 e con perturbazione: 0.0764087438583374\n",
      "Adversarial Sample misclassificati correttamente attuale: 80.0%\n"
     ]
    },
    {
     "name": "stderr",
     "output_type": "stream",
     "text": [
      "C&W L_2: 100%|██████████| 1/1 [00:00<00:00,  2.34it/s]\n"
     ]
    },
    {
     "name": "stdout",
     "output_type": "stream",
     "text": [
      "Etichetta reale:Brad_Pitt || Predetto:  Wole_Soyinka con probabilità: 6.52638578414917 e con perturbazione: 0.09562403708696365\n",
      "Adversarial Sample misclassificati correttamente attuale: 83.33333333333334%\n"
     ]
    },
    {
     "name": "stderr",
     "output_type": "stream",
     "text": [
      "C&W L_2: 100%|██████████| 1/1 [00:00<00:00,  2.48it/s]\n"
     ]
    },
    {
     "name": "stdout",
     "output_type": "stream",
     "text": [
      "Etichetta reale:Christian_De_Sica || Predetto:  Al_Roker con probabilità: 9.295246124267578 e con perturbazione: 0.08094444870948792\n",
      "Adversarial Sample misclassificati correttamente attuale: 85.71428571428572%\n"
     ]
    },
    {
     "name": "stderr",
     "output_type": "stream",
     "text": [
      "C&W L_2: 100%|██████████| 1/1 [00:00<00:00,  2.19it/s]\n"
     ]
    },
    {
     "name": "stdout",
     "output_type": "stream",
     "text": [
      "Etichetta reale:Christopher_Nolan || Predetto:  George_Takei con probabilità: 11.768156051635742 e con perturbazione: 0.04311089590191841\n",
      "Adversarial Sample misclassificati correttamente attuale: 87.5%\n"
     ]
    },
    {
     "name": "stderr",
     "output_type": "stream",
     "text": [
      "C&W L_2: 100%|██████████| 1/1 [00:00<00:00,  2.24it/s]\n"
     ]
    },
    {
     "name": "stdout",
     "output_type": "stream",
     "text": [
      "Etichetta reale:Cristiano_Ronaldo || Predetto:  Lady_Bunny con probabilità: 6.117608070373535 e con perturbazione: 0.0514322929084301\n",
      "Adversarial Sample misclassificati correttamente attuale: 88.88888888888889%\n"
     ]
    },
    {
     "name": "stderr",
     "output_type": "stream",
     "text": [
      "C&W L_2: 100%|██████████| 1/1 [00:00<00:00,  2.50it/s]\n"
     ]
    },
    {
     "name": "stdout",
     "output_type": "stream",
     "text": [
      "Etichetta reale:Diego_Maradona || Predetto:  Diego_Maradona con probabilità: 12.622477531433105 e con perturbazione: 0.0\n",
      "Adversarial Sample misclassificati correttamente attuale: 80.0%\n",
      "----------- Perturbazione media aggiunta a tutte le immagini per learning: 0.7 equivale a ---> 0.046658909693360326% ----------------\n",
      "----------- Accuracy sugli adversarial Sample per learning: 0.7 equivale a ---> 0.2% ----------------\n",
      "<---> Attacco con learning rate = 0.9 e initial cost = 300 <--->\n"
     ]
    },
    {
     "name": "stderr",
     "output_type": "stream",
     "text": [
      "C&W L_2: 100%|██████████| 1/1 [00:00<00:00,  2.35it/s]\n"
     ]
    },
    {
     "name": "stdout",
     "output_type": "stream",
     "text": [
      "Etichetta reale:Andrea_Pirlo || Predetto:  Ambrose_Akinmusire con probabilità: 6.328187942504883 e con perturbazione: 0.07537142187356949\n",
      "Adversarial Sample misclassificati correttamente attuale: 100.0%\n"
     ]
    },
    {
     "name": "stderr",
     "output_type": "stream",
     "text": [
      "C&W L_2: 100%|██████████| 1/1 [00:00<00:00,  1.92it/s]\n"
     ]
    },
    {
     "name": "stdout",
     "output_type": "stream",
     "text": [
      "Etichetta reale:Antonio_Cassano || Predetto:  Branch_Warren con probabilità: 10.506441116333008 e con perturbazione: 0.0\n",
      "Adversarial Sample misclassificati correttamente attuale: 100.0%\n"
     ]
    },
    {
     "name": "stderr",
     "output_type": "stream",
     "text": [
      "C&W L_2: 100%|██████████| 1/1 [00:00<00:00,  2.42it/s]\n"
     ]
    },
    {
     "name": "stdout",
     "output_type": "stream",
     "text": [
      "Etichetta reale:Ariana_Grande || Predetto:  Ariana_Grande con probabilità: 11.170966148376465 e con perturbazione: 0.0\n",
      "Adversarial Sample misclassificati correttamente attuale: 66.66666666666667%\n"
     ]
    },
    {
     "name": "stderr",
     "output_type": "stream",
     "text": [
      "C&W L_2: 100%|██████████| 1/1 [00:00<00:00,  2.23it/s]\n"
     ]
    },
    {
     "name": "stdout",
     "output_type": "stream",
     "text": [
      "Etichetta reale:Ashley_Scott || Predetto:  Wole_Soyinka con probabilità: 7.007388114929199 e con perturbazione: 0.07221362739801407\n",
      "Adversarial Sample misclassificati correttamente attuale: 75.0%\n"
     ]
    },
    {
     "name": "stderr",
     "output_type": "stream",
     "text": [
      "C&W L_2: 100%|██████████| 1/1 [00:00<00:00,  2.17it/s]\n"
     ]
    },
    {
     "name": "stdout",
     "output_type": "stream",
     "text": [
      "Etichetta reale:Boris_Johnson || Predetto:  Pavel_Bobek con probabilità: 9.13489818572998 e con perturbazione: 0.051463525742292404\n",
      "Adversarial Sample misclassificati correttamente attuale: 80.0%\n"
     ]
    },
    {
     "name": "stderr",
     "output_type": "stream",
     "text": [
      "C&W L_2: 100%|██████████| 1/1 [00:00<00:00,  2.21it/s]\n"
     ]
    },
    {
     "name": "stdout",
     "output_type": "stream",
     "text": [
      "Etichetta reale:Brad_Pitt || Predetto:  Gwede_Mantashe con probabilità: 8.861635208129883 e con perturbazione: 0.06589566171169281\n",
      "Adversarial Sample misclassificati correttamente attuale: 83.33333333333334%\n"
     ]
    },
    {
     "name": "stderr",
     "output_type": "stream",
     "text": [
      "C&W L_2: 100%|██████████| 1/1 [00:00<00:00,  2.45it/s]\n"
     ]
    },
    {
     "name": "stdout",
     "output_type": "stream",
     "text": [
      "Etichetta reale:Christian_De_Sica || Predetto:  Gwede_Mantashe con probabilità: 9.081109046936035 e con perturbazione: 0.09892453998327255\n",
      "Adversarial Sample misclassificati correttamente attuale: 85.71428571428572%\n"
     ]
    },
    {
     "name": "stderr",
     "output_type": "stream",
     "text": [
      "C&W L_2: 100%|██████████| 1/1 [00:00<00:00,  2.21it/s]\n"
     ]
    },
    {
     "name": "stdout",
     "output_type": "stream",
     "text": [
      "Etichetta reale:Christopher_Nolan || Predetto:  George_Takei con probabilità: 11.636397361755371 e con perturbazione: 0.05383681505918503\n",
      "Adversarial Sample misclassificati correttamente attuale: 87.5%\n"
     ]
    },
    {
     "name": "stderr",
     "output_type": "stream",
     "text": [
      "C&W L_2: 100%|██████████| 1/1 [00:00<00:00,  2.48it/s]\n"
     ]
    },
    {
     "name": "stdout",
     "output_type": "stream",
     "text": [
      "Etichetta reale:Cristiano_Ronaldo || Predetto:  Cristiano_Ronaldo con probabilità: 12.945646286010742 e con perturbazione: 0.0\n",
      "Adversarial Sample misclassificati correttamente attuale: 77.77777777777777%\n"
     ]
    },
    {
     "name": "stderr",
     "output_type": "stream",
     "text": [
      "C&W L_2: 100%|██████████| 1/1 [00:00<00:00,  2.48it/s]\n"
     ]
    },
    {
     "name": "stdout",
     "output_type": "stream",
     "text": [
      "Etichetta reale:Diego_Maradona || Predetto:  Diego_Maradona con probabilità: 12.622477531433105 e con perturbazione: 0.0\n",
      "Adversarial Sample misclassificati correttamente attuale: 70.0%\n",
      "----------- Perturbazione media aggiunta a tutte le immagini per learning: 0.9 equivale a ---> 0.041770559176802634% ----------------\n",
      "----------- Accuracy sugli adversarial Sample per learning: 0.9 equivale a ---> 0.3% ----------------\n",
      "--------------------------------------------------------------------------------------------------------------------------------------------------------------------\n",
      "<---> Attacco con learning rate = 0.1 e initial cost = 700 <--->\n"
     ]
    },
    {
     "name": "stderr",
     "output_type": "stream",
     "text": [
      "C&W L_2: 100%|██████████| 1/1 [00:00<00:00,  2.92it/s]\n"
     ]
    },
    {
     "name": "stdout",
     "output_type": "stream",
     "text": [
      "Etichetta reale:Andrea_Pirlo || Predetto:  Kai_Greene con probabilità: 6.108268737792969 e con perturbazione: 0.13144777715206146\n",
      "Adversarial Sample misclassificati correttamente attuale: 100.0%\n"
     ]
    },
    {
     "name": "stderr",
     "output_type": "stream",
     "text": [
      "C&W L_2: 100%|██████████| 1/1 [00:00<00:00,  2.36it/s]\n"
     ]
    },
    {
     "name": "stdout",
     "output_type": "stream",
     "text": [
      "Etichetta reale:Antonio_Cassano || Predetto:  Mick_Wallace con probabilità: 9.540824890136719 e con perturbazione: 0.027310539036989212\n",
      "Adversarial Sample misclassificati correttamente attuale: 100.0%\n"
     ]
    },
    {
     "name": "stderr",
     "output_type": "stream",
     "text": [
      "C&W L_2: 100%|██████████| 1/1 [00:00<00:00,  2.43it/s]\n"
     ]
    },
    {
     "name": "stdout",
     "output_type": "stream",
     "text": [
      "Etichetta reale:Ariana_Grande || Predetto:  P!nk con probabilità: 5.277480125427246 e con perturbazione: 0.06135217100381851\n",
      "Adversarial Sample misclassificati correttamente attuale: 100.0%\n"
     ]
    },
    {
     "name": "stderr",
     "output_type": "stream",
     "text": [
      "C&W L_2: 100%|██████████| 1/1 [00:00<00:00,  3.04it/s]\n"
     ]
    },
    {
     "name": "stdout",
     "output_type": "stream",
     "text": [
      "Etichetta reale:Ashley_Scott || Predetto:  Joke_Silva con probabilità: 5.590628147125244 e con perturbazione: 0.12715820968151093\n",
      "Adversarial Sample misclassificati correttamente attuale: 100.0%\n"
     ]
    },
    {
     "name": "stderr",
     "output_type": "stream",
     "text": [
      "C&W L_2: 100%|██████████| 1/1 [00:00<00:00,  2.56it/s]\n"
     ]
    },
    {
     "name": "stdout",
     "output_type": "stream",
     "text": [
      "Etichetta reale:Boris_Johnson || Predetto:  Ferdinand_Piëch con probabilità: 6.477871894836426 e con perturbazione: 0.09725403040647507\n",
      "Adversarial Sample misclassificati correttamente attuale: 100.0%\n"
     ]
    },
    {
     "name": "stderr",
     "output_type": "stream",
     "text": [
      "C&W L_2: 100%|██████████| 1/1 [00:00<00:00,  2.94it/s]\n"
     ]
    },
    {
     "name": "stdout",
     "output_type": "stream",
     "text": [
      "Etichetta reale:Brad_Pitt || Predetto:  Steve_Brûlé con probabilità: 6.26205587387085 e con perturbazione: 0.11944425851106644\n",
      "Adversarial Sample misclassificati correttamente attuale: 100.0%\n"
     ]
    },
    {
     "name": "stderr",
     "output_type": "stream",
     "text": [
      "C&W L_2: 100%|██████████| 1/1 [00:00<00:00,  2.97it/s]\n"
     ]
    },
    {
     "name": "stdout",
     "output_type": "stream",
     "text": [
      "Etichetta reale:Christian_De_Sica || Predetto:  Joke_Silva con probabilità: 8.123221397399902 e con perturbazione: 0.16432838141918182\n",
      "Adversarial Sample misclassificati correttamente attuale: 100.0%\n"
     ]
    },
    {
     "name": "stderr",
     "output_type": "stream",
     "text": [
      "C&W L_2: 100%|██████████| 1/1 [00:00<00:00,  2.88it/s]\n"
     ]
    },
    {
     "name": "stdout",
     "output_type": "stream",
     "text": [
      "Etichetta reale:Christopher_Nolan || Predetto:  Steve_Brûlé con probabilità: 8.529082298278809 e con perturbazione: 0.09662286192178726\n",
      "Adversarial Sample misclassificati correttamente attuale: 100.0%\n"
     ]
    },
    {
     "name": "stderr",
     "output_type": "stream",
     "text": [
      "C&W L_2: 100%|██████████| 1/1 [00:00<00:00,  2.65it/s]\n"
     ]
    },
    {
     "name": "stdout",
     "output_type": "stream",
     "text": [
      "Etichetta reale:Cristiano_Ronaldo || Predetto:  Lady_Bunny con probabilità: 6.167031764984131 e con perturbazione: 0.06611562520265579\n",
      "Adversarial Sample misclassificati correttamente attuale: 100.0%\n"
     ]
    },
    {
     "name": "stderr",
     "output_type": "stream",
     "text": [
      "C&W L_2: 100%|██████████| 1/1 [00:00<00:00,  2.54it/s]\n"
     ]
    },
    {
     "name": "stdout",
     "output_type": "stream",
     "text": [
      "Etichetta reale:Diego_Maradona || Predetto:  Joke_Silva con probabilità: 4.607536315917969 e con perturbazione: 0.10186362266540527\n",
      "Adversarial Sample misclassificati correttamente attuale: 100.0%\n",
      "----------- Perturbazione media aggiunta a tutte le immagini per learning: 0.1 equivale a ---> 0.09928974770009517% ----------------\n",
      "----------- Accuracy sugli adversarial Sample per learning: 0.1 equivale a ---> 0.0% ----------------\n",
      "<---> Attacco con learning rate = 0.2 e initial cost = 700 <--->\n"
     ]
    },
    {
     "name": "stderr",
     "output_type": "stream",
     "text": [
      "C&W L_2: 100%|██████████| 1/1 [00:00<00:00,  2.90it/s]\n"
     ]
    },
    {
     "name": "stdout",
     "output_type": "stream",
     "text": [
      "Etichetta reale:Andrea_Pirlo || Predetto:  Kai_Greene con probabilità: 6.108266830444336 e con perturbazione: 0.13144777715206146\n",
      "Adversarial Sample misclassificati correttamente attuale: 100.0%\n"
     ]
    },
    {
     "name": "stderr",
     "output_type": "stream",
     "text": [
      "C&W L_2: 100%|██████████| 1/1 [00:00<00:00,  2.21it/s]\n"
     ]
    },
    {
     "name": "stdout",
     "output_type": "stream",
     "text": [
      "Etichetta reale:Antonio_Cassano || Predetto:  Mick_Wallace con probabilità: 9.540824890136719 e con perturbazione: 0.027310539036989212\n",
      "Adversarial Sample misclassificati correttamente attuale: 100.0%\n"
     ]
    },
    {
     "name": "stderr",
     "output_type": "stream",
     "text": [
      "C&W L_2: 100%|██████████| 1/1 [00:00<00:00,  2.21it/s]\n"
     ]
    },
    {
     "name": "stdout",
     "output_type": "stream",
     "text": [
      "Etichetta reale:Ariana_Grande || Predetto:  P!nk con probabilità: 5.27747917175293 e con perturbazione: 0.06135217100381851\n",
      "Adversarial Sample misclassificati correttamente attuale: 100.0%\n"
     ]
    },
    {
     "name": "stderr",
     "output_type": "stream",
     "text": [
      "C&W L_2: 100%|██████████| 1/1 [00:00<00:00,  2.59it/s]\n"
     ]
    },
    {
     "name": "stdout",
     "output_type": "stream",
     "text": [
      "Etichetta reale:Ashley_Scott || Predetto:  Joke_Silva con probabilità: 5.590629577636719 e con perturbazione: 0.12715820968151093\n",
      "Adversarial Sample misclassificati correttamente attuale: 100.0%\n"
     ]
    },
    {
     "name": "stderr",
     "output_type": "stream",
     "text": [
      "C&W L_2: 100%|██████████| 1/1 [00:00<00:00,  2.79it/s]\n"
     ]
    },
    {
     "name": "stdout",
     "output_type": "stream",
     "text": [
      "Etichetta reale:Boris_Johnson || Predetto:  Ferdinand_Piëch con probabilità: 6.477876663208008 e con perturbazione: 0.09725403040647507\n",
      "Adversarial Sample misclassificati correttamente attuale: 100.0%\n"
     ]
    },
    {
     "name": "stderr",
     "output_type": "stream",
     "text": [
      "C&W L_2: 100%|██████████| 1/1 [00:00<00:00,  2.77it/s]\n"
     ]
    },
    {
     "name": "stdout",
     "output_type": "stream",
     "text": [
      "Etichetta reale:Brad_Pitt || Predetto:  Steve_Brûlé con probabilità: 6.262057304382324 e con perturbazione: 0.11944425851106644\n",
      "Adversarial Sample misclassificati correttamente attuale: 100.0%\n"
     ]
    },
    {
     "name": "stderr",
     "output_type": "stream",
     "text": [
      "C&W L_2: 100%|██████████| 1/1 [00:00<00:00,  3.03it/s]\n"
     ]
    },
    {
     "name": "stdout",
     "output_type": "stream",
     "text": [
      "Etichetta reale:Christian_De_Sica || Predetto:  Joke_Silva con probabilità: 8.123222351074219 e con perturbazione: 0.16432839632034302\n",
      "Adversarial Sample misclassificati correttamente attuale: 100.0%\n"
     ]
    },
    {
     "name": "stderr",
     "output_type": "stream",
     "text": [
      "C&W L_2: 100%|██████████| 1/1 [00:00<00:00,  2.21it/s]\n"
     ]
    },
    {
     "name": "stdout",
     "output_type": "stream",
     "text": [
      "Etichetta reale:Christopher_Nolan || Predetto:  Steve_Brûlé con probabilità: 8.529085159301758 e con perturbazione: 0.09662286192178726\n",
      "Adversarial Sample misclassificati correttamente attuale: 100.0%\n"
     ]
    },
    {
     "name": "stderr",
     "output_type": "stream",
     "text": [
      "C&W L_2: 100%|██████████| 1/1 [00:00<00:00,  2.35it/s]\n"
     ]
    },
    {
     "name": "stdout",
     "output_type": "stream",
     "text": [
      "Etichetta reale:Cristiano_Ronaldo || Predetto:  Lady_Bunny con probabilità: 6.167031764984131 e con perturbazione: 0.06611562520265579\n",
      "Adversarial Sample misclassificati correttamente attuale: 100.0%\n"
     ]
    },
    {
     "name": "stderr",
     "output_type": "stream",
     "text": [
      "C&W L_2: 100%|██████████| 1/1 [00:00<00:00,  2.40it/s]\n"
     ]
    },
    {
     "name": "stdout",
     "output_type": "stream",
     "text": [
      "Etichetta reale:Diego_Maradona || Predetto:  Joke_Silva con probabilità: 4.607540130615234 e con perturbazione: 0.10186362266540527\n",
      "Adversarial Sample misclassificati correttamente attuale: 100.0%\n",
      "----------- Perturbazione media aggiunta a tutte le immagini per learning: 0.2 equivale a ---> 0.0992897491902113% ----------------\n",
      "----------- Accuracy sugli adversarial Sample per learning: 0.2 equivale a ---> 0.0% ----------------\n",
      "<---> Attacco con learning rate = 0.5 e initial cost = 700 <--->\n"
     ]
    },
    {
     "name": "stderr",
     "output_type": "stream",
     "text": [
      "C&W L_2: 100%|██████████| 1/1 [00:00<00:00,  2.43it/s]\n"
     ]
    },
    {
     "name": "stdout",
     "output_type": "stream",
     "text": [
      "Etichetta reale:Andrea_Pirlo || Predetto:  Kai_Greene con probabilità: 6.302403450012207 e con perturbazione: 0.09295710921287537\n",
      "Adversarial Sample misclassificati correttamente attuale: 100.0%\n"
     ]
    },
    {
     "name": "stderr",
     "output_type": "stream",
     "text": [
      "C&W L_2: 100%|██████████| 1/1 [00:00<00:00,  2.40it/s]\n"
     ]
    },
    {
     "name": "stdout",
     "output_type": "stream",
     "text": [
      "Etichetta reale:Antonio_Cassano || Predetto:  Branch_Warren con probabilità: 10.506441116333008 e con perturbazione: 0.0\n",
      "Adversarial Sample misclassificati correttamente attuale: 100.0%\n"
     ]
    },
    {
     "name": "stderr",
     "output_type": "stream",
     "text": [
      "C&W L_2: 100%|██████████| 1/1 [00:00<00:00,  2.36it/s]\n"
     ]
    },
    {
     "name": "stdout",
     "output_type": "stream",
     "text": [
      "Etichetta reale:Ariana_Grande || Predetto:  Ariana_Grande con probabilità: 11.170966148376465 e con perturbazione: 0.0\n",
      "Adversarial Sample misclassificati correttamente attuale: 66.66666666666667%\n"
     ]
    },
    {
     "name": "stderr",
     "output_type": "stream",
     "text": [
      "C&W L_2: 100%|██████████| 1/1 [00:00<00:00,  2.16it/s]\n"
     ]
    },
    {
     "name": "stdout",
     "output_type": "stream",
     "text": [
      "Etichetta reale:Ashley_Scott || Predetto:  Wole_Soyinka con probabilità: 6.314550876617432 e con perturbazione: 0.08930836617946625\n",
      "Adversarial Sample misclassificati correttamente attuale: 75.0%\n"
     ]
    },
    {
     "name": "stderr",
     "output_type": "stream",
     "text": [
      "C&W L_2: 100%|██████████| 1/1 [00:00<00:00,  2.40it/s]\n"
     ]
    },
    {
     "name": "stdout",
     "output_type": "stream",
     "text": [
      "Etichetta reale:Boris_Johnson || Predetto:  Little_Freddie_King con probabilità: 5.467021942138672 e con perturbazione: 0.11599218845367432\n",
      "Adversarial Sample misclassificati correttamente attuale: 80.0%\n"
     ]
    },
    {
     "name": "stderr",
     "output_type": "stream",
     "text": [
      "C&W L_2: 100%|██████████| 1/1 [00:00<00:00,  2.35it/s]\n"
     ]
    },
    {
     "name": "stdout",
     "output_type": "stream",
     "text": [
      "Etichetta reale:Brad_Pitt || Predetto:  Steve_Brûlé con probabilità: 5.843963146209717 e con perturbazione: 0.140153706073761\n",
      "Adversarial Sample misclassificati correttamente attuale: 83.33333333333334%\n"
     ]
    },
    {
     "name": "stderr",
     "output_type": "stream",
     "text": [
      "C&W L_2: 100%|██████████| 1/1 [00:00<00:00,  2.40it/s]\n"
     ]
    },
    {
     "name": "stdout",
     "output_type": "stream",
     "text": [
      "Etichetta reale:Christian_De_Sica || Predetto:  Muhammadu_Buhari con probabilità: 8.569998741149902 e con perturbazione: 0.12010376155376434\n",
      "Adversarial Sample misclassificati correttamente attuale: 85.71428571428572%\n"
     ]
    },
    {
     "name": "stderr",
     "output_type": "stream",
     "text": [
      "C&W L_2: 100%|██████████| 1/1 [00:00<00:00,  2.17it/s]\n"
     ]
    },
    {
     "name": "stdout",
     "output_type": "stream",
     "text": [
      "Etichetta reale:Christopher_Nolan || Predetto:  Try_Sutrisno con probabilità: 9.794118881225586 e con perturbazione: 0.0670408234000206\n",
      "Adversarial Sample misclassificati correttamente attuale: 87.5%\n"
     ]
    },
    {
     "name": "stderr",
     "output_type": "stream",
     "text": [
      "C&W L_2: 100%|██████████| 1/1 [00:00<00:00,  2.08it/s]\n"
     ]
    },
    {
     "name": "stdout",
     "output_type": "stream",
     "text": [
      "Etichetta reale:Cristiano_Ronaldo || Predetto:  Grace_Mugabe con probabilità: 5.847311973571777 e con perturbazione: 0.07959359139204025\n",
      "Adversarial Sample misclassificati correttamente attuale: 88.88888888888889%\n"
     ]
    },
    {
     "name": "stderr",
     "output_type": "stream",
     "text": [
      "C&W L_2: 100%|██████████| 1/1 [00:00<00:00,  2.37it/s]\n"
     ]
    },
    {
     "name": "stdout",
     "output_type": "stream",
     "text": [
      "Etichetta reale:Diego_Maradona || Predetto:  Diego_Maradona con probabilità: 12.622477531433105 e con perturbazione: 0.0\n",
      "Adversarial Sample misclassificati correttamente attuale: 80.0%\n",
      "----------- Perturbazione media aggiunta a tutte le immagini per learning: 0.5 equivale a ---> 0.07051495462656021% ----------------\n",
      "----------- Accuracy sugli adversarial Sample per learning: 0.5 equivale a ---> 0.2% ----------------\n",
      "<---> Attacco con learning rate = 0.7 e initial cost = 700 <--->\n"
     ]
    },
    {
     "name": "stderr",
     "output_type": "stream",
     "text": [
      "C&W L_2: 100%|██████████| 1/1 [00:00<00:00,  2.09it/s]\n"
     ]
    },
    {
     "name": "stdout",
     "output_type": "stream",
     "text": [
      "Etichetta reale:Andrea_Pirlo || Predetto:  Kai_Greene con probabilità: 6.279835224151611 e con perturbazione: 0.11969107389450073\n",
      "Adversarial Sample misclassificati correttamente attuale: 100.0%\n"
     ]
    },
    {
     "name": "stderr",
     "output_type": "stream",
     "text": [
      "C&W L_2: 100%|██████████| 1/1 [00:00<00:00,  2.36it/s]\n"
     ]
    },
    {
     "name": "stdout",
     "output_type": "stream",
     "text": [
      "Etichetta reale:Antonio_Cassano || Predetto:  Branch_Warren con probabilità: 10.506441116333008 e con perturbazione: 0.0\n",
      "Adversarial Sample misclassificati correttamente attuale: 100.0%\n"
     ]
    },
    {
     "name": "stderr",
     "output_type": "stream",
     "text": [
      "C&W L_2: 100%|██████████| 1/1 [00:00<00:00,  2.38it/s]\n"
     ]
    },
    {
     "name": "stdout",
     "output_type": "stream",
     "text": [
      "Etichetta reale:Ariana_Grande || Predetto:  Ariana_Grande con probabilità: 11.170966148376465 e con perturbazione: 0.0\n",
      "Adversarial Sample misclassificati correttamente attuale: 66.66666666666667%\n"
     ]
    },
    {
     "name": "stderr",
     "output_type": "stream",
     "text": [
      "C&W L_2: 100%|██████████| 1/1 [00:00<00:00,  1.92it/s]\n"
     ]
    },
    {
     "name": "stdout",
     "output_type": "stream",
     "text": [
      "Etichetta reale:Ashley_Scott || Predetto:  Joke_Silva con probabilità: 5.570315361022949 e con perturbazione: 0.11552431434392929\n",
      "Adversarial Sample misclassificati correttamente attuale: 75.0%\n"
     ]
    },
    {
     "name": "stderr",
     "output_type": "stream",
     "text": [
      "C&W L_2: 100%|██████████| 1/1 [00:00<00:00,  2.34it/s]\n"
     ]
    },
    {
     "name": "stdout",
     "output_type": "stream",
     "text": [
      "Etichetta reale:Boris_Johnson || Predetto:  Natalie_du_Toit con probabilità: 6.1419596672058105 e con perturbazione: 0.14820310473442078\n",
      "Adversarial Sample misclassificati correttamente attuale: 80.0%\n"
     ]
    },
    {
     "name": "stderr",
     "output_type": "stream",
     "text": [
      "C&W L_2: 100%|██████████| 1/1 [00:00<00:00,  2.16it/s]\n"
     ]
    },
    {
     "name": "stdout",
     "output_type": "stream",
     "text": [
      "Etichetta reale:Brad_Pitt || Predetto:  Steve_Brûlé con probabilità: 6.313650608062744 e con perturbazione: 0.10796253383159637\n",
      "Adversarial Sample misclassificati correttamente attuale: 83.33333333333334%\n"
     ]
    },
    {
     "name": "stderr",
     "output_type": "stream",
     "text": [
      "C&W L_2: 100%|██████████| 1/1 [00:00<00:00,  2.42it/s]\n"
     ]
    },
    {
     "name": "stdout",
     "output_type": "stream",
     "text": [
      "Etichetta reale:Christian_De_Sica || Predetto:  Joke_Silva con probabilità: 8.120471000671387 e con perturbazione: 0.151106595993042\n",
      "Adversarial Sample misclassificati correttamente attuale: 85.71428571428572%\n"
     ]
    },
    {
     "name": "stderr",
     "output_type": "stream",
     "text": [
      "C&W L_2: 100%|██████████| 1/1 [00:00<00:00,  2.28it/s]\n"
     ]
    },
    {
     "name": "stdout",
     "output_type": "stream",
     "text": [
      "Etichetta reale:Christopher_Nolan || Predetto:  Agung_Laksono con probabilità: 8.532991409301758 e con perturbazione: 0.08749034255743027\n",
      "Adversarial Sample misclassificati correttamente attuale: 87.5%\n"
     ]
    },
    {
     "name": "stderr",
     "output_type": "stream",
     "text": [
      "C&W L_2: 100%|██████████| 1/1 [00:00<00:00,  2.36it/s]\n"
     ]
    },
    {
     "name": "stdout",
     "output_type": "stream",
     "text": [
      "Etichetta reale:Cristiano_Ronaldo || Predetto:  Cristiano_Ronaldo con probabilità: 12.945646286010742 e con perturbazione: 0.0\n",
      "Adversarial Sample misclassificati correttamente attuale: 77.77777777777777%\n"
     ]
    },
    {
     "name": "stderr",
     "output_type": "stream",
     "text": [
      "C&W L_2: 100%|██████████| 1/1 [00:00<00:00,  2.05it/s]\n"
     ]
    },
    {
     "name": "stdout",
     "output_type": "stream",
     "text": [
      "Etichetta reale:Diego_Maradona || Predetto:  Diego_Maradona con probabilità: 12.622477531433105 e con perturbazione: 0.0\n",
      "Adversarial Sample misclassificati correttamente attuale: 70.0%\n",
      "----------- Perturbazione media aggiunta a tutte le immagini per learning: 0.7 equivale a ---> 0.07299779653549195% ----------------\n",
      "----------- Accuracy sugli adversarial Sample per learning: 0.7 equivale a ---> 0.3% ----------------\n",
      "<---> Attacco con learning rate = 0.9 e initial cost = 700 <--->\n"
     ]
    },
    {
     "name": "stderr",
     "output_type": "stream",
     "text": [
      "C&W L_2: 100%|██████████| 1/1 [00:00<00:00,  1.66it/s]\n"
     ]
    },
    {
     "name": "stdout",
     "output_type": "stream",
     "text": [
      "Etichetta reale:Andrea_Pirlo || Predetto:  Ambrose_Akinmusire con probabilità: 6.403852939605713 e con perturbazione: 0.0854930728673935\n",
      "Adversarial Sample misclassificati correttamente attuale: 100.0%\n"
     ]
    },
    {
     "name": "stderr",
     "output_type": "stream",
     "text": [
      "C&W L_2: 100%|██████████| 1/1 [00:00<00:00,  2.26it/s]\n"
     ]
    },
    {
     "name": "stdout",
     "output_type": "stream",
     "text": [
      "Etichetta reale:Antonio_Cassano || Predetto:  Branch_Warren con probabilità: 10.506441116333008 e con perturbazione: 0.0\n",
      "Adversarial Sample misclassificati correttamente attuale: 100.0%\n"
     ]
    },
    {
     "name": "stderr",
     "output_type": "stream",
     "text": [
      "C&W L_2: 100%|██████████| 1/1 [00:00<00:00,  2.01it/s]\n"
     ]
    },
    {
     "name": "stdout",
     "output_type": "stream",
     "text": [
      "Etichetta reale:Ariana_Grande || Predetto:  Ariana_Grande con probabilità: 11.170966148376465 e con perturbazione: 0.0\n",
      "Adversarial Sample misclassificati correttamente attuale: 66.66666666666667%\n"
     ]
    },
    {
     "name": "stderr",
     "output_type": "stream",
     "text": [
      "C&W L_2: 100%|██████████| 1/1 [00:00<00:00,  1.54it/s]\n"
     ]
    },
    {
     "name": "stdout",
     "output_type": "stream",
     "text": [
      "Etichetta reale:Ashley_Scott || Predetto:  Joke_Silva con probabilità: 5.579587936401367 e con perturbazione: 0.13796229660511017\n",
      "Adversarial Sample misclassificati correttamente attuale: 75.0%\n"
     ]
    },
    {
     "name": "stderr",
     "output_type": "stream",
     "text": [
      "C&W L_2: 100%|██████████| 1/1 [00:00<00:00,  1.88it/s]\n"
     ]
    },
    {
     "name": "stdout",
     "output_type": "stream",
     "text": [
      "Etichetta reale:Boris_Johnson || Predetto:  Little_Freddie_King con probabilità: 5.574296474456787 e con perturbazione: 0.10686948150396347\n",
      "Adversarial Sample misclassificati correttamente attuale: 80.0%\n"
     ]
    },
    {
     "name": "stderr",
     "output_type": "stream",
     "text": [
      "C&W L_2: 100%|██████████| 1/1 [00:00<00:00,  1.88it/s]\n"
     ]
    },
    {
     "name": "stdout",
     "output_type": "stream",
     "text": [
      "Etichetta reale:Brad_Pitt || Predetto:  Steve_Brûlé con probabilità: 6.079120635986328 e con perturbazione: 0.13015010952949524\n",
      "Adversarial Sample misclassificati correttamente attuale: 83.33333333333334%\n"
     ]
    },
    {
     "name": "stderr",
     "output_type": "stream",
     "text": [
      "C&W L_2: 100%|██████████| 1/1 [00:00<00:00,  1.91it/s]\n"
     ]
    },
    {
     "name": "stdout",
     "output_type": "stream",
     "text": [
      "Etichetta reale:Christian_De_Sica || Predetto:  Muhammadu_Buhari con probabilità: 8.766633987426758 e con perturbazione: 0.11119561642408371\n",
      "Adversarial Sample misclassificati correttamente attuale: 85.71428571428572%\n"
     ]
    },
    {
     "name": "stderr",
     "output_type": "stream",
     "text": [
      "C&W L_2: 100%|██████████| 1/1 [00:00<00:00,  2.30it/s]\n"
     ]
    },
    {
     "name": "stdout",
     "output_type": "stream",
     "text": [
      "Etichetta reale:Christopher_Nolan || Predetto:  Christopher_Nolan con probabilità: 12.074438095092773 e con perturbazione: 0.0\n",
      "Adversarial Sample misclassificati correttamente attuale: 75.0%\n"
     ]
    },
    {
     "name": "stderr",
     "output_type": "stream",
     "text": [
      "C&W L_2: 100%|██████████| 1/1 [00:00<00:00,  2.17it/s]\n"
     ]
    },
    {
     "name": "stdout",
     "output_type": "stream",
     "text": [
      "Etichetta reale:Cristiano_Ronaldo || Predetto:  Cristiano_Ronaldo con probabilità: 12.945646286010742 e con perturbazione: 0.0\n",
      "Adversarial Sample misclassificati correttamente attuale: 66.66666666666667%\n"
     ]
    },
    {
     "name": "stderr",
     "output_type": "stream",
     "text": [
      "C&W L_2: 100%|██████████| 1/1 [00:00<00:00,  1.82it/s]"
     ]
    },
    {
     "name": "stdout",
     "output_type": "stream",
     "text": [
      "Etichetta reale:Diego_Maradona || Predetto:  Diego_Maradona con probabilità: 12.622477531433105 e con perturbazione: 0.0\n",
      "Adversarial Sample misclassificati correttamente attuale: 60.0%\n",
      "----------- Perturbazione media aggiunta a tutte le immagini per learning: 0.9 equivale a ---> 0.057167057693004605% ----------------\n",
      "----------- Accuracy sugli adversarial Sample per learning: 0.9 equivale a ---> 0.4% ----------------\n",
      "--------------------------------------------------------------------------------------------------------------------------------------------------------------------\n"
     ]
    },
    {
     "name": "stderr",
     "output_type": "stream",
     "text": [
      "\n"
     ]
    }
   ],
   "source": [
    "dataset_dir = \"test_set_cropped_piccolo/\" \n",
    "binary_search_steps = 1\n",
    "confidence = 0.8\n",
    "max_iter = [1]\n",
    "learning_rate = [0.1,0.2,0.5,0.7,0.9]\n",
    "initial_const = [1,300,700]\n",
    "\n",
    "accuracy_for_eps = []\n",
    "accuracy_for_max_iter = []\n",
    "perturbation_for_eps = []\n",
    "perturbation_for_max_iter = []\n",
    "correct_predictions = 0\n",
    "total_images = 0\n",
    "accuracy_for_learning_rate = np.zeros((len(initial_const),len(learning_rate)))\n",
    "perturbation_for_learning_rate = np.zeros((len(initial_const),len(learning_rate)))\n",
    "print(\"Inizio Attacco CARLINI-WAGNER NON-TARGETED\")\n",
    "learning_contatore = 0\n",
    "\n",
    "for i in range(len(initial_const)):\n",
    "        for learning in learning_rate:   #Se qualcosa funziona strano controllare questo zip\n",
    "            correct_predictions = 0\n",
    "            total_images = 0\n",
    "            perturbation = []\n",
    "            \n",
    "            attack = CarliniL2Method(classifier=classifier, binary_search_steps=binary_search_steps, confidence=confidence, max_iter=max_iter[0], learning_rate=learning, initial_const=initial_const[i], targeted=False)\n",
    "            \n",
    "            print(\"<---> Attacco con learning rate = {} e initial cost = {} <--->\".format(learning,initial_const[i]))\n",
    "            for filename in os.listdir(dataset_dir):\n",
    "                if filename.endswith(\".jpg\") or filename.endswith(\".jpeg\"):\n",
    "                    person_path = os.path.join(dataset_dir, filename)\n",
    "                    test_img = load_image(person_path)\n",
    "                    test_img = test_img.unsqueeze(0)\n",
    "                    test_img = test_img.numpy()\n",
    "                    test_images_adv = attack.generate(test_img)\n",
    "                    model_predictions = classifier.predict(test_images_adv)\n",
    "                    correct_label = re.sub(r'_\\d+_face_0\\.jpg$', '', filename)   \n",
    "                    perturbation.append(np.mean(np.abs((test_images_adv - test_img))))  #Calcolo la perturbazione applicata su ogni immagine e la salvo in un vettore.\n",
    "                    predicted_label = LABELS[np.array(model_predictions[0].argmax())]\n",
    "                    print(\"Etichetta reale:{} || Predetto: {} con probabilità: {} e con perturbazione: {}\".format(correct_label,predicted_label,model_predictions[0][model_predictions.argmax()],perturbation[-1]))\n",
    "                    total_images+=1\n",
    "                    \n",
    "                    predicted_label = str(predicted_label)\n",
    "\n",
    "                    if correct_label in predicted_label:\n",
    "                        correct_predictions+=1\n",
    "\n",
    "                    accuracy = correct_predictions/total_images\n",
    "                    print(\"Adversarial Sample misclassificati correttamente attuale: {}%\".format((100-(accuracy*100))))  # Calcolo l'accuracy attuale ogni volta che classifico una nuova immagine\n",
    "\n",
    "\n",
    "            if total_images != 0:    \n",
    "                if len(perturbation) == total_images:\n",
    "                    perturbazione_media = sum(perturbation)/total_images   # In media quanta pertubazione è stata applicata su ogni immagine \n",
    "                    perturbation_for_eps.append(perturbazione_media)\n",
    "                    print(\"----------- Perturbazione media aggiunta a tutte le immagini ---> {}% ----------------\".format(learning,perturbazione_media))\n",
    "                    perturbation_for_learning_rate[i][learning_contatore] = perturbazione_media \n",
    "                      \n",
    "                final_accuracy = correct_predictions/total_images          # Accuracy su tutte le immagini\n",
    "                accuracy_for_eps.append(final_accuracy)\n",
    "                print(\"----------- Accuracy sugli adversarial Sample equivale a ---> {}% ----------------\".format(learning,final_accuracy))\n",
    "                accuracy_for_learning_rate[i][learning_contatore] = final_accuracy\n",
    "                learning_contatore += 1\n",
    "            else:\n",
    "                print(\"ERRORE TOTAL IMAGE == 0 ERRORE\")\n",
    "                    \n",
    "        learning_contatore = 0\n",
    "        print(\"--------------------------------------------------------------------------------------------------------------------------------------------------------------------lllllllllllllllllll\")\n"
   ]
  },
  {
   "cell_type": "code",
   "execution_count": 80,
   "metadata": {},
   "outputs": [
    {
     "name": "stdout",
     "output_type": "stream",
     "text": [
      "[[0.00063763 0.00074669 0.00136975 0.00220908 0.00210204]\n",
      " [0.06045042 0.06045042 0.0476667  0.04665891 0.04177056]\n",
      " [0.09928975 0.09928975 0.07051495 0.0729978  0.05716706]]\n",
      "[[0.4 0.4 0.3 0.1 0.1]\n",
      " [0.  0.  0.2 0.2 0.3]\n",
      " [0.  0.  0.2 0.3 0.4]]\n",
      "1\n",
      "5\n",
      "[0.1, 0.2, 0.5, 0.7, 0.9]\n"
     ]
    }
   ],
   "source": [
    "#matrice righe = iterazione, colonne = learning rate\n",
    "print(perturbation_for_learning_rate)\n",
    "print(accuracy_for_learning_rate)\n",
    "print(len(learning_rate))\n",
    "print(len(perturbation_for_learning_rate[0]))\n",
    "learning_rate = [0.1,0.2,0.5,0.7,0.9]\n",
    "print(learning_rate)"
   ]
  },
  {
   "cell_type": "code",
   "execution_count": 81,
   "metadata": {},
   "outputs": [
    {
     "data": {
      "image/png": "[encoded data removed]",
      "text/plain": [
       "<Figure size 640x480 with 1 Axes>"
      ]
     },
     "metadata": {},
     "output_type": "display_data"
    }
   ],
   "source": [
    "\n",
    "# plot accuracy/Attack strength\n",
    "\n",
    "fig, ax = plt.subplots()\n",
    "ax.plot(learning_rate, perturbation_for_learning_rate[0], 'b-', label='Perturbazione')\n",
    "ax.plot(learning_rate, accuracy_for_learning_rate[0], 'r-', label='Accuracy')\n",
    "#ax.plot(np.array(learning_rate), np.array(perturbation_for_learning_rate[1]), 'r-', label='max_iter == 2')\n",
    "#ax.plot(np.array(learning_rate), np.array(perturbation_for_learning_rate[2]), 'g-.', label='max_iter == 4')\n",
    "\n",
    "legend = ax.legend(loc='upper center', shadow=True, fontsize='large')\n",
    "legend.get_frame().set_facecolor('#00FFCC')\n",
    "\n",
    "plt.ylabel('Perturbation')\n",
    "plt.xlabel('Learning Rate')\n",
    "\n",
    "\n",
    "\n",
    "plt.tight_layout()\n",
    "\n",
    "plt.show()"
   ]
  },
  {
   "cell_type": "markdown",
   "metadata": {},
   "source": [
    "#### Grafico Accuracy media a ogni iterazione"
   ]
  },
  {
   "cell_type": "code",
   "execution_count": 52,
   "metadata": {},
   "outputs": [
    {
     "data": {
      "image/png": "[encoded data removed]",
      "text/plain": [
       "<Figure size 640x480 with 1 Axes>"
      ]
     },
     "metadata": {},
     "output_type": "display_data"
    }
   ],
   "source": [
    "\n",
    "\n",
    "# plot accuracy/Attack strength\n",
    "\n",
    "fig, ax = plt.subplots()\n",
    "ax.plot(learning_rate, np.array(accuracy_for_learning_rate[0]), 'b--', label='max_iter == 1')\n",
    "ax.plot(learning_rate, np.array(accuracy_for_learning_rate[1]), 'r-', label='max_iter == 2')\n",
    "ax.plot(learning_rate, np.array(accuracy_for_learning_rate[2]), 'g-', label='max_iter == 4')\n",
    "\n",
    "legend = ax.legend(loc='upper center', shadow=True, fontsize='large')\n",
    "legend.get_frame().set_facecolor('#00FFCC')\n",
    "\n",
    "plt.ylabel('Accuracy')\n",
    "plt.xlabel('Learning Rate')\n",
    "\n",
    "\n",
    "plt.show()"
   ]
  },
  {
   "cell_type": "markdown",
   "metadata": {},
   "source": [
    "#### Grafico Accuracy media/Perturbazione media\n",
    "\n"
   ]
  },
  {
   "cell_type": "code",
   "execution_count": 48,
   "metadata": {},
   "outputs": [
    {
     "data": {
      "image/png": "[encoded data removed]",
      "text/plain": [
       "<Figure size 640x480 with 1 Axes>"
      ]
     },
     "metadata": {},
     "output_type": "display_data"
    }
   ],
   "source": [
    "fig, ax = plt.subplots()\n",
    "ax.plot(np.array(accuracy_for_max_iter), np.array(perturbation_for_max_iter), 'b--', label='NN1')\n",
    "\n",
    "legend = ax.legend(loc='upper center', shadow=True, fontsize='large')\n",
    "legend.get_frame().set_facecolor('#00FFCC')\n",
    "\n",
    "plt.xlabel('Attack strength (eps)')\n",
    "plt.ylabel('Accuracy')\n",
    "plt.show()"
   ]
  },
  {
   "cell_type": "markdown",
   "metadata": {},
   "source": [
    "### *Attacco* **TARGETED**"
   ]
  },
  {
   "cell_type": "code",
   "execution_count": 70,
   "metadata": {},
   "outputs": [
    {
     "name": "stdout",
     "output_type": "stream",
     "text": [
      "ETICHETTA TARGET:   Aaron_Hernandez\n"
     ]
    },
    {
     "name": "stderr",
     "output_type": "stream",
     "text": [
      "C&W L_2: 100%|██████████| 1/1 [00:00<00:00,  1.84it/s]\n"
     ]
    },
    {
     "name": "stdout",
     "output_type": "stream",
     "text": [
      "Inizio Attacco CARLINI-WAGNER TARGETED\n",
      "**** Attacco con max_iter 1 **** \n",
      "**** Attacco con learning rate = 0.01 ****\n"
     ]
    },
    {
     "name": "stderr",
     "output_type": "stream",
     "text": [
      "C&W L_2: 100%|██████████| 1/1 [00:00<00:00,  1.09it/s]\n"
     ]
    },
    {
     "name": "stdout",
     "output_type": "stream",
     "text": [
      "Etichetta corretta: Andrea_Pirlo\n",
      "Predetto  Andrea_Pirlo con probabilità 12.725250244140625 e con perturbazione 0.0\n",
      "Adversarial Sample misclassificati correttamente attualmente: 0.0%\n",
      "Accuracy attuale: 100.0%\n"
     ]
    },
    {
     "name": "stderr",
     "output_type": "stream",
     "text": [
      "C&W L_2: 100%|██████████| 1/1 [00:00<00:00,  1.05it/s]\n"
     ]
    },
    {
     "name": "stdout",
     "output_type": "stream",
     "text": [
      "Etichetta corretta: Antonio_Cassano\n",
      "Predetto  Branch_Warren con probabilità 10.506441116333008 e con perturbazione 0.0\n",
      "Adversarial Sample misclassificati correttamente attualmente: 0.0%\n",
      "Accuracy attuale: 50.0%\n"
     ]
    },
    {
     "name": "stderr",
     "output_type": "stream",
     "text": [
      "C&W L_2: 100%|██████████| 1/1 [00:00<00:00,  1.03it/s]\n"
     ]
    },
    {
     "name": "stdout",
     "output_type": "stream",
     "text": [
      "Etichetta corretta: Ariana_Grande\n",
      "Predetto  Ariana_Grande con probabilità 11.170966148376465 e con perturbazione 0.0\n",
      "Adversarial Sample misclassificati correttamente attualmente: 0.0%\n",
      "Accuracy attuale: 66.66666666666666%\n"
     ]
    },
    {
     "name": "stderr",
     "output_type": "stream",
     "text": [
      "C&W L_2: 100%|██████████| 1/1 [00:00<00:00,  1.00it/s]\n"
     ]
    },
    {
     "name": "stdout",
     "output_type": "stream",
     "text": [
      "Etichetta corretta: Ashley_Scott\n",
      "Predetto  Ashley_Scott con probabilità 13.896852493286133 e con perturbazione 0.0\n",
      "Adversarial Sample misclassificati correttamente attualmente: 0.0%\n",
      "Accuracy attuale: 75.0%\n"
     ]
    },
    {
     "name": "stderr",
     "output_type": "stream",
     "text": [
      "C&W L_2: 100%|██████████| 1/1 [00:00<00:00,  1.04it/s]\n"
     ]
    },
    {
     "name": "stdout",
     "output_type": "stream",
     "text": [
      "Etichetta corretta: Boris_Johnson\n",
      "Predetto  Boris_Johnson con probabilità 13.323941230773926 e con perturbazione 0.0\n",
      "Adversarial Sample misclassificati correttamente attualmente: 0.0%\n",
      "Accuracy attuale: 80.0%\n"
     ]
    },
    {
     "name": "stderr",
     "output_type": "stream",
     "text": [
      "C&W L_2: 100%|██████████| 1/1 [00:00<00:00,  1.19it/s]\n"
     ]
    },
    {
     "name": "stdout",
     "output_type": "stream",
     "text": [
      "Etichetta corretta: Brad_Pitt\n",
      "Predetto  Brad_Pitt con probabilità 13.206241607666016 e con perturbazione 0.0\n",
      "Adversarial Sample misclassificati correttamente attualmente: 0.0%\n",
      "Accuracy attuale: 83.33333333333334%\n"
     ]
    },
    {
     "name": "stderr",
     "output_type": "stream",
     "text": [
      "C&W L_2: 100%|██████████| 1/1 [00:00<00:00,  1.24it/s]\n"
     ]
    },
    {
     "name": "stdout",
     "output_type": "stream",
     "text": [
      "Etichetta corretta: Christian_De_Sica\n",
      "Predetto  Christian_De_Sica con probabilità 13.7531156539917 e con perturbazione 0.0\n",
      "Adversarial Sample misclassificati correttamente attualmente: 0.0%\n",
      "Accuracy attuale: 85.71428571428571%\n"
     ]
    },
    {
     "name": "stderr",
     "output_type": "stream",
     "text": [
      "C&W L_2: 100%|██████████| 1/1 [00:00<00:00,  1.21it/s]\n"
     ]
    },
    {
     "name": "stdout",
     "output_type": "stream",
     "text": [
      "Etichetta corretta: Christopher_Nolan\n",
      "Predetto  Christopher_Nolan con probabilità 12.074438095092773 e con perturbazione 0.0\n",
      "Adversarial Sample misclassificati correttamente attualmente: 0.0%\n",
      "Accuracy attuale: 87.5%\n"
     ]
    },
    {
     "name": "stderr",
     "output_type": "stream",
     "text": [
      "C&W L_2: 100%|██████████| 1/1 [00:00<00:00,  1.16it/s]\n"
     ]
    },
    {
     "name": "stdout",
     "output_type": "stream",
     "text": [
      "Etichetta corretta: Cristiano_Ronaldo\n",
      "Predetto  Cristiano_Ronaldo con probabilità 12.945646286010742 e con perturbazione 0.0\n",
      "Adversarial Sample misclassificati correttamente attualmente: 0.0%\n",
      "Accuracy attuale: 88.88888888888889%\n"
     ]
    },
    {
     "name": "stderr",
     "output_type": "stream",
     "text": [
      "C&W L_2: 100%|██████████| 1/1 [00:00<00:00,  1.18it/s]"
     ]
    },
    {
     "name": "stdout",
     "output_type": "stream",
     "text": [
      "Etichetta corretta: Diego_Maradona\n",
      "Predetto  Diego_Maradona con probabilità 12.622477531433105 e con perturbazione 0.0\n",
      "Adversarial Sample misclassificati correttamente attualmente: 0.0%\n",
      "Accuracy attuale: 90.0%\n",
      "----------- Perturbazione media aggiunta a tutte le immagini per learning: 0.01 equivale a 0.0% ----------------\n",
      "----------- Accuracy sugli adversarial Sample per learning: 0.01 equivale a 0.9% ----------------\n",
      "----------- Adversarial Sample misclassificati correttamente: 0.0% -----------\n",
      "----------- Perturbazione media con iterazione 1 sugli adversarial Sample: 0.0\\% ----------------\n",
      "----------- Accuracy media con iterazione 1 sugli adversarial Sample: 0.9\\% ----------------\n",
      "----------- Accuracy MISCLASSIFIED media con iterazione 1 sugli adversarial Sample: 0.0\\% ----------------\n",
      "--------------------------------------------------------------------------------------------------------------------------------------------------------------------\n"
     ]
    },
    {
     "name": "stderr",
     "output_type": "stream",
     "text": [
      "\n"
     ]
    }
   ],
   "source": [
    "dataset_dir = \"test_set_cropped_piccolo/\" \n",
    "binary_search_steps = 2\n",
    "confidence = 0.7\n",
    "max_iter = [1]\n",
    "learning_rate = [0.01]\n",
    "initial_const = 1000\n",
    "\n",
    "accuracy_misclassified_for_eps = []\n",
    "accuracy_misclassified_for_max_iter = []\n",
    "accuracy_for_eps = []\n",
    "accuracy_for_max_iter = []\n",
    "perturbation_for_eps = []\n",
    "perturbation_for_max_iter = []\n",
    "correct_misclassified = 0\n",
    "total_images = 0\n",
    "\n",
    "target_class = 10\n",
    "etichetta_target = LABELS[0]\n",
    "print(\"ETICHETTA TARGET: \", LABELS[10])\n",
    "\n",
    "targeted_labels = target_class*np.ones(LABELS.size)\n",
    "one_hot_targeted_labels = tf.keras.utils.to_categorical(targeted_labels, num_classes = 8631)\n",
    "test_images_adv = attack.generate(test_img, one_hot_targeted_labels)\n",
    "\n",
    "\n",
    "print(\"Inizio Attacco CARLINI-WAGNER TARGETED\")\n",
    "for i in range(len(max_iter)):\n",
    "        print(\"**** Attacco con max_iter {} **** \".format(max_iter[i]))\n",
    "        for learning in learning_rate:   #Se qualcosa funziona strano controllare questo zip\n",
    "            correct_predictions = 0\n",
    "            total_images = 0\n",
    "            perturbation = []\n",
    "            \n",
    "            attack = CarliniL2Method(classifier=classifier, binary_search_steps=binary_search_steps, confidence=confidence, max_iter=max_iter[i], learning_rate=learning, initial_const=initial_const, targeted=False)\n",
    "            \n",
    "            print(\"**** Attacco con learning rate = {} ****\".format(learning))\n",
    "            for filename in os.listdir(dataset_dir):\n",
    "                if filename.endswith(\".jpg\") or filename.endswith(\".jpeg\"):\n",
    "                    person_path = os.path.join(dataset_dir, filename)\n",
    "                    test_img = load_image(person_path)\n",
    "                    test_img = test_img.unsqueeze(0)\n",
    "                    test_img = test_img.numpy()\n",
    "                    test_images_adv = attack.generate(test_img, one_hot_targeted_labels)\n",
    "                    model_predictions = classifier.predict(test_images_adv)\n",
    "                    correct_label = re.sub(r'_\\d+_face_0\\.jpg$', '', filename)\n",
    "                    print(\"Etichetta corretta:\", correct_label)   \n",
    "                    perturbation.append(np.mean(np.abs((test_images_adv - test_img))))  \n",
    "                    predicted_label = LABELS[np.array(model_predictions[0].argmax())]\n",
    "                    print(\"Predetto {} con probabilità {} e con perturbazione {}\".format(predicted_label,model_predictions[0][model_predictions.argmax()],perturbation[-1]))\n",
    "                    total_images+=1\n",
    "                    \n",
    "                    predicted_label = str(predicted_label)\n",
    "\n",
    "                    if correct_label in predicted_label:\n",
    "                        correct_predictions+=1\n",
    "                        \n",
    "                    if etichetta_target in predicted_label:  \n",
    "                        correct_misclassified = correct_misclassified+1   #Se il modello predice l'etichetta target allora è correttamente misclassificato\n",
    "\n",
    "                    accuracy_misclassified = correct_misclassified/total_images\n",
    "                    print(\"Adversarial Sample misclassificati correttamente attualmente: {}%\".format((accuracy_misclassified)))\n",
    "                    print(\"Accuracy attuale: {}%\".format((correct_predictions/total_images)*100))\n",
    "            \n",
    "\n",
    "            if total_images != 0:    \n",
    "                if len(perturbation) == total_images:\n",
    "                    perturbazione_media = sum(perturbation)/total_images    \n",
    "                    perturbation_for_eps.append(perturbazione_media)\n",
    "                    print(\"----------- Perturbazione media aggiunta a tutte le immagini per learning: {} equivale a {}% ----------------\".format(learning,perturbazione_media))\n",
    "\n",
    "                final_accuracy = correct_predictions/total_images\n",
    "                accuracy_for_eps.append(final_accuracy)\n",
    "                print(\"----------- Accuracy sugli adversarial Sample per learning: {} equivale a {}% ----------------\".format(learning,final_accuracy))\n",
    "                \n",
    "                accuracy_misclassified = correct_misclassified/total_images\n",
    "                accuracy_misclassified_for_eps.append(accuracy_misclassified)\n",
    "                print(\"----------- Adversarial Sample misclassificati correttamente: {}% -----------\".format((accuracy_misclassified)))\n",
    "\n",
    "           \n",
    "        if True:#len(perturbation_for_eps) == len(eps_range):\n",
    "            perturbazione_media_per_max_iter = sum(perturbation_for_eps)/len(learning_rate) \n",
    "            perturbation_for_max_iter.append(perturbazione_media_per_max_iter)\n",
    "            print(\"----------- Perturbazione media con iterazione {} sugli adversarial Sample: {}\\% ----------------\".format(max_iter[i],perturbation_for_max_iter[i]))\n",
    "            perturbation_for_eps = []\n",
    "        if True:#len(accuracy_for_eps) == len(eps_range):\n",
    "            accuracy_media_per_max_iter = sum(accuracy_for_eps)/len(learning_rate) \n",
    "            accuracy_for_max_iter.append(accuracy_media_per_max_iter)\n",
    "            print(\"----------- Accuracy media con iterazione {} sugli adversarial Sample: {}\\% ----------------\".format(max_iter[i],accuracy_for_max_iter[i]))\n",
    "            accuracy_for_eps = []\n",
    "        if True:\n",
    "            accuracy__misclassified_media_per_max_iter = sum(accuracy_misclassified_for_eps)/len(learning_rate) \n",
    "            accuracy_misclassified_for_max_iter.append(accuracy__misclassified_media_per_max_iter)\n",
    "            print(\"----------- Accuracy MISCLASSIFIED media con iterazione {} sugli adversarial Sample: {}\\% ----------------\".format(max_iter[i],accuracy_misclassified_for_max_iter[i]))\n",
    "            accuracy_misclassified_for_eps = []\n",
    "\n",
    "\n",
    "        print(\"--------------------------------------------------------------------------------------------------------------------------------------------------------------------\")\n",
    "\n"
   ]
  }
 ],
 "metadata": {
  "kernelspec": {
   "display_name": "artoolbox",
   "language": "python",
   "name": "python3"
  },
  "language_info": {
   "codemirror_mode": {
    "name": "ipython",
    "version": 3
   },
   "file_extension": ".py",
   "mimetype": "text/x-python",
   "name": "python",
   "nbconvert_exporter": "python",
   "pygments_lexer": "ipython3",
   "version": "3.8.19"
  }
 },
 "nbformat": 4,
 "nbformat_minor": 2
}
