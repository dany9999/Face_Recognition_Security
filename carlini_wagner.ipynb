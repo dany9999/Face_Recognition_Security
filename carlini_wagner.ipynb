{
 "cells": [
  {
   "cell_type": "markdown",
   "metadata": {},
   "source": [
    "# CARLINI WAGNER #"
   ]
  },
  {
   "cell_type": "markdown",
   "metadata": {},
   "source": [
    "Ricordati di cambiare le cartelle del test set."
   ]
  },
  {
   "cell_type": "markdown",
   "metadata": {},
   "source": [
    "#### *Import* "
   ]
  },
  {
   "cell_type": "code",
   "execution_count": 4,
   "metadata": {},
   "outputs": [
    {
     "name": "stderr",
     "output_type": "stream",
     "text": [
      "c:\\Users\\cassd\\miniconda3\\envs\\ai4cyber\\lib\\site-packages\\tqdm\\auto.py:21: TqdmWarning: IProgress not found. Please update jupyter and ipywidgets. See https://ipywidgets.readthedocs.io/en/stable/user_install.html\n",
      "  from .autonotebook import tqdm as notebook_tqdm\n"
     ]
    }
   ],
   "source": [
    "import os\n",
    "import re\n",
    "import numpy as np\n",
    "from matplotlib import pyplot as plt\n",
    "from PIL import Image\n",
    "from torchvision import transforms\n",
    "import torch\n",
    "from torch.nn import CrossEntropyLoss\n",
    "import torch.nn as nn\n",
    "from art.estimators.classification import PyTorchClassifier\n",
    "import tensorflow as tf\n",
    "from matplotlib import pyplot as plt\n",
    "# Import all L-distance based attacks\n",
    "from art.attacks.evasion import CarliniL2Method, CarliniL0Method, CarliniLInfMethod\n",
    "from SENet import SENet\n",
    "from utils import get_labels\n",
    "from utils import load_state_dict\n",
    "from utils import load_image_NN1\n",
    "from utils import load_test_image_NN2\n",
    "\n",
    "device = torch.device('cuda' if torch.cuda.is_available() else 'cpu')\n",
    "device = str(device)"
   ]
  },
  {
   "cell_type": "code",
   "execution_count": 5,
   "metadata": {},
   "outputs": [
    {
     "name": "stdout",
     "output_type": "stream",
     "text": [
      "Import Inception.Inception\n"
     ]
    }
   ],
   "source": [
    "if device in 'cuda':\n",
    "    print(\"Import Inception.Inception\")\n",
    "    import inception\n",
    "    resnet = inception.InceptionResnetV1(pretrained='vggface2').eval()\n",
    "elif device == \"cpu\":\n",
    "    print(\"Import Facenet.Inception\")\n",
    "    from facenet_pytorch import InceptionResnetV1\n",
    "    resnet = InceptionResnetV1(pretrained='vggface2').eval()"
   ]
  },
  {
   "cell_type": "markdown",
   "metadata": {},
   "source": [
    "#### Inizializzazione"
   ]
  },
  {
   "cell_type": "code",
   "execution_count": 6,
   "metadata": {},
   "outputs": [],
   "source": [
    "# ----------------------------Resnet-----------------------\n",
    "resnet.classify = True\n",
    "resnet.to(device)\n",
    "fpath = tf.keras.utils.get_file('rcmalli_vggface_labels_v2.npy',\n",
    "                             \"https://github.com/rcmalli/keras-vggface/releases/download/v2.0/rcmalli_vggface_labels_v2.npy\",\n",
    "                             cache_subdir=\"./\")\n",
    "model_resnet = PyTorchClassifier(resnet,input_shape=[224,224], loss=CrossEntropyLoss(),nb_classes=8631, device_type=device) #This class implements a classifier with the PyTorch framework.\n",
    "\n",
    "# ---------------------Senet-----------------------------\n",
    "senet = SENet.senet50(num_classes=8631, include_top=True)\n",
    "load_state_dict(senet,'senet50_scratch_weight.pkl')\n",
    "senet.eval()\n",
    "senet.to(device)\n",
    "model_senet = PyTorchClassifier(senet,input_shape=[224,224], loss=CrossEntropyLoss(),nb_classes=8631, device_type=device)\n",
    "\n",
    "\n",
    "#--------------------------------------------------------\n",
    "LABELS = get_labels()\n",
    "\n",
    "def load_image(filename):\n",
    "    img = Image.open(filename)\n",
    "    rsz = img.resize((160, 160))\n",
    "    tns = transforms.ToTensor()(rsz)\n",
    "    tns.to(device)\n",
    "    return tns\n"
   ]
  },
  {
   "cell_type": "markdown",
   "metadata": {},
   "source": [
    "#### SIGNIFICATO PARAMETRI \n"
   ]
  },
  {
   "cell_type": "markdown",
   "metadata": {},
   "source": [
    "Il metodo Carlini and Wagner L_0 Attack è un attacco iterativo che mira a trovare un esempio avversario minimizzando il numero di caratteristiche modificate (norma L_0). Ecco una spiegazione dettagliata del metodo e dei suoi parametri:\n",
    "\n",
    "Metodo Carlini and Wagner L_0 Attack\n",
    "Parametri del Metodo __init__\n",
    "\n",
    "classifier (CLASSIFIER_CLASS_LOSS_GRADIENTS_TYPE):\n",
    "Un classificatore addestrato che implementa i metodi per calcolare le perdite e i gradienti delle perdite rispetto agli input.\n",
    "\n",
    "confidence (float = 0.0):\n",
    "La fiducia degli esempi avversari: un valore più alto produce esempi che sono più lontani dall'input originale ma classificati con maggiore fiducia come la classe target. Questo parametro bilancia la necessità di modificare l'input originale con la certezza che l'output sia nella classe avversaria desiderata.\n",
    "\n",
    "targeted (bool = False):\n",
    "Indica se l'attacco è mirato a una specifica classe (True) o meno (False). In un attacco mirato, l'obiettivo è far classificare l'input avversario come una classe specifica scelta dall'attaccante. In un attacco non mirato, l'obiettivo è semplicemente far classificare l'input in una classe diversa da quella corretta.\n",
    "\n",
    "learning_rate (float = 0.01):\n",
    "Il tasso di apprendimento iniziale per l'algoritmo di attacco. Valori più piccoli producono risultati migliori ma convergono più lentamente.\n",
    "\n",
    "binary_search_steps (int = 10):\n",
    "Numero di volte in cui regolare la costante con la ricerca binaria (valore positivo). Se binary_search_steps è grande, l'algoritmo non è molto sensibile al valore di initial_const. Questo parametro controlla quante volte la costante di trade-off viene aggiustata per trovare il miglior equilibrio tra la distanza e la fiducia.\n",
    "\n",
    "max_iter (int = 10):\n",
    "Il numero massimo di iterazioni per l'attacco.\n",
    "\n",
    "initial_const (float = 0.01):\n",
    "La costante di trade-off iniziale c per regolare l'importanza relativa tra la distanza e la fiducia. Se binary_search_steps è grande, il valore iniziale di questa costante non è critico.\n",
    "\n",
    "mask (ndarray | None = None):\n",
    "Le caratteristiche iniziali che possono essere modificate dall'algoritmo. Se non specificato, l'algoritmo utilizza l'intero set di caratteristiche. Questo parametro può essere utilizzato per limitare l'attacco a modificare solo determinate parti dell'input.\n",
    "\n",
    "warm_start (bool = True):\n",
    "Invece di iniziare la discesa del gradiente in ogni iterazione dall'immagine iniziale, si inizia la discesa del gradiente dalla soluzione trovata nell'iterazione precedente. Questo parametro può accelerare la convergenza.\n",
    "\n",
    "max_halving (int = 5):\n",
    "Numero massimo di passi di dimezzamento nella ricerca lineare di ottimizzazione. Questo parametro controlla quante volte la dimensione del passo viene dimezzata durante la ricerca di un passo ottimale.\n",
    "\n",
    "max_doubling (int = 5):\n",
    "Numero massimo di passi di raddoppiamento nella ricerca lineare di ottimizzazione. Questo parametro controlla quante volte la dimensione del passo viene raddoppiata durante la ricerca di un passo ottimale.\n",
    "batch_size (int = 1):\n",
    "\n",
    "La dimensione del batch su cui vengono generati i campioni avversari. Questo parametro determina quanti campioni vengono processati contemporaneamente durante l'attacco.\n",
    "\n",
    "verbose (bool = True):\n",
    "Mostra barre di avanzamento. Se impostato su True, verranno visualizzati i progressi dell'attacco durante l'esecuzione."
   ]
  },
  {
   "cell_type": "markdown",
   "metadata": {},
   "source": [
    "### *Attacco* **NON TARGETED**"
   ]
  },
  {
   "cell_type": "code",
   "execution_count": 27,
   "metadata": {},
   "outputs": [
    {
     "name": "stdout",
     "output_type": "stream",
     "text": [
      "Inizio Attacco CARLINI-WAGNER NON-TARGETED\n",
      "<---> Attacco con learning rate = 0.1 e initial cost = 1 <--->\n"
     ]
    },
    {
     "name": "stderr",
     "output_type": "stream",
     "text": [
      "C&W L_2: 100%|██████████| 1/1 [00:01<00:00,  1.33s/it]\n",
      "C&W L_2: 100%|██████████| 1/1 [00:01<00:00,  1.14s/it]\n",
      "C&W L_2: 100%|██████████| 1/1 [00:00<00:00,  1.16it/s]\n",
      "C&W L_2: 100%|██████████| 1/1 [00:00<00:00,  1.09it/s]\n",
      "C&W L_2: 100%|██████████| 1/1 [00:01<00:00,  1.26s/it]\n",
      "C&W L_2: 100%|██████████| 1/1 [00:01<00:00,  1.91s/it]\n",
      "C&W L_2: 100%|██████████| 1/1 [00:01<00:00,  1.32s/it]\n",
      "C&W L_2: 100%|██████████| 1/1 [00:00<00:00,  1.08it/s]\n",
      "C&W L_2: 100%|██████████| 1/1 [00:00<00:00,  1.01it/s]\n",
      "C&W L_2: 100%|██████████| 1/1 [00:00<00:00,  1.10it/s]\n"
     ]
    },
    {
     "name": "stdout",
     "output_type": "stream",
     "text": [
      "<---> Attacco con learning rate = 0.2 e initial cost = 1 <--->\n"
     ]
    },
    {
     "name": "stderr",
     "output_type": "stream",
     "text": [
      "C&W L_2: 100%|██████████| 1/1 [00:00<00:00,  1.01it/s]\n",
      "C&W L_2: 100%|██████████| 1/1 [00:00<00:00,  1.22it/s]\n",
      "C&W L_2: 100%|██████████| 1/1 [00:00<00:00,  1.24it/s]\n",
      "C&W L_2: 100%|██████████| 1/1 [00:00<00:00,  1.25it/s]\n",
      "C&W L_2: 100%|██████████| 1/1 [00:00<00:00,  1.03it/s]\n",
      "C&W L_2: 100%|██████████| 1/1 [00:00<00:00,  1.02it/s]\n",
      "C&W L_2: 100%|██████████| 1/1 [00:00<00:00,  1.20it/s]\n",
      "C&W L_2: 100%|██████████| 1/1 [00:01<00:00,  1.10s/it]\n",
      "C&W L_2: 100%|██████████| 1/1 [00:00<00:00,  1.19it/s]\n",
      "C&W L_2: 100%|██████████| 1/1 [00:00<00:00,  1.10it/s]\n"
     ]
    },
    {
     "name": "stdout",
     "output_type": "stream",
     "text": [
      "<---> Attacco con learning rate = 0.5 e initial cost = 1 <--->\n"
     ]
    },
    {
     "name": "stderr",
     "output_type": "stream",
     "text": [
      "C&W L_2: 100%|██████████| 1/1 [00:00<00:00,  1.19it/s]\n",
      "C&W L_2: 100%|██████████| 1/1 [00:00<00:00,  1.31it/s]\n",
      "C&W L_2: 100%|██████████| 1/1 [00:00<00:00,  1.35it/s]\n",
      "C&W L_2: 100%|██████████| 1/1 [00:00<00:00,  1.30it/s]\n",
      "C&W L_2: 100%|██████████| 1/1 [00:00<00:00,  1.26it/s]\n",
      "C&W L_2: 100%|██████████| 1/1 [00:00<00:00,  1.17it/s]\n",
      "C&W L_2: 100%|██████████| 1/1 [00:00<00:00,  1.17it/s]\n",
      "C&W L_2: 100%|██████████| 1/1 [00:00<00:00,  1.24it/s]\n",
      "C&W L_2: 100%|██████████| 1/1 [00:00<00:00,  1.25it/s]\n",
      "C&W L_2: 100%|██████████| 1/1 [00:00<00:00,  1.25it/s]\n"
     ]
    },
    {
     "name": "stdout",
     "output_type": "stream",
     "text": [
      "<---> Attacco con learning rate = 0.7 e initial cost = 1 <--->\n"
     ]
    },
    {
     "name": "stderr",
     "output_type": "stream",
     "text": [
      "C&W L_2: 100%|██████████| 1/1 [00:00<00:00,  1.07it/s]\n",
      "C&W L_2: 100%|██████████| 1/1 [00:00<00:00,  1.21it/s]\n",
      "C&W L_2: 100%|██████████| 1/1 [00:00<00:00,  1.29it/s]\n",
      "C&W L_2: 100%|██████████| 1/1 [00:00<00:00,  1.25it/s]\n",
      "C&W L_2: 100%|██████████| 1/1 [00:00<00:00,  1.26it/s]\n",
      "C&W L_2: 100%|██████████| 1/1 [00:00<00:00,  1.22it/s]\n",
      "C&W L_2: 100%|██████████| 1/1 [00:00<00:00,  1.22it/s]\n",
      "C&W L_2: 100%|██████████| 1/1 [00:00<00:00,  1.26it/s]\n",
      "C&W L_2: 100%|██████████| 1/1 [00:00<00:00,  1.24it/s]\n",
      "C&W L_2: 100%|██████████| 1/1 [00:00<00:00,  1.21it/s]\n"
     ]
    },
    {
     "name": "stdout",
     "output_type": "stream",
     "text": [
      "<---> Attacco con learning rate = 0.9 e initial cost = 1 <--->\n"
     ]
    },
    {
     "name": "stderr",
     "output_type": "stream",
     "text": [
      "C&W L_2: 100%|██████████| 1/1 [00:00<00:00,  1.23it/s]\n",
      "C&W L_2: 100%|██████████| 1/1 [00:00<00:00,  1.13it/s]\n",
      "C&W L_2: 100%|██████████| 1/1 [00:00<00:00,  1.18it/s]\n",
      "C&W L_2: 100%|██████████| 1/1 [00:00<00:00,  1.31it/s]\n",
      "C&W L_2: 100%|██████████| 1/1 [00:00<00:00,  1.28it/s]\n",
      "C&W L_2: 100%|██████████| 1/1 [00:00<00:00,  1.32it/s]\n",
      "C&W L_2: 100%|██████████| 1/1 [00:00<00:00,  1.30it/s]\n",
      "C&W L_2: 100%|██████████| 1/1 [00:00<00:00,  1.29it/s]\n",
      "C&W L_2: 100%|██████████| 1/1 [00:00<00:00,  1.04it/s]\n",
      "C&W L_2: 100%|██████████| 1/1 [00:00<00:00,  1.15it/s]\n"
     ]
    },
    {
     "name": "stdout",
     "output_type": "stream",
     "text": [
      "--------------------------------------------------------------------------------------------------------------------------------------------------------------------lllllllllllllllllll\n",
      "\n",
      "<---> Attacco con learning rate = 0.1 e initial cost = 300 <--->\n"
     ]
    },
    {
     "name": "stderr",
     "output_type": "stream",
     "text": [
      "C&W L_2: 100%|██████████| 1/1 [00:00<00:00,  1.23it/s]\n",
      "C&W L_2: 100%|██████████| 1/1 [00:00<00:00,  1.12it/s]\n",
      "C&W L_2: 100%|██████████| 1/1 [00:00<00:00,  1.07it/s]\n",
      "C&W L_2: 100%|██████████| 1/1 [00:00<00:00,  1.12it/s]\n",
      "C&W L_2: 100%|██████████| 1/1 [00:00<00:00,  1.29it/s]\n",
      "C&W L_2: 100%|██████████| 1/1 [00:00<00:00,  1.26it/s]\n",
      "C&W L_2: 100%|██████████| 1/1 [00:00<00:00,  1.30it/s]\n",
      "C&W L_2: 100%|██████████| 1/1 [00:00<00:00,  1.28it/s]\n",
      "C&W L_2: 100%|██████████| 1/1 [00:00<00:00,  1.24it/s]\n",
      "C&W L_2: 100%|██████████| 1/1 [00:00<00:00,  1.09it/s]\n"
     ]
    },
    {
     "name": "stdout",
     "output_type": "stream",
     "text": [
      "<---> Attacco con learning rate = 0.2 e initial cost = 300 <--->\n"
     ]
    },
    {
     "name": "stderr",
     "output_type": "stream",
     "text": [
      "C&W L_2: 100%|██████████| 1/1 [00:00<00:00,  1.19it/s]\n",
      "C&W L_2: 100%|██████████| 1/1 [00:00<00:00,  1.02it/s]\n",
      "C&W L_2: 100%|██████████| 1/1 [00:00<00:00,  1.01it/s]\n",
      "C&W L_2: 100%|██████████| 1/1 [00:00<00:00,  1.12it/s]\n",
      "C&W L_2: 100%|██████████| 1/1 [00:00<00:00,  1.26it/s]\n",
      "C&W L_2: 100%|██████████| 1/1 [00:00<00:00,  1.21it/s]\n",
      "C&W L_2: 100%|██████████| 1/1 [00:00<00:00,  1.29it/s]\n",
      "C&W L_2: 100%|██████████| 1/1 [00:00<00:00,  1.13it/s]\n",
      "C&W L_2: 100%|██████████| 1/1 [00:00<00:00,  1.10it/s]\n",
      "C&W L_2: 100%|██████████| 1/1 [00:01<00:00,  1.03s/it]\n"
     ]
    },
    {
     "name": "stdout",
     "output_type": "stream",
     "text": [
      "<---> Attacco con learning rate = 0.5 e initial cost = 300 <--->\n"
     ]
    },
    {
     "name": "stderr",
     "output_type": "stream",
     "text": [
      "C&W L_2: 100%|██████████| 1/1 [00:00<00:00,  1.11it/s]\n",
      "C&W L_2: 100%|██████████| 1/1 [00:01<00:00,  1.13s/it]\n",
      "C&W L_2: 100%|██████████| 1/1 [00:01<00:00,  1.01s/it]\n",
      "C&W L_2: 100%|██████████| 1/1 [00:00<00:00,  1.01it/s]\n",
      "C&W L_2: 100%|██████████| 1/1 [00:00<00:00,  1.08it/s]\n",
      "C&W L_2: 100%|██████████| 1/1 [00:00<00:00,  1.04it/s]\n",
      "C&W L_2: 100%|██████████| 1/1 [00:00<00:00,  1.10it/s]\n",
      "C&W L_2: 100%|██████████| 1/1 [00:00<00:00,  1.04it/s]\n",
      "C&W L_2: 100%|██████████| 1/1 [00:01<00:00,  1.04s/it]\n",
      "C&W L_2: 100%|██████████| 1/1 [00:00<00:00,  1.03it/s]\n"
     ]
    },
    {
     "name": "stdout",
     "output_type": "stream",
     "text": [
      "<---> Attacco con learning rate = 0.7 e initial cost = 300 <--->\n"
     ]
    },
    {
     "name": "stderr",
     "output_type": "stream",
     "text": [
      "C&W L_2: 100%|██████████| 1/1 [00:01<00:00,  1.02s/it]\n",
      "C&W L_2: 100%|██████████| 1/1 [00:00<00:00,  1.02it/s]\n",
      "C&W L_2: 100%|██████████| 1/1 [00:01<00:00,  1.07s/it]\n",
      "C&W L_2: 100%|██████████| 1/1 [00:01<00:00,  1.08s/it]\n",
      "C&W L_2: 100%|██████████| 1/1 [00:00<00:00,  1.01it/s]\n",
      "C&W L_2: 100%|██████████| 1/1 [00:00<00:00,  1.04it/s]\n",
      "C&W L_2: 100%|██████████| 1/1 [00:00<00:00,  1.00it/s]\n",
      "C&W L_2: 100%|██████████| 1/1 [00:01<00:00,  1.07s/it]\n",
      "C&W L_2: 100%|██████████| 1/1 [00:01<00:00,  1.10s/it]\n",
      "C&W L_2: 100%|██████████| 1/1 [00:01<00:00,  1.01s/it]\n"
     ]
    },
    {
     "name": "stdout",
     "output_type": "stream",
     "text": [
      "<---> Attacco con learning rate = 0.9 e initial cost = 300 <--->\n"
     ]
    },
    {
     "name": "stderr",
     "output_type": "stream",
     "text": [
      "C&W L_2: 100%|██████████| 1/1 [00:01<00:00,  1.02s/it]\n",
      "C&W L_2: 100%|██████████| 1/1 [00:01<00:00,  1.06s/it]\n",
      "C&W L_2: 100%|██████████| 1/1 [00:01<00:00,  1.00s/it]\n",
      "C&W L_2: 100%|██████████| 1/1 [00:01<00:00,  1.15s/it]\n",
      "C&W L_2: 100%|██████████| 1/1 [00:01<00:00,  1.09s/it]\n",
      "C&W L_2: 100%|██████████| 1/1 [00:01<00:00,  1.05s/it]\n",
      "C&W L_2: 100%|██████████| 1/1 [00:01<00:00,  1.00s/it]\n",
      "C&W L_2: 100%|██████████| 1/1 [00:01<00:00,  1.14s/it]\n",
      "C&W L_2: 100%|██████████| 1/1 [00:01<00:00,  1.08s/it]\n",
      "C&W L_2: 100%|██████████| 1/1 [00:01<00:00,  1.01s/it]"
     ]
    },
    {
     "name": "stdout",
     "output_type": "stream",
     "text": [
      "--------------------------------------------------------------------------------------------------------------------------------------------------------------------lllllllllllllllllll\n",
      "\n"
     ]
    },
    {
     "name": "stderr",
     "output_type": "stream",
     "text": [
      "\n"
     ]
    }
   ],
   "source": [
    "dataset_dir = \"test_set_cropped_piccolo/\" \n",
    "binary_search_steps = 2\n",
    "confidence = 0.8\n",
    "max_iter = [1]\n",
    "learning_rate = [0.1,0.2,0.5,0.7,0.9]\n",
    "initial_const = [1,300]\n",
    "\n",
    "\n",
    "correct_predictions_resnet = 0\n",
    "accuracy_for_learning_rate_resnet = np.zeros((len(initial_const),len(learning_rate)))        #riga\n",
    "perturbation_for_learning_rate_resnet = np.zeros((len(initial_const),len(learning_rate)))\n",
    "\n",
    "correct_predictions_senet = 0\n",
    "accuracy_for_learning_rate_senet = np.zeros((len(initial_const),len(learning_rate)))        #riga\n",
    "#perturbation_for_learning_rate_senet = np.zeros((len(initial_const),len(learning_rate)))\n",
    "\n",
    "total_images = 0\n",
    "print(\"Inizio Attacco CARLINI-WAGNER NON-TARGETED\")\n",
    "\n",
    "for i in range(len(initial_const)):\n",
    "        for j in range(len(learning_rate)):   #Se qualcosa funziona strano controllare questo zip\n",
    "            correct_predictions_resnet = 0\n",
    "            correct_predictions_senet = 0\n",
    "            total_images = 0\n",
    "            perturbation = []\n",
    "            \n",
    "            attack = CarliniL2Method(classifier=model_resnet, binary_search_steps=binary_search_steps, confidence=confidence, max_iter=max_iter[0], learning_rate=learning_rate[j], initial_const=initial_const[i], targeted=False)\n",
    "            \n",
    "            print(\"<---> Attacco con learning rate = {} e initial cost = {} <--->\".format(learning_rate[j],initial_const[i]))\n",
    "            for filename in os.listdir(dataset_dir):\n",
    "                if filename.endswith(\".jpg\") or filename.endswith(\".jpeg\"):\n",
    "                    person_path = os.path.join(dataset_dir, filename)\n",
    "                    test_img = load_image_NN1(person_path,device)\n",
    "                    test_img = test_img.numpy()\n",
    "                    \n",
    "                    test_images_adv = attack.generate(test_img)\n",
    "                    resnet_predictions = model_resnet.predict(test_images_adv)\n",
    "\n",
    "                    test_images_NN2 = load_test_image_NN2(test_images_adv)\n",
    "                    senet_predictions = model_senet.predict(test_images_NN2)\n",
    "\n",
    "                    correct_label = re.sub(r'_\\d+_face_0\\.jpg$', '', filename)\n",
    "                    #print(\"Etichetta corretta:\", correct_label)   \n",
    "                    perturbation.append(np.mean(np.abs((test_images_adv - test_img))))  #Salvo le perturbazioni applicate su ogni immagine\n",
    "            \n",
    "                    predicted_label_resnet = LABELS[np.array(resnet_predictions.argmax())]\n",
    "                    predicted_label_senet = LABELS[np.array(senet_predictions.argmax())]\n",
    "                    #print(\"Predetto {} con probabilità {} e con perturbazione {}\".format(predicted_label,model_predictions[0][model_predictions.argmax()],perturbation[-1]))\n",
    "                    total_images+=1\n",
    "                    \n",
    "                    predicted_label_resnet = str(predicted_label_resnet)  # da togliere ?\n",
    "                    predicted_label_senet = str(predicted_label_senet)\n",
    "                    \n",
    "                    if correct_label in predicted_label_resnet:\n",
    "                        correct_predictions_resnet+=1\n",
    "\n",
    "                    #print(\"Adversarial Sample misclassificati correttamente attuale: {}%\".format((100-(accuracy*100))))\n",
    "                    accuracy_resnet = correct_predictions_resnet/total_images\n",
    "\n",
    "                    if correct_label in predicted_label_senet:\n",
    "                        correct_predictions_senet+=1\n",
    "\n",
    "                    accuracy_senet = correct_predictions_senet/total_images\n",
    "\n",
    "\n",
    "                    if total_images == 500:\n",
    "                        print(\"Sei a 500 Immagini initial_cost:{} | learning_rate:{}\".format(initial_const[i], learning_rate[i]))\n",
    "\n",
    "            if total_images != 0:    \n",
    "                if len(perturbation) == total_images:\n",
    "                    perturbazione_media = sum(perturbation)/total_images   # In media quanta pertubazione è stata applicata su ogni immagine \n",
    "                    perturbation_for_learning_rate_resnet[i][j] = perturbazione_media \n",
    "                    #print(\"----------- Perturbazione media aggiunta a tutte le immagini ---> {}% ----------------\".format(learning,perturbazione_media))\n",
    "                    \n",
    "                      \n",
    "                final_accuracy_resnet = correct_predictions_resnet/total_images          # Accuracy su tutte le immagini\n",
    "                accuracy_for_learning_rate_resnet[i][j] = final_accuracy_resnet\n",
    "                #print(\"----------- Accuracy sugli adversarial Sample equivale a ---> {}% ----------------\".format(learning,final_accuracy))\n",
    "                final_accuracy_senet = correct_predictions_senet/total_images\n",
    "                accuracy_for_learning_rate_senet[i][j] = final_accuracy_senet\n",
    "            else:\n",
    "                print(\"ERRORE TOTAL IMAGE == 0 ERRORE\")\n",
    "                    \n",
    "        learning_contatore = 0\n",
    "        print(\"--------------------------------------------------------------------------------------------------------------------------------------------------------------------lllllllllllllllllll\")\n",
    "        print(\"\")"
   ]
  },
  {
   "cell_type": "code",
   "execution_count": 29,
   "metadata": {},
   "outputs": [
    {
     "name": "stdout",
     "output_type": "stream",
     "text": [
      "[0.  0.  0.2 0.2 0.3]\n",
      "[0.  0.  0.1 0.1 0.2]\n",
      "[0.00116675 0.0013991  0.00194145 0.00163508 0.00202984]\n"
     ]
    }
   ],
   "source": [
    "#matrice righe = iterazione, colonne = learning rate\n",
    "print(accuracy_for_learning_rate_resnet[1])\n",
    "print(accuracy_for_learning_rate_senet[1])\n",
    "print(perturbation_for_learning_rate_resnet[0])"
   ]
  },
  {
   "cell_type": "code",
   "execution_count": null,
   "metadata": {},
   "outputs": [],
   "source": [
    "\n",
    "# plot accuracy/Attack strength\n",
    "\n",
    "fig, ax = plt.subplots()\n",
    "ax.plot(learning_rate, perturbation_for_learning_rate[0], 'b-', label='Perturbazione')\n",
    "ax.plot(learning_rate, accuracy_for_learning_rate[0], 'r-', label='Accuracy')\n",
    "#ax.plot(np.array(learning_rate), np.array(perturbation_for_learning_rate[1]), 'r-', label='max_iter == 2')\n",
    "#ax.plot(np.array(learning_rate), np.array(perturbation_for_learning_rate[2]), 'g-.', label='max_iter == 4')\n",
    "\n",
    "legend = ax.legend(loc='upper center', shadow=True, fontsize='large')\n",
    "legend.get_frame().set_facecolor('#00FFCC')\n",
    "\n",
    "plt.ylabel('Perturbation')\n",
    "plt.xlabel('Learning Rate')\n",
    "\n",
    "\n",
    "\n",
    "plt.tight_layout()\n",
    "\n",
    "plt.show()"
   ]
  },
  {
   "cell_type": "markdown",
   "metadata": {},
   "source": [
    "#### Grafico Accuracy media a ogni iterazione"
   ]
  },
  {
   "cell_type": "code",
   "execution_count": null,
   "metadata": {},
   "outputs": [],
   "source": [
    "\n",
    "\n",
    "# plot accuracy/Attack strength\n",
    "\n",
    "fig, ax = plt.subplots()\n",
    "ax.plot(learning_rate, np.array(accuracy_for_learning_rate[0]), 'b--', label='initial cost == 1')\n",
    "ax.plot(learning_rate, np.array(accuracy_for_learning_rate[1]), 'r-', label='initial cost == 300')\n",
    "ax.plot(learning_rate, np.array(accuracy_for_learning_rate[2]), 'g-', label='initial cost == 700')\n",
    "\n",
    "legend = ax.legend(loc='upper center', shadow=True, fontsize='large')\n",
    "legend.get_frame().set_facecolor('#00FFCC')\n",
    "\n",
    "plt.ylabel('Accuracy')\n",
    "plt.xlabel('Learning Rate')\n",
    "\n",
    "\n",
    "plt.show()"
   ]
  },
  {
   "cell_type": "markdown",
   "metadata": {},
   "source": [
    "#### Grafico Accuracy media/Perturbazione media\n",
    "\n"
   ]
  },
  {
   "cell_type": "code",
   "execution_count": null,
   "metadata": {},
   "outputs": [],
   "source": [
    "fig, ax = plt.subplots()\n",
    "ax.plot(np.array(accuracy_for_max_iter), np.array(perturbation_for_max_iter), 'b--', label='NN1')\n",
    "\n",
    "legend = ax.legend(loc='upper center', shadow=True, fontsize='large')\n",
    "legend.get_frame().set_facecolor('#00FFCC')\n",
    "\n",
    "plt.xlabel('Attack strength (eps)')\n",
    "plt.ylabel('Accuracy')\n",
    "plt.show()"
   ]
  },
  {
   "cell_type": "markdown",
   "metadata": {},
   "source": [
    "### *Attacco* **TARGETED**"
   ]
  },
  {
   "cell_type": "code",
   "execution_count": 15,
   "metadata": {},
   "outputs": [
    {
     "name": "stdout",
     "output_type": "stream",
     "text": [
      "ETICHETTA TARGET:   Aaron_Hernandez\n",
      "Inizio Attacco CARLINI-WAGNER TARGETED\n",
      "<---> Attacco con max_iter = 2| learning rate = 0.3 | initial cost = 300 <--->\n"
     ]
    },
    {
     "name": "stderr",
     "output_type": "stream",
     "text": [
      "C&W L_2: 100%|██████████| 1/1 [00:04<00:00,  4.66s/it]\n"
     ]
    },
    {
     "name": "stdout",
     "output_type": "stream",
     "text": [
      "Etichetta Corretta: Andrea_Pirlo | Predetto:  Andrea_Pirlo  probabilità 12.725250244140625 perturbazione applicata 0.0\n"
     ]
    },
    {
     "name": "stderr",
     "output_type": "stream",
     "text": [
      "C&W L_2: 100%|██████████| 1/1 [00:03<00:00,  3.27s/it]\n"
     ]
    },
    {
     "name": "stdout",
     "output_type": "stream",
     "text": [
      "Etichetta Corretta: Antonio_Cassano | Predetto:  Branch_Warren  probabilità 10.506441116333008 perturbazione applicata 0.0\n"
     ]
    },
    {
     "name": "stderr",
     "output_type": "stream",
     "text": [
      "C&W L_2: 100%|██████████| 1/1 [00:02<00:00,  2.74s/it]\n"
     ]
    },
    {
     "name": "stdout",
     "output_type": "stream",
     "text": [
      "Etichetta Corretta: Ariana_Grande | Predetto:  Ariana_Grande  probabilità 11.170966148376465 perturbazione applicata 0.0\n"
     ]
    },
    {
     "name": "stderr",
     "output_type": "stream",
     "text": [
      "C&W L_2: 100%|██████████| 1/1 [00:02<00:00,  2.40s/it]\n"
     ]
    },
    {
     "name": "stdout",
     "output_type": "stream",
     "text": [
      "Etichetta Corretta: Ashley_Scott | Predetto:  Ashley_Scott  probabilità 13.896852493286133 perturbazione applicata 0.0\n"
     ]
    },
    {
     "name": "stderr",
     "output_type": "stream",
     "text": [
      "C&W L_2: 100%|██████████| 1/1 [00:02<00:00,  2.34s/it]\n"
     ]
    },
    {
     "name": "stdout",
     "output_type": "stream",
     "text": [
      "Etichetta Corretta: Boris_Johnson | Predetto:  Boris_Johnson  probabilità 13.323941230773926 perturbazione applicata 0.0\n"
     ]
    },
    {
     "name": "stderr",
     "output_type": "stream",
     "text": [
      "C&W L_2: 100%|██████████| 1/1 [00:02<00:00,  2.75s/it]\n"
     ]
    },
    {
     "name": "stdout",
     "output_type": "stream",
     "text": [
      "Etichetta Corretta: Brad_Pitt | Predetto:  Brad_Pitt  probabilità 13.206241607666016 perturbazione applicata 0.0\n"
     ]
    },
    {
     "name": "stderr",
     "output_type": "stream",
     "text": [
      "C&W L_2: 100%|██████████| 1/1 [00:02<00:00,  2.38s/it]\n"
     ]
    },
    {
     "name": "stdout",
     "output_type": "stream",
     "text": [
      "Etichetta Corretta: Christian_De_Sica | Predetto:  Christian_De_Sica  probabilità 13.7531156539917 perturbazione applicata 0.0\n"
     ]
    },
    {
     "name": "stderr",
     "output_type": "stream",
     "text": [
      "C&W L_2: 100%|██████████| 1/1 [00:02<00:00,  2.70s/it]\n"
     ]
    },
    {
     "name": "stdout",
     "output_type": "stream",
     "text": [
      "Etichetta Corretta: Christopher_Nolan | Predetto:  Christopher_Nolan  probabilità 12.074438095092773 perturbazione applicata 0.0\n"
     ]
    },
    {
     "name": "stderr",
     "output_type": "stream",
     "text": [
      "C&W L_2: 100%|██████████| 1/1 [00:03<00:00,  3.65s/it]\n"
     ]
    },
    {
     "name": "stdout",
     "output_type": "stream",
     "text": [
      "Etichetta Corretta: Cristiano_Ronaldo | Predetto:  Cristiano_Ronaldo  probabilità 12.945646286010742 perturbazione applicata 0.0\n"
     ]
    },
    {
     "name": "stderr",
     "output_type": "stream",
     "text": [
      "C&W L_2: 100%|██████████| 1/1 [00:03<00:00,  3.14s/it]\n"
     ]
    },
    {
     "name": "stdout",
     "output_type": "stream",
     "text": [
      "Etichetta Corretta: Diego_Maradona | Predetto:  Diego_Maradona  probabilità 12.622477531433105 perturbazione applicata 0.0\n",
      "<---> Attacco con max_iter = 2| learning rate = 0.5 | initial cost = 300 <--->\n"
     ]
    },
    {
     "name": "stderr",
     "output_type": "stream",
     "text": [
      "C&W L_2: 100%|██████████| 1/1 [00:04<00:00,  4.19s/it]\n"
     ]
    },
    {
     "name": "stdout",
     "output_type": "stream",
     "text": [
      "Etichetta Corretta: Andrea_Pirlo | Predetto:  Andrea_Pirlo  probabilità 12.725250244140625 perturbazione applicata 0.0\n"
     ]
    },
    {
     "name": "stderr",
     "output_type": "stream",
     "text": [
      "C&W L_2: 100%|██████████| 1/1 [00:03<00:00,  3.89s/it]\n"
     ]
    },
    {
     "name": "stdout",
     "output_type": "stream",
     "text": [
      "Etichetta Corretta: Antonio_Cassano | Predetto:  Branch_Warren  probabilità 10.506441116333008 perturbazione applicata 0.0\n"
     ]
    },
    {
     "name": "stderr",
     "output_type": "stream",
     "text": [
      "C&W L_2: 100%|██████████| 1/1 [00:03<00:00,  3.92s/it]\n"
     ]
    },
    {
     "name": "stdout",
     "output_type": "stream",
     "text": [
      "Etichetta Corretta: Ariana_Grande | Predetto:  Ariana_Grande  probabilità 11.170966148376465 perturbazione applicata 0.0\n"
     ]
    },
    {
     "name": "stderr",
     "output_type": "stream",
     "text": [
      "C&W L_2: 100%|██████████| 1/1 [00:03<00:00,  3.16s/it]\n"
     ]
    },
    {
     "name": "stdout",
     "output_type": "stream",
     "text": [
      "Etichetta Corretta: Ashley_Scott | Predetto:  Ashley_Scott  probabilità 13.896852493286133 perturbazione applicata 0.0\n"
     ]
    },
    {
     "name": "stderr",
     "output_type": "stream",
     "text": [
      "C&W L_2: 100%|██████████| 1/1 [00:02<00:00,  2.75s/it]\n"
     ]
    },
    {
     "name": "stdout",
     "output_type": "stream",
     "text": [
      "Etichetta Corretta: Boris_Johnson | Predetto:  Boris_Johnson  probabilità 13.323941230773926 perturbazione applicata 0.0\n"
     ]
    },
    {
     "name": "stderr",
     "output_type": "stream",
     "text": [
      "C&W L_2: 100%|██████████| 1/1 [00:02<00:00,  2.68s/it]\n"
     ]
    },
    {
     "name": "stdout",
     "output_type": "stream",
     "text": [
      "Etichetta Corretta: Brad_Pitt | Predetto:  Brad_Pitt  probabilità 13.206241607666016 perturbazione applicata 0.0\n"
     ]
    },
    {
     "name": "stderr",
     "output_type": "stream",
     "text": [
      "C&W L_2: 100%|██████████| 1/1 [00:03<00:00,  3.20s/it]\n"
     ]
    },
    {
     "name": "stdout",
     "output_type": "stream",
     "text": [
      "Etichetta Corretta: Christian_De_Sica | Predetto:  Christian_De_Sica  probabilità 13.7531156539917 perturbazione applicata 0.0\n"
     ]
    },
    {
     "name": "stderr",
     "output_type": "stream",
     "text": [
      "C&W L_2: 100%|██████████| 1/1 [00:03<00:00,  3.31s/it]\n"
     ]
    },
    {
     "name": "stdout",
     "output_type": "stream",
     "text": [
      "Etichetta Corretta: Christopher_Nolan | Predetto:  Christopher_Nolan  probabilità 12.074438095092773 perturbazione applicata 0.0\n"
     ]
    },
    {
     "name": "stderr",
     "output_type": "stream",
     "text": [
      "C&W L_2: 100%|██████████| 1/1 [00:03<00:00,  3.67s/it]\n"
     ]
    },
    {
     "name": "stdout",
     "output_type": "stream",
     "text": [
      "Etichetta Corretta: Cristiano_Ronaldo | Predetto:  Cristiano_Ronaldo  probabilità 12.945646286010742 perturbazione applicata 0.0\n"
     ]
    },
    {
     "name": "stderr",
     "output_type": "stream",
     "text": [
      "C&W L_2: 100%|██████████| 1/1 [00:03<00:00,  3.11s/it]\n"
     ]
    },
    {
     "name": "stdout",
     "output_type": "stream",
     "text": [
      "Etichetta Corretta: Diego_Maradona | Predetto:  Diego_Maradona  probabilità 12.622477531433105 perturbazione applicata 0.0\n",
      "<---> Attacco con max_iter = 2| learning rate = 1 | initial cost = 300 <--->\n"
     ]
    },
    {
     "name": "stderr",
     "output_type": "stream",
     "text": [
      "C&W L_2: 100%|██████████| 1/1 [00:03<00:00,  3.71s/it]\n"
     ]
    },
    {
     "name": "stdout",
     "output_type": "stream",
     "text": [
      "Etichetta Corretta: Andrea_Pirlo | Predetto:  Andrea_Pirlo  probabilità 12.725250244140625 perturbazione applicata 0.0\n"
     ]
    },
    {
     "name": "stderr",
     "output_type": "stream",
     "text": [
      "C&W L_2: 100%|██████████| 1/1 [00:04<00:00,  4.61s/it]\n"
     ]
    },
    {
     "name": "stdout",
     "output_type": "stream",
     "text": [
      "Etichetta Corretta: Antonio_Cassano | Predetto:  Branch_Warren  probabilità 10.506441116333008 perturbazione applicata 0.0\n"
     ]
    },
    {
     "name": "stderr",
     "output_type": "stream",
     "text": [
      "C&W L_2: 100%|██████████| 1/1 [00:03<00:00,  3.58s/it]\n"
     ]
    },
    {
     "name": "stdout",
     "output_type": "stream",
     "text": [
      "Etichetta Corretta: Ariana_Grande | Predetto:  Ariana_Grande  probabilità 11.170966148376465 perturbazione applicata 0.0\n"
     ]
    },
    {
     "name": "stderr",
     "output_type": "stream",
     "text": [
      "C&W L_2: 100%|██████████| 1/1 [00:02<00:00,  2.60s/it]\n"
     ]
    },
    {
     "name": "stdout",
     "output_type": "stream",
     "text": [
      "Etichetta Corretta: Ashley_Scott | Predetto:  Ashley_Scott  probabilità 13.896852493286133 perturbazione applicata 0.0\n"
     ]
    },
    {
     "name": "stderr",
     "output_type": "stream",
     "text": [
      "C&W L_2: 100%|██████████| 1/1 [00:02<00:00,  2.40s/it]\n"
     ]
    },
    {
     "name": "stdout",
     "output_type": "stream",
     "text": [
      "Etichetta Corretta: Boris_Johnson | Predetto:  Boris_Johnson  probabilità 13.323941230773926 perturbazione applicata 0.0\n"
     ]
    },
    {
     "name": "stderr",
     "output_type": "stream",
     "text": [
      "C&W L_2: 100%|██████████| 1/1 [00:02<00:00,  2.55s/it]\n"
     ]
    },
    {
     "name": "stdout",
     "output_type": "stream",
     "text": [
      "Etichetta Corretta: Brad_Pitt | Predetto:  Brad_Pitt  probabilità 13.206241607666016 perturbazione applicata 0.0\n"
     ]
    },
    {
     "name": "stderr",
     "output_type": "stream",
     "text": [
      "C&W L_2: 100%|██████████| 1/1 [00:02<00:00,  2.49s/it]\n"
     ]
    },
    {
     "name": "stdout",
     "output_type": "stream",
     "text": [
      "Etichetta Corretta: Christian_De_Sica | Predetto:  Christian_De_Sica  probabilità 13.7531156539917 perturbazione applicata 0.0\n"
     ]
    },
    {
     "name": "stderr",
     "output_type": "stream",
     "text": [
      "C&W L_2: 100%|██████████| 1/1 [00:02<00:00,  2.29s/it]\n"
     ]
    },
    {
     "name": "stdout",
     "output_type": "stream",
     "text": [
      "Etichetta Corretta: Christopher_Nolan | Predetto:  Christopher_Nolan  probabilità 12.074438095092773 perturbazione applicata 0.0\n"
     ]
    },
    {
     "name": "stderr",
     "output_type": "stream",
     "text": [
      "C&W L_2: 100%|██████████| 1/1 [00:02<00:00,  2.41s/it]\n"
     ]
    },
    {
     "name": "stdout",
     "output_type": "stream",
     "text": [
      "Etichetta Corretta: Cristiano_Ronaldo | Predetto:  Cristiano_Ronaldo  probabilità 12.945646286010742 perturbazione applicata 0.0\n"
     ]
    },
    {
     "name": "stderr",
     "output_type": "stream",
     "text": [
      "C&W L_2: 100%|██████████| 1/1 [00:02<00:00,  2.27s/it]\n"
     ]
    },
    {
     "name": "stdout",
     "output_type": "stream",
     "text": [
      "Etichetta Corretta: Diego_Maradona | Predetto:  Diego_Maradona  probabilità 12.622477531433105 perturbazione applicata 0.0\n",
      "<---> Attacco con max_iter = 2| learning rate = 0.3 | initial cost = 700 <--->\n"
     ]
    },
    {
     "name": "stderr",
     "output_type": "stream",
     "text": [
      "C&W L_2: 100%|██████████| 1/1 [00:02<00:00,  2.05s/it]\n"
     ]
    },
    {
     "name": "stdout",
     "output_type": "stream",
     "text": [
      "Etichetta Corretta: Andrea_Pirlo | Predetto:  Andrea_Pirlo  probabilità 12.725250244140625 perturbazione applicata 0.0\n"
     ]
    },
    {
     "name": "stderr",
     "output_type": "stream",
     "text": [
      "C&W L_2: 100%|██████████| 1/1 [00:02<00:00,  2.10s/it]\n"
     ]
    },
    {
     "name": "stdout",
     "output_type": "stream",
     "text": [
      "Etichetta Corretta: Antonio_Cassano | Predetto:  Branch_Warren  probabilità 10.506441116333008 perturbazione applicata 0.0\n"
     ]
    },
    {
     "name": "stderr",
     "output_type": "stream",
     "text": [
      "C&W L_2: 100%|██████████| 1/1 [00:02<00:00,  2.18s/it]\n"
     ]
    },
    {
     "name": "stdout",
     "output_type": "stream",
     "text": [
      "Etichetta Corretta: Ariana_Grande | Predetto:  Ariana_Grande  probabilità 11.170966148376465 perturbazione applicata 0.0\n"
     ]
    },
    {
     "name": "stderr",
     "output_type": "stream",
     "text": [
      "C&W L_2: 100%|██████████| 1/1 [00:02<00:00,  2.19s/it]\n"
     ]
    },
    {
     "name": "stdout",
     "output_type": "stream",
     "text": [
      "Etichetta Corretta: Ashley_Scott | Predetto:  Ashley_Scott  probabilità 13.896852493286133 perturbazione applicata 0.0\n"
     ]
    },
    {
     "name": "stderr",
     "output_type": "stream",
     "text": [
      "C&W L_2: 100%|██████████| 1/1 [00:02<00:00,  2.05s/it]\n"
     ]
    },
    {
     "name": "stdout",
     "output_type": "stream",
     "text": [
      "Etichetta Corretta: Boris_Johnson | Predetto:  Boris_Johnson  probabilità 13.323941230773926 perturbazione applicata 0.0\n"
     ]
    },
    {
     "name": "stderr",
     "output_type": "stream",
     "text": [
      "C&W L_2: 100%|██████████| 1/1 [00:02<00:00,  2.13s/it]\n"
     ]
    },
    {
     "name": "stdout",
     "output_type": "stream",
     "text": [
      "Etichetta Corretta: Brad_Pitt | Predetto:  Brad_Pitt  probabilità 13.206241607666016 perturbazione applicata 0.0\n"
     ]
    },
    {
     "name": "stderr",
     "output_type": "stream",
     "text": [
      "C&W L_2: 100%|██████████| 1/1 [00:02<00:00,  2.14s/it]\n"
     ]
    },
    {
     "name": "stdout",
     "output_type": "stream",
     "text": [
      "Etichetta Corretta: Christian_De_Sica | Predetto:  Christian_De_Sica  probabilità 13.7531156539917 perturbazione applicata 0.0\n"
     ]
    },
    {
     "name": "stderr",
     "output_type": "stream",
     "text": [
      "C&W L_2: 100%|██████████| 1/1 [00:02<00:00,  2.04s/it]\n"
     ]
    },
    {
     "name": "stdout",
     "output_type": "stream",
     "text": [
      "Etichetta Corretta: Christopher_Nolan | Predetto:  Christopher_Nolan  probabilità 12.074438095092773 perturbazione applicata 0.0\n"
     ]
    },
    {
     "name": "stderr",
     "output_type": "stream",
     "text": [
      "C&W L_2: 100%|██████████| 1/1 [00:02<00:00,  2.24s/it]\n"
     ]
    },
    {
     "name": "stdout",
     "output_type": "stream",
     "text": [
      "Etichetta Corretta: Cristiano_Ronaldo | Predetto:  Cristiano_Ronaldo  probabilità 12.945646286010742 perturbazione applicata 0.0\n"
     ]
    },
    {
     "name": "stderr",
     "output_type": "stream",
     "text": [
      "C&W L_2: 100%|██████████| 1/1 [00:03<00:00,  3.07s/it]\n"
     ]
    },
    {
     "name": "stdout",
     "output_type": "stream",
     "text": [
      "Etichetta Corretta: Diego_Maradona | Predetto:  Diego_Maradona  probabilità 12.622477531433105 perturbazione applicata 0.0\n",
      "<---> Attacco con max_iter = 2| learning rate = 0.5 | initial cost = 700 <--->\n"
     ]
    },
    {
     "name": "stderr",
     "output_type": "stream",
     "text": [
      "C&W L_2: 100%|██████████| 1/1 [00:02<00:00,  2.51s/it]\n"
     ]
    },
    {
     "name": "stdout",
     "output_type": "stream",
     "text": [
      "Etichetta Corretta: Andrea_Pirlo | Predetto:  Andrea_Pirlo  probabilità 12.725250244140625 perturbazione applicata 0.0\n"
     ]
    },
    {
     "name": "stderr",
     "output_type": "stream",
     "text": [
      "C&W L_2: 100%|██████████| 1/1 [00:02<00:00,  2.76s/it]\n"
     ]
    },
    {
     "name": "stdout",
     "output_type": "stream",
     "text": [
      "Etichetta Corretta: Antonio_Cassano | Predetto:  Branch_Warren  probabilità 10.506441116333008 perturbazione applicata 0.0\n"
     ]
    },
    {
     "name": "stderr",
     "output_type": "stream",
     "text": [
      "C&W L_2: 100%|██████████| 1/1 [00:02<00:00,  2.52s/it]\n"
     ]
    },
    {
     "name": "stdout",
     "output_type": "stream",
     "text": [
      "Etichetta Corretta: Ariana_Grande | Predetto:  Ariana_Grande  probabilità 11.170966148376465 perturbazione applicata 0.0\n"
     ]
    },
    {
     "name": "stderr",
     "output_type": "stream",
     "text": [
      "C&W L_2: 100%|██████████| 1/1 [00:02<00:00,  2.24s/it]\n"
     ]
    },
    {
     "name": "stdout",
     "output_type": "stream",
     "text": [
      "Etichetta Corretta: Ashley_Scott | Predetto:  Ashley_Scott  probabilità 13.896852493286133 perturbazione applicata 0.0\n"
     ]
    },
    {
     "name": "stderr",
     "output_type": "stream",
     "text": [
      "C&W L_2: 100%|██████████| 1/1 [00:02<00:00,  2.89s/it]\n"
     ]
    },
    {
     "name": "stdout",
     "output_type": "stream",
     "text": [
      "Etichetta Corretta: Boris_Johnson | Predetto:  Boris_Johnson  probabilità 13.323941230773926 perturbazione applicata 0.0\n"
     ]
    },
    {
     "name": "stderr",
     "output_type": "stream",
     "text": [
      "C&W L_2: 100%|██████████| 1/1 [00:02<00:00,  2.31s/it]\n"
     ]
    },
    {
     "name": "stdout",
     "output_type": "stream",
     "text": [
      "Etichetta Corretta: Brad_Pitt | Predetto:  Brad_Pitt  probabilità 13.206241607666016 perturbazione applicata 0.0\n"
     ]
    },
    {
     "name": "stderr",
     "output_type": "stream",
     "text": [
      "C&W L_2: 100%|██████████| 1/1 [00:02<00:00,  2.56s/it]\n"
     ]
    },
    {
     "name": "stdout",
     "output_type": "stream",
     "text": [
      "Etichetta Corretta: Christian_De_Sica | Predetto:  Christian_De_Sica  probabilità 13.7531156539917 perturbazione applicata 0.0\n"
     ]
    },
    {
     "name": "stderr",
     "output_type": "stream",
     "text": [
      "C&W L_2: 100%|██████████| 1/1 [00:02<00:00,  2.21s/it]\n"
     ]
    },
    {
     "name": "stdout",
     "output_type": "stream",
     "text": [
      "Etichetta Corretta: Christopher_Nolan | Predetto:  Christopher_Nolan  probabilità 12.074438095092773 perturbazione applicata 0.0\n"
     ]
    },
    {
     "name": "stderr",
     "output_type": "stream",
     "text": [
      "C&W L_2: 100%|██████████| 1/1 [00:02<00:00,  2.41s/it]\n"
     ]
    },
    {
     "name": "stdout",
     "output_type": "stream",
     "text": [
      "Etichetta Corretta: Cristiano_Ronaldo | Predetto:  Cristiano_Ronaldo  probabilità 12.945646286010742 perturbazione applicata 0.0\n"
     ]
    },
    {
     "name": "stderr",
     "output_type": "stream",
     "text": [
      "C&W L_2: 100%|██████████| 1/1 [00:02<00:00,  2.38s/it]\n"
     ]
    },
    {
     "name": "stdout",
     "output_type": "stream",
     "text": [
      "Etichetta Corretta: Diego_Maradona | Predetto:  Diego_Maradona  probabilità 12.622477531433105 perturbazione applicata 0.0\n",
      "<---> Attacco con max_iter = 2| learning rate = 1 | initial cost = 700 <--->\n"
     ]
    },
    {
     "name": "stderr",
     "output_type": "stream",
     "text": [
      "C&W L_2: 100%|██████████| 1/1 [00:02<00:00,  2.22s/it]\n"
     ]
    },
    {
     "name": "stdout",
     "output_type": "stream",
     "text": [
      "Etichetta Corretta: Andrea_Pirlo | Predetto:  Andrea_Pirlo  probabilità 12.725250244140625 perturbazione applicata 0.0\n"
     ]
    },
    {
     "name": "stderr",
     "output_type": "stream",
     "text": [
      "C&W L_2: 100%|██████████| 1/1 [00:02<00:00,  2.35s/it]\n"
     ]
    },
    {
     "name": "stdout",
     "output_type": "stream",
     "text": [
      "Etichetta Corretta: Antonio_Cassano | Predetto:  Branch_Warren  probabilità 10.506441116333008 perturbazione applicata 0.0\n"
     ]
    },
    {
     "name": "stderr",
     "output_type": "stream",
     "text": [
      "C&W L_2: 100%|██████████| 1/1 [00:02<00:00,  2.52s/it]\n"
     ]
    },
    {
     "name": "stdout",
     "output_type": "stream",
     "text": [
      "Etichetta Corretta: Ariana_Grande | Predetto:  Ariana_Grande  probabilità 11.170966148376465 perturbazione applicata 0.0\n"
     ]
    },
    {
     "name": "stderr",
     "output_type": "stream",
     "text": [
      "C&W L_2: 100%|██████████| 1/1 [00:02<00:00,  2.29s/it]\n"
     ]
    },
    {
     "name": "stdout",
     "output_type": "stream",
     "text": [
      "Etichetta Corretta: Ashley_Scott | Predetto:  Ashley_Scott  probabilità 13.896852493286133 perturbazione applicata 0.0\n"
     ]
    },
    {
     "name": "stderr",
     "output_type": "stream",
     "text": [
      "C&W L_2: 100%|██████████| 1/1 [00:02<00:00,  2.29s/it]\n"
     ]
    },
    {
     "name": "stdout",
     "output_type": "stream",
     "text": [
      "Etichetta Corretta: Boris_Johnson | Predetto:  Boris_Johnson  probabilità 13.323941230773926 perturbazione applicata 0.0\n"
     ]
    },
    {
     "name": "stderr",
     "output_type": "stream",
     "text": [
      "C&W L_2: 100%|██████████| 1/1 [00:02<00:00,  2.46s/it]\n"
     ]
    },
    {
     "name": "stdout",
     "output_type": "stream",
     "text": [
      "Etichetta Corretta: Brad_Pitt | Predetto:  Brad_Pitt  probabilità 13.206241607666016 perturbazione applicata 0.0\n"
     ]
    },
    {
     "name": "stderr",
     "output_type": "stream",
     "text": [
      "C&W L_2: 100%|██████████| 1/1 [00:02<00:00,  2.42s/it]\n"
     ]
    },
    {
     "name": "stdout",
     "output_type": "stream",
     "text": [
      "Etichetta Corretta: Christian_De_Sica | Predetto:  Christian_De_Sica  probabilità 13.7531156539917 perturbazione applicata 0.0\n"
     ]
    },
    {
     "name": "stderr",
     "output_type": "stream",
     "text": [
      "C&W L_2: 100%|██████████| 1/1 [00:02<00:00,  2.19s/it]\n"
     ]
    },
    {
     "name": "stdout",
     "output_type": "stream",
     "text": [
      "Etichetta Corretta: Christopher_Nolan | Predetto:  Christopher_Nolan  probabilità 12.074438095092773 perturbazione applicata 0.0\n"
     ]
    },
    {
     "name": "stderr",
     "output_type": "stream",
     "text": [
      "C&W L_2: 100%|██████████| 1/1 [00:02<00:00,  2.44s/it]\n"
     ]
    },
    {
     "name": "stdout",
     "output_type": "stream",
     "text": [
      "Etichetta Corretta: Cristiano_Ronaldo | Predetto:  Cristiano_Ronaldo  probabilità 12.945646286010742 perturbazione applicata 0.0\n"
     ]
    },
    {
     "name": "stderr",
     "output_type": "stream",
     "text": [
      "C&W L_2: 100%|██████████| 1/1 [00:02<00:00,  2.33s/it]"
     ]
    },
    {
     "name": "stdout",
     "output_type": "stream",
     "text": [
      "Etichetta Corretta: Diego_Maradona | Predetto:  Diego_Maradona  probabilità 12.622477531433105 perturbazione applicata 0.0\n",
      "--------------------------------------------------------------------------------------------------------------------------------------------------------------------\n",
      "\n"
     ]
    },
    {
     "name": "stderr",
     "output_type": "stream",
     "text": [
      "\n"
     ]
    }
   ],
   "source": [
    "dataset_dir = \"test_set_cropped_piccolo/\" \n",
    "binary_search_steps = 3\n",
    "confidence = 0.7\n",
    "max_iter = [2]\n",
    "learning_rate = [0.3,0.5,1]\n",
    "initial_const = [300,700]\n",
    "\n",
    "correct_predictions_resnet = 0\n",
    "correct_misclassified_resnet = 0\n",
    "accuracy_for_learning_rate_targeted_resnet = np.zeros((len(max_iter),len(initial_const),len(learning_rate)))        #riga-colonna\n",
    "perturbation_for_learning_rate_targeted_resnet = np.zeros((len(max_iter),len(initial_const),len(learning_rate)))\n",
    "accuracy_misclassified_for_learning_rate_targeted_resnet = np.zeros((len(max_iter),len(initial_const),len(learning_rate)))\n",
    "\n",
    "correct_predictions_senet = 0\n",
    "correct_misclassified_senet = 0\n",
    "accuracy_for_learning_rate_targeted_senet = np.zeros((len(max_iter),len(initial_const),len(learning_rate)))        #riga\n",
    "accuracy_misclassified_for_learning_rate_targeted_senet = np.zeros((len(max_iter),len(initial_const),len(learning_rate)))\n",
    "#perturbation_for_learning_rate_senet = np.zeros((len(initial_const),len(learning_rate)))\n",
    "\n",
    "target_class = 10\n",
    "etichetta_target = LABELS[target_class]\n",
    "print(\"ETICHETTA TARGET: \", etichetta_target)\n",
    "\n",
    "targeted_labels = target_class*np.ones(LABELS.size)\n",
    "one_hot_targeted_labels = tf.keras.utils.to_categorical(targeted_labels, num_classes = 8631)\n",
    "\n",
    "\n",
    "print(\"Inizio Attacco CARLINI-WAGNER TARGETED\")\n",
    "for z in range(len(max_iter)):\n",
    "    for i in range(len(initial_const)):\n",
    "            for j in range(len(learning_rate)):   #Se qualcosa funziona strano controllare questo zip\n",
    "                correct_predictions_resnet = 0\n",
    "                correct_predictions_senet = 0\n",
    "                correct_misclassified_resnet = 0\n",
    "                correct_misclassified_senet = 0\n",
    "                total_images = 0\n",
    "                perturbation = []\n",
    "                \n",
    "                attack = CarliniL2Method(classifier=model_resnet,\n",
    "                                          binary_search_steps=binary_search_steps,\n",
    "                                            confidence=confidence, max_iter=max_iter[z],\n",
    "                                              learning_rate=learning_rate[j],\n",
    "                                                initial_const=initial_const[i],\n",
    "                                                  targeted=True)\n",
    "                \n",
    "                print(\"<---> Attacco con max_iter = {}| learning rate = {} | initial cost = {} <--->\".format(max_iter[z],learning_rate[j],initial_const[i]))\n",
    "                for filename in os.listdir(dataset_dir):\n",
    "                    person_path = os.path.join(dataset_dir, filename)\n",
    "                    test_img = load_image_NN1(person_path,device)\n",
    "                    test_img = test_img.numpy()\n",
    "                    test_images_adv = attack.generate(test_img,one_hot_targeted_labels)\n",
    "                    resnet_predictions = model_resnet.predict(test_images_adv)\n",
    "                    perturbation.append(np.mean(np.abs((test_images_adv - test_img))))\n",
    "                    \n",
    "                    test_images_NN2 = load_test_image_NN2(test_images_adv)\n",
    "                    senet_predictions = model_senet.predict(test_images_NN2)\n",
    "\n",
    "                    correct_label = re.sub(r'_\\d+_face_0\\.jpg$', '', filename)  \n",
    "                      #Salvo le perturbazioni applicate su ogni immagine\n",
    "            \n",
    "                    predicted_label_resnet = LABELS[np.array(resnet_predictions.argmax())]\n",
    "                    predicted_label_senet = LABELS[np.array(senet_predictions.argmax())]\n",
    "                    print(\"Etichetta Corretta: {} | Predetto: {}  probabilità {} perturbazione applicata {}\".format(correct_label,predicted_label_resnet,resnet_predictions[0][resnet_predictions.argmax()],perturbation[-1]))\n",
    "                    total_images+=1\n",
    "                    \n",
    "                    predicted_label_resnet = str(predicted_label_resnet)  # da togliere ?\n",
    "                    predicted_label_senet = str(predicted_label_senet)\n",
    "                    \n",
    "                    if correct_label in predicted_label_resnet:\n",
    "                        correct_predictions_resnet+=1\n",
    "\n",
    "                    #print(\"Adversarial Sample misclassificati correttamente attuale: {}%\".format((100-(accuracy*100))))\n",
    "                    accuracy_resnet = correct_predictions_resnet/total_images\n",
    "                    \n",
    "                    if correct_label in predicted_label_senet:\n",
    "                        correct_predictions_senet+=1\n",
    "\n",
    "                    accuracy_senet = correct_predictions_senet/total_images\n",
    "                            \n",
    "                    if etichetta_target in predicted_label_resnet:  \n",
    "                        correct_misclassified_resnet += 1   #Se il modello predice l'etichetta target allora è correttamente misclassificato\n",
    "\n",
    "                    accuracy_misclassified_resnet = correct_misclassified_resnet/total_images\n",
    "\n",
    "                    if etichetta_target in predicted_label_senet:   #se Attacco su NN2 Correttamente riuscito\n",
    "                        correct_misclassified_senet += 1   \n",
    "\n",
    "                    accuracy_misclassified_senet = correct_misclassified_senet/total_images\n",
    "                    \n",
    "                    #print(\"Adversarial Sample misclassificati correttamente attualmente: {}%\".format((accuracy_misclassified)))\n",
    "                    #print(\"Accuracy attuale: {}%\".format((correct_predictions/total_images)*100))\n",
    "                \n",
    "                    if total_images == 500:\n",
    "                        print(\"Sei a 500 Immagini initial_cost:{} | learning_rate:{}\".format(initial_const[i], learning_rate[i]))\n",
    "\n",
    "            if total_images != 0:    \n",
    "                if len(perturbation) == total_images:\n",
    "                      # In media quanta pertubazione è stata applicata su ogni immagine\n",
    "                    perturbation_for_learning_rate_targeted_resnet[z][i][j] = (sum(perturbation)/total_images)\n",
    "                    \n",
    "                \n",
    "   \n",
    "                      \n",
    "                final_accuracy_resnet = correct_predictions_resnet/total_images          # Accuracy su tutte le immagini\n",
    "                accuracy_for_learning_rate_targeted_senet[z][i][j] = final_accuracy_resnet\n",
    "\n",
    "                accuracy_misclassified_resnet = correct_misclassified_resnet/total_images\n",
    "                accuracy_misclassified_for_learning_rate_targeted_resnet[z][i][j] = accuracy_misclassified_resnet\n",
    "\n",
    "                #print(\"----------- Accuracy sugli adversarial Sample equivale a ---> {}% ----------------\".format(learning,final_accuracy))\n",
    "                final_accuracy_senet = correct_predictions_senet/total_images\n",
    "                accuracy_for_learning_rate_senet[z][i][j] = final_accuracy_senet\n",
    "\n",
    "                accuracy_misclassified_senet = correct_misclassified_senet/total_images\n",
    "                accuracy_misclassified_for_learning_rate_targeted_senet[z][i][j] = accuracy_misclassified_senet\n",
    "            else:\n",
    "                print(\"ERRORE TOTAL IMAGE == 0 ERRORE\")\n",
    "        \n",
    "    print(\"--------------------------------------------------------------------------------------------------------------------------------------------------------------------\")\n",
    "    print(\"\")\n",
    "    \n",
    "                "
   ]
  },
  {
   "cell_type": "code",
   "execution_count": null,
   "metadata": {},
   "outputs": [],
   "source": []
  },
  {
   "cell_type": "code",
   "execution_count": null,
   "metadata": {},
   "outputs": [],
   "source": [
    "print('Matrice Accuracy' + str(learning_rate))\n",
    "for row_name, row_data in zip(initial_const, accuracy_for_learning_rate_targeted_resnet[0]):\n",
    "    print(f'        {row_name }   ' + '  '.join(map(str, row_data)))\n",
    "\n",
    "\n",
    "print('Matrice Perturbation' + str(learning_rate))\n",
    "for row_name, row_data in zip(initial_const, perturbation_for_learning_rate_targeted):\n",
    "    print(f'        {row_name}         ' + '  '.join(map(str, row_data)))\n",
    "\n",
    "\n",
    "print('Matrice Misclassificazione' + str(learning_rate))\n",
    "for row_name, row_data in zip(initial_const, accuracy_misclassified_for_learning_rate):\n",
    "    print(f'        {row_name}         ' + '  '.join(map(str, row_data)))\n",
    "\n",
    "\n"
   ]
  },
  {
   "cell_type": "code",
   "execution_count": 16,
   "metadata": {},
   "outputs": [
    {
     "name": "stdout",
     "output_type": "stream",
     "text": [
      "[[0. 0. 0.]\n",
      " [0. 0. 0.]]\n",
      "[[0.  0.  0.9]\n",
      " [0.  0.  0.9]]\n",
      "[[0. 0. 0.]\n",
      " [0. 0. 0.]]\n"
     ]
    }
   ],
   "source": [
    "print(accuracy_for_learning_rate_targeted_resnet[0])\n",
    "\n",
    "print(accuracy_for_learning_rate_targeted_senet[0])\n",
    "\n",
    "print(accuracy_misclassified_for_learning_rate_targeted_senet[0])"
   ]
  },
  {
   "cell_type": "code",
   "execution_count": null,
   "metadata": {},
   "outputs": [],
   "source": [
    "# plot accuracy/Attack strength\n",
    "\n",
    "fig, ax = plt.subplots()\n",
    "ax.plot(learning_rate, perturbation_for_learning_rate_targeted[0], 'b-', label='Perturbazione')\n",
    "ax.plot(learning_rate, accuracy_for_learning_rate_targeted[0], 'r-', label='Accuracy')\n",
    "#ax.plot(np.array(learning_rate), np.array(perturbation_for_learning_rate[1]), 'r-', label='max_iter == 2')\n",
    "#ax.plot(np.array(learning_rate), np.array(perturbation_for_learning_rate[2]), 'g-.', label='max_iter == 4')\n",
    "\n",
    "legend = ax.legend(loc='upper center', shadow=True, fontsize='large')\n",
    "legend.get_frame().set_facecolor('#00FFCC')\n",
    "\n",
    "plt.ylabel('Perturbation')\n",
    "plt.xlabel('Learning Rate')\n",
    "\n",
    "\n",
    "\n",
    "plt.tight_layout()\n",
    "\n",
    "plt.show()"
   ]
  },
  {
   "cell_type": "markdown",
   "metadata": {},
   "source": [
    "#### Caricamento di una sola immagine per i test"
   ]
  },
  {
   "cell_type": "code",
   "execution_count": null,
   "metadata": {},
   "outputs": [],
   "source": [
    "filename = \"test_set_cropped/Brad_Pitt_1_face_0.jpg\"\n",
    "test_img = load_image(filename)\n",
    "\n",
    "print(test_img.shape)\n",
    "print(test_img.size)\n",
    "test_img = test_img.unsqueeze(0)\n",
    "print(test_img.shape)\n",
    "print(test_img.size)\n",
    "test_img = test_img.numpy()\n",
    "print(test_img.shape)\n",
    "print(type(test_img))"
   ]
  },
  {
   "cell_type": "code",
   "execution_count": null,
   "metadata": {},
   "outputs": [],
   "source": [
    "binary_search_steps = 5\n",
    "confidence = 0.7\n",
    "max_iter = 7\n",
    "learning_rate = 0.001\n",
    "initial_const = 350\n",
    "\n",
    "target_class = 100\n",
    "etichetta_target = LABELS[target_class]\n",
    "print(\"ETICHETTA TARGET: \", etichetta_target)\n",
    "\n",
    "targeted_labels = target_class*np.ones(LABELS.size)\n",
    "one_hot_targeted_labels = tf.keras.utils.to_categorical(targeted_labels, num_classes = 8631)\n",
    "\n",
    "attack = CarliniL2Method(classifier=classifier, binary_search_steps=binary_search_steps, confidence=confidence, max_iter=max_iter, learning_rate=learning_rate, initial_const=initial_const, targeted=True)\n",
    "test_images_adv = attack.generate(test_img, one_hot_targeted_labels)\n",
    "model_predictions = classifier.predict(test_images_adv)\n",
    "correct_label = re.sub(r'_\\d+_face_0\\.jpg$', '', filename)   \n",
    "perturbation.append(np.mean(np.abs((test_images_adv - test_img))))  \n",
    "predicted_label = LABELS[np.array(model_predictions[0].argmax())]\n",
    "print(\"Etichetta reale:{} || Predetto: {} con probabilità: {} e con perturbazione: {}\".format(correct_label,predicted_label,model_predictions[0][model_predictions.argmax()],perturbation[-1]))\n",
    "                    "
   ]
  },
  {
   "cell_type": "code",
   "execution_count": null,
   "metadata": {},
   "outputs": [],
   "source": [
    "# Prepara le immagini per la visualizzazione\n",
    "# Rimuovi la dimensione batch extra e converti nel formato channels-last\n",
    "\n",
    "test_images_adv = np.squeeze(test_images_adv, axis=0)\n",
    "test_images_adv = np.transpose(test_images_adv, (1, 2, 0))\n",
    "\n",
    "# Converti le immagini in uint8 per la visualizzazione\n",
    "if test_img.dtype != np.uint8:\n",
    "    test_img_numpy = (test_img * 255).astype(np.uint8)\n",
    "    test_img_numpy = np.squeeze(test_img_numpy, axis=0)  # Rimuovi la dimensione batch extra\n",
    "    test_img_numpy = np.transpose(test_img_numpy, (1, 2, 0))\n",
    "\n",
    "if test_images_adv.dtype != np.uint8:\n",
    "    test_images_adv = (test_images_adv * 255).astype(np.uint8)\n",
    "\n",
    "# Visualizza le immagini affiancate con Matplotlib\n"
   ]
  },
  {
   "cell_type": "code",
   "execution_count": null,
   "metadata": {},
   "outputs": [],
   "source": [
    "fig, (ax1, ax2) = plt.subplots(1, 2, figsize=(10, 5))\n",
    "\n",
    "# Mostra l'immagine originale\n",
    "ax1.imshow(test_img_numpy)\n",
    "ax1.set_title('Original Image')\n",
    "ax1.axis('off')\n",
    "\n",
    "# Mostra l'immagine avversaria\n",
    "ax2.imshow(test_images_adv)\n",
    "ax2.set_title(f'Adversarial Image\\nPredicted: {predicted_label}')\n",
    "ax2.axis('off')\n",
    "\n",
    "# Mostra la figura\n",
    "plt.suptitle(\"DeepFool Adversarial Images\")\n",
    "plt.show()"
   ]
  }
 ],
 "metadata": {
  "kernelspec": {
   "display_name": "artoolbox",
   "language": "python",
   "name": "python3"
  },
  "language_info": {
   "codemirror_mode": {
    "name": "ipython",
    "version": 3
   },
   "file_extension": ".py",
   "mimetype": "text/x-python",
   "name": "python",
   "nbconvert_exporter": "python",
   "pygments_lexer": "ipython3",
   "version": "3.8.19"
  }
 },
 "nbformat": 4,
 "nbformat_minor": 2
}
