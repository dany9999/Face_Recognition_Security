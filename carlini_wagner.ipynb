{
 "cells": [
  {
   "cell_type": "markdown",
   "metadata": {},
   "source": [
    "# CARLINI WAGNER #"
   ]
  },
  {
   "cell_type": "markdown",
   "metadata": {},
   "source": [
    "Ricordati di cambiare le cartelle del test set."
   ]
  },
  {
   "cell_type": "markdown",
   "metadata": {},
   "source": [
    "#### *Import* "
   ]
  },
  {
   "cell_type": "code",
   "execution_count": 9,
   "metadata": {},
   "outputs": [],
   "source": [
    "import os\n",
    "import re\n",
    "import numpy as np\n",
    "from matplotlib import pyplot as plt\n",
    "from facenet_pytorch import InceptionResnetV1\n",
    "from PIL import Image\n",
    "from torchvision import transforms\n",
    "from torch.nn import CrossEntropyLoss\n",
    "from art.estimators.classification import PyTorchClassifier\n",
    "import tensorflow as tf\n",
    "\n",
    "\n",
    "# Import all L-distance based attacks\n",
    "from art.attacks.evasion import CarliniL2Method, CarliniL0Method, CarliniLInfMethod"
   ]
  },
  {
   "cell_type": "markdown",
   "metadata": {},
   "source": [
    "#### Inizializzazione"
   ]
  },
  {
   "cell_type": "code",
   "execution_count": 10,
   "metadata": {},
   "outputs": [],
   "source": [
    "resnet = InceptionResnetV1(pretrained='vggface2').eval()\n",
    "resnet.classify = True\n",
    "\n",
    "fpath = tf.keras.utils.get_file('rcmalli_vggface_labels_v2.npy',\n",
    "                             \"https://github.com/rcmalli/keras-vggface/releases/download/v2.0/rcmalli_vggface_labels_v2.npy\",\n",
    "                             cache_subdir=\"./\")\n",
    "LABELS = np.load(fpath)\n",
    "\n",
    "def load_image(filename):\n",
    "    img = Image.open(filename)\n",
    "    rsz = img.resize((160, 160))\n",
    "    tns = transforms.ToTensor()(rsz)\n",
    "    return tns\n",
    "\n",
    "classifier = PyTorchClassifier(resnet,input_shape=[224,224], loss=CrossEntropyLoss(),nb_classes=8631) #This class implements a classifier with the PyTorch framework."
   ]
  },
  {
   "cell_type": "markdown",
   "metadata": {},
   "source": [
    "#### Caricamento di una sola immagine per i test"
   ]
  },
  {
   "cell_type": "code",
   "execution_count": 12,
   "metadata": {},
   "outputs": [
    {
     "name": "stdout",
     "output_type": "stream",
     "text": [
      "torch.Size([3, 160, 160])\n",
      "<built-in method size of Tensor object at 0x000002020B7E3A98>\n",
      "torch.Size([1, 3, 160, 160])\n",
      "<built-in method size of Tensor object at 0x000002020B7E3908>\n",
      "(1, 3, 160, 160)\n",
      "<class 'numpy.ndarray'>\n"
     ]
    }
   ],
   "source": [
    "test_img = load_image(\"test_set_cropped/Antonio_Cassano_8_face_0.jpg\")\n",
    "\n",
    "print(test_img.shape)\n",
    "print(test_img.size)\n",
    "test_img = test_img.unsqueeze(0)\n",
    "print(test_img.shape)\n",
    "print(test_img.size)\n",
    "test_img = test_img.numpy()\n",
    "print(test_img.shape)\n",
    "print(type(test_img))"
   ]
  },
  {
   "cell_type": "markdown",
   "metadata": {},
   "source": [
    "### *Attacco* **NON TARGETED**"
   ]
  },
  {
   "cell_type": "code",
   "execution_count": 15,
   "metadata": {},
   "outputs": [
    {
     "name": "stdout",
     "output_type": "stream",
     "text": [
      "Inizio Attacco CARLINI-WAGNER NON-TARGETED\n",
      "**** Attacco con max_iter = 1 **** \n",
      "**** Attacco con learning rate = 0.01 ****\n"
     ]
    },
    {
     "name": "stderr",
     "output_type": "stream",
     "text": [
      "C&W L_2: 100%|██████████| 1/1 [00:02<00:00,  2.17s/it]\n"
     ]
    },
    {
     "name": "stdout",
     "output_type": "stream",
     "text": [
      "Etichetta corretta: Andrea_Pirlo\n",
      "Predetto  Marco_Giallini con probabilità 11.06852912902832 e con perturbazione 0.012716415338218212\n",
      "Adversarial Sample misclassificati correttamente attuale: 100.0%\n"
     ]
    },
    {
     "name": "stderr",
     "output_type": "stream",
     "text": [
      "C&W L_2: 100%|██████████| 1/1 [00:02<00:00,  2.07s/it]\n"
     ]
    },
    {
     "name": "stdout",
     "output_type": "stream",
     "text": [
      "Etichetta corretta: Antonio_Cassano\n",
      "Predetto  Jürgen_Trittin con probabilità 11.546632766723633 e con perturbazione 0.015857163816690445\n",
      "Adversarial Sample misclassificati correttamente attuale: 100.0%\n"
     ]
    },
    {
     "name": "stderr",
     "output_type": "stream",
     "text": [
      "C&W L_2: 100%|██████████| 1/1 [00:02<00:00,  2.22s/it]\n"
     ]
    },
    {
     "name": "stdout",
     "output_type": "stream",
     "text": [
      "Etichetta corretta: Ariana_Grande\n",
      "Predetto  Angelo_Scola con probabilità 8.124155044555664 e con perturbazione 0.03705473244190216\n",
      "Adversarial Sample misclassificati correttamente attuale: 100.0%\n"
     ]
    },
    {
     "name": "stderr",
     "output_type": "stream",
     "text": [
      "C&W L_2: 100%|██████████| 1/1 [00:02<00:00,  2.36s/it]\n"
     ]
    },
    {
     "name": "stdout",
     "output_type": "stream",
     "text": [
      "Etichetta corretta: Ashley_Scott\n",
      "Predetto  Angela_Gossow con probabilità 10.38528823852539 e con perturbazione 0.02376515232026577\n",
      "Adversarial Sample misclassificati correttamente attuale: 100.0%\n"
     ]
    },
    {
     "name": "stderr",
     "output_type": "stream",
     "text": [
      "C&W L_2: 100%|██████████| 1/1 [00:01<00:00,  1.99s/it]\n"
     ]
    },
    {
     "name": "stdout",
     "output_type": "stream",
     "text": [
      "Etichetta corretta: Boris_Johnson\n",
      "Predetto  Uto_Ughi con probabilità 11.19805908203125 e con perturbazione 0.015937564894557\n",
      "Adversarial Sample misclassificati correttamente attuale: 100.0%\n"
     ]
    },
    {
     "name": "stderr",
     "output_type": "stream",
     "text": [
      "C&W L_2: 100%|██████████| 1/1 [00:02<00:00,  2.29s/it]\n"
     ]
    },
    {
     "name": "stdout",
     "output_type": "stream",
     "text": [
      "Etichetta corretta: Brad_Pitt\n",
      "Predetto  Jason_Ritter con probabilità 11.266682624816895 e con perturbazione 0.020969968289136887\n",
      "Adversarial Sample misclassificati correttamente attuale: 100.0%\n"
     ]
    },
    {
     "name": "stderr",
     "output_type": "stream",
     "text": [
      "C&W L_2: 100%|██████████| 1/1 [00:02<00:00,  2.34s/it]\n"
     ]
    },
    {
     "name": "stdout",
     "output_type": "stream",
     "text": [
      "Etichetta corretta: Christian_De_Sica\n",
      "Predetto  Ivan_Koloff con probabilità 8.279311180114746 e con perturbazione 0.01756730116903782\n",
      "Adversarial Sample misclassificati correttamente attuale: 100.0%\n"
     ]
    },
    {
     "name": "stderr",
     "output_type": "stream",
     "text": [
      "C&W L_2: 100%|██████████| 1/1 [00:07<00:00,  7.55s/it]\n"
     ]
    },
    {
     "name": "stdout",
     "output_type": "stream",
     "text": [
      "Etichetta corretta: Christopher_Nolan\n",
      "Predetto  Franck_Dubosc con probabilità 11.878252029418945 e con perturbazione 0.017308609560132027\n",
      "Adversarial Sample misclassificati correttamente attuale: 100.0%\n"
     ]
    },
    {
     "name": "stderr",
     "output_type": "stream",
     "text": [
      "C&W L_2: 100%|██████████| 1/1 [00:02<00:00,  2.39s/it]\n"
     ]
    },
    {
     "name": "stdout",
     "output_type": "stream",
     "text": [
      "Etichetta corretta: Cristiano_Ronaldo\n",
      "Predetto  Caroline_Trentini con probabilità 10.579880714416504 e con perturbazione 0.02072485163807869\n",
      "Adversarial Sample misclassificati correttamente attuale: 100.0%\n"
     ]
    },
    {
     "name": "stderr",
     "output_type": "stream",
     "text": [
      "C&W L_2: 100%|██████████| 1/1 [00:01<00:00,  1.81s/it]\n"
     ]
    },
    {
     "name": "stdout",
     "output_type": "stream",
     "text": [
      "Etichetta corretta: Diego_Maradona\n",
      "Predetto  Alejandro_Fernández con probabilità 9.365913391113281 e con perturbazione 0.03646202012896538\n",
      "Adversarial Sample misclassificati correttamente attuale: 100.0%\n",
      "----------- Perturbazione media aggiunta a tutte le immagini per learning: 0.01 equivale a ---> 0.02183637795969844% ----------------\n",
      "----------- Accuracy sugli adversarial Sample per learning: 0.01 equivale a ---> 0.0% ----------------\n",
      "**** Attacco con learning rate = 0.001 ****\n"
     ]
    },
    {
     "name": "stderr",
     "output_type": "stream",
     "text": [
      "C&W L_2: 100%|██████████| 1/1 [00:02<00:00,  2.20s/it]\n"
     ]
    },
    {
     "name": "stdout",
     "output_type": "stream",
     "text": [
      "Etichetta corretta: Andrea_Pirlo\n",
      "Predetto  Marco_Giallini con probabilità 10.984086990356445 e con perturbazione 0.002560652792453766\n",
      "Adversarial Sample misclassificati correttamente attuale: 100.0%\n"
     ]
    },
    {
     "name": "stderr",
     "output_type": "stream",
     "text": [
      "C&W L_2: 100%|██████████| 1/1 [00:01<00:00,  1.45s/it]\n"
     ]
    },
    {
     "name": "stdout",
     "output_type": "stream",
     "text": [
      "Etichetta corretta: Antonio_Cassano\n",
      "Predetto  Jürgen_Trittin con probabilità 12.979473114013672 e con perturbazione 0.0015998182352632284\n",
      "Adversarial Sample misclassificati correttamente attuale: 100.0%\n"
     ]
    },
    {
     "name": "stderr",
     "output_type": "stream",
     "text": [
      "C&W L_2: 100%|██████████| 1/1 [00:01<00:00,  1.44s/it]\n"
     ]
    },
    {
     "name": "stdout",
     "output_type": "stream",
     "text": [
      "Etichetta corretta: Ariana_Grande\n",
      "Predetto  Sammy_Winward con probabilità 11.219929695129395 e con perturbazione 0.0038520514499396086\n",
      "Adversarial Sample misclassificati correttamente attuale: 100.0%\n"
     ]
    },
    {
     "name": "stderr",
     "output_type": "stream",
     "text": [
      "C&W L_2: 100%|██████████| 1/1 [00:01<00:00,  1.44s/it]\n"
     ]
    },
    {
     "name": "stdout",
     "output_type": "stream",
     "text": [
      "Etichetta corretta: Ashley_Scott\n",
      "Predetto  Adrienne_Frantz con probabilità 12.425668716430664 e con perturbazione 0.0024225402157753706\n",
      "Adversarial Sample misclassificati correttamente attuale: 100.0%\n"
     ]
    },
    {
     "name": "stderr",
     "output_type": "stream",
     "text": [
      "C&W L_2: 100%|██████████| 1/1 [00:01<00:00,  1.49s/it]\n"
     ]
    },
    {
     "name": "stdout",
     "output_type": "stream",
     "text": [
      "Etichetta corretta: Boris_Johnson\n",
      "Predetto  Uto_Ughi con probabilità 11.508508682250977 e con perturbazione 0.0032050861045718193\n",
      "Adversarial Sample misclassificati correttamente attuale: 100.0%\n"
     ]
    },
    {
     "name": "stderr",
     "output_type": "stream",
     "text": [
      "C&W L_2: 100%|██████████| 1/1 [00:01<00:00,  1.53s/it]\n"
     ]
    },
    {
     "name": "stdout",
     "output_type": "stream",
     "text": [
      "Etichetta corretta: Brad_Pitt\n",
      "Predetto  Jason_Ritter con probabilità 11.022002220153809 e con perturbazione 0.0021183753851801157\n",
      "Adversarial Sample misclassificati correttamente attuale: 100.0%\n"
     ]
    },
    {
     "name": "stderr",
     "output_type": "stream",
     "text": [
      "C&W L_2: 100%|██████████| 1/1 [00:01<00:00,  1.49s/it]\n"
     ]
    },
    {
     "name": "stdout",
     "output_type": "stream",
     "text": [
      "Etichetta corretta: Christian_De_Sica\n",
      "Predetto  Marco_Antonio_Solís con probabilità 10.686558723449707 e con perturbazione 0.0017758214380592108\n",
      "Adversarial Sample misclassificati correttamente attuale: 100.0%\n"
     ]
    },
    {
     "name": "stderr",
     "output_type": "stream",
     "text": [
      "C&W L_2: 100%|██████████| 1/1 [00:01<00:00,  1.40s/it]\n"
     ]
    },
    {
     "name": "stdout",
     "output_type": "stream",
     "text": [
      "Etichetta corretta: Christopher_Nolan\n",
      "Predetto  Franck_Dubosc con probabilità 12.482763290405273 e con perturbazione 0.0017528787720948458\n",
      "Adversarial Sample misclassificati correttamente attuale: 100.0%\n"
     ]
    },
    {
     "name": "stderr",
     "output_type": "stream",
     "text": [
      "C&W L_2: 100%|██████████| 1/1 [00:01<00:00,  1.44s/it]\n"
     ]
    },
    {
     "name": "stdout",
     "output_type": "stream",
     "text": [
      "Etichetta corretta: Cristiano_Ronaldo\n",
      "Predetto  Marco_Carta con probabilità 13.940106391906738 e con perturbazione 0.002101407153531909\n",
      "Adversarial Sample misclassificati correttamente attuale: 100.0%\n"
     ]
    },
    {
     "name": "stderr",
     "output_type": "stream",
     "text": [
      "C&W L_2: 100%|██████████| 1/1 [00:01<00:00,  1.53s/it]\n"
     ]
    },
    {
     "name": "stdout",
     "output_type": "stream",
     "text": [
      "Etichetta corretta: Diego_Maradona\n",
      "Predetto  Ajay_Devgan con probabilità 13.163928031921387 e con perturbazione 0.003888897830620408\n",
      "Adversarial Sample misclassificati correttamente attuale: 100.0%\n",
      "----------- Perturbazione media aggiunta a tutte le immagini per learning: 0.001 equivale a ---> 0.002527752937749028% ----------------\n",
      "----------- Accuracy sugli adversarial Sample per learning: 0.001 equivale a ---> 0.0% ----------------\n",
      "----------- Perturbazione media con iterazione 1 sugli adversarial Sample ---> 0.012182065448723734\\% ----------------\n",
      "----------- Accuracy media con iterazione 1 sugli adversarial Sample ---> 0.0\\% ----------------\n",
      "--------------------------------------------------------------------------------------------------------------------------------------------------------------------\n",
      "**** Attacco con max_iter = 2 **** \n",
      "**** Attacco con learning rate = 0.01 ****\n"
     ]
    },
    {
     "name": "stderr",
     "output_type": "stream",
     "text": [
      "C&W L_2: 100%|██████████| 1/1 [00:02<00:00,  3.00s/it]\n"
     ]
    },
    {
     "name": "stdout",
     "output_type": "stream",
     "text": [
      "Etichetta corretta: Andrea_Pirlo\n",
      "Predetto  Marco_Giallini con probabilità 11.06852912902832 e con perturbazione 0.012716415338218212\n",
      "Adversarial Sample misclassificati correttamente attuale: 100.0%\n"
     ]
    },
    {
     "name": "stderr",
     "output_type": "stream",
     "text": [
      "C&W L_2: 100%|██████████| 1/1 [00:03<00:00,  3.01s/it]\n"
     ]
    },
    {
     "name": "stdout",
     "output_type": "stream",
     "text": [
      "Etichetta corretta: Antonio_Cassano\n",
      "Predetto  Jürgen_Trittin con probabilità 13.375406265258789 e con perturbazione 0.015982840210199356\n",
      "Adversarial Sample misclassificati correttamente attuale: 100.0%\n"
     ]
    },
    {
     "name": "stderr",
     "output_type": "stream",
     "text": [
      "C&W L_2: 100%|██████████| 1/1 [00:02<00:00,  2.94s/it]\n"
     ]
    },
    {
     "name": "stdout",
     "output_type": "stream",
     "text": [
      "Etichetta corretta: Ariana_Grande\n",
      "Predetto  Angelo_Scola con probabilità 11.463226318359375 e con perturbazione 0.03702894225716591\n",
      "Adversarial Sample misclassificati correttamente attuale: 100.0%\n"
     ]
    },
    {
     "name": "stderr",
     "output_type": "stream",
     "text": [
      "C&W L_2: 100%|██████████| 1/1 [00:02<00:00,  2.94s/it]\n"
     ]
    },
    {
     "name": "stdout",
     "output_type": "stream",
     "text": [
      "Etichetta corretta: Ashley_Scott\n",
      "Predetto  Angela_Gossow con probabilità 10.38528823852539 e con perturbazione 0.02376515232026577\n",
      "Adversarial Sample misclassificati correttamente attuale: 100.0%\n"
     ]
    },
    {
     "name": "stderr",
     "output_type": "stream",
     "text": [
      "C&W L_2: 100%|██████████| 1/1 [00:02<00:00,  2.94s/it]\n"
     ]
    },
    {
     "name": "stdout",
     "output_type": "stream",
     "text": [
      "Etichetta corretta: Boris_Johnson\n",
      "Predetto  Uto_Ughi con probabilità 11.19805908203125 e con perturbazione 0.015937564894557\n",
      "Adversarial Sample misclassificati correttamente attuale: 100.0%\n"
     ]
    },
    {
     "name": "stderr",
     "output_type": "stream",
     "text": [
      "C&W L_2: 100%|██████████| 1/1 [00:03<00:00,  3.16s/it]\n"
     ]
    },
    {
     "name": "stdout",
     "output_type": "stream",
     "text": [
      "Etichetta corretta: Brad_Pitt\n",
      "Predetto  Jason_Ritter con probabilità 11.266682624816895 e con perturbazione 0.020969968289136887\n",
      "Adversarial Sample misclassificati correttamente attuale: 100.0%\n"
     ]
    },
    {
     "name": "stderr",
     "output_type": "stream",
     "text": [
      "C&W L_2: 100%|██████████| 1/1 [00:02<00:00,  2.97s/it]\n"
     ]
    },
    {
     "name": "stdout",
     "output_type": "stream",
     "text": [
      "Etichetta corretta: Christian_De_Sica\n",
      "Predetto  Ivan_Koloff con probabilità 8.279311180114746 e con perturbazione 0.01756730116903782\n",
      "Adversarial Sample misclassificati correttamente attuale: 100.0%\n"
     ]
    },
    {
     "name": "stderr",
     "output_type": "stream",
     "text": [
      "C&W L_2: 100%|██████████| 1/1 [00:02<00:00,  2.91s/it]\n"
     ]
    },
    {
     "name": "stdout",
     "output_type": "stream",
     "text": [
      "Etichetta corretta: Christopher_Nolan\n",
      "Predetto  Franck_Dubosc con probabilità 11.878252029418945 e con perturbazione 0.017308609560132027\n",
      "Adversarial Sample misclassificati correttamente attuale: 100.0%\n"
     ]
    },
    {
     "name": "stderr",
     "output_type": "stream",
     "text": [
      "C&W L_2: 100%|██████████| 1/1 [00:03<00:00,  3.53s/it]\n"
     ]
    },
    {
     "name": "stdout",
     "output_type": "stream",
     "text": [
      "Etichetta corretta: Cristiano_Ronaldo\n",
      "Predetto  Caroline_Trentini con probabilità 10.579880714416504 e con perturbazione 0.02072485163807869\n",
      "Adversarial Sample misclassificati correttamente attuale: 100.0%\n"
     ]
    },
    {
     "name": "stderr",
     "output_type": "stream",
     "text": [
      "C&W L_2: 100%|██████████| 1/1 [00:03<00:00,  3.59s/it]\n"
     ]
    },
    {
     "name": "stdout",
     "output_type": "stream",
     "text": [
      "Etichetta corretta: Diego_Maradona\n",
      "Predetto  Alejandro_Fernández con probabilità 9.120678901672363 e con perturbazione 0.036497022956609726\n",
      "Adversarial Sample misclassificati correttamente attuale: 100.0%\n",
      "----------- Perturbazione media aggiunta a tutte le immagini per learning: 0.01 equivale a ---> 0.021849866863340138% ----------------\n",
      "----------- Accuracy sugli adversarial Sample per learning: 0.01 equivale a ---> 0.0% ----------------\n",
      "**** Attacco con learning rate = 0.001 ****\n"
     ]
    },
    {
     "name": "stderr",
     "output_type": "stream",
     "text": [
      "C&W L_2: 100%|██████████| 1/1 [00:03<00:00,  3.06s/it]\n"
     ]
    },
    {
     "name": "stdout",
     "output_type": "stream",
     "text": [
      "Etichetta corretta: Andrea_Pirlo\n",
      "Predetto  Marco_Giallini con probabilità 10.984086990356445 e con perturbazione 0.002560652792453766\n",
      "Adversarial Sample misclassificati correttamente attuale: 100.0%\n"
     ]
    },
    {
     "name": "stderr",
     "output_type": "stream",
     "text": [
      "C&W L_2: 100%|██████████| 1/1 [00:02<00:00,  2.96s/it]\n"
     ]
    },
    {
     "name": "stdout",
     "output_type": "stream",
     "text": [
      "Etichetta corretta: Antonio_Cassano\n",
      "Predetto  Jürgen_Trittin con probabilità 12.979473114013672 e con perturbazione 0.0015998182352632284\n",
      "Adversarial Sample misclassificati correttamente attuale: 100.0%\n"
     ]
    },
    {
     "name": "stderr",
     "output_type": "stream",
     "text": [
      "C&W L_2: 100%|██████████| 1/1 [00:04<00:00,  4.10s/it]\n"
     ]
    },
    {
     "name": "stdout",
     "output_type": "stream",
     "text": [
      "Etichetta corretta: Ariana_Grande\n",
      "Predetto  Sammy_Winward con probabilità 11.219929695129395 e con perturbazione 0.0038520514499396086\n",
      "Adversarial Sample misclassificati correttamente attuale: 100.0%\n"
     ]
    },
    {
     "name": "stderr",
     "output_type": "stream",
     "text": [
      "C&W L_2: 100%|██████████| 1/1 [00:03<00:00,  3.25s/it]\n"
     ]
    },
    {
     "name": "stdout",
     "output_type": "stream",
     "text": [
      "Etichetta corretta: Ashley_Scott\n",
      "Predetto  Adrienne_Frantz con probabilità 12.425668716430664 e con perturbazione 0.0024225402157753706\n",
      "Adversarial Sample misclassificati correttamente attuale: 100.0%\n"
     ]
    },
    {
     "name": "stderr",
     "output_type": "stream",
     "text": [
      "C&W L_2: 100%|██████████| 1/1 [00:03<00:00,  3.22s/it]\n"
     ]
    },
    {
     "name": "stdout",
     "output_type": "stream",
     "text": [
      "Etichetta corretta: Boris_Johnson\n",
      "Predetto  Uto_Ughi con probabilità 11.508508682250977 e con perturbazione 0.0032050861045718193\n",
      "Adversarial Sample misclassificati correttamente attuale: 100.0%\n"
     ]
    },
    {
     "name": "stderr",
     "output_type": "stream",
     "text": [
      "C&W L_2: 100%|██████████| 1/1 [00:03<00:00,  3.25s/it]\n"
     ]
    },
    {
     "name": "stdout",
     "output_type": "stream",
     "text": [
      "Etichetta corretta: Brad_Pitt\n",
      "Predetto  Jason_Ritter con probabilità 11.022002220153809 e con perturbazione 0.0021183753851801157\n",
      "Adversarial Sample misclassificati correttamente attuale: 100.0%\n"
     ]
    },
    {
     "name": "stderr",
     "output_type": "stream",
     "text": [
      "C&W L_2: 100%|██████████| 1/1 [00:03<00:00,  3.14s/it]\n"
     ]
    },
    {
     "name": "stdout",
     "output_type": "stream",
     "text": [
      "Etichetta corretta: Christian_De_Sica\n",
      "Predetto  Marco_Antonio_Solís con probabilità 10.686558723449707 e con perturbazione 0.0017758214380592108\n",
      "Adversarial Sample misclassificati correttamente attuale: 100.0%\n"
     ]
    },
    {
     "name": "stderr",
     "output_type": "stream",
     "text": [
      "C&W L_2: 100%|██████████| 1/1 [00:03<00:00,  3.25s/it]\n"
     ]
    },
    {
     "name": "stdout",
     "output_type": "stream",
     "text": [
      "Etichetta corretta: Christopher_Nolan\n",
      "Predetto  Franck_Dubosc con probabilità 12.482763290405273 e con perturbazione 0.0017528787720948458\n",
      "Adversarial Sample misclassificati correttamente attuale: 100.0%\n"
     ]
    },
    {
     "name": "stderr",
     "output_type": "stream",
     "text": [
      "C&W L_2:   0%|          | 0/1 [00:00<?, ?it/s]"
     ]
    }
   ],
   "source": [
    "dataset_dir = \"test_set_cropped_piccolo/\" \n",
    "binary_search_steps = 2\n",
    "confidence = 0.7\n",
    "max_iter = [1,2,5,7]\n",
    "learning_rate = [0.01,0.001]\n",
    "initial_const = 1000\n",
    "\n",
    "accuracy_for_eps = []\n",
    "accuracy_for_max_iter = []\n",
    "perturbation_for_eps = []\n",
    "perturbation_for_max_iter = []\n",
    "correct_predictions = 0\n",
    "total_images = 0\n",
    "\n",
    "print(\"Inizio Attacco CARLINI-WAGNER NON-TARGETED\")\n",
    "\n",
    "for i in range(len(max_iter)):\n",
    "        print(\"**** Attacco con max_iter = {} **** \".format(max_iter[i]))\n",
    "        for learning in learning_rate:   #Se qualcosa funziona strano controllare questo zip\n",
    "            correct_predictions = 0\n",
    "            total_images = 0\n",
    "            perturbation = []\n",
    "            \n",
    "            attack = CarliniL2Method(classifier=classifier, binary_search_steps=binary_search_steps, confidence=confidence, max_iter=max_iter[i], learning_rate=learning, initial_const=initial_const, targeted=False)\n",
    "            \n",
    "            print(\"**** Attacco con learning rate = {} ****\".format(learning))\n",
    "            for filename in os.listdir(dataset_dir):\n",
    "                if filename.endswith(\".jpg\") or filename.endswith(\".jpeg\"):\n",
    "                    person_path = os.path.join(dataset_dir, filename)\n",
    "                    test_img = load_image(person_path)\n",
    "                    test_img = test_img.unsqueeze(0)\n",
    "                    test_img = test_img.numpy()\n",
    "                    test_images_adv = attack.generate(test_img)\n",
    "                    model_predictions = classifier.predict(test_images_adv)\n",
    "                    correct_label = re.sub(r'_\\d+_face_0\\.jpg$', '', filename)\n",
    "                    print(\"Etichetta corretta:\", correct_label)   \n",
    "                    perturbation.append(np.mean(np.abs((test_images_adv - test_img))))  #Calcolo la perturbazione applicata su ogni immagine e la salvo in un vettore.\n",
    "                    predicted_label = LABELS[np.array(model_predictions[0].argmax())]\n",
    "                    print(\"Predetto {} con probabilità {} e con perturbazione {}\".format(predicted_label,model_predictions[0][model_predictions.argmax()],perturbation[-1]))\n",
    "                    total_images+=1\n",
    "                    \n",
    "                    predicted_label = str(predicted_label)\n",
    "\n",
    "                    if correct_label in predicted_label:\n",
    "                        correct_predictions+=1\n",
    "\n",
    "                    accuracy = correct_predictions/total_images\n",
    "                    print(\"Adversarial Sample misclassificati correttamente attuale: {}%\".format((100-(accuracy*100))))  # Calcolo l'accuracy attuale ogni volta che classifico una nuova immagine\n",
    "            \n",
    "\n",
    "            if total_images != 0:    \n",
    "                if len(perturbation) == total_images:\n",
    "                    perturbazione_media = sum(perturbation)/total_images   # In media quanta pertubazione è stata applicata su ogni immagine \n",
    "                    perturbation_for_eps.append(perturbazione_media)\n",
    "                    print(\"----------- Perturbazione media aggiunta a tutte le immagini per learning: {} equivale a ---> {}% ----------------\".format(learning,perturbazione_media))\n",
    "\n",
    "                final_accuracy = correct_predictions/total_images\n",
    "                accuracy_for_eps.append(final_accuracy)\n",
    "                print(\"----------- Accuracy sugli adversarial Sample per learning: {} equivale a ---> {}% ----------------\".format(learning,final_accuracy))\n",
    "\n",
    "            \n",
    "        if True:#len(perturbation_for_eps) == len(eps_range):\n",
    "            perturbazione_media_per_max_iter = sum(perturbation_for_eps)/len(learning_rate) # Ottengo la media delle pertubazioni medie ottenute su ogni learning rate per una determinata iterazione\n",
    "            perturbation_for_max_iter.append(perturbazione_media_per_max_iter)\n",
    "            print(\"----------- Perturbazione media con iterazione {} sugli adversarial Sample ---> {}\\% ----------------\".format(max_iter[i],perturbation_for_max_iter[i]))\n",
    "            perturbation_for_eps = []\n",
    "        if True:#len(accuracy_for_eps) == len(eps_range):\n",
    "            accuracy_media_per_max_iter = sum(accuracy_for_eps)/len(learning_rate) \n",
    "            accuracy_for_max_iter.append(accuracy_media_per_max_iter)\n",
    "            print(\"----------- Accuracy media con iterazione {} sugli adversarial Sample ---> {}\\% ----------------\".format(max_iter[i],accuracy_for_max_iter[i]))\n",
    "            accuracy_for_eps = []\n",
    "        print(\"--------------------------------------------------------------------------------------------------------------------------------------------------------------------\")\n"
   ]
  },
  {
   "cell_type": "markdown",
   "metadata": {},
   "source": [
    "### *Attacco* **TARGETED**"
   ]
  },
  {
   "cell_type": "code",
   "execution_count": 14,
   "metadata": {},
   "outputs": [
    {
     "name": "stdout",
     "output_type": "stream",
     "text": [
      "ETICHETTA TARGET:   Aaron_Hernandez\n"
     ]
    },
    {
     "name": "stderr",
     "output_type": "stream",
     "text": [
      "C&W L_2: 100%|██████████| 1/1 [00:02<00:00,  2.54s/it]\n"
     ]
    },
    {
     "name": "stdout",
     "output_type": "stream",
     "text": [
      "Inizio Attacco CARLINI-WAGNER TARGETED\n",
      "**** Attacco con max_iter 1 **** \n",
      "**** Attacco con learning rate = 0.01 ****\n"
     ]
    },
    {
     "name": "stderr",
     "output_type": "stream",
     "text": [
      "C&W L_2: 100%|██████████| 1/1 [00:02<00:00,  2.33s/it]\n"
     ]
    },
    {
     "name": "stdout",
     "output_type": "stream",
     "text": [
      "Etichetta corretta: Andrea_Pirlo\n",
      "Predetto  Andrea_Pirlo con probabilità 12.725248336791992 e con perturbazione 0.0\n",
      "Adversarial Sample misclassificati correttamente attualmente: 0.0%\n",
      "Accuracy attuale: 100.0%\n"
     ]
    },
    {
     "name": "stderr",
     "output_type": "stream",
     "text": [
      "C&W L_2: 100%|██████████| 1/1 [00:02<00:00,  2.20s/it]\n"
     ]
    },
    {
     "name": "stdout",
     "output_type": "stream",
     "text": [
      "Etichetta corretta: Antonio_Cassano\n",
      "Predetto  Branch_Warren con probabilità 10.506438255310059 e con perturbazione 0.0\n",
      "Adversarial Sample misclassificati correttamente attualmente: 0.0%\n",
      "Accuracy attuale: 50.0%\n"
     ]
    },
    {
     "name": "stderr",
     "output_type": "stream",
     "text": [
      "C&W L_2: 100%|██████████| 1/1 [00:02<00:00,  2.11s/it]\n"
     ]
    },
    {
     "name": "stdout",
     "output_type": "stream",
     "text": [
      "Etichetta corretta: Ariana_Grande\n",
      "Predetto  Ariana_Grande con probabilità 11.170963287353516 e con perturbazione 0.0\n",
      "Adversarial Sample misclassificati correttamente attualmente: 0.0%\n",
      "Accuracy attuale: 66.66666666666666%\n"
     ]
    },
    {
     "name": "stderr",
     "output_type": "stream",
     "text": [
      "C&W L_2: 100%|██████████| 1/1 [00:02<00:00,  2.26s/it]\n"
     ]
    },
    {
     "name": "stdout",
     "output_type": "stream",
     "text": [
      "Etichetta corretta: Ashley_Scott\n",
      "Predetto  Ashley_Scott con probabilità 13.8968505859375 e con perturbazione 0.0\n",
      "Adversarial Sample misclassificati correttamente attualmente: 0.0%\n",
      "Accuracy attuale: 75.0%\n"
     ]
    },
    {
     "name": "stderr",
     "output_type": "stream",
     "text": [
      "C&W L_2: 100%|██████████| 1/1 [00:02<00:00,  2.22s/it]\n"
     ]
    },
    {
     "name": "stdout",
     "output_type": "stream",
     "text": [
      "Etichetta corretta: Boris_Johnson\n",
      "Predetto  Boris_Johnson con probabilità 13.323935508728027 e con perturbazione 0.0\n",
      "Adversarial Sample misclassificati correttamente attualmente: 0.0%\n",
      "Accuracy attuale: 80.0%\n"
     ]
    },
    {
     "name": "stderr",
     "output_type": "stream",
     "text": [
      "C&W L_2: 100%|██████████| 1/1 [00:02<00:00,  2.42s/it]\n"
     ]
    },
    {
     "name": "stdout",
     "output_type": "stream",
     "text": [
      "Etichetta corretta: Brad_Pitt\n",
      "Predetto  Brad_Pitt con probabilità 13.206244468688965 e con perturbazione 0.0\n",
      "Adversarial Sample misclassificati correttamente attualmente: 0.0%\n",
      "Accuracy attuale: 83.33333333333334%\n"
     ]
    },
    {
     "name": "stderr",
     "output_type": "stream",
     "text": [
      "C&W L_2: 100%|██████████| 1/1 [00:02<00:00,  2.42s/it]\n"
     ]
    },
    {
     "name": "stdout",
     "output_type": "stream",
     "text": [
      "Etichetta corretta: Christian_De_Sica\n",
      "Predetto  Christian_De_Sica con probabilità 13.753113746643066 e con perturbazione 0.0\n",
      "Adversarial Sample misclassificati correttamente attualmente: 0.0%\n",
      "Accuracy attuale: 85.71428571428571%\n"
     ]
    },
    {
     "name": "stderr",
     "output_type": "stream",
     "text": [
      "C&W L_2: 100%|██████████| 1/1 [00:02<00:00,  2.48s/it]\n"
     ]
    },
    {
     "name": "stdout",
     "output_type": "stream",
     "text": [
      "Etichetta corretta: Christopher_Nolan\n",
      "Predetto  Christopher_Nolan con probabilità 12.074438095092773 e con perturbazione 0.0\n",
      "Adversarial Sample misclassificati correttamente attualmente: 0.0%\n",
      "Accuracy attuale: 87.5%\n"
     ]
    },
    {
     "name": "stderr",
     "output_type": "stream",
     "text": [
      "C&W L_2: 100%|██████████| 1/1 [00:02<00:00,  2.33s/it]\n"
     ]
    },
    {
     "name": "stdout",
     "output_type": "stream",
     "text": [
      "Etichetta corretta: Cristiano_Ronaldo\n",
      "Predetto  Cristiano_Ronaldo con probabilità 12.945648193359375 e con perturbazione 0.0\n",
      "Adversarial Sample misclassificati correttamente attualmente: 0.0%\n",
      "Accuracy attuale: 88.88888888888889%\n"
     ]
    },
    {
     "name": "stderr",
     "output_type": "stream",
     "text": [
      "C&W L_2: 100%|██████████| 1/1 [00:02<00:00,  2.60s/it]\n"
     ]
    },
    {
     "name": "stdout",
     "output_type": "stream",
     "text": [
      "Etichetta corretta: Diego_Maradona\n",
      "Predetto  Diego_Maradona con probabilità 12.622475624084473 e con perturbazione 0.0\n",
      "Adversarial Sample misclassificati correttamente attualmente: 0.0%\n",
      "Accuracy attuale: 90.0%\n",
      "----------- Perturbazione media aggiunta a tutte le immagini per learning: 0.01 equivale a 0.0% ----------------\n",
      "----------- Accuracy sugli adversarial Sample per learning: 0.01 equivale a 0.9% ----------------\n",
      "----------- Adversarial Sample misclassificati correttamente: 0.0% -----------\n",
      "----------- Perturbazione media con iterazione 1 sugli adversarial Sample: 0.0\\% ----------------\n",
      "----------- Accuracy media con iterazione 1 sugli adversarial Sample: 0.9\\% ----------------\n",
      "----------- Accuracy MISCLASSIFIED media con iterazione 1 sugli adversarial Sample: 0.0\\% ----------------\n",
      "--------------------------------------------------------------------------------------------------------------------------------------------------------------------\n"
     ]
    }
   ],
   "source": [
    "dataset_dir = \"test_set_cropped_piccolo/\" \n",
    "binary_search_steps = 2\n",
    "confidence = 0.7\n",
    "max_iter = [1]\n",
    "learning_rate = [0.01]\n",
    "initial_const = 1000\n",
    "\n",
    "accuracy_misclassified_for_eps = []\n",
    "accuracy_misclassified_for_max_iter = []\n",
    "accuracy_for_eps = []\n",
    "accuracy_for_max_iter = []\n",
    "perturbation_for_eps = []\n",
    "perturbation_for_max_iter = []\n",
    "correct_misclassified = 0\n",
    "total_images = 0\n",
    "\n",
    "target_class = 10\n",
    "etichetta_target = LABELS[0]\n",
    "print(\"ETICHETTA TARGET: \", LABELS[10])\n",
    "\n",
    "targeted_labels = target_class*np.ones(LABELS.size)\n",
    "one_hot_targeted_labels = tf.keras.utils.to_categorical(targeted_labels, num_classes = 8631)\n",
    "test_images_adv = attack.generate(test_img, one_hot_targeted_labels)\n",
    "\n",
    "\n",
    "print(\"Inizio Attacco CARLINI-WAGNER TARGETED\")\n",
    "for i in range(len(max_iter)):\n",
    "        print(\"**** Attacco con max_iter {} **** \".format(max_iter[i]))\n",
    "        for learning in learning_rate:   #Se qualcosa funziona strano controllare questo zip\n",
    "            correct_predictions = 0\n",
    "            total_images = 0\n",
    "            perturbation = []\n",
    "            \n",
    "            attack = CarliniL2Method(classifier=classifier, binary_search_steps=binary_search_steps, confidence=confidence, max_iter=max_iter[i], learning_rate=learning, initial_const=initial_const, targeted=False)\n",
    "            \n",
    "            print(\"**** Attacco con learning rate = {} ****\".format(learning))\n",
    "            for filename in os.listdir(dataset_dir):\n",
    "                if filename.endswith(\".jpg\") or filename.endswith(\".jpeg\"):\n",
    "                    person_path = os.path.join(dataset_dir, filename)\n",
    "                    test_img = load_image(person_path)\n",
    "                    test_img = test_img.unsqueeze(0)\n",
    "                    test_img = test_img.numpy()\n",
    "                    test_images_adv = attack.generate(test_img, one_hot_targeted_labels)\n",
    "                    model_predictions = classifier.predict(test_images_adv)\n",
    "                    correct_label = re.sub(r'_\\d+_face_0\\.jpg$', '', filename)\n",
    "                    print(\"Etichetta corretta:\", correct_label)   \n",
    "                    perturbation.append(np.mean(np.abs((test_images_adv - test_img))))  \n",
    "                    predicted_label = LABELS[np.array(model_predictions[0].argmax())]\n",
    "                    print(\"Predetto {} con probabilità {} e con perturbazione {}\".format(predicted_label,model_predictions[0][model_predictions.argmax()],perturbation[-1]))\n",
    "                    total_images+=1\n",
    "                    \n",
    "                    predicted_label = str(predicted_label)\n",
    "\n",
    "                    if correct_label in predicted_label:\n",
    "                        correct_predictions+=1\n",
    "                        \n",
    "                    if etichetta_target in predicted_label:  \n",
    "                        correct_misclassified = correct_misclassified+1   #Se il modello predice l'etichetta target allora è correttamente misclassificato\n",
    "\n",
    "                    accuracy_misclassified = correct_misclassified/total_images\n",
    "                    print(\"Adversarial Sample misclassificati correttamente attualmente: {}%\".format((accuracy_misclassified)))\n",
    "                    print(\"Accuracy attuale: {}%\".format((correct_predictions/total_images)*100))\n",
    "            \n",
    "\n",
    "            if total_images != 0:    \n",
    "                if len(perturbation) == total_images:\n",
    "                    perturbazione_media = sum(perturbation)/total_images    \n",
    "                    perturbation_for_eps.append(perturbazione_media)\n",
    "                    print(\"----------- Perturbazione media aggiunta a tutte le immagini per learning: {} equivale a {}% ----------------\".format(learning,perturbazione_media))\n",
    "\n",
    "                final_accuracy = correct_predictions/total_images\n",
    "                accuracy_for_eps.append(final_accuracy)\n",
    "                print(\"----------- Accuracy sugli adversarial Sample per learning: {} equivale a {}% ----------------\".format(learning,final_accuracy))\n",
    "                \n",
    "                accuracy_misclassified = correct_misclassified/total_images\n",
    "                accuracy_misclassified_for_eps.append(accuracy_misclassified)\n",
    "                print(\"----------- Adversarial Sample misclassificati correttamente: {}% -----------\".format((accuracy_misclassified)))\n",
    "\n",
    "           \n",
    "        if True:#len(perturbation_for_eps) == len(eps_range):\n",
    "            perturbazione_media_per_max_iter = sum(perturbation_for_eps)/len(learning_rate) \n",
    "            perturbation_for_max_iter.append(perturbazione_media_per_max_iter)\n",
    "            print(\"----------- Perturbazione media con iterazione {} sugli adversarial Sample: {}\\% ----------------\".format(max_iter[i],perturbation_for_max_iter[i]))\n",
    "            perturbation_for_eps = []\n",
    "        if True:#len(accuracy_for_eps) == len(eps_range):\n",
    "            accuracy_media_per_max_iter = sum(accuracy_for_eps)/len(learning_rate) \n",
    "            accuracy_for_max_iter.append(accuracy_media_per_max_iter)\n",
    "            print(\"----------- Accuracy media con iterazione {} sugli adversarial Sample: {}\\% ----------------\".format(max_iter[i],accuracy_for_max_iter[i]))\n",
    "            accuracy_for_eps = []\n",
    "        if True:\n",
    "            accuracy__misclassified_media_per_max_iter = sum(accuracy_misclassified_for_eps)/len(learning_rate) \n",
    "            accuracy_misclassified_for_max_iter.append(accuracy__misclassified_media_per_max_iter)\n",
    "            print(\"----------- Accuracy MISCLASSIFIED media con iterazione {} sugli adversarial Sample: {}\\% ----------------\".format(max_iter[i],accuracy_misclassified_for_max_iter[i]))\n",
    "            accuracy_misclassified_for_eps = []\n",
    "\n",
    "\n",
    "        print(\"--------------------------------------------------------------------------------------------------------------------------------------------------------------------\")\n",
    "\n"
   ]
  }
 ],
 "metadata": {
  "kernelspec": {
   "display_name": "artoolbox",
   "language": "python",
   "name": "python3"
  },
  "language_info": {
   "codemirror_mode": {
    "name": "ipython",
    "version": 3
   },
   "file_extension": ".py",
   "mimetype": "text/x-python",
   "name": "python",
   "nbconvert_exporter": "python",
   "pygments_lexer": "ipython3",
   "version": "3.7.12"
  }
 },
 "nbformat": 4,
 "nbformat_minor": 2
}
